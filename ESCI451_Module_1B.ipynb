{
 "cells": [
  {
   "cell_type": "markdown",
   "metadata": {},
   "source": [
    "# Introduction to Python for Earth Scientists\n",
    "\n",
    "These notebooks have been developed by Calum Chamberlain, Finnigan Illsley-Kemp, John Townend and El Mestel at [Victoria University of Wellington-Te Herenga Waka](https://www.wgtn.ac.nz) for use by Earth Science graduate students. \n",
    "\n",
    "The notebooks cover material that we think will be of particular benefit to those students with little or no previous experience of computer-based data analysis. We presume very little background in command-line or code-based computing, and have compiled this material with an emphasis on general tasks that a grad student might encounter on a daily basis. \n",
    "\n",
    "In 2024, this material will be delivered at the start of Trimester 1 in conjunction with [ESCI451 Active Earth](https://www.wgtn.ac.nz/courses/esci/451). Space permitting, interested students not enrolled in ESCI451 are encouraged to come along too but please contact El, Calum, Finn, or John first.\n",
    "\n",
    "\n",
    "| Notebook | Contents | Data |\n",
    "| --- | --- | --- |\n",
    "| [1A](ESCI451_Module_1A.ipynb) | Introduction to programming, Python, and Jupyter notebooks | - |\n",
    "| **[1B](ESCI451_Module_1B.ipynb)** | **Basic data types and variables, getting data, and plotting with Matplotlib** | **Geodetic positions** |\n",
    "| [2A](ESCI451_Module_2A.ipynb) | Logic, more complex plotting, introduction to Numpy | Geodetic positions; DFDP-2B temperatures |\n",
    "| [2B](ESCI451_Module_2B.ipynb) | Using Pandas to load, peruse and plot data | Earthquake catalogue  |\n",
    "| [3A](ESCI451_Module_3A.ipynb) | Working with Pandas dataframes | Geochemical data set; GNSS data |\n",
    "| [3B](ESCI451_Module_3B.ipynb) | Simple time series analysis using Pandas | Historical temperature records |\n",
    "| [4A](ESCI451_Module_4A.ipynb) | Making maps with PyGMT | Earthquakecatalogue |\n",
    "| [4B](ESCI451_Module_4B.ipynb) | Gridded data and vectors | Ashfall data and GNSS |\n",
    "| [Scripting](ESCI451_Module_5A_Scripting.ipynb) | Moving from notebooks to scripts and the command line | - |\n",
    "\n",
    "\n",
    "The content may change in response to students' questions or current events. Each of the four modules has been designed to take about three hours, with a short break between each of the two parts."
   ]
  },
  {
   "cell_type": "markdown",
   "metadata": {},
   "source": [
    "# This notebook\n",
    "\n",
    "0. Reading error messages\n",
    "1. Some essential Python terminology\n",
    "   - Data types\n",
    "   - Variables\n",
    "   - Good ideas for naming variables\n",
    "   - Comments\n",
    "   - Manipulating strings and lists\n",
    "   - Dictionaries\n",
    "2. A first go at downloading and plotting data\n",
    "   - Getting data with a function\n",
    "   - Plotting it with Matplotlib\n",
    "   - Labelling and saving figures\n"
   ]
  },
  {
   "cell_type": "markdown",
   "metadata": {},
   "source": [
    "# Reading error messages\n",
    "\n",
    "If your codes runs perfectly first time, then that is awesome, congrats! Are you human?\n",
    "\n",
    "Error messages and debugging are a bit part of programming. Don't be disheartened if your code doesn't run first time, and do **read the error messages**. Python error messages are *usually* really helpful. An example of an error message is below:"
   ]
  },
  {
   "cell_type": "code",
   "execution_count": 1,
   "metadata": {
    "execution": {
     "iopub.execute_input": "2024-02-19T03:23:57.501932Z",
     "iopub.status.busy": "2024-02-19T03:23:57.501355Z",
     "iopub.status.idle": "2024-02-19T03:23:57.509179Z",
     "shell.execute_reply": "2024-02-19T03:23:57.508824Z"
    },
    "tags": [
     "nbval-raises-exception"
    ]
   },
   "outputs": [],
   "source": [
    "bob = 100 / 0"
   ]
  },
  {
   "cell_type": "markdown",
   "metadata": {},
   "source": [
    "This is lovely! A nice explicit error message that tells you:\n",
    "1. What the error type is (`ZeroDivisionError`)\n",
    "2. Where the error comes from (the highlighted portion of the error message: `100 / 0`)\n",
    "3. A helpful error message (`division by zero`).\n",
    "\n",
    "Nice.  All Python errors follow this kind of format, more complicated code will lead to longer error messages like:\n",
    "\n",
    "```python\n",
    "Traceback (most recent call last):\n",
    "    File \"somefile.py\", line x, in <module>\n",
    "        do_something()\n",
    "    File \"someotherfile.py\", line y, in do_something\n",
    "        source_of_error(\"bob\")\n",
    "ErrorType: error message\n",
    "```\n",
    "These error messages are known as *tracebacks* because they allow you to trace-back to where the error came from.\n",
    "\n",
    "This traceback gives you the source of your error (with the most recent call (thing you did) last), then above that, the call that called that and so on and so on. The lines that start `File \"...` tell you what file (or in a notebook, what cell) the error came from, then what line the error came from, and finally what function the error came from. The final line of the traceback gives you the actual error type and error message.\n",
    "\n",
    "Learning to read these error messages will be really useful! Python will try and tell you how to fix your code, and if you don't understand it, then the internet can be really helpful to find out ways to fix errors (although you should try to understand the fix before applying it blindly). The list of `Exception`s [here](https://docs.python.org/3.10/library/exceptions.html#concrete-exceptions) are the usual in-built python errors that you might see. You will also see more custom Exception types that have been written by other programmers to try to be helpful when you do something that they don't want you to."
   ]
  },
  {
   "cell_type": "markdown",
   "metadata": {},
   "source": [
    "# Some essential Python terminology\n",
    "\n",
    "## Data types\n",
    "\n",
    "We said that `\"Hello World!\"` was a string (known as `str` in Python, there are a few other data types that you should know about \n",
    "(there are others that we don't need to worry about yet):\n",
    "\n",
    "- `int`: For storing integers, like 1, 4, 999, -2000\n",
    "- `float`: For storing floating-point numbers, like 1.2, -37.473, 42.424242424242 - there is a limit to the precision!\n",
    "- `list`: For storing lists of other objects, written using square-brackets, e.g.: `[1, 2, \"alfred\", 3.2]`, note \n",
    "   that any other data type can be within a list, including another list. The order that you put things into\n",
    "   a `list` is retained.\n",
    "- `set`: Another data type for storing other objects, but this time only unique elements are stored, and order\n",
    "  is not guaranteed. `Set`s are written using curly-brackets, e.g: `{1, 2, \"alfred\", 3.2}`. These can be really\n",
    "  useful for getting a unique set of *things*.\n",
    "- `dict`: A further data type for storing other objects.  In a `dict` (short for dictionary), *values* are stored\n",
    "  associated with some *key* in key: value pairs (e.g. {key: value}).  This is really useful for keeping track of attributes, for example you might have a dictionary to store the attributes associated with an observation like:\n",
    "  `rock = {\"type\": \"andesite\", \"age\": \"10\", \"comment\": \"Tastes like fish\"}`\n",
    "  \n",
    "`print` will take any of these types, convert it to a `str` and print it to screen:"
   ]
  },
  {
   "cell_type": "code",
   "execution_count": 2,
   "metadata": {
    "execution": {
     "iopub.execute_input": "2024-02-19T03:23:57.511087Z",
     "iopub.status.busy": "2024-02-19T03:23:57.510937Z",
     "iopub.status.idle": "2024-02-19T03:23:57.513557Z",
     "shell.execute_reply": "2024-02-19T03:23:57.513085Z"
    }
   },
   "outputs": [
    {
     "name": "stdout",
     "output_type": "stream",
     "text": [
      "1\n"
     ]
    }
   ],
   "source": [
    "print(1)"
   ]
  },
  {
   "cell_type": "code",
   "execution_count": 3,
   "metadata": {
    "execution": {
     "iopub.execute_input": "2024-02-19T03:23:57.540285Z",
     "iopub.status.busy": "2024-02-19T03:23:57.540123Z",
     "iopub.status.idle": "2024-02-19T03:23:57.542853Z",
     "shell.execute_reply": "2024-02-19T03:23:57.542416Z"
    }
   },
   "outputs": [
    {
     "name": "stdout",
     "output_type": "stream",
     "text": [
      "43.4242\n"
     ]
    }
   ],
   "source": [
    "print(43.4242)"
   ]
  },
  {
   "cell_type": "code",
   "execution_count": 4,
   "metadata": {
    "execution": {
     "iopub.execute_input": "2024-02-19T03:23:57.544410Z",
     "iopub.status.busy": "2024-02-19T03:23:57.544252Z",
     "iopub.status.idle": "2024-02-19T03:23:57.546629Z",
     "shell.execute_reply": "2024-02-19T03:23:57.546203Z"
    }
   },
   "outputs": [
    {
     "name": "stdout",
     "output_type": "stream",
     "text": [
      "[1, 2, 'alfred']\n"
     ]
    }
   ],
   "source": [
    "print([1, 2, \"alfred\"])"
   ]
  },
  {
   "cell_type": "code",
   "execution_count": 5,
   "metadata": {
    "execution": {
     "iopub.execute_input": "2024-02-19T03:23:57.548181Z",
     "iopub.status.busy": "2024-02-19T03:23:57.548050Z",
     "iopub.status.idle": "2024-02-19T03:23:57.550319Z",
     "shell.execute_reply": "2024-02-19T03:23:57.549996Z"
    }
   },
   "outputs": [
    {
     "name": "stdout",
     "output_type": "stream",
     "text": [
      "{'alfred', 1, 2}\n"
     ]
    }
   ],
   "source": [
    "# NBVAL_IGNORE_OUTPUT\n",
    "print({1, 2, \"alfred\"})"
   ]
  },
  {
   "cell_type": "code",
   "execution_count": 6,
   "metadata": {
    "execution": {
     "iopub.execute_input": "2024-02-19T03:23:57.551813Z",
     "iopub.status.busy": "2024-02-19T03:23:57.551680Z",
     "iopub.status.idle": "2024-02-19T03:23:57.554129Z",
     "shell.execute_reply": "2024-02-19T03:23:57.553511Z"
    }
   },
   "outputs": [
    {
     "name": "stdout",
     "output_type": "stream",
     "text": [
      "{1, 2, 6}\n"
     ]
    }
   ],
   "source": [
    "print({1, 2, 6, 2, 1})"
   ]
  },
  {
   "cell_type": "markdown",
   "metadata": {},
   "source": [
    "Notice that the final print only printed the unique elements of the `set` - only those attributes are stored."
   ]
  },
  {
   "cell_type": "code",
   "execution_count": 7,
   "metadata": {
    "execution": {
     "iopub.execute_input": "2024-02-19T03:23:57.555817Z",
     "iopub.status.busy": "2024-02-19T03:23:57.555590Z",
     "iopub.status.idle": "2024-02-19T03:23:57.557916Z",
     "shell.execute_reply": "2024-02-19T03:23:57.557607Z"
    }
   },
   "outputs": [
    {
     "name": "stdout",
     "output_type": "stream",
     "text": [
      "{'type': 'andesite', 'age': '10', 'comment': 'Tastes like fish'}\n"
     ]
    }
   ],
   "source": [
    "rock = {\"type\": \"andesite\", \"age\": \"10\", \"comment\": \"Tastes like fish\"}\n",
    "print(rock)"
   ]
  },
  {
   "cell_type": "markdown",
   "metadata": {},
   "source": [
    "## Variables\n",
    "\n",
    "Programming languages keep track of values using variables. You (the programmer) assign some name to a value, and the computer keeps track of this value in memory.  You can then use this variable later in your code, e.g. you can\n",
    "do some maths! The symbols for doing mathematical operations are:\n",
    "\n",
    "- `+` addition\n",
    "- `-` subtraction\n",
    "- `*` multiplication\n",
    "- `/` division\n",
    "- `**` exponentation\n",
    "\n",
    "Note that division will always return a `float` in Python 3.x."
   ]
  },
  {
   "cell_type": "code",
   "execution_count": 8,
   "metadata": {
    "execution": {
     "iopub.execute_input": "2024-02-19T03:23:57.559565Z",
     "iopub.status.busy": "2024-02-19T03:23:57.559402Z",
     "iopub.status.idle": "2024-02-19T03:23:57.561781Z",
     "shell.execute_reply": "2024-02-19T03:23:57.561355Z"
    }
   },
   "outputs": [
    {
     "name": "stdout",
     "output_type": "stream",
     "text": [
      "17\n"
     ]
    }
   ],
   "source": [
    "a = 5\n",
    "b = 12\n",
    "c = a + b\n",
    "print(c)"
   ]
  },
  {
   "cell_type": "markdown",
   "metadata": {},
   "source": [
    "You can also change the value of a variable *in-place* using the following symbols:\n",
    "\n",
    "- `+=` addition in-place\n",
    "- `-=` subtraction in-place\n",
    "- `*=` multiplication in-place\n",
    "- `/=` division in-place\n",
    "- `**=` exponentiation in-place"
   ]
  },
  {
   "cell_type": "code",
   "execution_count": 9,
   "metadata": {
    "execution": {
     "iopub.execute_input": "2024-02-19T03:23:57.563375Z",
     "iopub.status.busy": "2024-02-19T03:23:57.563245Z",
     "iopub.status.idle": "2024-02-19T03:23:57.565448Z",
     "shell.execute_reply": "2024-02-19T03:23:57.565115Z"
    }
   },
   "outputs": [
    {
     "name": "stdout",
     "output_type": "stream",
     "text": [
      "8\n"
     ]
    }
   ],
   "source": [
    "d = 5\n",
    "d += 3\n",
    "print(d)"
   ]
  },
  {
   "cell_type": "code",
   "execution_count": 10,
   "metadata": {
    "execution": {
     "iopub.execute_input": "2024-02-19T03:23:57.566999Z",
     "iopub.status.busy": "2024-02-19T03:23:57.566842Z",
     "iopub.status.idle": "2024-02-19T03:23:57.568983Z",
     "shell.execute_reply": "2024-02-19T03:23:57.568672Z"
    }
   },
   "outputs": [
    {
     "name": "stdout",
     "output_type": "stream",
     "text": [
      "2.6666666666666665\n"
     ]
    }
   ],
   "source": [
    "d /= 3\n",
    "print(d)"
   ]
  },
  {
   "cell_type": "code",
   "execution_count": 11,
   "metadata": {
    "execution": {
     "iopub.execute_input": "2024-02-19T03:23:57.570497Z",
     "iopub.status.busy": "2024-02-19T03:23:57.570345Z",
     "iopub.status.idle": "2024-02-19T03:23:57.572557Z",
     "shell.execute_reply": "2024-02-19T03:23:57.572131Z"
    }
   },
   "outputs": [
    {
     "name": "stdout",
     "output_type": "stream",
     "text": [
      "18.96296296296296\n"
     ]
    }
   ],
   "source": [
    "d **= 3\n",
    "print(d)"
   ]
  },
  {
   "cell_type": "markdown",
   "metadata": {},
   "source": [
    "Note that if you run the above cell again, without re-running from when we first defined d, you will get a different returned value. **Watch out when working in-place on data!**\n",
    "\n",
    "**Exercise:** Now it is your turn. Do some maths! \n",
    "\n",
    "For a seismic station recording at 100 Hz (100 samples per second), work out how many samples are recorded per day, then convert this to GB assuming that each sample is stored as an `int`.\n",
    "\n",
    "We can work out how much memory is used by an `int` in Python by running `sys.getsizeof(int())`."
   ]
  },
  {
   "cell_type": "code",
   "execution_count": 12,
   "metadata": {
    "execution": {
     "iopub.execute_input": "2024-02-19T03:23:57.574242Z",
     "iopub.status.busy": "2024-02-19T03:23:57.574089Z",
     "iopub.status.idle": "2024-02-19T03:23:57.578394Z",
     "shell.execute_reply": "2024-02-19T03:23:57.578072Z"
    }
   },
   "outputs": [
    {
     "data": {
      "text/plain": [
       "28"
      ]
     },
     "execution_count": 12,
     "metadata": {},
     "output_type": "execute_result"
    }
   ],
   "source": [
    "import sys\n",
    "\n",
    "sys.getsizeof(int())"
   ]
  },
  {
   "cell_type": "code",
   "execution_count": 13,
   "metadata": {
    "execution": {
     "iopub.execute_input": "2024-02-19T03:23:57.580005Z",
     "iopub.status.busy": "2024-02-19T03:23:57.579867Z",
     "iopub.status.idle": "2024-02-19T03:23:57.582049Z",
     "shell.execute_reply": "2024-02-19T03:23:57.581607Z"
    }
   },
   "outputs": [],
   "source": [
    "# Your maths here! Check notebook 1 for some hints on how many seconds are in a day..."
   ]
  },
  {
   "cell_type": "markdown",
   "metadata": {},
   "source": [
    "**Exercise:** Use Python as a calculator - what is the answer to this:\n",
    "\\begin{equation}\n",
    "    \\frac{(a \\times b)^c}{d - e}\n",
    "\\end{equation}\n",
    "where \n",
    "- a is 24, \n",
    "- b is 42, \n",
    "- c is 3, \n",
    "- d is 10 and \n",
    "- e is 15\n",
    "\n",
    "*The Answer is: -204838502.4*"
   ]
  },
  {
   "cell_type": "code",
   "execution_count": 14,
   "metadata": {
    "execution": {
     "iopub.execute_input": "2024-02-19T03:23:57.583680Z",
     "iopub.status.busy": "2024-02-19T03:23:57.583546Z",
     "iopub.status.idle": "2024-02-19T03:23:57.585499Z",
     "shell.execute_reply": "2024-02-19T03:23:57.585097Z"
    }
   },
   "outputs": [],
   "source": [
    "# Your answer here"
   ]
  },
  {
   "cell_type": "markdown",
   "metadata": {},
   "source": [
    "## Good ideas for naming variables\n",
    "\n",
    "You should always give your variables useful names. Python doesn't demand this, but it does allow it. You should write\n",
    "your code so that you (both now and in ten years time, as well as other people) can understand it; as \n",
    "[Martin Fowler](https://en.wikiquote.org/wiki/Martin_Fowler) wrote:\n",
    "\n",
    "> Any fool can write code that a computer can understand. Good programmers write code that humans can understand.\n",
    "\n",
    "Hopefully you will note that variable names `a`, `b`, `c`, ... are crap names for variables! Try to use simple\n",
    "but expressive names, e.g. if you have a list of different volcano names, don't call that variable `vn`, nor\n",
    "should you call it `volcano_names_used_in_this_code_with_effusive_eruptions`; just call it `volcano_names`.\n",
    "*If* you need to get into more detail, maybe you should be using more complex data-types, like `dict`s. We will\n",
    "play with some of these later."
   ]
  },
  {
   "cell_type": "markdown",
   "metadata": {},
   "source": [
    "## Comments\n",
    "\n",
    "Ideally you will write code with useful variable names and obvious logic so that you can read and understand your\n",
    "programs as if they were prose. When you find that it is a little harder to understand, you should add comments.\n",
    "\n",
    "Comments are text in your program that are not executed (run), and are just there to help the reader understand\n",
    "what is going on. While you are learning they can be really handy, and people often start code as a series of\n",
    "comments that they then convert into code.\n",
    "\n",
    "Comments in Python start with a `#` character, e.g.:"
   ]
  },
  {
   "cell_type": "code",
   "execution_count": 15,
   "metadata": {
    "execution": {
     "iopub.execute_input": "2024-02-19T03:23:57.587163Z",
     "iopub.status.busy": "2024-02-19T03:23:57.587022Z",
     "iopub.status.idle": "2024-02-19T03:23:57.589740Z",
     "shell.execute_reply": "2024-02-19T03:23:57.589393Z"
    }
   },
   "outputs": [
    {
     "name": "stdout",
     "output_type": "stream",
     "text": [
      "Total volume ejected: 35.949999999999996 km^3\n",
      "Average volume per-event: 8.987499999999999 km^3\n"
     ]
    }
   ],
   "source": [
    "# Total volume of material in cubic km\n",
    "volume_ejected_in_units_Z_through_W = [0.1, 35.0, 0.8, 0.05]\n",
    "# sum is a Python function over any iterable\n",
    "total_volume = sum(volume_ejected_in_units_Z_through_W)\n",
    "print(f\"Total volume ejected: {total_volume} km^3\")\n",
    "# len tells you how long an object is\n",
    "n_events = len(volume_ejected_in_units_Z_through_W)\n",
    "average_volume = total_volume / n_events\n",
    "print(f\"Average volume per-event: {average_volume} km^3\")"
   ]
  },
  {
   "cell_type": "markdown",
   "metadata": {},
   "source": [
    "Those values look silly, so lets just print them to two decimal places.\n",
    "\n",
    "You can format floating point numbers in your format string using syntax like:\n",
    "```python\n",
    "print(f\"This is a big number: {big_number:.2f}\")\n",
    "```\n",
    "where the `:.2f` specifies to round a `float` 2 decimal places.  You can change the number (`2`) to get different number of decimal places."
   ]
  },
  {
   "cell_type": "code",
   "execution_count": 16,
   "metadata": {
    "execution": {
     "iopub.execute_input": "2024-02-19T03:23:57.591392Z",
     "iopub.status.busy": "2024-02-19T03:23:57.591256Z",
     "iopub.status.idle": "2024-02-19T03:23:57.593522Z",
     "shell.execute_reply": "2024-02-19T03:23:57.593199Z"
    }
   },
   "outputs": [
    {
     "name": "stdout",
     "output_type": "stream",
     "text": [
      "Total volume ejected: 35.95 km^3\n",
      "Average volume per-event: 8.99 km^3\n"
     ]
    }
   ],
   "source": [
    "print(f\"Total volume ejected: {total_volume:.2f} km^3\")\n",
    "print(f\"Average volume per-event: {average_volume:.2f} km^3\")"
   ]
  },
  {
   "cell_type": "markdown",
   "metadata": {},
   "source": [
    "## String manipulation\n",
    "\n",
    "The above example illustrates one way in which strings can be printed. We can do all sorts of fun things with strings, such as adding them together (or, more precisely, \"concatenating\" them):"
   ]
  },
  {
   "cell_type": "code",
   "execution_count": 17,
   "metadata": {
    "execution": {
     "iopub.execute_input": "2024-02-19T03:23:57.595166Z",
     "iopub.status.busy": "2024-02-19T03:23:57.595007Z",
     "iopub.status.idle": "2024-02-19T03:23:57.597460Z",
     "shell.execute_reply": "2024-02-19T03:23:57.597024Z"
    }
   },
   "outputs": [
    {
     "name": "stdout",
     "output_type": "stream",
     "text": [
      "Monty Python and the Holy Grail\n"
     ]
    }
   ],
   "source": [
    "sentence_start = \"Monty Python and the \"\n",
    "sentence_end = \"Holy Grail\"\n",
    "sentence = sentence_start + sentence_end\n",
    "print(sentence)"
   ]
  },
  {
   "cell_type": "markdown",
   "metadata": {},
   "source": [
    "Or we can make a list of them and join them together with another string in between:"
   ]
  },
  {
   "cell_type": "code",
   "execution_count": 18,
   "metadata": {
    "execution": {
     "iopub.execute_input": "2024-02-19T03:23:57.599035Z",
     "iopub.status.busy": "2024-02-19T03:23:57.598903Z",
     "iopub.status.idle": "2024-02-19T03:23:57.601300Z",
     "shell.execute_reply": "2024-02-19T03:23:57.600862Z"
    }
   },
   "outputs": [
    {
     "name": "stdout",
     "output_type": "stream",
     "text": [
      "Monty Python and the Un-Holy Grail\n"
     ]
    }
   ],
   "source": [
    "sentence = \"Un-\".join([sentence_start, sentence_end])\n",
    "print(sentence)"
   ]
  },
  {
   "cell_type": "markdown",
   "metadata": {},
   "source": [
    "We can operate in-place on strings as well:"
   ]
  },
  {
   "cell_type": "code",
   "execution_count": 19,
   "metadata": {
    "execution": {
     "iopub.execute_input": "2024-02-19T03:23:57.602932Z",
     "iopub.status.busy": "2024-02-19T03:23:57.602798Z",
     "iopub.status.idle": "2024-02-19T03:23:57.604994Z",
     "shell.execute_reply": "2024-02-19T03:23:57.604676Z"
    }
   },
   "outputs": [
    {
     "name": "stdout",
     "output_type": "stream",
     "text": [
      "Monty Python and the Holy Grail\n"
     ]
    }
   ],
   "source": [
    "sentence = sentence_start\n",
    "sentence += sentence_end\n",
    "print(sentence)"
   ]
  },
  {
   "cell_type": "markdown",
   "metadata": {},
   "source": [
    "We can make new strings using *format* strings, like we did in the example above. Here we start a string with an `f`, then open\n",
    "quotes to mark the start of a string. Within this, any plain text is interpreted to be a string. Anything within curly\n",
    "brackets (`{}`) is interpreted as a variable name and converted to a string."
   ]
  },
  {
   "cell_type": "code",
   "execution_count": 20,
   "metadata": {
    "execution": {
     "iopub.execute_input": "2024-02-19T03:23:57.606588Z",
     "iopub.status.busy": "2024-02-19T03:23:57.606452Z",
     "iopub.status.idle": "2024-02-19T03:23:57.608736Z",
     "shell.execute_reply": "2024-02-19T03:23:57.608403Z"
    }
   },
   "outputs": [
    {
     "name": "stdout",
     "output_type": "stream",
     "text": [
      "Monty Python and the Holy Grail is a rather amusing film\n"
     ]
    }
   ],
   "source": [
    "sentence = f\"{sentence_start}{sentence_end} is a rather amusing film\"\n",
    "print(sentence)"
   ]
  },
  {
   "cell_type": "markdown",
   "metadata": {},
   "source": [
    "There is lots more that you can do with format strings that we don't need to go into yet, but you can find out more\n",
    "[in the Python docs](https://docs.python.org/3.6/reference/lexical_analysis.html#f-strings)."
   ]
  },
  {
   "cell_type": "markdown",
   "metadata": {},
   "source": [
    "## List manipulation"
   ]
  },
  {
   "cell_type": "markdown",
   "metadata": {},
   "source": [
    "Each element of a list can be accessed by its index. In Python, the first element in a list is at\n",
    "index `0`.  This may seem unnecessarily complicated (it is), but you get used to it - and you do need to remember this convention, which differs from some other languages which start at `1`.\n",
    "(The reason for this is to do with the byte-offset from the start of the memory-block containing the list, ... but\n",
    "you don't need to know that and its best to just let the hard-core Python zealots fight over it amongst  themselves.)\n",
    "\n",
    "In any case, say we have a list of 10 elements, indexed as follows:\n",
    "\n",
    "```python\n",
    "some_list = [1, 9, 3, 26, 7, 9, 42, 99, 1000, -2]\n",
    "# indexes:   0  1  2   3  4  5   6   7     8   9\n",
    "```\n",
    "\n",
    "You can also specify the index as the position from the end, in this case, the equivalent indexes are:\n",
    "\n",
    "```python\n",
    "some_list = [1, 9, 3, 26, 7, 9, 42, 99, 1000, -2]\n",
    "# indexes: -10 -9 -8  -7 -6 -5  -4  -3    -2  -1\n",
    "```\n",
    "\n",
    "Lets have a go at manipulating some lists based on their indexes, we will use the `\"Monty Python and the Holy Grail\"` example again."
   ]
  },
  {
   "cell_type": "code",
   "execution_count": 21,
   "metadata": {
    "execution": {
     "iopub.execute_input": "2024-02-19T03:23:57.610441Z",
     "iopub.status.busy": "2024-02-19T03:23:57.610290Z",
     "iopub.status.idle": "2024-02-19T03:23:57.612242Z",
     "shell.execute_reply": "2024-02-19T03:23:57.611920Z"
    }
   },
   "outputs": [],
   "source": [
    "sentence = \"Monty Python and the Holy Grail\""
   ]
  },
  {
   "cell_type": "markdown",
   "metadata": {},
   "source": [
    "We can split a string based on any character to get a list of strings:"
   ]
  },
  {
   "cell_type": "code",
   "execution_count": 22,
   "metadata": {
    "execution": {
     "iopub.execute_input": "2024-02-19T03:23:57.613885Z",
     "iopub.status.busy": "2024-02-19T03:23:57.613727Z",
     "iopub.status.idle": "2024-02-19T03:23:57.615870Z",
     "shell.execute_reply": "2024-02-19T03:23:57.615553Z"
    }
   },
   "outputs": [
    {
     "name": "stdout",
     "output_type": "stream",
     "text": [
      "['Monty', 'Python', 'and', 'the', 'Holy', 'Grail']\n"
     ]
    }
   ],
   "source": [
    "words = sentence.split(\" \")\n",
    "print(words)"
   ]
  },
  {
   "cell_type": "markdown",
   "metadata": {},
   "source": [
    "We can re-arange by making new lists from parts of the original list"
   ]
  },
  {
   "cell_type": "code",
   "execution_count": 23,
   "metadata": {
    "execution": {
     "iopub.execute_input": "2024-02-19T03:23:57.617474Z",
     "iopub.status.busy": "2024-02-19T03:23:57.617340Z",
     "iopub.status.idle": "2024-02-19T03:23:57.619590Z",
     "shell.execute_reply": "2024-02-19T03:23:57.619246Z"
    }
   },
   "outputs": [
    {
     "name": "stdout",
     "output_type": "stream",
     "text": [
      "['Holy', 'Monty']\n"
     ]
    }
   ],
   "source": [
    "sense = [words[-2], words[0]]\n",
    "print(sense)"
   ]
  },
  {
   "cell_type": "markdown",
   "metadata": {},
   "source": [
    "We can add parts of a list together to get a new thing:"
   ]
  },
  {
   "cell_type": "code",
   "execution_count": 24,
   "metadata": {
    "execution": {
     "iopub.execute_input": "2024-02-19T03:23:57.621234Z",
     "iopub.status.busy": "2024-02-19T03:23:57.621076Z",
     "iopub.status.idle": "2024-02-19T03:23:57.623360Z",
     "shell.execute_reply": "2024-02-19T03:23:57.623009Z"
    }
   },
   "outputs": [
    {
     "name": "stdout",
     "output_type": "stream",
     "text": [
      "Grailand\n"
     ]
    }
   ],
   "source": [
    "nonsense = words[-1] + words[2]\n",
    "print(nonsense)"
   ]
  },
  {
   "cell_type": "markdown",
   "metadata": {},
   "source": [
    "We can take chunks of the list by *slicing* using the syntax `slicable_object[start:end]` where `start` and `end` are the first and last (+1) indexes we want to access, e.g. we get everything `start <= things < end`:"
   ]
  },
  {
   "cell_type": "code",
   "execution_count": 25,
   "metadata": {
    "execution": {
     "iopub.execute_input": "2024-02-19T03:23:57.624992Z",
     "iopub.status.busy": "2024-02-19T03:23:57.624836Z",
     "iopub.status.idle": "2024-02-19T03:23:57.627053Z",
     "shell.execute_reply": "2024-02-19T03:23:57.626725Z"
    }
   },
   "outputs": [
    {
     "name": "stdout",
     "output_type": "stream",
     "text": [
      "['Monty', 'Python', 'and']\n"
     ]
    }
   ],
   "source": [
    "first_three_words = words[0:3]\n",
    "print(first_three_words)"
   ]
  },
  {
   "cell_type": "markdown",
   "metadata": {},
   "source": [
    "We can append values to a list:"
   ]
  },
  {
   "cell_type": "code",
   "execution_count": 26,
   "metadata": {
    "execution": {
     "iopub.execute_input": "2024-02-19T03:23:57.628706Z",
     "iopub.status.busy": "2024-02-19T03:23:57.628553Z",
     "iopub.status.idle": "2024-02-19T03:23:57.630779Z",
     "shell.execute_reply": "2024-02-19T03:23:57.630393Z"
    }
   },
   "outputs": [
    {
     "name": "stdout",
     "output_type": "stream",
     "text": [
      "['Monty', 'Python', 'and', 'the']\n"
     ]
    }
   ],
   "source": [
    "first_three_words.append(\"the\")\n",
    "print(first_three_words)"
   ]
  },
  {
   "cell_type": "markdown",
   "metadata": {},
   "source": [
    "And we can add lists together (both in-place and not):"
   ]
  },
  {
   "cell_type": "code",
   "execution_count": 27,
   "metadata": {
    "execution": {
     "iopub.execute_input": "2024-02-19T03:23:57.632389Z",
     "iopub.status.busy": "2024-02-19T03:23:57.632255Z",
     "iopub.status.idle": "2024-02-19T03:23:57.634542Z",
     "shell.execute_reply": "2024-02-19T03:23:57.634110Z"
    }
   },
   "outputs": [
    {
     "name": "stdout",
     "output_type": "stream",
     "text": [
      "['Monty', 'Python', 'and', 'the', 'unruly', 'albatross']\n"
     ]
    }
   ],
   "source": [
    "first_three_words += [\"unruly\", \"albatross\"]\n",
    "print(first_three_words)"
   ]
  },
  {
   "cell_type": "markdown",
   "metadata": {},
   "source": [
    "## Exercise:\n",
    "\n",
    "Take the following sentence and reverse the order of the words (without using the [`.reverse()` method](https://docs.python.org/3/tutorial/datastructures.html#more-on-lists), which would be best).  This will be easier with loops once we introduce them in the next notebook..."
   ]
  },
  {
   "cell_type": "code",
   "execution_count": 28,
   "metadata": {
    "execution": {
     "iopub.execute_input": "2024-02-19T03:23:57.636133Z",
     "iopub.status.busy": "2024-02-19T03:23:57.635999Z",
     "iopub.status.idle": "2024-02-19T03:23:57.638137Z",
     "shell.execute_reply": "2024-02-19T03:23:57.637694Z"
    }
   },
   "outputs": [],
   "source": [
    "sentence = \"Once upon a time in the West\""
   ]
  },
  {
   "cell_type": "code",
   "execution_count": 29,
   "metadata": {
    "execution": {
     "iopub.execute_input": "2024-02-19T03:23:57.639707Z",
     "iopub.status.busy": "2024-02-19T03:23:57.639569Z",
     "iopub.status.idle": "2024-02-19T03:23:57.641648Z",
     "shell.execute_reply": "2024-02-19T03:23:57.641213Z"
    }
   },
   "outputs": [],
   "source": [
    "# Your answer here:"
   ]
  },
  {
   "cell_type": "markdown",
   "metadata": {},
   "source": [
    "## Dictionary lookups\n",
    "\n",
    "Finding attributes within a dictionary, if you know the key, is very fast.  Accessing attributes by key is similar to\n",
    "indexing lists, but instead of providing an index in the square brackets, you provide the key:"
   ]
  },
  {
   "cell_type": "code",
   "execution_count": 30,
   "metadata": {
    "execution": {
     "iopub.execute_input": "2024-02-19T03:23:57.643288Z",
     "iopub.status.busy": "2024-02-19T03:23:57.643134Z",
     "iopub.status.idle": "2024-02-19T03:23:57.645524Z",
     "shell.execute_reply": "2024-02-19T03:23:57.645087Z"
    }
   },
   "outputs": [
    {
     "name": "stdout",
     "output_type": "stream",
     "text": [
      "andesite\n"
     ]
    }
   ],
   "source": [
    "rock = {\"type\": \"andesite\", \"age\": \"10\", \"comment\": \"Tastes like fish\"}\n",
    "\n",
    "print(rock[\"type\"])"
   ]
  },
  {
   "cell_type": "code",
   "execution_count": 31,
   "metadata": {
    "execution": {
     "iopub.execute_input": "2024-02-19T03:23:57.647110Z",
     "iopub.status.busy": "2024-02-19T03:23:57.646969Z",
     "iopub.status.idle": "2024-02-19T03:23:57.649274Z",
     "shell.execute_reply": "2024-02-19T03:23:57.648836Z"
    }
   },
   "outputs": [
    {
     "name": "stdout",
     "output_type": "stream",
     "text": [
      "Tastes like fish\n"
     ]
    }
   ],
   "source": [
    "print(rock[\"comment\"])"
   ]
  },
  {
   "cell_type": "markdown",
   "metadata": {},
   "source": [
    "We will use dictionaries quite a bit in these modules because they can be really helpful for keeping track of data."
   ]
  },
  {
   "cell_type": "markdown",
   "metadata": {},
   "source": [
    "## Functions\n",
    "\n",
    "In a moment we are going to look at and use a function to get some data, so I wanted to take a moment to introduce the concept.  We will spend more time on this in the next notebook.\n",
    "\n",
    "A core principle of programming is **\"Don't Repeat Yourself\"** (AKA DRY). One way to avoid repeating yourself is to write *functions*. Functions define a set block of code that takes some input and does something with it. Functions often return something, but they don't have to (they don't even need to take any input!).\n",
    "\n",
    "In general, if you write some code that you might want to use more than once, you should make it into a function. The main reasons for this are:\n",
    "1. to reduce your effort (let the machine do the work!), and\n",
    "2. Reduce the risk of doing it wrong! Write it once, write it well and fix any bugs in that one bit of code!\n",
    "\n",
    "Writing functions in Python is nice and easy. The syntax for this is:\n",
    "\n",
    "```python\n",
    "def function_name(arguments):\n",
    "    your_code_here\n",
    "    return output\n",
    "\n",
    "more_code_here  # This isn't part of the function!\n",
    "```\n",
    "\n",
    "The `def` and `return` are keywords that Python understands as the start and end of a function. You don't need the `return` if you do not want to return anything from the function.  The whitespace (four spaces!) defines what content is within the function. You also need the brackets after `function_name` (you can call the function whatever you want - remember variable naming and name functions helpfully!) and the colon at the end of the brackets."
   ]
  },
  {
   "cell_type": "markdown",
   "metadata": {},
   "source": [
    "---\n",
    "\n",
    "# Getting started with some data\n",
    "\n",
    "Now we know something about the basic datatypes in Python, lets play with some Geoscience data.\n",
    "\n",
    "We will produce a plot of some GNSS (Global Navigation Satellite System) displacement data from NZ. The adage _a picture is worth a thousand words_ is very true in the world of science (but not so true that it changes your thesis word-count!).\n",
    "\n",
    "A good figure that clearly articulates your data will make your work much easier to understand. Simple is good, but your figures still need to cover the basics of being well-labeled and accurate. Plots are also extremely useful when exploring your data - quickly plotting a few lines and seeing whether they look \"right\" can save you all sorts of tedious work working out where you went wrong.\n",
    "\n",
    "Frequently you will want to make the same, or a very similar plot multiple times. You could do this interactively in a spreadsheet, wasting your life away, making mistakes... (remember DRY), or you could write a little program to make your plots for you!\n",
    "\n",
    "In Python, the main plotting package is `matplotlib`. In this notebook we will introduce some of the basics of data plotting, using some New Zealand GNSS data from GeoNet.\n",
    "\n",
    "To make our plots work in the section, and be interactive we will use the matplotlib widget (see below). We'll be spending lots more time on different aspects of this process in the later modules, so for the time being some of the Python code may seem a bit intimidating. Here's a simple overview of the steps we're taking:\n",
    "\n",
    "1. Download some data from GeoNet using a function\n",
    "2. Take a quick look at the data to understand what we have\n",
    "3. Plot and annotate the data in a variety of ways using `matplotlib`."
   ]
  },
  {
   "cell_type": "markdown",
   "metadata": {},
   "source": [
    "## Getting some data\n",
    "\n",
    "We will first write a function to get the data we want from GeoNet.  We have adapted this from the\n",
    "[GeoNet tutorial](https://github.com/GeoNet/data-tutorials/blob/main/FITS/FITS_data_access.ipynb). This may seem a bit overwhelming, if you're not familiar with Python or programming yet, but the key points to remember are these:\n",
    "\n",
    "1. The function we're defining, ``get_gnss_for_station()``, encodes a sequence of steps that enable us to automate the process of downloading a specific set of data from a specific source; here, the source is GeoNet\n",
    "2. The block of text in red at the start of the function provides an explanation of what the function does, what inputs it expects, and what outputs it returns\n",
    "3. Once this function is defined, we can use it time and time again - and we don't need to know what it looks like inside.\n",
    "4. In other words, you can skip right over the next block if you like."
   ]
  },
  {
   "cell_type": "code",
   "execution_count": 32,
   "metadata": {
    "execution": {
     "iopub.execute_input": "2024-02-19T03:23:57.651058Z",
     "iopub.status.busy": "2024-02-19T03:23:57.650923Z",
     "iopub.status.idle": "2024-02-19T03:23:57.935541Z",
     "shell.execute_reply": "2024-02-19T03:23:57.933684Z"
    }
   },
   "outputs": [],
   "source": [
    "import requests  # This helps with web-requests\n",
    "import datetime  # Python's representation of dates and times.\n",
    "\n",
    "# The following block of code defines a function that we can use\n",
    "# as often as we like to get GNSS data for a particular station\n",
    "\n",
    "\n",
    "def get_gnss_for_station(\n",
    "        station: str,\n",
    "        fits_url: str = \"http://fits.geonet.org.nz/observation\",) -> dict:\n",
    "    \"\"\"\n",
    "    Get GNSS data from GeoNet for the station\n",
    "\n",
    "    Parameters\n",
    "    ----------\n",
    "    station\n",
    "        The name of the station you want to get data for\n",
    "    fits_url\n",
    "        URL of the FITS data service you want to query.\n",
    "\n",
    "    Returns\n",
    "    -------\n",
    "    Dictionary with keys:\n",
    "        time \n",
    "            list of timestamps of observations\n",
    "        north\n",
    "            list of offsets in mm in the north direction\n",
    "        east\n",
    "            list of offsets in mm in the east direction\n",
    "        up          \n",
    "            list of vertical offsets in mm\n",
    "        north_error\n",
    "            list of errors in mm for north\n",
    "        east_error\n",
    "            list of errors in mm for east\n",
    "        up_error\n",
    "            list of erros in mm for up\n",
    "\n",
    "    \"\"\"\n",
    "    # Initialise an empty dictionary that we will append to\n",
    "    out = dict(time=[],\n",
    "               north=[],\n",
    "               east=[],\n",
    "               up=[],\n",
    "               north_error=[],\n",
    "               east_error=[],\n",
    "               up_error=[])\n",
    "    for channel in {\"north\", \"east\", \"up\"}:\n",
    "        parameters = {\"typeID\": channel[0], \"siteID\": station}\n",
    "        response = requests.get(fits_url, params=parameters)\n",
    "        assert response.status_code == 200, \"Bad request\"\n",
    "        payload = response.content.decode(\"utf-8\").split(\"\\n\")\n",
    "        # payload is a csv with header\n",
    "        # This is a list-comprehension, a type of fast, one-line for loop\n",
    "        payload = [p.split(',') for p in payload]\n",
    "        # Check that this is what we expect\n",
    "        assert payload[0][0] == 'date-time', \"Unkown format\"\n",
    "        assert len(payload[0]) == 3, \"Unknown format\"\n",
    "        times, displacements, errors = zip(*[\n",
    "            (datetime.datetime.strptime(p[0], '%Y-%m-%dT%H:%M:%S.%fZ'),\n",
    "             float(p[1]), float(p[2])) for p in payload[1:-1]])\n",
    "        if len(out[\"time\"]) == 0:\n",
    "            out.update({\"time\": times})\n",
    "        else:\n",
    "            assert out[\"time\"] == times, \"Different time sampling for different components.\"\n",
    "        out.update({channel: displacements, f\"{channel}_error\": errors})\n",
    "    return out"
   ]
  },
  {
   "cell_type": "markdown",
   "metadata": {},
   "source": [
    "Right, now we have a way to get some data, lets get some and plot it!\n",
    "\n",
    "We will grab the data from station [PYGR](https://www.geonet.org.nz/data/network/mark/PYGR), because\n",
    "it is in a cool place (Puysegur, in Fiordland) near the plate boundary. We are storing the data in a dictionary called `pygr_data`. In a later notebook we'll look an alternative method of storing the data, known as a dataframe, which provides a lot of extra functionality and convenience."
   ]
  },
  {
   "cell_type": "code",
   "execution_count": 33,
   "metadata": {
    "execution": {
     "iopub.execute_input": "2024-02-19T03:23:57.942763Z",
     "iopub.status.busy": "2024-02-19T03:23:57.941828Z",
     "iopub.status.idle": "2024-02-19T03:23:58.538764Z",
     "shell.execute_reply": "2024-02-19T03:23:58.538300Z"
    },
    "tags": [
     "nbval-ignore-output"
    ]
   },
   "outputs": [
    {
     "name": "stdout",
     "output_type": "stream",
     "text": [
      "We have downloaded 6053 samples of data\n"
     ]
    }
   ],
   "source": [
    "pygr_data = get_gnss_for_station(station=\"PYGR\")\n",
    "n_samples = len(pygr_data[\"time\"])\n",
    "print(f\"We have downloaded {n_samples} samples of data\")"
   ]
  },
  {
   "cell_type": "markdown",
   "metadata": {},
   "source": [
    "## Plotting the data with Matplotlib\n",
    "\n",
    "The main Matplotlib objects that we will interface with are the `Figure` and `Axes` objects. A `Figure` contains all the plots (think of it like a page).  Each plot is an `Axes` object and this is where the plotting actually happens.\n",
    "\n",
    "A simple way to start a `matplotlib` plot is to use the `plt.subplots()` function to generate a new `Figure` and `Axes` object.  In a later notebook we will look at more sophisticated methods that enable us to combine multiple plots in a single figure."
   ]
  },
  {
   "cell_type": "code",
   "execution_count": 34,
   "metadata": {
    "execution": {
     "iopub.execute_input": "2024-02-19T03:23:58.540512Z",
     "iopub.status.busy": "2024-02-19T03:23:58.540378Z",
     "iopub.status.idle": "2024-02-19T03:24:08.225569Z",
     "shell.execute_reply": "2024-02-19T03:24:08.224862Z"
    }
   },
   "outputs": [
    {
     "name": "stdout",
     "output_type": "stream",
     "text": [
      "Figure(640x480)\n",
      "Axes(0.125,0.11;0.775x0.77)\n"
     ]
    },
    {
     "data": {
      "application/vnd.jupyter.widget-view+json": {
       "model_id": "ca3d263d644147919ca9d014c07aea71",
       "version_major": 2,
       "version_minor": 0
      },
      "image/png": "[encoded data removed]",
      "text/html": [
       "\n",
       "            <div style=\"display: inline-block;\">\n",
       "                <div class=\"jupyter-widgets widget-label\" style=\"text-align: center;\">\n",
       "                    Figure\n",
       "                </div>\n",
       "                <img src='data:image/png;base64,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' width=640.0/>\n",
       "            </div>\n",
       "        "
      ],
      "text/plain": [
       "Canvas(toolbar=Toolbar(toolitems=[('Home', 'Reset original view', 'home', 'home'), ('Back', 'Back to previous …"
      ]
     },
     "metadata": {},
     "output_type": "display_data"
    }
   ],
   "source": [
    "import matplotlib.pyplot as plt\n",
    "\n",
    "%matplotlib widget  \n",
    "# This \"magic\" (prepended by a % sign) sets up interactive plotting - you will often want to use this in notebooks.\n",
    "\n",
    "fig, ax = plt.subplots()\n",
    "print(fig)\n",
    "print(ax)\n",
    "plt.show()"
   ]
  },
  {
   "cell_type": "markdown",
   "metadata": {},
   "source": [
    "This simple figure just consists of some axes.  The next few commands plot some actual data using those axes. We will use the `\"times\"` as our x-values."
   ]
  },
  {
   "cell_type": "code",
   "execution_count": 35,
   "metadata": {
    "execution": {
     "iopub.execute_input": "2024-02-19T03:24:08.228708Z",
     "iopub.status.busy": "2024-02-19T03:24:08.228412Z",
     "iopub.status.idle": "2024-02-19T03:24:08.313703Z",
     "shell.execute_reply": "2024-02-19T03:24:08.313258Z"
    }
   },
   "outputs": [
    {
     "data": {
      "application/vnd.jupyter.widget-view+json": {
       "model_id": "599cd2e9681147ac92e26547576c3c73",
       "version_major": 2,
       "version_minor": 0
      },
      "image/png": "[encoded data removed]",
      "text/html": [
       "\n",
       "            <div style=\"display: inline-block;\">\n",
       "                <div class=\"jupyter-widgets widget-label\" style=\"text-align: center;\">\n",
       "                    Figure\n",
       "                </div>\n",
       "                <img src='data:image/png;base64,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' width=640.0/>\n",
       "            </div>\n",
       "        "
      ],
      "text/plain": [
       "Canvas(toolbar=Toolbar(toolitems=[('Home', 'Reset original view', 'home', 'home'), ('Back', 'Back to previous …"
      ]
     },
     "metadata": {},
     "output_type": "display_data"
    }
   ],
   "source": [
    "fig, ax = plt.subplots()\n",
    "ax.plot(pygr_data[\"time\"], pygr_data[\"north\"])\n",
    "plt.show()"
   ]
  },
  {
   "cell_type": "markdown",
   "metadata": {},
   "source": [
    "There's a big jump in the data! Bonus points for the first one to shout-out what this is... Note that you should be able to zoom into the plot by clicking the square button on the left and selecting a zoom window.\n",
    "\n",
    "This graph is okay, but it doesn't have any labels! What are we plotting!? No-one will ever know.\n",
    "\n",
    "## Labeling\n",
    "\n",
    "Lets fix that..."
   ]
  },
  {
   "cell_type": "code",
   "execution_count": 36,
   "metadata": {
    "execution": {
     "iopub.execute_input": "2024-02-19T03:24:08.315491Z",
     "iopub.status.busy": "2024-02-19T03:24:08.315323Z",
     "iopub.status.idle": "2024-02-19T03:24:08.417743Z",
     "shell.execute_reply": "2024-02-19T03:24:08.417369Z"
    }
   },
   "outputs": [
    {
     "data": {
      "application/vnd.jupyter.widget-view+json": {
       "model_id": "33b65c2aab9a465db6a21c035780b6ef",
       "version_major": 2,
       "version_minor": 0
      },
      "image/png": "[encoded data removed]",
      "text/html": [
       "\n",
       "            <div style=\"display: inline-block;\">\n",
       "                <div class=\"jupyter-widgets widget-label\" style=\"text-align: center;\">\n",
       "                    Figure\n",
       "                </div>\n",
       "                <img src='data:image/png;base64,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' width=640.0/>\n",
       "            </div>\n",
       "        "
      ],
      "text/plain": [
       "Canvas(toolbar=Toolbar(toolitems=[('Home', 'Reset original view', 'home', 'home'), ('Back', 'Back to previous …"
      ]
     },
     "metadata": {},
     "output_type": "display_data"
    }
   ],
   "source": [
    "fig, ax = plt.subplots()\n",
    "ax.plot(pygr_data[\"time\"], pygr_data[\"north\"],\n",
    "        label=\"North\", color='lightcoral')\n",
    "ax.set_xlabel(\"Date (UTC)\")\n",
    "ax.set_ylabel(\"Offset in mm\")\n",
    "ax.set_title(\"GNSS offsets for PYGR\")\n",
    "ax.legend()\n",
    "plt.show()"
   ]
  },
  {
   "cell_type": "markdown",
   "metadata": {},
   "source": [
    "So what did we do here?\n",
    "\n",
    "1. We added a `label` argument to the call to plot, which attaches a `str` label to our data, and then later made a call to `ax.legend()` to use this label in making the legend;\n",
    "2. We added a label to the x-axis using `ax.set_xlabel`\n",
    "3. Similarly, we added a label to the y-axis using `ax.set_ylabel`\n",
    "4. We added a useful title using `ax.set_title`\n",
    "5. We added a legend - this comes in useful when plotting multiple data on the same graph..."
   ]
  },
  {
   "cell_type": "markdown",
   "metadata": {},
   "source": [
    "## Plotting straight lines\n",
    "\n",
    "Often it is handy to plot lines to mark key points on your graph - in this case we might want to mark the time of the Dusky Sound earthquake, and maybe the pre-earthquake position. Matplotlib has our back again with the [`.axhline`](https://matplotlib.org/stable/api/_as_gen/matplotlib.axes.Axes.axhline.html) and [`.axvline`](https://matplotlib.org/stable/api/_as_gen/matplotlib.axes.Axes.axvline.html) methods for horizontal and vertical lines respectively.\n",
    "\n",
    "Lets start off by marking the time of the Dusky Sound earthquake. GeoNet has this earthquakes origin time at 2009-07-15 09:22:29 UTC (you can see the UTC time in the [technical](https://www.geonet.org.nz/earthquake/technical/3124785) page for the earthquake). To plot that on our graph we need to create a [`datetime`](https://docs.python.org/3/library/datetime.html) object, which is Python's way of handling the nuances of dates and time (leap years and seconds, adding and subtracting different time units etc.). We will talk more about `datetime` in one of the following notebooks."
   ]
  },
  {
   "cell_type": "code",
   "execution_count": 37,
   "metadata": {
    "execution": {
     "iopub.execute_input": "2024-02-19T03:24:08.420004Z",
     "iopub.status.busy": "2024-02-19T03:24:08.419861Z",
     "iopub.status.idle": "2024-02-19T03:24:08.422919Z",
     "shell.execute_reply": "2024-02-19T03:24:08.422540Z"
    }
   },
   "outputs": [
    {
     "name": "stdout",
     "output_type": "stream",
     "text": [
      "2009-07-15 09:22:29\n"
     ]
    }
   ],
   "source": [
    "import datetime as dt  # It is common to use the name \"dt\" for the datetime package\n",
    "\n",
    "dusky_origin = dt.datetime(2009, 7, 15, 9, 22, 29)\n",
    "print(dusky_origin)"
   ]
  },
  {
   "cell_type": "markdown",
   "metadata": {},
   "source": [
    "Great, now that we have that we can make a simple call to `.axvline` to mark the time of the earthquake - lets see if it lines up with that step!"
   ]
  },
  {
   "cell_type": "code",
   "execution_count": 38,
   "metadata": {
    "execution": {
     "iopub.execute_input": "2024-02-19T03:24:08.424979Z",
     "iopub.status.busy": "2024-02-19T03:24:08.424844Z",
     "iopub.status.idle": "2024-02-19T03:24:08.513232Z",
     "shell.execute_reply": "2024-02-19T03:24:08.512908Z"
    }
   },
   "outputs": [
    {
     "data": {
      "application/vnd.jupyter.widget-view+json": {
       "model_id": "767087ff1a8146bb9de9498138243093",
       "version_major": 2,
       "version_minor": 0
      },
      "image/png": "[encoded data removed]",
      "text/html": [
       "\n",
       "            <div style=\"display: inline-block;\">\n",
       "                <div class=\"jupyter-widgets widget-label\" style=\"text-align: center;\">\n",
       "                    Figure\n",
       "                </div>\n",
       "                <img src='data:image/png;base64,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' width=640.0/>\n",
       "            </div>\n",
       "        "
      ],
      "text/plain": [
       "Canvas(toolbar=Toolbar(toolitems=[('Home', 'Reset original view', 'home', 'home'), ('Back', 'Back to previous …"
      ]
     },
     "metadata": {},
     "output_type": "display_data"
    }
   ],
   "source": [
    "dusky_origin = dt.datetime(2009, 7, 15, 9, 22, 29)\n",
    "\n",
    "fig, ax = plt.subplots()\n",
    "ax.plot(pygr_data[\"time\"], pygr_data[\"north\"],\n",
    "        label=\"North\", color='lightcoral')\n",
    "# Call axvline!\n",
    "ax.axvline(\n",
    "    dusky_origin, # Set the x position\n",
    "    color=\"grey\", # Set the colour\n",
    "    linestyle=\"--\",  # Make it a dashed line\n",
    "    label=\"Dusky Sound M7.8\",  # Give it a label for the legend\n",
    "    zorder=0  # I want to put it behind the data, so set the zorder to be the zeroth thing plotted.\n",
    ")  \n",
    "ax.set_xlabel(\"Date (UTC)\")\n",
    "ax.set_ylabel(\"Offset in mm\")\n",
    "ax.set_title(\"GNSS offsets for PYGR\")\n",
    "ax.legend()\n",
    "plt.show()"
   ]
  },
  {
   "cell_type": "markdown",
   "metadata": {},
   "source": [
    "Nice! It does line up - lets add on a horizontal line as well for fun - the syntax is the same. Below it is set it to be at y=-62, which is about the offset before the Dusky Sound earthquake when we originally set up these notebooks. changes in the GeoNet data processing since then mean that this is no longer the case. **Exercise**: Change the y-value the horizontal line to better match the updated offset:"
   ]
  },
  {
   "cell_type": "code",
   "execution_count": 39,
   "metadata": {
    "execution": {
     "iopub.execute_input": "2024-02-19T03:24:08.515878Z",
     "iopub.status.busy": "2024-02-19T03:24:08.515740Z",
     "iopub.status.idle": "2024-02-19T03:24:08.605122Z",
     "shell.execute_reply": "2024-02-19T03:24:08.604796Z"
    }
   },
   "outputs": [
    {
     "data": {
      "application/vnd.jupyter.widget-view+json": {
       "model_id": "1f6e52f34c7e4bfdb5fd84cccd231d64",
       "version_major": 2,
       "version_minor": 0
      },
      "image/png": "[encoded data removed]",
      "text/html": [
       "\n",
       "            <div style=\"display: inline-block;\">\n",
       "                <div class=\"jupyter-widgets widget-label\" style=\"text-align: center;\">\n",
       "                    Figure\n",
       "                </div>\n",
       "                <img src='data:image/png;base64,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' width=640.0/>\n",
       "            </div>\n",
       "        "
      ],
      "text/plain": [
       "Canvas(toolbar=Toolbar(toolitems=[('Home', 'Reset original view', 'home', 'home'), ('Back', 'Back to previous …"
      ]
     },
     "metadata": {},
     "output_type": "display_data"
    }
   ],
   "source": [
    "dusky_origin = dt.datetime(2009, 7, 15, 9, 22, 29)\n",
    "\n",
    "fig, ax = plt.subplots()\n",
    "ax.plot(pygr_data[\"time\"], pygr_data[\"north\"],\n",
    "        label=\"North\", color='lightcoral')\n",
    "# Call axhline!\n",
    "ax.axhline(\n",
    "    -62, # Set the y position\n",
    "    color=\"grey\", # Set the colour\n",
    "    linestyle=\"--\",  # Make it a dashed line\n",
    "    zorder=0  # I want to put it behind the data, so set the zorder to be the zeroth thing plotted.\n",
    ")\n",
    "ax.axvline(dusky_origin, color=\"grey\", linestyle=\"--\",\n",
    "           label=\"Dusky Sound M7.8\", zorder=0)\n",
    "ax.set_xlabel(\"Date (UTC)\")\n",
    "ax.set_ylabel(\"Offset in mm\")\n",
    "ax.set_title(\"GNSS offsets for PYGR\")\n",
    "ax.legend()\n",
    "plt.show()"
   ]
  },
  {
   "cell_type": "markdown",
   "metadata": {},
   "source": [
    "Using that as a guide it looks like it takes about four years for the GPS station to recover to it's pre-earthquake position - you could obviously actually work it out, but it is nice to have a guide! You might be surprised how often you want to plot horizontal or vertical lines on your plots..."
   ]
  },
  {
   "cell_type": "markdown",
   "metadata": {},
   "source": [
    "## Saving plots\n",
    "\n",
    "So you made a lovely wee plot... Now what? Screenshot? Crikey no!\n",
    "\n",
    "There is that useful little save button on the plots here that let you save your figure, but that's no help if you are making a few hundred figures, you don't want to be clicking a save button for every figure. That's just silly.\n",
    "\n",
    "To save figures programmatically we can use a simple bit of syntax:\n",
    "```python\n",
    "fig.savefig(\"my_figure.png\")\n",
    "```\n",
    "matplotlib knows common file-types for images, so just specifying the file extension means matplotlib will save as that figure type. Win. Some common extensions that you might use are:\n",
    "- `.png` good for rasterised figures\n",
    "- `.jpg` good for internet figures\n",
    "- `.svg` (scalar vector graphics) good if you want to edit your figure later using something like [inkscape](https://inkscape.org/)\n",
    "- `.pdf` handy, text retained as $L^aT_eX$ text.\n",
    "\n",
    "Let's save our figure as a png, you can open it and have a look at it if you want."
   ]
  },
  {
   "cell_type": "code",
   "execution_count": 40,
   "metadata": {
    "execution": {
     "iopub.execute_input": "2024-02-19T03:24:08.608276Z",
     "iopub.status.busy": "2024-02-19T03:24:08.608112Z",
     "iopub.status.idle": "2024-02-19T03:24:08.610629Z",
     "shell.execute_reply": "2024-02-19T03:24:08.610325Z"
    }
   },
   "outputs": [],
   "source": [
    "# Your code here"
   ]
  }
 ],
 "metadata": {
  "kernelspec": {
   "display_name": "Python 3 (ipykernel)",
   "language": "python",
   "name": "python3"
  },
  "language_info": {
   "codemirror_mode": {
    "name": "ipython",
    "version": 3
   },
   "file_extension": ".py",
   "mimetype": "text/x-python",
   "name": "python",
   "nbconvert_exporter": "python",
   "pygments_lexer": "ipython3",
   "version": "3.11.8"
  },
  "widgets": {
   "application/vnd.jupyter.widget-state+json": {
    "state": {
     "056fa79052864c238a211d70d00986f8": {
      "model_module": "@jupyter-widgets/base",
      "model_module_version": "2.0.0",
      "model_name": "LayoutModel",
      "state": {
       "_model_module": "@jupyter-widgets/base",
       "_model_module_version": "2.0.0",
       "_model_name": "LayoutModel",
       "_view_count": null,
       "_view_module": "@jupyter-widgets/base",
       "_view_module_version": "2.0.0",
       "_view_name": "LayoutView",
       "align_content": null,
       "align_items": null,
       "align_self": null,
       "border_bottom": null,
       "border_left": null,
       "border_right": null,
       "border_top": null,
       "bottom": null,
       "display": null,
       "flex": null,
       "flex_flow": null,
       "grid_area": null,
       "grid_auto_columns": null,
       "grid_auto_flow": null,
       "grid_auto_rows": null,
       "grid_column": null,
       "grid_gap": null,
       "grid_row": null,
       "grid_template_areas": null,
       "grid_template_columns": null,
       "grid_template_rows": null,
       "height": null,
       "justify_content": null,
       "justify_items": null,
       "left": null,
       "margin": null,
       "max_height": null,
       "max_width": null,
       "min_height": null,
       "min_width": null,
       "object_fit": null,
       "object_position": null,
       "order": null,
       "overflow": null,
       "padding": null,
       "right": null,
       "top": null,
       "visibility": null,
       "width": null
      }
     },
     "1f6e52f34c7e4bfdb5fd84cccd231d64": {
      "model_module": "jupyter-matplotlib",
      "model_module_version": "^0.11",
      "model_name": "MPLCanvasModel",
      "state": {
       "_cursor": "pointer",
       "_data_url": "data:image/png;base64,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",
       "_dom_classes": [],
       "_figure_label": "Figure",
       "_image_mode": "full",
       "_message": "",
       "_model_module": "jupyter-matplotlib",
       "_model_module_version": "^0.11",
       "_model_name": "MPLCanvasModel",
       "_rubberband_height": 0,
       "_rubberband_width": 0,
       "_rubberband_x": 0,
       "_rubberband_y": 0,
       "_size": [
        640.0,
        480.0
       ],
       "_view_count": null,
       "_view_module": "jupyter-matplotlib",
       "_view_module_version": "^0.11",
       "_view_name": "MPLCanvasView",
       "capture_scroll": false,
       "footer_visible": true,
       "header_visible": true,
       "layout": "IPY_MODEL_919db777a3974f7d87fc17c873d372b6",
       "pan_zoom_throttle": 33.0,
       "resizable": true,
       "tabbable": null,
       "toolbar": "IPY_MODEL_38e406a356db4b1abf76b115b05866fc",
       "toolbar_position": "left",
       "toolbar_visible": "fade-in-fade-out",
       "tooltip": null
      }
     },
     "22b6e17078ed453ab0643c6d180c9055": {
      "model_module": "@jupyter-widgets/base",
      "model_module_version": "2.0.0",
      "model_name": "LayoutModel",
      "state": {
       "_model_module": "@jupyter-widgets/base",
       "_model_module_version": "2.0.0",
       "_model_name": "LayoutModel",
       "_view_count": null,
       "_view_module": "@jupyter-widgets/base",
       "_view_module_version": "2.0.0",
       "_view_name": "LayoutView",
       "align_content": null,
       "align_items": null,
       "align_self": null,
       "border_bottom": null,
       "border_left": null,
       "border_right": null,
       "border_top": null,
       "bottom": null,
       "display": null,
       "flex": null,
       "flex_flow": null,
       "grid_area": null,
       "grid_auto_columns": null,
       "grid_auto_flow": null,
       "grid_auto_rows": null,
       "grid_column": null,
       "grid_gap": null,
       "grid_row": null,
       "grid_template_areas": null,
       "grid_template_columns": null,
       "grid_template_rows": null,
       "height": null,
       "justify_content": null,
       "justify_items": null,
       "left": null,
       "margin": null,
       "max_height": null,
       "max_width": null,
       "min_height": null,
       "min_width": null,
       "object_fit": null,
       "object_position": null,
       "order": null,
       "overflow": null,
       "padding": null,
       "right": null,
       "top": null,
       "visibility": null,
       "width": null
      }
     },
     "23848a2225734764993eaec0007202ba": {
      "model_module": "jupyter-matplotlib",
      "model_module_version": "^0.11",
      "model_name": "ToolbarModel",
      "state": {
       "_current_action": "",
       "_dom_classes": [],
       "_model_module": "jupyter-matplotlib",
       "_model_module_version": "^0.11",
       "_model_name": "ToolbarModel",
       "_view_count": null,
       "_view_module": "jupyter-matplotlib",
       "_view_module_version": "^0.11",
       "_view_name": "ToolbarView",
       "button_style": "",
       "collapsed": true,
       "layout": "IPY_MODEL_5dac2220591b49d3a281d4d54a863404",
       "orientation": "vertical",
       "tabbable": null,
       "toolitems": [
        [
         "Home",
         "Reset original view",
         "home",
         "home"
        ],
        [
         "Back",
         "Back to previous view",
         "arrow-left",
         "back"
        ],
        [
         "Forward",
         "Forward to next view",
         "arrow-right",
         "forward"
        ],
        [
         "Pan",
         "Left button pans, Right button zooms\nx/y fixes axis, CTRL fixes aspect",
         "arrows",
         "pan"
        ],
        [
         "Zoom",
         "Zoom to rectangle\nx/y fixes axis",
         "square-o",
         "zoom"
        ],
        [
         "Download",
         "Download plot",
         "floppy-o",
         "save_figure"
        ]
       ],
       "tooltip": null
      }
     },
     "33b65c2aab9a465db6a21c035780b6ef": {
      "model_module": "jupyter-matplotlib",
      "model_module_version": "^0.11",
      "model_name": "MPLCanvasModel",
      "state": {
       "_cursor": "pointer",
       "_data_url": "data:image/png;base64,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",
       "_dom_classes": [],
       "_figure_label": "Figure",
       "_image_mode": "full",
       "_message": "",
       "_model_module": "jupyter-matplotlib",
       "_model_module_version": "^0.11",
       "_model_name": "MPLCanvasModel",
       "_rubberband_height": 0,
       "_rubberband_width": 0,
       "_rubberband_x": 0,
       "_rubberband_y": 0,
       "_size": [
        640.0,
        480.0
       ],
       "_view_count": null,
       "_view_module": "jupyter-matplotlib",
       "_view_module_version": "^0.11",
       "_view_name": "MPLCanvasView",
       "capture_scroll": false,
       "footer_visible": true,
       "header_visible": true,
       "layout": "IPY_MODEL_c72f6a8b08194655815a0bf60da74e0a",
       "pan_zoom_throttle": 33.0,
       "resizable": true,
       "tabbable": null,
       "toolbar": "IPY_MODEL_23848a2225734764993eaec0007202ba",
       "toolbar_position": "left",
       "toolbar_visible": "fade-in-fade-out",
       "tooltip": null
      }
     },
     "38e406a356db4b1abf76b115b05866fc": {
      "model_module": "jupyter-matplotlib",
      "model_module_version": "^0.11",
      "model_name": "ToolbarModel",
      "state": {
       "_current_action": "",
       "_dom_classes": [],
       "_model_module": "jupyter-matplotlib",
       "_model_module_version": "^0.11",
       "_model_name": "ToolbarModel",
       "_view_count": null,
       "_view_module": "jupyter-matplotlib",
       "_view_module_version": "^0.11",
       "_view_name": "ToolbarView",
       "button_style": "",
       "collapsed": true,
       "layout": "IPY_MODEL_22b6e17078ed453ab0643c6d180c9055",
       "orientation": "vertical",
       "tabbable": null,
       "toolitems": [
        [
         "Home",
         "Reset original view",
         "home",
         "home"
        ],
        [
         "Back",
         "Back to previous view",
         "arrow-left",
         "back"
        ],
        [
         "Forward",
         "Forward to next view",
         "arrow-right",
         "forward"
        ],
        [
         "Pan",
         "Left button pans, Right button zooms\nx/y fixes axis, CTRL fixes aspect",
         "arrows",
         "pan"
        ],
        [
         "Zoom",
         "Zoom to rectangle\nx/y fixes axis",
         "square-o",
         "zoom"
        ],
        [
         "Download",
         "Download plot",
         "floppy-o",
         "save_figure"
        ]
       ],
       "tooltip": null
      }
     },
     "3931275810234b8a841775438d4ffd7d": {
      "model_module": "jupyter-matplotlib",
      "model_module_version": "^0.11",
      "model_name": "ToolbarModel",
      "state": {
       "_current_action": "",
       "_dom_classes": [],
       "_model_module": "jupyter-matplotlib",
       "_model_module_version": "^0.11",
       "_model_name": "ToolbarModel",
       "_view_count": null,
       "_view_module": "jupyter-matplotlib",
       "_view_module_version": "^0.11",
       "_view_name": "ToolbarView",
       "button_style": "",
       "collapsed": true,
       "layout": "IPY_MODEL_817c0523b6a4404aaf6a49915c27cc98",
       "orientation": "vertical",
       "tabbable": null,
       "toolitems": [
        [
         "Home",
         "Reset original view",
         "home",
         "home"
        ],
        [
         "Back",
         "Back to previous view",
         "arrow-left",
         "back"
        ],
        [
         "Forward",
         "Forward to next view",
         "arrow-right",
         "forward"
        ],
        [
         "Pan",
         "Left button pans, Right button zooms\nx/y fixes axis, CTRL fixes aspect",
         "arrows",
         "pan"
        ],
        [
         "Zoom",
         "Zoom to rectangle\nx/y fixes axis",
         "square-o",
         "zoom"
        ],
        [
         "Download",
         "Download plot",
         "floppy-o",
         "save_figure"
        ]
       ],
       "tooltip": null
      }
     },
     "599cd2e9681147ac92e26547576c3c73": {
      "model_module": "jupyter-matplotlib",
      "model_module_version": "^0.11",
      "model_name": "MPLCanvasModel",
      "state": {
       "_cursor": "pointer",
       "_data_url": "data:image/png;base64,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",
       "_dom_classes": [],
       "_figure_label": "Figure",
       "_image_mode": "full",
       "_message": "",
       "_model_module": "jupyter-matplotlib",
       "_model_module_version": "^0.11",
       "_model_name": "MPLCanvasModel",
       "_rubberband_height": 0,
       "_rubberband_width": 0,
       "_rubberband_x": 0,
       "_rubberband_y": 0,
       "_size": [
        640.0,
        480.0
       ],
       "_view_count": null,
       "_view_module": "jupyter-matplotlib",
       "_view_module_version": "^0.11",
       "_view_name": "MPLCanvasView",
       "capture_scroll": false,
       "footer_visible": true,
       "header_visible": true,
       "layout": "IPY_MODEL_97ece943ad924303b07672aeb063c8f9",
       "pan_zoom_throttle": 33.0,
       "resizable": true,
       "tabbable": null,
       "toolbar": "IPY_MODEL_6e2299b87d1345849470f54cd324e06c",
       "toolbar_position": "left",
       "toolbar_visible": "fade-in-fade-out",
       "tooltip": null
      }
     },
     "5dac2220591b49d3a281d4d54a863404": {
      "model_module": "@jupyter-widgets/base",
      "model_module_version": "2.0.0",
      "model_name": "LayoutModel",
      "state": {
       "_model_module": "@jupyter-widgets/base",
       "_model_module_version": "2.0.0",
       "_model_name": "LayoutModel",
       "_view_count": null,
       "_view_module": "@jupyter-widgets/base",
       "_view_module_version": "2.0.0",
       "_view_name": "LayoutView",
       "align_content": null,
       "align_items": null,
       "align_self": null,
       "border_bottom": null,
       "border_left": null,
       "border_right": null,
       "border_top": null,
       "bottom": null,
       "display": null,
       "flex": null,
       "flex_flow": null,
       "grid_area": null,
       "grid_auto_columns": null,
       "grid_auto_flow": null,
       "grid_auto_rows": null,
       "grid_column": null,
       "grid_gap": null,
       "grid_row": null,
       "grid_template_areas": null,
       "grid_template_columns": null,
       "grid_template_rows": null,
       "height": null,
       "justify_content": null,
       "justify_items": null,
       "left": null,
       "margin": null,
       "max_height": null,
       "max_width": null,
       "min_height": null,
       "min_width": null,
       "object_fit": null,
       "object_position": null,
       "order": null,
       "overflow": null,
       "padding": null,
       "right": null,
       "top": null,
       "visibility": null,
       "width": null
      }
     },
     "6e2299b87d1345849470f54cd324e06c": {
      "model_module": "jupyter-matplotlib",
      "model_module_version": "^0.11",
      "model_name": "ToolbarModel",
      "state": {
       "_current_action": "",
       "_dom_classes": [],
       "_model_module": "jupyter-matplotlib",
       "_model_module_version": "^0.11",
       "_model_name": "ToolbarModel",
       "_view_count": null,
       "_view_module": "jupyter-matplotlib",
       "_view_module_version": "^0.11",
       "_view_name": "ToolbarView",
       "button_style": "",
       "collapsed": true,
       "layout": "IPY_MODEL_cbb2a65acc57443e840e18eab84d695d",
       "orientation": "vertical",
       "tabbable": null,
       "toolitems": [
        [
         "Home",
         "Reset original view",
         "home",
         "home"
        ],
        [
         "Back",
         "Back to previous view",
         "arrow-left",
         "back"
        ],
        [
         "Forward",
         "Forward to next view",
         "arrow-right",
         "forward"
        ],
        [
         "Pan",
         "Left button pans, Right button zooms\nx/y fixes axis, CTRL fixes aspect",
         "arrows",
         "pan"
        ],
        [
         "Zoom",
         "Zoom to rectangle\nx/y fixes axis",
         "square-o",
         "zoom"
        ],
        [
         "Download",
         "Download plot",
         "floppy-o",
         "save_figure"
        ]
       ],
       "tooltip": null
      }
     },
     "70758eb5299245e7a4a41b82d7dae510": {
      "model_module": "@jupyter-widgets/base",
      "model_module_version": "2.0.0",
      "model_name": "LayoutModel",
      "state": {
       "_model_module": "@jupyter-widgets/base",
       "_model_module_version": "2.0.0",
       "_model_name": "LayoutModel",
       "_view_count": null,
       "_view_module": "@jupyter-widgets/base",
       "_view_module_version": "2.0.0",
       "_view_name": "LayoutView",
       "align_content": null,
       "align_items": null,
       "align_self": null,
       "border_bottom": null,
       "border_left": null,
       "border_right": null,
       "border_top": null,
       "bottom": null,
       "display": null,
       "flex": null,
       "flex_flow": null,
       "grid_area": null,
       "grid_auto_columns": null,
       "grid_auto_flow": null,
       "grid_auto_rows": null,
       "grid_column": null,
       "grid_gap": null,
       "grid_row": null,
       "grid_template_areas": null,
       "grid_template_columns": null,
       "grid_template_rows": null,
       "height": null,
       "justify_content": null,
       "justify_items": null,
       "left": null,
       "margin": null,
       "max_height": null,
       "max_width": null,
       "min_height": null,
       "min_width": null,
       "object_fit": null,
       "object_position": null,
       "order": null,
       "overflow": null,
       "padding": null,
       "right": null,
       "top": null,
       "visibility": null,
       "width": null
      }
     },
     "767087ff1a8146bb9de9498138243093": {
      "model_module": "jupyter-matplotlib",
      "model_module_version": "^0.11",
      "model_name": "MPLCanvasModel",
      "state": {
       "_cursor": "pointer",
       "_data_url": "data:image/png;base64,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",
       "_dom_classes": [],
       "_figure_label": "Figure",
       "_image_mode": "full",
       "_message": "",
       "_model_module": "jupyter-matplotlib",
       "_model_module_version": "^0.11",
       "_model_name": "MPLCanvasModel",
       "_rubberband_height": 0,
       "_rubberband_width": 0,
       "_rubberband_x": 0,
       "_rubberband_y": 0,
       "_size": [
        640.0,
        480.0
       ],
       "_view_count": null,
       "_view_module": "jupyter-matplotlib",
       "_view_module_version": "^0.11",
       "_view_name": "MPLCanvasView",
       "capture_scroll": false,
       "footer_visible": true,
       "header_visible": true,
       "layout": "IPY_MODEL_70758eb5299245e7a4a41b82d7dae510",
       "pan_zoom_throttle": 33.0,
       "resizable": true,
       "tabbable": null,
       "toolbar": "IPY_MODEL_3931275810234b8a841775438d4ffd7d",
       "toolbar_position": "left",
       "toolbar_visible": "fade-in-fade-out",
       "tooltip": null
      }
     },
     "817c0523b6a4404aaf6a49915c27cc98": {
      "model_module": "@jupyter-widgets/base",
      "model_module_version": "2.0.0",
      "model_name": "LayoutModel",
      "state": {
       "_model_module": "@jupyter-widgets/base",
       "_model_module_version": "2.0.0",
       "_model_name": "LayoutModel",
       "_view_count": null,
       "_view_module": "@jupyter-widgets/base",
       "_view_module_version": "2.0.0",
       "_view_name": "LayoutView",
       "align_content": null,
       "align_items": null,
       "align_self": null,
       "border_bottom": null,
       "border_left": null,
       "border_right": null,
       "border_top": null,
       "bottom": null,
       "display": null,
       "flex": null,
       "flex_flow": null,
       "grid_area": null,
       "grid_auto_columns": null,
       "grid_auto_flow": null,
       "grid_auto_rows": null,
       "grid_column": null,
       "grid_gap": null,
       "grid_row": null,
       "grid_template_areas": null,
       "grid_template_columns": null,
       "grid_template_rows": null,
       "height": null,
       "justify_content": null,
       "justify_items": null,
       "left": null,
       "margin": null,
       "max_height": null,
       "max_width": null,
       "min_height": null,
       "min_width": null,
       "object_fit": null,
       "object_position": null,
       "order": null,
       "overflow": null,
       "padding": null,
       "right": null,
       "top": null,
       "visibility": null,
       "width": null
      }
     },
     "919db777a3974f7d87fc17c873d372b6": {
      "model_module": "@jupyter-widgets/base",
      "model_module_version": "2.0.0",
      "model_name": "LayoutModel",
      "state": {
       "_model_module": "@jupyter-widgets/base",
       "_model_module_version": "2.0.0",
       "_model_name": "LayoutModel",
       "_view_count": null,
       "_view_module": "@jupyter-widgets/base",
       "_view_module_version": "2.0.0",
       "_view_name": "LayoutView",
       "align_content": null,
       "align_items": null,
       "align_self": null,
       "border_bottom": null,
       "border_left": null,
       "border_right": null,
       "border_top": null,
       "bottom": null,
       "display": null,
       "flex": null,
       "flex_flow": null,
       "grid_area": null,
       "grid_auto_columns": null,
       "grid_auto_flow": null,
       "grid_auto_rows": null,
       "grid_column": null,
       "grid_gap": null,
       "grid_row": null,
       "grid_template_areas": null,
       "grid_template_columns": null,
       "grid_template_rows": null,
       "height": null,
       "justify_content": null,
       "justify_items": null,
       "left": null,
       "margin": null,
       "max_height": null,
       "max_width": null,
       "min_height": null,
       "min_width": null,
       "object_fit": null,
       "object_position": null,
       "order": null,
       "overflow": null,
       "padding": null,
       "right": null,
       "top": null,
       "visibility": null,
       "width": null
      }
     },
     "97ece943ad924303b07672aeb063c8f9": {
      "model_module": "@jupyter-widgets/base",
      "model_module_version": "2.0.0",
      "model_name": "LayoutModel",
      "state": {
       "_model_module": "@jupyter-widgets/base",
       "_model_module_version": "2.0.0",
       "_model_name": "LayoutModel",
       "_view_count": null,
       "_view_module": "@jupyter-widgets/base",
       "_view_module_version": "2.0.0",
       "_view_name": "LayoutView",
       "align_content": null,
       "align_items": null,
       "align_self": null,
       "border_bottom": null,
       "border_left": null,
       "border_right": null,
       "border_top": null,
       "bottom": null,
       "display": null,
       "flex": null,
       "flex_flow": null,
       "grid_area": null,
       "grid_auto_columns": null,
       "grid_auto_flow": null,
       "grid_auto_rows": null,
       "grid_column": null,
       "grid_gap": null,
       "grid_row": null,
       "grid_template_areas": null,
       "grid_template_columns": null,
       "grid_template_rows": null,
       "height": null,
       "justify_content": null,
       "justify_items": null,
       "left": null,
       "margin": null,
       "max_height": null,
       "max_width": null,
       "min_height": null,
       "min_width": null,
       "object_fit": null,
       "object_position": null,
       "order": null,
       "overflow": null,
       "padding": null,
       "right": null,
       "top": null,
       "visibility": null,
       "width": null
      }
     },
     "adba373e892944f9a336479aeb565342": {
      "model_module": "jupyter-matplotlib",
      "model_module_version": "^0.11",
      "model_name": "ToolbarModel",
      "state": {
       "_current_action": "",
       "_dom_classes": [],
       "_model_module": "jupyter-matplotlib",
       "_model_module_version": "^0.11",
       "_model_name": "ToolbarModel",
       "_view_count": null,
       "_view_module": "jupyter-matplotlib",
       "_view_module_version": "^0.11",
       "_view_name": "ToolbarView",
       "button_style": "",
       "collapsed": true,
       "layout": "IPY_MODEL_056fa79052864c238a211d70d00986f8",
       "orientation": "vertical",
       "tabbable": null,
       "toolitems": [
        [
         "Home",
         "Reset original view",
         "home",
         "home"
        ],
        [
         "Back",
         "Back to previous view",
         "arrow-left",
         "back"
        ],
        [
         "Forward",
         "Forward to next view",
         "arrow-right",
         "forward"
        ],
        [
         "Pan",
         "Left button pans, Right button zooms\nx/y fixes axis, CTRL fixes aspect",
         "arrows",
         "pan"
        ],
        [
         "Zoom",
         "Zoom to rectangle\nx/y fixes axis",
         "square-o",
         "zoom"
        ],
        [
         "Download",
         "Download plot",
         "floppy-o",
         "save_figure"
        ]
       ],
       "tooltip": null
      }
     },
     "c72f6a8b08194655815a0bf60da74e0a": {
      "model_module": "@jupyter-widgets/base",
      "model_module_version": "2.0.0",
      "model_name": "LayoutModel",
      "state": {
       "_model_module": "@jupyter-widgets/base",
       "_model_module_version": "2.0.0",
       "_model_name": "LayoutModel",
       "_view_count": null,
       "_view_module": "@jupyter-widgets/base",
       "_view_module_version": "2.0.0",
       "_view_name": "LayoutView",
       "align_content": null,
       "align_items": null,
       "align_self": null,
       "border_bottom": null,
       "border_left": null,
       "border_right": null,
       "border_top": null,
       "bottom": null,
       "display": null,
       "flex": null,
       "flex_flow": null,
       "grid_area": null,
       "grid_auto_columns": null,
       "grid_auto_flow": null,
       "grid_auto_rows": null,
       "grid_column": null,
       "grid_gap": null,
       "grid_row": null,
       "grid_template_areas": null,
       "grid_template_columns": null,
       "grid_template_rows": null,
       "height": null,
       "justify_content": null,
       "justify_items": null,
       "left": null,
       "margin": null,
       "max_height": null,
       "max_width": null,
       "min_height": null,
       "min_width": null,
       "object_fit": null,
       "object_position": null,
       "order": null,
       "overflow": null,
       "padding": null,
       "right": null,
       "top": null,
       "visibility": null,
       "width": null
      }
     },
     "ca3d263d644147919ca9d014c07aea71": {
      "model_module": "jupyter-matplotlib",
      "model_module_version": "^0.11",
      "model_name": "MPLCanvasModel",
      "state": {
       "_cursor": "pointer",
       "_data_url": "data:image/png;base64,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",
       "_dom_classes": [],
       "_figure_label": "Figure",
       "_image_mode": "full",
       "_message": "",
       "_model_module": "jupyter-matplotlib",
       "_model_module_version": "^0.11",
       "_model_name": "MPLCanvasModel",
       "_rubberband_height": 0,
       "_rubberband_width": 0,
       "_rubberband_x": 0,
       "_rubberband_y": 0,
       "_size": [
        640.0,
        480.0
       ],
       "_view_count": null,
       "_view_module": "jupyter-matplotlib",
       "_view_module_version": "^0.11",
       "_view_name": "MPLCanvasView",
       "capture_scroll": false,
       "footer_visible": true,
       "header_visible": true,
       "layout": "IPY_MODEL_f40a4de2c05446178fcbba2a37ff78ea",
       "pan_zoom_throttle": 33.0,
       "resizable": true,
       "tabbable": null,
       "toolbar": "IPY_MODEL_adba373e892944f9a336479aeb565342",
       "toolbar_position": "left",
       "toolbar_visible": "fade-in-fade-out",
       "tooltip": null
      }
     },
     "cbb2a65acc57443e840e18eab84d695d": {
      "model_module": "@jupyter-widgets/base",
      "model_module_version": "2.0.0",
      "model_name": "LayoutModel",
      "state": {
       "_model_module": "@jupyter-widgets/base",
       "_model_module_version": "2.0.0",
       "_model_name": "LayoutModel",
       "_view_count": null,
       "_view_module": "@jupyter-widgets/base",
       "_view_module_version": "2.0.0",
       "_view_name": "LayoutView",
       "align_content": null,
       "align_items": null,
       "align_self": null,
       "border_bottom": null,
       "border_left": null,
       "border_right": null,
       "border_top": null,
       "bottom": null,
       "display": null,
       "flex": null,
       "flex_flow": null,
       "grid_area": null,
       "grid_auto_columns": null,
       "grid_auto_flow": null,
       "grid_auto_rows": null,
       "grid_column": null,
       "grid_gap": null,
       "grid_row": null,
       "grid_template_areas": null,
       "grid_template_columns": null,
       "grid_template_rows": null,
       "height": null,
       "justify_content": null,
       "justify_items": null,
       "left": null,
       "margin": null,
       "max_height": null,
       "max_width": null,
       "min_height": null,
       "min_width": null,
       "object_fit": null,
       "object_position": null,
       "order": null,
       "overflow": null,
       "padding": null,
       "right": null,
       "top": null,
       "visibility": null,
       "width": null
      }
     },
     "f40a4de2c05446178fcbba2a37ff78ea": {
      "model_module": "@jupyter-widgets/base",
      "model_module_version": "2.0.0",
      "model_name": "LayoutModel",
      "state": {
       "_model_module": "@jupyter-widgets/base",
       "_model_module_version": "2.0.0",
       "_model_name": "LayoutModel",
       "_view_count": null,
       "_view_module": "@jupyter-widgets/base",
       "_view_module_version": "2.0.0",
       "_view_name": "LayoutView",
       "align_content": null,
       "align_items": null,
       "align_self": null,
       "border_bottom": null,
       "border_left": null,
       "border_right": null,
       "border_top": null,
       "bottom": null,
       "display": null,
       "flex": null,
       "flex_flow": null,
       "grid_area": null,
       "grid_auto_columns": null,
       "grid_auto_flow": null,
       "grid_auto_rows": null,
       "grid_column": null,
       "grid_gap": null,
       "grid_row": null,
       "grid_template_areas": null,
       "grid_template_columns": null,
       "grid_template_rows": null,
       "height": null,
       "justify_content": null,
       "justify_items": null,
       "left": null,
       "margin": null,
       "max_height": null,
       "max_width": null,
       "min_height": null,
       "min_width": null,
       "object_fit": null,
       "object_position": null,
       "order": null,
       "overflow": null,
       "padding": null,
       "right": null,
       "top": null,
       "visibility": null,
       "width": null
      }
     }
    },
    "version_major": 2,
    "version_minor": 0
   }
  }
 },
 "nbformat": 4,
 "nbformat_minor": 4
}
