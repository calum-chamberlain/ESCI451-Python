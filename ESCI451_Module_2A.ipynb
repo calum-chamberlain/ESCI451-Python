{
 "cells": [
  {
   "cell_type": "markdown",
   "metadata": {},
   "source": [
    "# Introduction to Python for Earth Scientists\n",
    "\n",
    "These notebooks have been developed by Calum Chamberlain, Finnigan Illsley-Kemp and John Townend at [Victoria University of Wellington-Te Herenga Waka](https://www.wgtn.ac.nz) for use by Earth Science graduate students. \n",
    "\n",
    "The notebooks cover material that we think will be of particular benefit to those students with little or no previous experience of computer-based data analysis. We presume very little background in command-line or code-based computing, and have compiled this material with an emphasis on general tasks that a grad student might encounter on a daily basis. \n",
    "\n",
    "In 2022, this material will be delivered at the start of Trimester 1 in conjunction with [ESCI451 Active Earth](https://www.wgtn.ac.nz/courses/esci/451/2022/offering?crn=32176). Space and pandemic alert levels permitting, interested students not enrolled in ESCI451 are encouraged to come along too but please contact Calum, Finn, or John first.\n",
    "\n",
    "| Notebook | Contents | Data |\n",
    "| --- | --- | --- |\n",
    "| [1A](ESCI451_Module_1A.ipynb) | Introduction to programming, Python, and Jupyter notebooks | - |\n",
    "| [1B](ESCI451_Module_1B.ipynb) | Basic data types and variables, getting data, and plotting with Matplotlib | Geodetic positions |\n",
    "| **[2A](ESCI451_Module_2A.ipynb)** | **Logic, more complex plotting, introduction to Numpy** | **Geodetic positions; DFDP-2B temperatures** |\n",
    "| [2B](ESCI451_Module_2B.ipynb) | Using Pandas to load, peruse and plot data | Earthquake catalogue  |\n",
    "| [3A](ESCI451_Module_3A.ipynb) | Working with Pandas dataframes | Geochemical data set; GNSS data |\n",
    "| [3B](ESCI451_Module_3B.ipynb) | Simple time series analysis using Pandas | Historical temperature records |\n",
    "| [4A](ESCI451_Module_4A.ipynb) | Making maps with PyGMT | Earthquake catalogue |\n",
    "| [4B](ESCI451_Module_4B.ipynb) | Gridded data and vectors | Ashfall data and GNSS |\n",
    "\n",
    "The content may change in response to students' questions or current events. Each of the four modules has been designed to take about three hours, with a short break between each of the two parts."
   ]
  },
  {
   "cell_type": "markdown",
   "metadata": {},
   "source": [
    "# This notebook\n",
    "\n",
    "1. Logic\n",
    "   - Looping\n",
    "   - Functions\n",
    "   - Classes\n",
    "2. More plotting using Matplotlib\n",
    "   - Customising plots\n",
    "   - Using style sheets\n",
    "   - Plotting uncertainties\n",
    "3. An introduction to NumPy\n",
    "   - Speed\n",
    "   - Reading data from a text file into a NumPy array\n",
    "   - Indexing and slicing NumPy arrays\n",
    "   - Doing maths with an array\n",
    "   - Saving data to a text file"
   ]
  },
  {
   "cell_type": "markdown",
   "metadata": {},
   "source": [
    "# Logic\n",
    "\n",
    "<img alt=\"xkcd automation\" align=\"right\" style=\"width:40%\" src=\"https://imgs.xkcd.com/comics/automation.png\">\n",
    "\n",
    "One of the main goals of programming is to automate things. The main reasons for this are:\n",
    "\n",
    "1. **Doing dull things manually is boring**: You, a highly trained scientist, should be doing something more worthwhile than moving decimal points in spreadsheets;\n",
    "2. **Reproducibility**: someone should be able to take what you have done and re-do it, without your \"fudging\". The more your \"expert opinion\" is used to generate a result, the less trust-worthy that result is.\n",
    "3. **Safety**: you will cock something up (likely many things, that is what learning is about) while doing your science; if you write a program to do the thing, and write it well, you should just have to make minor adjustments to fix the issue and re-run it, rather than having to re-do all the boring work (see 1).\n",
    "   \n",
    "Sometimes automation takes ages... you will learn at some point (or not in my case) what the most efficient use of your time is (see comic).\n",
    "   \n",
    "To be able to automate things, you need to understand some basic computer logic.  These concepts are pretty much universal.  In this notebook we will introduce:\n",
    "\n",
    "1. For loops\n",
    "2. If/else statements\n",
    "3. While loops\n",
    "4. Sorting lists\n",
    "\n",
    "We will also showcase some niceties/nuances that Python has for these."
   ]
  },
  {
   "cell_type": "markdown",
   "metadata": {},
   "source": [
    "## Looping\n",
    "\n",
    "There are two main ways to loop in Python, `for` loops and `while` loops.  You will likely find yourself using\n",
    "`for` loops more often than `while` loops, but we will introduce both. the main difference is that `for` loops\n",
    "iterate through a range of variables, whereas `while` loops operate repeatedly until some condition is met.\n",
    "We will talk about conditions in the `if`/`else` section, before getting onto `while` loops.\n",
    "\n",
    "The following two loops are equivalent, but the `for` loop is more expressive and usually safer (`while` loops\n",
    "are the cause of many infinite loops...):"
   ]
  },
  {
   "cell_type": "code",
   "execution_count": null,
   "metadata": {},
   "outputs": [],
   "source": [
    "for i in range(5):\n",
    "    print(i)"
   ]
  },
  {
   "cell_type": "code",
   "execution_count": null,
   "metadata": {},
   "outputs": [],
   "source": [
    "i = 0\n",
    "while i < 5:\n",
    "    print(i)\n",
    "    i += 1"
   ]
  },
  {
   "cell_type": "markdown",
   "metadata": {},
   "source": [
    "## `for` loops\n",
    "\n",
    "`for` loops allow us to iterate through some *iterable*. Often this *iterable* is a `list`, but it doesn't have to be (the `range` function above creates a `range` object, which is a type of [sequence](https://docs.python.org/3/library/stdtypes.html#typesseq)).\n",
    "\n",
    "If we have any `list` and we want to apply the same process to every element in that list, we can use a `for` loop (there are better/faster ways to do this for numeric types using **numpy**, and we will showcase those in the [numpy](4-Numpy-introduction.ipynb) notebook).\n",
    "\n",
    "In Python, `for` loops start with:\n",
    "```python\n",
    "for variable in iterable:\n",
    "    do_something\n",
    "```\n",
    "where `variable` is a newly defined variable that equates to each element of the `iterable` in turn. At the end of the loop `variable` will be the value of `iterable[-1]`. `iterable` is something that can be iterated over.  The `for` and `in` are Python *keywords* that Python knows how to interpret. The colon (`:`) at the end of the `for` line shows that that statement has finished.\n",
    "\n",
    "All the statements that should be implemented within the loop **must** be indented, this indentation *should* be 4 spaces (not a tab).  \n",
    "\n",
    "**Never mix tabs and spaces!**  \n",
    "\n",
    "When the indentation ends, the loop ends.\n",
    "\n",
    "For example, say we wanted to make a list of word lengths for a given sentence:"
   ]
  },
  {
   "cell_type": "code",
   "execution_count": null,
   "metadata": {},
   "outputs": [],
   "source": [
    "sentence = \"Monty Python and the Holy Grail\"\n",
    "words = sentence.split(\" \")\n",
    "\n",
    "word_lengths = []  # Define an empty list that we will append to\n",
    "for word in words:\n",
    "    word_length = len(word)\n",
    "    print(f\"{word} is {word_length} letters long\")\n",
    "    word_lengths.append(word_length)\n",
    "\n",
    "print(word_lengths)"
   ]
  },
  {
   "cell_type": "markdown",
   "metadata": {},
   "source": [
    "## `if`/`else` conditions\n",
    "\n",
    "Switches or conditional statements allow a programmer to control the flow of a program, and react to events.\n",
    "\n",
    "The basic syntax of conditional statements in Python is:\n",
    "\n",
    "```python\n",
    "if condition:\n",
    "    do_something()\n",
    "elif another_condition:\n",
    "    do_something_else()\n",
    "else:\n",
    "    do_anything()\n",
    "```\n",
    "\n",
    "As usual, indentation is used to show the start and end of sections of code, and colons are used to show the\n",
    "end of a statement.  The three keywords here, `if`, `elif` and `else` do the following:\n",
    "- `if` evaluates whether `condition` is `True`, and runs the section of code indented beneath it (`do_something()`) if `condition` is `True`;\n",
    "- `elif` is evaluated if `condition` is `False`. This is a second `if` conditional that evaluates whether `another_condition` is `True`. The function `do_something_else` is only run if `condition` is `False` and `another_condition` is `True`.\n",
    "- `else` catches any cases where the previous `if` statements evaluated to False. `do_anything` is run when both `condition` and `another_condition` are `False`.\n",
    "  \n",
    "This is a little confusing to write, so it probably doesn't make much sense to read! Lets have a look at an example.  First note that mathematical conditions work in Python:\n",
    "- `a == b` is `True` when the values of `a` and `b` are the same\n",
    "- `a < b` is `True` when the value of `a` is less than the value of `b`\n",
    "- ... The expected things happen for `>`, `>=` and `<=`. These symbols are known as *comparison operators* in Python."
   ]
  },
  {
   "cell_type": "code",
   "execution_count": null,
   "metadata": {},
   "outputs": [],
   "source": [
    "a = 5\n",
    "\n",
    "# This is a pretty dumb example! But we will do some more fun things in a minute\n",
    "if a < 5:\n",
    "    print(\"That is a small number, less than 5\")\n",
    "elif a > 5:\n",
    "    print(\"That is a larger number, greater than 5\")\n",
    "else:\n",
    "    print(\"Your number must be equal to 5!\")"
   ]
  },
  {
   "cell_type": "markdown",
   "metadata": {},
   "source": [
    "What if you want to check multiple conditions?! You could write something like:"
   ]
  },
  {
   "cell_type": "code",
   "execution_count": null,
   "metadata": {},
   "outputs": [],
   "source": [
    "a = 3\n",
    "if a < 5:\n",
    "    if a >= 2:\n",
    "        print(\"Your number is between two and five!\")"
   ]
  },
  {
   "cell_type": "markdown",
   "metadata": {},
   "source": [
    "But that is a bit excessive - you just want to know if a is less than five `and` greater than or equal to 2!\n",
    "\n",
    "Python is nice and uses keywords, so this is as simple as:"
   ]
  },
  {
   "cell_type": "code",
   "execution_count": null,
   "metadata": {},
   "outputs": [],
   "source": [
    "if a < 5 and a >= 2:\n",
    "    print(\"Bonza!\")"
   ]
  },
  {
   "cell_type": "markdown",
   "metadata": {},
   "source": [
    "As well as the `and` conditional keyword there are others:\n",
    "- `or` for checking whether one of multiple conditions is met;\n",
    "- `in` for testing if something is within another object, useful for checking if something is in a `list`;\n",
    "- `is` tests whether something is the same as another thing, rather than just testing the value;\n",
    "- `not` reverses any test.\n",
    "\n",
    "Some examples:"
   ]
  },
  {
   "cell_type": "code",
   "execution_count": null,
   "metadata": {},
   "outputs": [],
   "source": [
    "a = 1\n",
    "b = 3\n",
    "c = 42\n",
    "\n",
    "# Example of an or conditional\n",
    "a > b or a > c"
   ]
  },
  {
   "cell_type": "code",
   "execution_count": null,
   "metadata": {},
   "outputs": [],
   "source": [
    "a > b or a < c"
   ]
  },
  {
   "cell_type": "code",
   "execution_count": null,
   "metadata": {},
   "outputs": [],
   "source": [
    "a > b and a < c"
   ]
  },
  {
   "cell_type": "code",
   "execution_count": null,
   "metadata": {},
   "outputs": [],
   "source": [
    "a < b and a < c"
   ]
  },
  {
   "cell_type": "code",
   "execution_count": null,
   "metadata": {},
   "outputs": [],
   "source": [
    "a < b and not a > c"
   ]
  },
  {
   "cell_type": "code",
   "execution_count": null,
   "metadata": {},
   "outputs": [],
   "source": [
    "d = [1, 4, 12]\n",
    "\n",
    "a in d"
   ]
  },
  {
   "cell_type": "code",
   "execution_count": null,
   "metadata": {},
   "outputs": [],
   "source": [
    "c in d"
   ]
  },
  {
   "cell_type": "markdown",
   "metadata": {},
   "source": [
    "## `while` loops:\n",
    "\n",
    "While loops are helpful for iterating through some list until you reach some state, for example, if you want to find the first\n",
    "instance of something in a list:"
   ]
  },
  {
   "cell_type": "code",
   "execution_count": null,
   "metadata": {},
   "outputs": [],
   "source": [
    "sentence = \"The cat sat on the mat then jumped across the dog\"\n",
    "words = sentence.split(\" \")\n",
    "print(words)\n",
    "\n",
    "i = 0\n",
    "word = words[i]\n",
    "while not word == \"mat\":\n",
    "    i += 1\n",
    "    word = words[i]\n",
    "print(f\"Found {word} at index {i}\")"
   ]
  },
  {
   "cell_type": "markdown",
   "metadata": {},
   "source": [
    "Use `while` loops with caution! If the condition is never `False`, then you will end up in an infinite loop! Ahhh!\n",
    "\n",
    "For example, the following code will never complete:\n",
    "```python\n",
    "i = 0\n",
    "while i >= 0:\n",
    "    print(i)\n",
    "    i += 1\n",
    "```"
   ]
  },
  {
   "cell_type": "markdown",
   "metadata": {},
   "source": [
    "# Functions and classes\n",
    "\n",
    "<img alt=\"xkcd Is it worth it?\" align=\"right\" style=\"width:40%\" src=https://imgs.xkcd.com/comics/is_it_worth_the_time.png>\n",
    "\n",
    "A wise geophysics technician once told me that the point of functions and classes is to write the language you wish you had. Ideally you could have code that looks like:\n",
    "\n",
    "```python\n",
    "data = read_some_data()\n",
    "processed_data = do_the_mahi(data)\n",
    "paper_draft = make_manuscript(processed_data)\n",
    "nobel_prize = submit_and_review(paper_draft)\n",
    "```\n",
    "\n",
    "It doesn't quite work like that, but functions are there to make your life easier! The main reason they make your life easier boils down to the programming principle of [DRY (Don't Repeat Yourself)](https://en.wikipedia.org/wiki/Don%27t_repeat_yourself).\n",
    "\n",
    "\n",
    "In general you should solve a problem once, solve it well and reuse that solution. Duplication is waste, and solving a problem again introduces more sources of error.  Better still, if someone has solved your problem for you, don't solve it again (unless you think they are wrong). \n",
    "\n",
    "If you do have to solve the problem yourself, you should solve the problem first, and optimise later. A fast but incorrect solution is still wrong (and this is why **tests are important**)."
   ]
  },
  {
   "cell_type": "markdown",
   "metadata": {},
   "source": [
    "## Functions in Python\n",
    "\n",
    "Functions allow you to write some code with specified inputs do some work, and get a returned value (or not if you don't want to, remember, we can work in-place on variables). \n",
    "\n",
    "Lets say we want to work out the length of the third side of a right-angled triangle, we could (and should) write a function to do this.  In Python functions are declared with the following syntax:\n",
    "\n",
    "```python\n",
    "def function_name(argument_1, argument_2):\n",
    "    \"\"\" \n",
    "    This function does something. \n",
    "    \n",
    "    Parameters\n",
    "    ----------\n",
    "    argument_1\n",
    "        Some argument\n",
    "    argument_2\n",
    "        Another argument\n",
    "        \n",
    "    Returns\n",
    "    -------\n",
    "    Some value\n",
    "    \"\"\"\n",
    "    output = do_something(argument_1, argument_2)\n",
    "    return output\n",
    "```\n",
    "where `function_name` is a user-defined name for the function, `argument_1` and `argument_2` are values passed to the function and used by the function, `return` is a keyword argument showing that the function is ending and returning the value stored in `output`.  Note again that indentation is important, and that the `def ...` statement must end with a colon (`:`).\n",
    "\n",
    "The names for arguments do not need to be the same as the variables in the rest of your script, those variable names are only active within the scope of the function.  As with variable naming, functions should be named usefully, and their names should not be the same as any other function of variable.\n",
    "\n",
    "The text within the three quotes (`\"\"\" text \"\"\"`) serves to document the purpose of the function, what the arguments are, and what is returned.  It is good practice to document all functions so that you can easily understand what they are doing!\n",
    "\n",
    "The function below is our attempt at computing the length of the third side of a right-angled triangle:"
   ]
  },
  {
   "cell_type": "code",
   "execution_count": null,
   "metadata": {},
   "outputs": [],
   "source": [
    "def pythagorus(a, b):\n",
    "    \"\"\"\n",
    "    Compute the length of the third side of a right-angled triangle given two sides\n",
    "\n",
    "    Parameters\n",
    "    ----------\n",
    "    a\n",
    "        The length of one side\n",
    "    b\n",
    "        The length of the other side\n",
    "\n",
    "    Returns\n",
    "    -------\n",
    "    The length of the third side\n",
    "    \"\"\"\n",
    "    c = (a ** 2 + b ** 2) ** 0.5\n",
    "    return c"
   ]
  },
  {
   "cell_type": "code",
   "execution_count": null,
   "metadata": {},
   "outputs": [],
   "source": [
    "pythagorus(a=3, b=4)  # A simple pythagorean triple, useful little test-case!"
   ]
  },
  {
   "cell_type": "markdown",
   "metadata": {},
   "source": [
    "**Exercise:**\n",
    "\n",
    "Write a function to calculate the mean of a list of values."
   ]
  },
  {
   "cell_type": "code",
   "execution_count": null,
   "metadata": {},
   "outputs": [],
   "source": [
    "# Your code here."
   ]
  },
  {
   "cell_type": "markdown",
   "metadata": {},
   "source": [
    "## Classes\n",
    "\n",
    "I want to introduce you to classes here, but you probably won't write any for a while. You will interact with many though (everything in python is an object...) which is the main reason I want to show you them!\n",
    "\n",
    "Python is an [object-oriented](https://en.wikipedia.org/wiki/Object-oriented_programming) language.  Objects are things that can contain data (properties) alongside functions (methods) that operate on them. Everything in Python is an object, but some are less obvious than others.  Methods on objects are accessed using the following syntax:\n",
    "\n",
    "```python\n",
    "obj.method(arguments, ...)\n",
    "```\n",
    "\n",
    "Properties are accessed without the brackets, e.g.:\n",
    "\n",
    "```python\n",
    "obj.property\n",
    "```\n",
    "\n",
    "We have already seen the `.append` method on lists, similar attributes can be accessed in this way.\n",
    "\n",
    "In Python classes are declared using the following syntax:\n",
    "\n",
    "```python\n",
    "class ClassName():\n",
    "    \"\"\" \n",
    "    Some class.\n",
    "    \n",
    "    Parameters\n",
    "    ----------\n",
    "    arg_1\n",
    "        First value\n",
    "    arg_2\n",
    "        Second value    \n",
    "    \"\"\"\n",
    "    default_property = 42\n",
    "    \n",
    "    def __init__(self, arg_1, arg_2):\n",
    "        self.arg_1 = arg_1\n",
    "        self.arg_2 = arg_2\n",
    "        \n",
    "    def some_method(self, arg_3):\n",
    "        \"\"\"\n",
    "        Do something with the object and another argument.\n",
    "        \n",
    "        Parameters\n",
    "        ----------\n",
    "        arg_3\n",
    "            Some argument\n",
    "            \n",
    "        Returns\n",
    "        -------\n",
    "        Some output\n",
    "        \"\"\"\n",
    "        output = do_something(\n",
    "            self.arg_1, self.arg_2, self.default_property, arg_3)\n",
    "        return output\n",
    "```"
   ]
  },
  {
   "cell_type": "markdown",
   "metadata": {},
   "source": [
    "Lets make a class to hold an observation of strike and dip of a plane.  We should keep track of where the observation was made as well, so we will give it `latitude`, `longitude` and `elevation` attributes.\n",
    "\n",
    "In the class below we have added a *special* method called `__repr__` - this method is used by the the Python interpreter (the thing that converts your Python code into something the computer can actually understand) to work out how to format the string that comes from a `print` call. Generally methods that are of the form: `__method__` with double underscores are protected methods (also reffered to as \"dunder\" methods as a concatenation of \"double underscore\") that you don't call directly (e.g. you wouldn't usually run `obj.__repr__()`, you would just run `print(obj)`).\n",
    "\n",
    "Below is that simple class:"
   ]
  },
  {
   "cell_type": "code",
   "execution_count": null,
   "metadata": {},
   "outputs": [],
   "source": [
    "class StrikeDipObservation():\n",
    "    \"\"\"\n",
    "    Holder for Strike and Dip observations.\n",
    "\n",
    "    Parameters\n",
    "    ----------\n",
    "    strike\n",
    "        Strike of plane in degrees from north\n",
    "    dip\n",
    "        Dip of plane in degrees from horizontal, positive down\n",
    "    latitude\n",
    "        Latitude of observation in degrees\n",
    "    longitude\n",
    "        Longitude of observation in degrees\n",
    "    elevation\n",
    "        Elevation of observation in meters above sea level.\n",
    "    \"\"\"\n",
    "\n",
    "    def __init__(self, strike, dip, latitude, longitude, elevation):\n",
    "        self.strike = strike\n",
    "        self.dip = dip\n",
    "        self.latitude = latitude\n",
    "        self.longitude = longitude\n",
    "        self.elevation = elevation\n",
    "\n",
    "    def __repr__(self):\n",
    "        # This will make a nicely formatted print-string of out class\n",
    "        return (\n",
    "            f\"StrikeDipObservation(strike={self.strike}, dip={self.dip}, \"\n",
    "            f\"latitude={self.latitude}, longitude={self.longitude}, \"\n",
    "            f\"elevation={self.elevation})\")"
   ]
  },
  {
   "cell_type": "code",
   "execution_count": null,
   "metadata": {},
   "outputs": [],
   "source": [
    "plane_observation = StrikeDipObservation(0, 20, -42.0, 172.3, 1203)\n",
    "print(plane_observation)"
   ]
  },
  {
   "cell_type": "markdown",
   "metadata": {},
   "source": [
    "This is a nice, but pretty useless class.  Lets add some methods to get the plunge and trend of the pole to the plane, and the unit-vector that describes this pole:"
   ]
  },
  {
   "cell_type": "code",
   "execution_count": null,
   "metadata": {},
   "outputs": [],
   "source": [
    "# Class copied from above with extra methods!\n",
    "\n",
    "# We need to use some sine and cosine functions, which we can get\n",
    "# from Python's math package.\n",
    "import math\n",
    "\n",
    "\n",
    "class StrikeDipObservation():\n",
    "    \"\"\"\n",
    "    Holder for Strike and Dip observations.\n",
    "\n",
    "    Parameters\n",
    "    ----------\n",
    "    strike\n",
    "        Strike of plane in degrees from north\n",
    "    dip\n",
    "        Dip of plane in degrees from horizontal, positive down\n",
    "    latitude\n",
    "        Latitude of observation in degrees\n",
    "    longitude\n",
    "        Longitude of observation in degrees\n",
    "    elevation\n",
    "        Elevation of observation in meters above sea level.\n",
    "    \"\"\"\n",
    "\n",
    "    def __init__(self, strike, dip, latitude, longitude, elevation):\n",
    "        self.strike = strike\n",
    "        self.dip = dip\n",
    "        self.latitude = latitude\n",
    "        self.longitude = longitude\n",
    "        self.elevation = elevation\n",
    "\n",
    "    def __repr__(self):\n",
    "        # This will make a nicely formatted print-string of out class\n",
    "        return (\n",
    "            f\"StrikeDipObservation(strike={self.strike}, dip={self.dip}, \"\n",
    "            f\"latitude={self.latitude}, longitude={self.longitude}, \"\n",
    "            f\"elevation={self.elevation})\")\n",
    "\n",
    "    def plunge(self):\n",
    "        \"\"\" Get the plunge of the pole to the plane. \"\"\"\n",
    "        return 90.0 - self.dip\n",
    "\n",
    "    def trend(self):\n",
    "        \"\"\" Get the trend of the pole to the plane. \"\"\"\n",
    "        trend = self.strike - 90.0\n",
    "        # Ensure positive strike\n",
    "        if trend > 0:\n",
    "            return trend\n",
    "        return self.strike + 270.0\n",
    "\n",
    "    def unit_vector(self):\n",
    "        x = (math.sin(math.radians(self.trend())) *\n",
    "             math.cos(math.radians(self.plunge())))\n",
    "        y = (math.cos(math.radians(self.trend())) *\n",
    "             math.cos(math.radians(self.plunge())))\n",
    "        z = -1 * math.sin(math.radians(self.plunge()))\n",
    "        # Quick check\n",
    "        assert 1 - (math.sqrt(x ** 2 + y ** 2 + z ** 2)) < 0.0000001\n",
    "        return x, y, z"
   ]
  },
  {
   "cell_type": "code",
   "execution_count": null,
   "metadata": {},
   "outputs": [],
   "source": [
    "plane_observation = StrikeDipObservation(0, 20, -42.0, 172.3, 1203)\n",
    "print(plane_observation)"
   ]
  },
  {
   "cell_type": "code",
   "execution_count": null,
   "metadata": {},
   "outputs": [],
   "source": [
    "plane_observation.plunge()"
   ]
  },
  {
   "cell_type": "code",
   "execution_count": null,
   "metadata": {},
   "outputs": [],
   "source": [
    "plane_observation.trend()"
   ]
  },
  {
   "cell_type": "code",
   "execution_count": null,
   "metadata": {},
   "outputs": [],
   "source": [
    "plane_observation.unit_vector()"
   ]
  },
  {
   "cell_type": "markdown",
   "metadata": {},
   "source": [
    "<img alt=\"Logical Spok\" align=\"right\" style=\"width:20%\" src=https://memegenerator.net/img/instances/49566897.jpg>\n",
    "\n",
    "How very logical...\n",
    "\n",
    "You will encounter a range of objects if you continue to use Python, so it is important to understand the basic concept that an object can hold both *attributes* (in our case the values of strike, dip, latitude, longitude and elevation), as well as *methods* (in our case the plunge, trend and unit_vector methods). You probably won't have to write your own methods for a while, but they can be very useful for various things, not-least in explicitly allowing some actions to your data.\n",
    "\n",
    "That is it for now on functions and classes - we will write a few functions in the next few notebooks and we will interact with lots of classes (whether explicitly or implicitly). For now it is important that you know they exist, but I always find it easier to learn with some examples.\n",
    "\n",
    "And with that, lets get into some plotting!"
   ]
  },
  {
   "cell_type": "markdown",
   "metadata": {},
   "source": [
    "---\n",
    "\n",
    "# Some more plotting\n",
    "\n",
    "In the last notebook we looked at plotting a single data set and labelling the diagram in a helpful way. Next we'll look at how we can combine different data sets (here the three components of motion measured at PYGR) in a single set of axes.\n",
    "\n",
    "Remember, we first have to import any packages (notably Matplotlib in this case) that we are going to use. We also need to respecify the function we used previously to get the GNSS data from [GeoNet](https://www.geonet.org.nz).\n",
    "\n",
    "Now is also a good time to explain another line of code you may have seen: `%matplotlib widget`: this is simply a convenient way of telling Jupyter to display Matplotlib figures in an interactive way, so that they can be zoomed in on etc. Without that line, the Matplotlib output is (was? Jupyter has been updated and it depends on what version you have!) a static figure. Generally you should put that line near the top of your notebook if you want to use it."
   ]
  },
  {
   "cell_type": "code",
   "execution_count": null,
   "metadata": {},
   "outputs": [],
   "source": [
    "import matplotlib.pyplot as plt\n",
    "import requests  # This helps with web-requests\n",
    "import datetime  # Python's representation of dates and times.\n",
    "\n",
    "\n",
    "# The following block of code defines a function that we can use\n",
    "# as often as we like to get GNSS data for a particular station\n",
    "def get_gnss_for_station(\n",
    "        station: str,\n",
    "        fits_url: str = \"http://fits.geonet.org.nz/observation\",) -> dict:\n",
    "    \"\"\"\n",
    "    Get GNSS data from GeoNet for the station\n",
    "\n",
    "    Parameters\n",
    "    ----------\n",
    "    station\n",
    "        The name of the station you want to get data for\n",
    "    fits_url\n",
    "        URL of the FITS data service you want to query.\n",
    "\n",
    "    Returns\n",
    "    -------\n",
    "    Dictionary with keys:\n",
    "        time \n",
    "            list of timestamps of observations\n",
    "        north\n",
    "            list of offsets in mm in the north direction\n",
    "        east\n",
    "            list of offsets in mm in the east direction\n",
    "        up          \n",
    "            list of vertical offsets in mm\n",
    "        north_error\n",
    "            list of errors in mm for north\n",
    "        east_error\n",
    "            list of errors in mm for east\n",
    "        up_error\n",
    "            list of erros in mm for up\n",
    "\n",
    "    \"\"\"\n",
    "    # Initialise an empty dictionary that we will append to\n",
    "    out = dict(time=[],\n",
    "               north=[],\n",
    "               east=[],\n",
    "               up=[],\n",
    "               north_error=[],\n",
    "               east_error=[],\n",
    "               up_error=[])\n",
    "    for channel in {\"north\", \"east\", \"up\"}:\n",
    "        parameters = {\"typeID\": channel[0], \"siteID\": station}\n",
    "        response = requests.get(fits_url, params=parameters)\n",
    "        assert response.status_code == 200, \"Bad request\"\n",
    "        payload = response.content.decode(\"utf-8\").split(\"\\n\")\n",
    "        # payload is a csv with header\n",
    "        # This is a list-comprehension, a type of fast, one-line for loop\n",
    "        payload = [p.split(',') for p in payload]\n",
    "        # Check that this is what we expect\n",
    "        assert payload[0][0] == 'date-time', \"Unkown format\"\n",
    "        assert len(payload[0]) == 3, \"Unknown format\"\n",
    "        times, displacements, errors = zip(*[\n",
    "            (datetime.datetime.strptime(p[0], '%Y-%m-%dT%H:%M:%S.%fZ'),\n",
    "             float(p[1]), float(p[2])) for p in payload[1:-1]])\n",
    "        if len(out[\"time\"]) == 0:\n",
    "            out.update({\"time\": times})\n",
    "        else:\n",
    "            assert out[\"time\"] == times, \"Different time sampling for different components.\"\n",
    "        out.update({channel: displacements, f\"{channel}_error\": errors})\n",
    "    return out"
   ]
  },
  {
   "cell_type": "markdown",
   "metadata": {},
   "source": [
    "Next we'll do something similar to the last exercise but use a `loop` to avoid writing the same code three times."
   ]
  },
  {
   "cell_type": "code",
   "execution_count": null,
   "metadata": {},
   "outputs": [],
   "source": [
    "pygr_data = get_gnss_for_station(station=\"PYGR\")\n",
    "fig, ax = plt.subplots()\n",
    "# This is the loop\n",
    "for component in [\"north\", \"east\", \"up\"]:\n",
    "    ax.plot(pygr_data[\"time\"], pygr_data[component],\n",
    "            label=component)\n",
    "ax.set_xlabel(\"Sample time (UTC)\")\n",
    "ax.set_ylabel(\"Offset in mm\")\n",
    "ax.set_title(\"GNSS offsets for PYGR\")\n",
    "ax.legend()\n",
    "plt.show()"
   ]
  },
  {
   "cell_type": "markdown",
   "metadata": {},
   "source": [
    "The step shows up on all components! Who would have thought it...?\n",
    "\n",
    "## Customizing plots\n",
    "\n",
    "Matplotlib automatically plots each line in a different colour, which is great! But maybe you don't like the\n",
    "default colours? We can specify colours, and loop through them as well if we want:"
   ]
  },
  {
   "cell_type": "code",
   "execution_count": null,
   "metadata": {},
   "outputs": [],
   "source": [
    "fig, ax = plt.subplots()\n",
    "# Using the `zip` command we can iterate through pairs of lists.\n",
    "for component, colour in zip([\"north\", \"east\", \"up\"], [\"black\", \"red\", \"green\"]):\n",
    "    # We add the color keyword argumet to set the colour of the line.\n",
    "    ax.plot(pygr_data[\"time\"], pygr_data[component],\n",
    "            label=component, color=colour)\n",
    "ax.set_xlabel(\"Sample time (UTC)\")\n",
    "ax.set_ylabel(\"Offset in mm\")\n",
    "ax.set_title(\"GNSS offsets for PYGR\")\n",
    "ax.legend()\n",
    "plt.show()"
   ]
  },
  {
   "cell_type": "markdown",
   "metadata": {},
   "source": [
    "You will note that Matplotlib uses American spelling. This is the case with pretty much all aspects of the Python world, and you'll just have to get used to it. (Of course, you're free to use whatever spelling conventions you like when naming variables, as long as you adhere to the general guidelines we've mentioned previously...)\n",
    "\n",
    "## Using style sheets\n",
    "You can control all sorts of other style aspects of Matplotlib. One of the simplest ways is to change the `stylesheet` that matplotlib is using.  There are quite a few of them, with  [examples here](https://matplotlib.org/3.1.1/gallery/style_sheets/style_sheets_reference.html). Try experimenting with different options to see which ones you prefer."
   ]
  },
  {
   "cell_type": "code",
   "execution_count": null,
   "metadata": {},
   "outputs": [],
   "source": [
    "plt.style.use(\"tableau-colorblind10\")\n",
    "fig, ax = plt.subplots()\n",
    "for component in [\"north\", \"east\", \"up\"]:\n",
    "    ax.plot(pygr_data[\"time\"], pygr_data[component],\n",
    "            label=component)\n",
    "ax.set_xlabel(\"Sample time (UTC)\")\n",
    "ax.set_ylabel(\"Offset in mm\")\n",
    "ax.set_title(\"GNSS offsets for PYGR\")\n",
    "ax.legend()\n",
    "plt.show()"
   ]
  },
  {
   "cell_type": "markdown",
   "metadata": {},
   "source": [
    "Nice."
   ]
  },
  {
   "cell_type": "markdown",
   "metadata": {},
   "source": [
    "Something you might find yourself wanting to do now and again is to focus on only part of your data. One way of doing that is to just change the limits of the axes:"
   ]
  },
  {
   "cell_type": "code",
   "execution_count": null,
   "metadata": {},
   "outputs": [],
   "source": [
    "fig, ax = plt.subplots()\n",
    "for component in [\"north\", \"east\", \"up\"]:\n",
    "    ax.plot(pygr_data[\"time\"], pygr_data[component],\n",
    "            label=component)\n",
    "ax.set_xlim(datetime.datetime(2009, 1, 1), datetime.datetime(2011, 1, 1))\n",
    "ax.set_xlabel(\"Sample time (UTC)\")\n",
    "ax.set_ylabel(\"Offset in mm\")\n",
    "ax.set_title(\"GNSS offsets for PYGR\")\n",
    "ax.legend()\n",
    "plt.show()"
   ]
  },
  {
   "cell_type": "markdown",
   "metadata": {},
   "source": [
    "We will look at some other methods in the next notebook when we encounter the infamous `Pandas` dataframe...\n",
    "\n",
    "So far we have plotted data as a continuous line.  For continuous data like this, this is fine, but what if we want\n",
    "to look at discrete samples?\n",
    "\n",
    "In matplotlib you can make a scatter plot by specifying a marker (in this case we are using a **o** symbol, which gives a circle),\n",
    "and setting the `linestyle` to `\"None\"` (or perhaps `dotted` or even `dashed`, if you want to retain a bit of a line). You can achieve the same result using `ax.scatter(x, y, marker=\"o\")`,\n",
    "but we will use the `.plot` method here because we need the arguments later..."
   ]
  },
  {
   "cell_type": "code",
   "execution_count": null,
   "metadata": {},
   "outputs": [],
   "source": [
    "fig, ax = plt.subplots()\n",
    "for component in [\"north\", \"east\", \"up\"]:\n",
    "    ax.plot(pygr_data[\"time\"], pygr_data[component],\n",
    "            marker=\"o\", markersize=4, linestyle=\"dotted\", color='navy',\n",
    "            label=component)\n",
    "ax.set_xlim(datetime.datetime(2009, 1, 1), datetime.datetime(2011, 1, 1))\n",
    "ax.set_xlabel(\"Sample time (UTC)\")\n",
    "ax.set_ylabel(\"Offset in mm\")\n",
    "ax.set_title(\"GNSS offsets for PYGR\")\n",
    "ax.legend()\n",
    "plt.show()"
   ]
  },
  {
   "cell_type": "markdown",
   "metadata": {},
   "source": [
    "We can immediately see that there is a gap in the data in early 2010 that wasn't obvious in our previous plots, which is helpful reminder that \"continuous\" data are not always as continuous as they seem.\n",
    "\n",
    "## Plotting uncertainties\n",
    "\n",
    "The data that we are plotting are daily solutions of position relative to some reference point.  These daily solutions are\n",
    "essentially averages (with quite a lot of extra noise reduction and weighting) of samples taken at much higher frequencies.\n",
    "These positions are provided with error estimations: you should always plot your uncertainty to ensure you are not\n",
    "over-interpreting features.  Lets plot some error bars on these points.\n",
    "\n",
    "Remember those `marker` and `linestyle` arguments? We need them here as well."
   ]
  },
  {
   "cell_type": "code",
   "execution_count": null,
   "metadata": {},
   "outputs": [],
   "source": [
    "fig, ax = plt.subplots()\n",
    "for component in [\"north\", \"east\", \"up\"]:\n",
    "    ax.errorbar(pygr_data[\"time\"], pygr_data[component],\n",
    "                yerr=pygr_data[f\"{component}_error\"],\n",
    "                marker=\"+\", linestyle=\"None\",\n",
    "                label=component)\n",
    "ax.set_xlim(datetime.datetime(2009, 1, 1), datetime.datetime(2011, 1, 1))\n",
    "ax.set_xlabel(\"Sample time (UTC)\")\n",
    "ax.set_ylabel(\"Offset in mm\")\n",
    "ax.set_title(\"GNSS offsets for PYGR\")\n",
    "ax.legend()\n",
    "plt.show()"
   ]
  },
  {
   "cell_type": "markdown",
   "metadata": {},
   "source": [
    "They are plotted, but hard to see, lets plot just the vertical (up) component between 2009/06 and 2009/08:"
   ]
  },
  {
   "cell_type": "code",
   "execution_count": null,
   "metadata": {},
   "outputs": [],
   "source": [
    "fig, ax = plt.subplots()\n",
    "ax.errorbar(pygr_data[\"time\"], pygr_data[\"up\"],\n",
    "            yerr=pygr_data[\"up_error\"],\n",
    "            marker=\"+\", linestyle=\"None\",\n",
    "            label=component, color=\"green\")\n",
    "ax.set_xlim(datetime.datetime(2009, 6, 1), datetime.datetime(2009, 10, 1))\n",
    "ax.set_xlabel(\"Sample time (UTC)\")\n",
    "ax.set_ylabel(\"Offset in mm\")\n",
    "ax.set_title(\"GNSS offsets for PYGR\")\n",
    "ax.legend()\n",
    "plt.show()"
   ]
  },
  {
   "cell_type": "markdown",
   "metadata": {},
   "source": [
    "This has kept the y-limits the same as for the whole dataset, meaning that we still can't see much! Let's adjust those\n",
    "y limits in the same way that we adjusted the x-limits."
   ]
  },
  {
   "cell_type": "code",
   "execution_count": null,
   "metadata": {},
   "outputs": [],
   "source": [
    "fig, ax = plt.subplots()\n",
    "ax.errorbar(pygr_data[\"time\"], pygr_data[\"up\"],\n",
    "            yerr=pygr_data[\"up_error\"],\n",
    "            marker=\"+\", linestyle=\"None\",\n",
    "            label=component, color=\"green\")\n",
    "ax.set_xlim(datetime.datetime(2009, 6, 1), datetime.datetime(2009, 10, 1))\n",
    "ax.set_ylim(-150, 0)\n",
    "ax.set_xlabel(\"Sample time (UTC)\")\n",
    "ax.set_ylabel(\"Offset in mm\")\n",
    "ax.set_title(\"GNSS offsets for PYGR\")\n",
    "ax.legend()\n",
    "plt.show()"
   ]
  },
  {
   "cell_type": "markdown",
   "metadata": {},
   "source": [
    "Great, we can see that there is a large error for a particular point there.  For those who haven't guessed it yet, this is the day of the [Dusky Sound earthquake](https://www.geonet.org.nz/earthquake/story/3124785). The errors are largest here because the displacement is a) large and b) not instantaneous. There are components of co-seismic and post-seismic slip in this one data-point that effectively smear the motion. \n",
    "\n",
    "These daily GPS solutions are not *true* measurements, rather a model of the displacements based on data. To use these data to model slip on faults, or other phenomena models are often built on top of these daily solutions (models themselves).  If you don't understand the uncertainty in your data (whether those data are raw data, or modeled data) you won't understand the uncertainty in your final result..."
   ]
  },
  {
   "cell_type": "markdown",
   "metadata": {},
   "source": [
    "One last thing for now, our tick labels on the x-axis are overlapping, obscuring them from view. Lets sort that out as well:"
   ]
  },
  {
   "cell_type": "code",
   "execution_count": null,
   "metadata": {},
   "outputs": [],
   "source": [
    "fig, ax = plt.subplots()\n",
    "ax.errorbar(pygr_data[\"time\"], pygr_data[\"up\"],\n",
    "            yerr=pygr_data[\"up_error\"],\n",
    "            marker=\"+\", linestyle=\"None\",\n",
    "            label=component, color=\"green\")\n",
    "ax.set_xlim(datetime.datetime(2009, 6, 1), datetime.datetime(2009, 10, 1))\n",
    "ax.set_ylim(-150, 0)\n",
    "# Set the x-labels to be rotated so that they don't overlap.\n",
    "plt.setp(ax.xaxis.get_majorticklabels(), rotation=50)\n",
    "ax.set_xlabel(\"Sample time (UTC)\")\n",
    "ax.set_ylabel(\"Offset in mm\")\n",
    "ax.set_title(\"GNSS offsets for PYGR\")\n",
    "ax.legend()\n",
    "plt.show()"
   ]
  },
  {
   "cell_type": "markdown",
   "metadata": {},
   "source": [
    "**Exercise:** Make a plot of the GNSS time-series for a station of your choosing. \n",
    "\n",
    "Look on the [GeoNet station search](https://www.geonet.org.nz/data/network/sensor/search) and tick the\n",
    "GNSS/GPS box to show the GNSS stations.  Try and find one that you think will have some interesting signals.\n",
    "Hint, find somewhere near a large earthquake, or close the Hikurangi margin where slow-slip regularly occurs."
   ]
  },
  {
   "cell_type": "code",
   "execution_count": null,
   "metadata": {},
   "outputs": [],
   "source": [
    "# Your plots here."
   ]
  },
  {
   "cell_type": "markdown",
   "metadata": {},
   "source": [
    "# NumPy: Numerical Python\n",
    "\n",
    "We've seen with Matplotlib how importing code (\"modules\", or \"packages\", or \"libraries\") written by someone else, or more likely a huge team of people, enables us to focus on the science we're interested in while leaving much of the heavy-lifting to a module. This sort of philosopy underpins a lot of Python programming and we'll look into it a little further by using a really important package, NumPy.\n",
    "\n",
    "<img alt=\"Numpy logo\" align=\"right\" style=\"width:30%\" src=\"https://upload.wikimedia.org/wikipedia/commons/3/31/NumPy_logo_2020.svg\">\n",
    "\n",
    "NumPy is flipping excellent. NumPy is at the heart of almost all scientific Python applications. If you are\n",
    "not using NumPy directly you are probably using something that uses NumPy.  If you google around on the\n",
    "topic of Python, you will undoubtedly find people saying:\n",
    "\n",
    "> Python is slow\n",
    "\n",
    "and they are not wrong, Python itself isn't very fast (although if you are a good programmer and know how what you're doing you can can get Python to be fast enough for many applications), but one of the super-powers of Python\n",
    "is its extensibility. NumPy extends Python with many fast and well-tested C, C++ and Fortran libraries, and\n",
    "provides *the* way to handle arbitrarily large and dimensional arrays of data in Python.\n",
    "\n",
    "> **NumPy** is fast\n",
    "\n",
    "## Speed\n",
    "\n",
    "Lets first show that speed, and some of the additional simplicity that NumPy brings.  We'll write that adds a number to every value in an array using a simple loop."
   ]
  },
  {
   "cell_type": "code",
   "execution_count": null,
   "metadata": {},
   "outputs": [],
   "source": [
    "def add_to_array(array, number_to_add):\n",
    "    \"\"\" Add one number to all values in an array. \"\"\"\n",
    "    for number in array:\n",
    "        number += number_to_add\n",
    "    return array"
   ]
  },
  {
   "cell_type": "markdown",
   "metadata": {},
   "source": [
    "To test how long his takes and compare to NumPy we will create an array (similar to a list)\n",
    "of 1 million random numbers.  We will use NumPy's \n",
    "[random.randn](https://docs.scipy.org/doc/numpy-1.14.0/reference/generated/numpy.random.randn.html#numpy.random.randn) \n",
    "function to make this array.  It is a standard convention to `import numpy as np`: you don't have to,\n",
    "it is just people being lazy and conventional and trying to avoid typing `numpy` quite so many times.\n",
    "\n",
    "To check what we have made we will look at the shape of the array. Every NumPy array has a `.shape` property,\n",
    "which tells us the dimensions of the array (remember that a NumPy array is n-dimensional).  This shape is\n",
    "returned as a `tuple` (hence the round brackets and comma).  We will make a 1x1000000 array. As it's a one-dimensional array, only the\n",
    "length is given."
   ]
  },
  {
   "cell_type": "code",
   "execution_count": null,
   "metadata": {},
   "outputs": [],
   "source": [
    "import numpy as np\n",
    "\n",
    "array = np.random.randn(int(1e6))\n",
    "print(array.shape)"
   ]
  },
  {
   "cell_type": "markdown",
   "metadata": {},
   "source": [
    "Great, we have an array!  Lets try using our function to add 2 to every value in the array.  We don't really care\n",
    "about the outcome of this, but we will test how long it takes using the `timeit` magic.  This is a jupyter/ipython\n",
    "inline decorator. The outcome of it is that it times how long our function takes an averages over many loops."
   ]
  },
  {
   "cell_type": "code",
   "execution_count": null,
   "metadata": {
    "tags": [
     "nbval-ignore-output"
    ]
   },
   "outputs": [],
   "source": [
    "%timeit add_to_array(array, 2)"
   ]
  },
  {
   "cell_type": "markdown",
   "metadata": {},
   "source": [
    "On my computer I get something around 220 milli-seconds. \n",
    "\n",
    "Lets try the same with NumPy's add. We can just use the `+` symbol, or the `+=` for in-place\n",
    "addition. (Note that `+=` is faster, but doesn't work with the `timeit` magic.)"
   ]
  },
  {
   "cell_type": "code",
   "execution_count": null,
   "metadata": {
    "tags": [
     "nbval-ignore-output"
    ]
   },
   "outputs": [],
   "source": [
    "%timeit array + 2"
   ]
  },
  {
   "cell_type": "markdown",
   "metadata": {},
   "source": [
    "On my computer I get something around 920 micro-seconds, or around 200 times faster.  Both times are quite fast,\n",
    "but when you are doing an operation many times, NumPy gets the speed you need.\n",
    "\n",
    "So, NumPy is fast for some things... We are not going to provide an exhaustive NumPy tutorial here, for that\n",
    "look to the [canonical NumPy tutorial](https://numpy.org/devdocs/user/quickstart.html). Instead, lets focus on\n",
    "why you should (or might) care about NumPy by playing with some data.\n",
    "\n",
    "## Reading in data: DFDP-2 temperatures\n",
    "\n",
    "In late 2013 to early 2014, we (led by scientists from VUW, GNS Science, and the University of Otago) drilled an hole near the Alpine Fault.  Unfortunately we came up short of the Alpine Fault, but we got some pretty amazing data from the hole.  The temperatures we measured using a distributed fibre-optic sensing method were pretty unusual - that is, very hot! - and were\n",
    "the topic of a [Nature paper](https://www.nature.com/articles/nature22355).  We provided\n",
    "the temperature data as a supplement to the paper and have extracted a subset of the data to play with here.\n",
    "\n",
    "_(If for some reason someone comes across these notebook and wants to use these data, get the raw data from the\n",
    "paper and cite the paper!)_\n",
    "\n",
    "NumPy provides a nice way to load data from a text-file:"
   ]
  },
  {
   "cell_type": "code",
   "execution_count": null,
   "metadata": {},
   "outputs": [],
   "source": [
    "temp_data = np.loadtxt(\n",
    "    \"data/Sutherland_etal_DFDP_temperatures.csv\", delimiter=\",\",\n",
    "    skiprows=1)\n",
    "print(temp_data)"
   ]
  },
  {
   "cell_type": "markdown",
   "metadata": {},
   "source": [
    "Here we used the `delimiter` argument to tell NumPy that the file is comma separated (its a csv file),\n",
    "and the `skiprows` argument to skip the header. Lets check what that header is:"
   ]
  },
  {
   "cell_type": "code",
   "execution_count": null,
   "metadata": {
    "tags": [
     "nbval-ignore-output"
    ]
   },
   "outputs": [],
   "source": [
    "with open(\"data/Sutherland_etal_DFDP_temperatures.csv\", \"r\") as f:\n",
    "    # Open the file read-only in a context-manager\n",
    "    print(f.readline())\n",
    "    # Read one line (the zeroth) from the file and print it."
   ]
  },
  {
   "cell_type": "markdown",
   "metadata": {},
   "source": [
    "Now we know what is in each column. One thing to note in passing is the difference between \"Drilled depth\" (which is measured along the borehole) and \"True Vertical Depth\" (which takes into account the fact that the borehole was strongly deviated towards the Alpine Fault by the strong fabric of the rocks being drilled.\n",
    "\n",
    "## Indexing and slicing NumPy arrays\n",
    "\n",
    "We can access the parts of the array by index, or slice.  A slice is a range of indexes, and allows us to grab\n",
    "chunks of an array.  Lets work out what our array looks like and extract some data from it:"
   ]
  },
  {
   "cell_type": "code",
   "execution_count": null,
   "metadata": {},
   "outputs": [],
   "source": [
    "print(temp_data.shape)"
   ]
  },
  {
   "cell_type": "markdown",
   "metadata": {},
   "source": [
    "This means that our array has 894 x 6 elements. At the moment our data are indexed by row first, then column,\n",
    "so that if we get the zeroth index of our data it will be the first row:"
   ]
  },
  {
   "cell_type": "code",
   "execution_count": null,
   "metadata": {},
   "outputs": [],
   "source": [
    "temp_data[0]"
   ]
  },
  {
   "cell_type": "markdown",
   "metadata": {},
   "source": [
    "If we want the temperature (column 5, starting from 0) from the 4th row we would have to do:"
   ]
  },
  {
   "cell_type": "code",
   "execution_count": null,
   "metadata": {},
   "outputs": [],
   "source": [
    "temp_data[4][5]"
   ]
  },
  {
   "cell_type": "markdown",
   "metadata": {},
   "source": [
    "This is all well and good, but it will be easier for what we're doing below to be able to interpret the array in terms of columns first, then rows.  We can *transpose* our data to get it into the shape we want:"
   ]
  },
  {
   "cell_type": "code",
   "execution_count": null,
   "metadata": {},
   "outputs": [],
   "source": [
    "temp_data = temp_data.T\n",
    "print(temp_data.shape)"
   ]
  },
  {
   "cell_type": "markdown",
   "metadata": {},
   "source": [
    "Now we can easily get all the temperatures by extracting the 5th column:"
   ]
  },
  {
   "cell_type": "code",
   "execution_count": null,
   "metadata": {},
   "outputs": [],
   "source": [
    "print(temp_data[5])"
   ]
  },
  {
   "cell_type": "markdown",
   "metadata": {},
   "source": [
    "Aaagh! That looks horrible, so let's plot it instead. I have re-written this to have all the parts you need - like a script that you might run in the future!\n",
    "\n",
    "First we'll plot it against _drilled depth_, which is in the zeroth column. The code below should seem fairly familiar because all we're doing is plotting one variable against another with Matplotlib as we"
   ]
  },
  {
   "cell_type": "code",
   "execution_count": null,
   "metadata": {},
   "outputs": [],
   "source": [
    "import numpy as np\n",
    "import matplotlib.pyplot as plt\n",
    "\n",
    "temp_data = np.loadtxt(\n",
    "    \"data/Sutherland_etal_DFDP_temperatures.csv\", delimiter=\",\",\n",
    "    skiprows=1)\n",
    "temp_data = temp_data.T\n",
    "\n",
    "fig, ax = plt.subplots()\n",
    "ax.plot(temp_data[5], temp_data[0])\n",
    "ax.set_xlabel(\"Temperature (deg C)\")\n",
    "ax.set_ylabel(\"Depth (m)\")\n",
    "ax.set_title(\"DFDP-2B Downhole Temperatures from Sutherland et al., 2017\")\n",
    "ax.invert_yaxis()  # Invert the y-axis so increasing depth is down\n",
    "plt.show()"
   ]
  },
  {
   "cell_type": "markdown",
   "metadata": {},
   "source": [
    "## Array maths: calculating temperature gradient\n",
    "\n",
    "Sutherland et al. calculated temperature gradients in degrees per km.  This is simply division, and we can do this really\n",
    "easily with NumPy using the simple formula:\n",
    "\\begin{equation}\n",
    "    T\\ gradient = \\frac{change\\ in\\ T}{change\\ in\\ depth}\n",
    "\\end{equation}\n",
    "\n",
    "So, we need the change in temperature and change in depth at every step. We can do this by subtracting a 1-sample\n",
    "shifted version of our column of interest from the column, e.g."
   ]
  },
  {
   "cell_type": "code",
   "execution_count": null,
   "metadata": {},
   "outputs": [],
   "source": [
    "temperature_change = temp_data[5][1:] - temp_data[5][0:-1]"
   ]
  },
  {
   "cell_type": "markdown",
   "metadata": {},
   "source": [
    "This looks a bit funky, but all that we have done is sliced our array so that we get the fifth column (the temperatures)\n",
    "(using the `[5]` index) and taken the elements of that column between the zeroth to n-1-th indexes away from\n",
    "that data from the same column, but from the 1st to the n-th index. \n",
    "\n",
    "We will do the same for the depth:"
   ]
  },
  {
   "cell_type": "code",
   "execution_count": null,
   "metadata": {},
   "outputs": [],
   "source": [
    "depth_change = temp_data[0][1:] - temp_data[0][0:-1]"
   ]
  },
  {
   "cell_type": "markdown",
   "metadata": {},
   "source": [
    "Lets plot our change in temperature to make sure we have something sensible.  We need to plot against depth, but our change in temperature\n",
    "is an average over a depth range. We will plot against the mid-point of the depths that the change in temperature is calculated over, lets\n",
    "make a new array that is that mid-point depth:"
   ]
  },
  {
   "cell_type": "code",
   "execution_count": null,
   "metadata": {},
   "outputs": [],
   "source": [
    "mid_point_depth = temp_data[0][0:-1] + depth_change / 2"
   ]
  },
  {
   "cell_type": "markdown",
   "metadata": {},
   "source": [
    "All that we have done is add half the change in depth to the depth. We have to ignore the final depth sample because\n",
    "we don't have a gradient that corresponds to this: there are no data beyond the end of the borehole, alas.\n",
    "\n",
    "Now we can plot again, although here we've gone a bit rogue and used an unconventional style sheet to make things look cool. Again I have put together all that we had above so that this runs like a script."
   ]
  },
  {
   "cell_type": "code",
   "execution_count": null,
   "metadata": {},
   "outputs": [],
   "source": [
    "import numpy as np\n",
    "import matplotlib.pyplot as plt\n",
    "\n",
    "# Read in the data\n",
    "temp_data = np.loadtxt(\n",
    "    \"data/Sutherland_etal_DFDP_temperatures.csv\", delimiter=\",\",\n",
    "    skiprows=1)\n",
    "temp_data = temp_data.T\n",
    "\n",
    "# Calculate gradients\n",
    "temperature_change = temp_data[5][1:] - temp_data[5][0:-1]\n",
    "depth_change = temp_data[0][1:] - temp_data[0][0:-1]\n",
    "mid_point_depth = temp_data[0][0:-1] + depth_change / 2\n",
    "\n",
    "# Plot the gradients\n",
    "plt.xkcd()  # Set the style to the xkcd comics style.\n",
    "fig, ax = plt.subplots()\n",
    "ax.plot(temperature_change, mid_point_depth)\n",
    "ax.set_xlabel(\"Temperature change (deg C)\")\n",
    "ax.set_ylabel(\"Mid-point depth (m)\")\n",
    "ax.set_title(\"DFDP-2B Temperature Gradient Profile\")\n",
    "ax.invert_yaxis()  # Invert the y-axis so increasing depth is down\n",
    "plt.show()"
   ]
  },
  {
   "cell_type": "markdown",
   "metadata": {},
   "source": [
    "Now we have the change in temperature and the change in depth we can calculate the temperature gradient at each point as a simple\n",
    "division.\n",
    "\n",
    "To get the units into degrees per km we will divide our change in depth by 1000 to convert to km first."
   ]
  },
  {
   "cell_type": "code",
   "execution_count": null,
   "metadata": {},
   "outputs": [],
   "source": [
    "depth_change /= 1000\n",
    "temperature_gradient = temperature_change / depth_change"
   ]
  },
  {
   "cell_type": "markdown",
   "metadata": {},
   "source": [
    "Again, lets plot the result at the mid-points (again, I have put this all into one cell):"
   ]
  },
  {
   "cell_type": "code",
   "execution_count": null,
   "metadata": {},
   "outputs": [],
   "source": [
    "import numpy as np\n",
    "import matplotlib.pyplot as plt\n",
    "\n",
    "plt.rcdefaults()  # Go back to a more professional-looking style...\n",
    "\n",
    "# Read in the data\n",
    "temp_data = np.loadtxt(\n",
    "    \"data/Sutherland_etal_DFDP_temperatures.csv\", delimiter=\",\",\n",
    "    skiprows=1)\n",
    "temp_data = temp_data.T\n",
    "\n",
    "# Calculate gradients\n",
    "temperature_change = temp_data[5][1:] - temp_data[5][0:-1]\n",
    "depth_change = temp_data[0][1:] - temp_data[0][0:-1]\n",
    "mid_point_depth = temp_data[0][0:-1] + depth_change / 2\n",
    "\n",
    "# Calculate degC per km\n",
    "depth_change /= 1000\n",
    "temperature_gradient = temperature_change / depth_change\n",
    "\n",
    "fig, ax = plt.subplots()\n",
    "ax.plot(temperature_gradient, mid_point_depth)\n",
    "ax.set_xlabel(\"Temperature gradient (deg C / km)\")\n",
    "ax.set_ylabel(\"Mid-point depth (m)\")\n",
    "ax.set_title(\"DFDP2 Downhole Temperatures from Sutherland et al., 2017\")\n",
    "ax.invert_yaxis()  # Invert the y-axis so increasing depth is down\n",
    "plt.show()"
   ]
  },
  {
   "cell_type": "markdown",
   "metadata": {},
   "source": [
    "A brief inspection shows that the last two plots look very similar, this is because the depth sampling is 1m.\n",
    "\n",
    "**But wait!**  This isn't a true depth profile, this is just drilled depth...  We didn't drill a straight hole\n",
    "(not deliberately, but these things happen when you are a few hundred meters down in highly-foliated schist...).\n",
    "\n",
    "Let's have a look at what the hole looks like:"
   ]
  },
  {
   "cell_type": "code",
   "execution_count": null,
   "metadata": {},
   "outputs": [],
   "source": [
    "import numpy as np\n",
    "import matplotlib.pyplot as plt\n",
    "\n",
    "plt.rcdefaults()  # Go back to a more professional-looking style...\n",
    "\n",
    "# Read in the data\n",
    "temp_data = np.loadtxt(\n",
    "    \"data/Sutherland_etal_DFDP_temperatures.csv\", delimiter=\",\",\n",
    "    skiprows=1)\n",
    "temp_data = temp_data.T\n",
    "\n",
    "horizontal_distance = np.sqrt(temp_data[2] ** 2 + temp_data[3] ** 2)\n",
    "fig, ax = plt.subplots()\n",
    "ax.plot(horizontal_distance, temp_data[4])\n",
    "ax.set_xlabel(\"Horizontal distance from pad (m)\")\n",
    "ax.set_ylabel(\"True Vertical Depth (m)\")\n",
    "ax.set_title(\"DFDP2 hole profile\")\n",
    "ax.invert_yaxis()  # Invert the y-axis so increasing depth is down\n",
    "plt.show()"
   ]
  },
  {
   "cell_type": "markdown",
   "metadata": {},
   "source": [
    "## Exercise:\n",
    "\n",
    "Plot the temperature gradient against true vertical depth.  You will need to recalculate the depth changes and the temperature gradient to do this.\n",
    "\n",
    "Do your plots look like the plot in the [Sutherland et al. paper](https://www.nature.com/articles/nature22355)?"
   ]
  },
  {
   "cell_type": "code",
   "execution_count": null,
   "metadata": {},
   "outputs": [],
   "source": [
    "# Your answer here"
   ]
  },
  {
   "cell_type": "markdown",
   "metadata": {},
   "source": [
    "## Saving your data\n",
    "\n",
    "So you have dome some cool things to your data, and you want to save your work.  You should always save your\n",
    "notebook or scripts, and they should be your *sacred* way of doing your analysis.  But it is also\n",
    "good to actually write out the data that you have processed.  With NumPy there are a few ways that you\n",
    "can do that.  One of the simplest ways is using the \n",
    "[savetxt](https://docs.scipy.org/doc/numpy/reference/generated/numpy.savetxt.html) function:"
   ]
  },
  {
   "cell_type": "code",
   "execution_count": null,
   "metadata": {},
   "outputs": [],
   "source": [
    "np.savetxt(\"data/temperature_gradient.txt\", temperature_gradient)"
   ]
  },
  {
   "cell_type": "markdown",
   "metadata": {},
   "source": [
    "Lets check what is in that file by printing the first five lines:"
   ]
  },
  {
   "cell_type": "code",
   "execution_count": null,
   "metadata": {},
   "outputs": [],
   "source": [
    "with open(\"data/temperature_gradient.txt\", \"r\") as f:\n",
    "    for i in range(5):\n",
    "        print(f.readline().rstrip())"
   ]
  },
  {
   "cell_type": "markdown",
   "metadata": {},
   "source": [
    "Looks correct.  Note that the `.rstrip` method on a string strips trailing white-space characters, in\n",
    "this case it removes a new-line (`\\n`) character.\n",
    "\n",
    "## Summary\n",
    "\n",
    "NumPy is at the heart of most scientific Python, but it can be unintuitive when thinking about many Earth science datasets. Having to remember which column and row things should be in can be a little frustrating. This is one of the things that Pandas can help us with and we will showcase this in the [pandas notebook](5-Pandas-introduction.ipynb) next."
   ]
  },
  {
   "cell_type": "code",
   "execution_count": null,
   "metadata": {},
   "outputs": [],
   "source": []
  }
 ],
 "metadata": {
  "kernelspec": {
   "display_name": "Python 3 (ipykernel)",
   "language": "python",
   "name": "python3"
  },
  "language_info": {
   "codemirror_mode": {
    "name": "ipython",
    "version": 3
   },
   "file_extension": ".py",
   "mimetype": "text/x-python",
   "name": "python",
   "nbconvert_exporter": "python",
   "pygments_lexer": "ipython3",
   "version": "3.8.12"
  }
 },
 "nbformat": 4,
 "nbformat_minor": 4
}
