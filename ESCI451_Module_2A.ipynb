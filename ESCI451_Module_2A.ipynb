{
 "cells": [
  {
   "cell_type": "markdown",
   "metadata": {},
   "source": [
    "# Introduction to Python for Earth Scientists\n",
    "\n",
    "These notebooks have been developed by Calum Chamberlain, Finnigan Illsley-Kemp, John Townend and El Mestel at [Victoria University of Wellington-Te Herenga Waka](https://www.wgtn.ac.nz) for use by Earth Science graduate students. \n",
    "\n",
    "The notebooks cover material that we think will be of particular benefit to those students with little or no previous experience of computer-based data analysis. We presume very little background in command-line or code-based computing, and have compiled this material with an emphasis on general tasks that a grad student might encounter on a daily basis. \n",
    "\n",
    "In 2024, this material will be delivered at the start of Trimester 1 in conjunction with [ESCI451 Active Earth](https://www.wgtn.ac.nz/courses/esci/451). Space permitting, interested students not enrolled in ESCI451 are encouraged to come along too but please contact El, Calum, Finn, or John first.\n",
    "\n",
    "| Notebook | Contents | Data |\n",
    "| --- | --- | --- |\n",
    "| [1A](ESCI451_Module_1A.ipynb) | Introduction to programming, Python, and Jupyter notebooks | - |\n",
    "| [1B](ESCI451_Module_1B.ipynb) | Basic data types and variables, getting data, and plotting with Matplotlib | Geodetic positions |\n",
    "| **[2A](ESCI451_Module_2A.ipynb)** | **Logic, more complex plotting, introduction to Numpy** | **Geodetic positions; DFDP-2B temperatures** |\n",
    "| [2B](ESCI451_Module_2B.ipynb) | Using Pandas to load, peruse and plot data | Earthquake catalogue  |\n",
    "| [3A](ESCI451_Module_3A.ipynb) | Working with Pandas dataframes | Geochemical data set; GNSS data |\n",
    "| [3B](ESCI451_Module_3B.ipynb) | Simple time series analysis using Pandas | Historical temperature records |\n",
    "| [4A](ESCI451_Module_4A.ipynb) | Making maps with PyGMT | Earthquake catalogue |\n",
    "| [4B](ESCI451_Module_4B.ipynb) | Gridded data and vectors | Ashfall data and GNSS |\n",
    "| [Scripting](ESCI451_Module_5A_Scripting.ipynb) | Moving from notebooks to scripts and the command line | - |\n",
    "\n",
    "The content may change in response to students' questions or current events. Each of the four modules has been designed to take about three hours, with a short break between each of the two parts."
   ]
  },
  {
   "cell_type": "markdown",
   "metadata": {},
   "source": [
    "# This notebook\n",
    "\n",
    "1. Logic\n",
    "   - Looping\n",
    "   - Functions\n",
    "   - Classes\n",
    "2. More plotting using Matplotlib\n",
    "   - Customising plots\n",
    "   - Using style sheets\n",
    "   - Plotting uncertainties\n",
    "3. An introduction to NumPy\n",
    "   - Speed\n",
    "   - Reading data from a text file into a NumPy array\n",
    "   - Indexing and slicing NumPy arrays\n",
    "   - Doing maths with an array\n",
    "   - Saving data to a text file"
   ]
  },
  {
   "cell_type": "markdown",
   "metadata": {},
   "source": [
    "# Logic\n",
    "\n",
    "<img alt=\"xkcd 1319 automation\n",
    "              'I spend a lot of time on this task. I should write a program automating it!'\n",
    "    [Two graphs are shown, plotting workload against time.]\n",
    "    Theory:\n",
    "    [The line for 'work on original task' is steady but then drops down to a much lower level.]\n",
    "    [The line for the automating job increases heavily while 'writing code' and then drops down when 'automation takes over'.]\n",
    "    [Both lines end up with a big amount of 'free time'.]\n",
    "    Reality:\n",
    "    [The line for 'work on original task' is steady with no drop to a lower level.]\n",
    "    [The line for the automating job increases heavily while 'writing code', then it increases again while 'debugging', it drops down slightly while 'rethinking', and grows up again with an infinite end while the task is still an 'ongoing development'.]\n",
    "    [The line for 'work on original task' ends up with 'no time for original task anymore'.]\n",
    "          \" align=\"right\" style=\"width:40%\" src=\"https://imgs.xkcd.com/comics/automation.png\">\n",
    "\n",
    "One of the main goals of programming is to automate things. The main reasons for this are:\n",
    "\n",
    "1. **Doing dull things manually is boring**: You, a highly trained scientist, should be doing something more worthwhile than moving decimal points in spreadsheets;\n",
    "2. **Reproducibility**: someone should be able to take what you have done and re-do it, without your \"fudging\". The more your \"expert opinion\" is used to generate a result, the less trust-worthy that result is.\n",
    "3. **Safety**: you will cock something up (likely many things, that is what learning is about) while doing your science; if you write a program to do the thing, and write it well, you should just have to make minor adjustments to fix the issue and re-run it, rather than having to re-do all the boring work (see 1).\n",
    "   \n",
    "Sometimes automation takes ages... you will learn at some point (or not in my case) what the most efficient use of your time is (see comic).\n",
    "\n",
    "To be able to automate things, you need to understand some basic computer logic.  These concepts are pretty much universal.  In this notebook we will introduce:\n",
    "\n",
    "1. For loops\n",
    "2. If/else statements\n",
    "3. While loops\n",
    "4. Sorting lists\n",
    "\n",
    "We will also showcase some niceties/nuances that Python has for these."
   ]
  },
  {
   "cell_type": "markdown",
   "metadata": {},
   "source": [
    "## Looping\n",
    "\n",
    "There are two main ways to loop in Python, `for` loops and `while` loops.  You will likely find yourself using\n",
    "`for` loops more often than `while` loops, but we will introduce both. the main difference is that `for` loops\n",
    "iterate through a range of variables, whereas `while` loops operate repeatedly until some condition is met.\n",
    "We will talk about conditions in the `if`/`else` section, before getting onto `while` loops.\n",
    "\n",
    "The following two loops are equivalent, but the `for` loop is more expressive and usually safer (`while` loops\n",
    "are the cause of many infinite loops...):"
   ]
  },
  {
   "cell_type": "code",
   "execution_count": null,
   "metadata": {
    "execution": {
     "iopub.execute_input": "2024-02-20T20:55:47.025493Z",
     "iopub.status.busy": "2024-02-20T20:55:47.024888Z",
     "iopub.status.idle": "2024-02-20T20:55:47.033067Z",
     "shell.execute_reply": "2024-02-20T20:55:47.032649Z"
    }
   },
   "outputs": [],
   "source": [
    "for i in range(5):\n",
    "    print(i)"
   ]
  },
  {
   "cell_type": "code",
   "execution_count": null,
   "metadata": {
    "execution": {
     "iopub.execute_input": "2024-02-20T20:55:47.063051Z",
     "iopub.status.busy": "2024-02-20T20:55:47.062847Z",
     "iopub.status.idle": "2024-02-20T20:55:47.065849Z",
     "shell.execute_reply": "2024-02-20T20:55:47.065423Z"
    }
   },
   "outputs": [],
   "source": [
    "i = 0\n",
    "while i < 5:\n",
    "    print(i)\n",
    "    i += 1"
   ]
  },
  {
   "cell_type": "markdown",
   "metadata": {},
   "source": [
    "## `for` loops\n",
    "\n",
    "`for` loops allow us to iterate through some *iterable*. Often this *iterable* is a `list`, but it doesn't have to be (the `range` function above creates a `range` object, which is a type of [sequence](https://docs.python.org/3/library/stdtypes.html#typesseq)).\n",
    "\n",
    "If we have any `list` and we want to apply the same process to every element in that list, we can use a `for` loop (there are better/faster ways to do this for numeric types using **numpy**, and we will showcase those in below).\n",
    "\n",
    "In Python, `for` loops start with:\n",
    "```python\n",
    "for variable in iterable:\n",
    "    do_something\n",
    "```\n",
    "where `variable` is a newly defined variable that equates to each element of the `iterable` in turn. At the end of the loop `variable` will be the value of `iterable[-1]`. `iterable` is something that can be iterated over.  The `for` and `in` are Python *keywords* that Python knows how to interpret. The colon (`:`) at the end of the `for` line shows that that statement has finished.\n",
    "\n",
    "All the statements that should be implemented within the loop **must** be indented, this indentation *should* be 4 spaces (not a tab).  \n",
    "\n",
    "**Never mix tabs and spaces!**  \n",
    "\n",
    "When the indentation ends, the loop ends.\n",
    "\n",
    "For example, say we wanted to make a list of word lengths for a given sentence:"
   ]
  },
  {
   "cell_type": "code",
   "execution_count": null,
   "metadata": {
    "execution": {
     "iopub.execute_input": "2024-02-20T20:55:47.067908Z",
     "iopub.status.busy": "2024-02-20T20:55:47.067736Z",
     "iopub.status.idle": "2024-02-20T20:55:47.071058Z",
     "shell.execute_reply": "2024-02-20T20:55:47.070649Z"
    }
   },
   "outputs": [],
   "source": [
    "sentence = \"Monty Python and the Holy Grail\"\n",
    "words = sentence.split(\" \")\n",
    "\n",
    "word_lengths = []  # Define an empty list that we will append to\n",
    "for word in words:\n",
    "    word_length = len(word)\n",
    "    print(f\"{word} is {word_length} letters long\")\n",
    "    word_lengths.append(word_length)\n",
    "\n",
    "print(word_lengths)"
   ]
  },
  {
   "cell_type": "markdown",
   "metadata": {},
   "source": [
    "## `if`/`else` conditions\n",
    "\n",
    "Switches or conditional statements allow a programmer to control the flow of a program, and react to events.\n",
    "\n",
    "The basic syntax of conditional statements in Python is:\n",
    "\n",
    "```python\n",
    "if condition:\n",
    "    do_something()\n",
    "elif another_condition:\n",
    "    do_something_else()\n",
    "else:\n",
    "    do_anything()\n",
    "```\n",
    "\n",
    "As usual, indentation is used to show the start and end of sections of code, and colons are used to show the\n",
    "end of a statement.  The three keywords here, `if`, `elif` and `else` do the following:\n",
    "- `if` evaluates whether `condition` is `True`, and runs the section of code indented beneath it (`do_something()`) if `condition` is `True`;\n",
    "- `elif` is evaluated if `condition` is `False`. This is a second `if` conditional that evaluates whether `another_condition` is `True`. The function `do_something_else` is only run if `condition` is `False` and `another_condition` is `True`.\n",
    "- `else` catches any cases where the previous `if` statements evaluated to False. `do_anything` is run when both `condition` and `another_condition` are `False`.\n",
    "  \n",
    "This is a little confusing to write, so it probably doesn't make much sense to read! Lets have a look at an example.  First note that mathematical conditions work in Python:\n",
    "- `a == b` is `True` when the values of `a` and `b` are the same\n",
    "- `a != b` is `True` when the values of `a` and `b` are **not** the same\n",
    "- `a < b` is `True` when the value of `a` is less than the value of `b`\n",
    "- ... The expected things happen for `>`, `>=` and `<=`. These symbols are known as *comparison operators* in Python.\n"
   ]
  },
  {
   "cell_type": "code",
   "execution_count": null,
   "metadata": {
    "execution": {
     "iopub.execute_input": "2024-02-20T20:55:47.073073Z",
     "iopub.status.busy": "2024-02-20T20:55:47.072901Z",
     "iopub.status.idle": "2024-02-20T20:55:47.075894Z",
     "shell.execute_reply": "2024-02-20T20:55:47.075393Z"
    }
   },
   "outputs": [],
   "source": [
    "a = 5\n",
    "\n",
    "# This is a pretty dumb example! But we will do some more fun things in a minute\n",
    "if a < 5:\n",
    "    print(\"That is a small number, less than 5\")\n",
    "elif a > 5:\n",
    "    print(\"That is a larger number, greater than 5\")\n",
    "else:\n",
    "    print(\"Your number must be equal to 5!\")"
   ]
  },
  {
   "cell_type": "markdown",
   "metadata": {},
   "source": [
    "What if you want to check multiple conditions?! You could write something like:"
   ]
  },
  {
   "cell_type": "code",
   "execution_count": null,
   "metadata": {
    "execution": {
     "iopub.execute_input": "2024-02-20T20:55:47.078016Z",
     "iopub.status.busy": "2024-02-20T20:55:47.077811Z",
     "iopub.status.idle": "2024-02-20T20:55:47.080701Z",
     "shell.execute_reply": "2024-02-20T20:55:47.080166Z"
    }
   },
   "outputs": [],
   "source": [
    "a = 3\n",
    "if a < 5:\n",
    "    if a >= 2:\n",
    "        print(\"Your number is between two and five!\")"
   ]
  },
  {
   "cell_type": "markdown",
   "metadata": {},
   "source": [
    "But that is a bit excessive - you just want to know if a is less than five `and` greater than or equal to 2!\n",
    "\n",
    "Python is nice and uses keywords, so this is as simple as:"
   ]
  },
  {
   "cell_type": "code",
   "execution_count": null,
   "metadata": {
    "execution": {
     "iopub.execute_input": "2024-02-20T20:55:47.082722Z",
     "iopub.status.busy": "2024-02-20T20:55:47.082554Z",
     "iopub.status.idle": "2024-02-20T20:55:47.085233Z",
     "shell.execute_reply": "2024-02-20T20:55:47.084742Z"
    }
   },
   "outputs": [],
   "source": [
    "if a < 5 and a >= 2:\n",
    "    print(\"Bonza!\")"
   ]
  },
  {
   "cell_type": "markdown",
   "metadata": {},
   "source": [
    "As well as the `and` conditional keyword there are others:\n",
    "- `or` for checking whether one of multiple conditions is met;\n",
    "- `in` for testing if something is within another object, useful for checking if something is in a `list`;\n",
    "- `is` tests whether something is the same as another thing, rather than just testing the value;\n",
    "- `not` reverses any test.\n",
    "\n",
    "Some examples:"
   ]
  },
  {
   "cell_type": "code",
   "execution_count": null,
   "metadata": {
    "execution": {
     "iopub.execute_input": "2024-02-20T20:55:47.087224Z",
     "iopub.status.busy": "2024-02-20T20:55:47.087050Z",
     "iopub.status.idle": "2024-02-20T20:55:47.092236Z",
     "shell.execute_reply": "2024-02-20T20:55:47.091847Z"
    }
   },
   "outputs": [],
   "source": [
    "a = 1\n",
    "b = 3\n",
    "c = 42\n",
    "\n",
    "# Example of an or conditional\n",
    "a > b or a > c"
   ]
  },
  {
   "cell_type": "code",
   "execution_count": null,
   "metadata": {
    "execution": {
     "iopub.execute_input": "2024-02-20T20:55:47.094174Z",
     "iopub.status.busy": "2024-02-20T20:55:47.093999Z",
     "iopub.status.idle": "2024-02-20T20:55:47.097365Z",
     "shell.execute_reply": "2024-02-20T20:55:47.096979Z"
    }
   },
   "outputs": [],
   "source": [
    "a > b or a < c"
   ]
  },
  {
   "cell_type": "code",
   "execution_count": null,
   "metadata": {
    "execution": {
     "iopub.execute_input": "2024-02-20T20:55:47.099290Z",
     "iopub.status.busy": "2024-02-20T20:55:47.099121Z",
     "iopub.status.idle": "2024-02-20T20:55:47.102535Z",
     "shell.execute_reply": "2024-02-20T20:55:47.102052Z"
    }
   },
   "outputs": [],
   "source": [
    "a > b and a < c"
   ]
  },
  {
   "cell_type": "code",
   "execution_count": null,
   "metadata": {
    "execution": {
     "iopub.execute_input": "2024-02-20T20:55:47.104528Z",
     "iopub.status.busy": "2024-02-20T20:55:47.104341Z",
     "iopub.status.idle": "2024-02-20T20:55:47.107534Z",
     "shell.execute_reply": "2024-02-20T20:55:47.107137Z"
    }
   },
   "outputs": [],
   "source": [
    "a < b and a < c"
   ]
  },
  {
   "cell_type": "code",
   "execution_count": null,
   "metadata": {
    "execution": {
     "iopub.execute_input": "2024-02-20T20:55:47.109451Z",
     "iopub.status.busy": "2024-02-20T20:55:47.109287Z",
     "iopub.status.idle": "2024-02-20T20:55:47.112509Z",
     "shell.execute_reply": "2024-02-20T20:55:47.112126Z"
    }
   },
   "outputs": [],
   "source": [
    "a < b and not a > c"
   ]
  },
  {
   "cell_type": "code",
   "execution_count": null,
   "metadata": {
    "execution": {
     "iopub.execute_input": "2024-02-20T20:55:47.114421Z",
     "iopub.status.busy": "2024-02-20T20:55:47.114254Z",
     "iopub.status.idle": "2024-02-20T20:55:47.117395Z",
     "shell.execute_reply": "2024-02-20T20:55:47.117032Z"
    }
   },
   "outputs": [],
   "source": [
    "d = [1, 4, 12]\n",
    "\n",
    "a in d"
   ]
  },
  {
   "cell_type": "code",
   "execution_count": null,
   "metadata": {
    "execution": {
     "iopub.execute_input": "2024-02-20T20:55:47.119296Z",
     "iopub.status.busy": "2024-02-20T20:55:47.119132Z",
     "iopub.status.idle": "2024-02-20T20:55:47.122202Z",
     "shell.execute_reply": "2024-02-20T20:55:47.121820Z"
    }
   },
   "outputs": [],
   "source": [
    "c in d"
   ]
  },
  {
   "cell_type": "markdown",
   "metadata": {},
   "source": [
    "*Note* that the operators `=` and `==` are not the same. Be careful not to mix them up!\n",
    " - `=` is used for definiton. `a = 5` means we are defining the variable `a` to have the value `5`.\n",
    "  - `==` is used for comparison. `a == 5` checks if the variable `a` is equal to `5` and will return the value `True` if it is. "
   ]
  },
  {
   "cell_type": "code",
   "execution_count": null,
   "metadata": {
    "execution": {
     "iopub.execute_input": "2024-02-20T20:55:47.124199Z",
     "iopub.status.busy": "2024-02-20T20:55:47.124031Z",
     "iopub.status.idle": "2024-02-20T20:55:47.127294Z",
     "shell.execute_reply": "2024-02-20T20:55:47.126899Z"
    }
   },
   "outputs": [],
   "source": [
    "a = 5\n",
    "b = 5\n",
    "\n",
    "a == b"
   ]
  },
  {
   "cell_type": "code",
   "execution_count": null,
   "metadata": {
    "execution": {
     "iopub.execute_input": "2024-02-20T20:55:47.129208Z",
     "iopub.status.busy": "2024-02-20T20:55:47.129043Z",
     "iopub.status.idle": "2024-02-20T20:55:47.132186Z",
     "shell.execute_reply": "2024-02-20T20:55:47.131800Z"
    }
   },
   "outputs": [],
   "source": [
    "a = 5\n",
    "b = 4\n",
    "\n",
    "a == b"
   ]
  },
  {
   "cell_type": "code",
   "execution_count": null,
   "metadata": {
    "execution": {
     "iopub.execute_input": "2024-02-20T20:55:47.134101Z",
     "iopub.status.busy": "2024-02-20T20:55:47.133937Z",
     "iopub.status.idle": "2024-02-20T20:55:47.137425Z",
     "shell.execute_reply": "2024-02-20T20:55:47.136873Z"
    }
   },
   "outputs": [],
   "source": [
    "a = 5\n",
    "b = 4\n",
    "\n",
    "a != b"
   ]
  },
  {
   "cell_type": "markdown",
   "metadata": {},
   "source": [
    "## `while` loops:\n",
    "\n",
    "While loops are helpful for iterating through some list until you reach some state, for example, if you want to find the first\n",
    "instance of something in a list:"
   ]
  },
  {
   "cell_type": "code",
   "execution_count": null,
   "metadata": {
    "execution": {
     "iopub.execute_input": "2024-02-20T20:55:47.139472Z",
     "iopub.status.busy": "2024-02-20T20:55:47.139274Z",
     "iopub.status.idle": "2024-02-20T20:55:47.142758Z",
     "shell.execute_reply": "2024-02-20T20:55:47.142227Z"
    }
   },
   "outputs": [],
   "source": [
    "sentence = \"The cat sat on the mat then jumped across the dog\"\n",
    "words = sentence.split(\" \")\n",
    "print(words)\n",
    "\n",
    "i = 0\n",
    "word = words[i]\n",
    "while not word == \"mat\":\n",
    "    i += 1\n",
    "    word = words[i]\n",
    "print(f\"Found {word} at index {i}\")"
   ]
  },
  {
   "cell_type": "markdown",
   "metadata": {},
   "source": [
    "Use `while` loops with caution! If the condition is never `False`, then you will end up in an infinite loop! Ahhh!\n",
    "\n",
    "For example, the following code will never complete:\n",
    "```python\n",
    "i = 0\n",
    "while i >= 0:\n",
    "    print(i)\n",
    "    i += 1\n",
    "```"
   ]
  },
  {
   "cell_type": "markdown",
   "metadata": {},
   "source": [
    "# Functions and classes\n",
    "\n",
    "<img alt=\"xkcd 1205 Is it worth the time?\n",
    "              [Above the frame is written the following text:]\n",
    "    How long can you work on making a routine task more efficient before you're spending more time than you save? \n",
    "    (across five years)\n",
    "    [The rest of the comic is given in a tabular format. At the top of the table is how often you do the task, with six time increments underneath, and then at the side is written How much time do you shave off at the leftmost part of the page, with 9 lengths of time to the left. The empty fields in the calendar are shaded dark gray.]\n",
    "    [The first row is for 1 second, where the table values are 1 day (for 50 per day), 2 hours (for 5 per day), 30 minutes (for daily), 4 minutes (for weekly), 1 minute (for monthly), and 5 seconds (for yearly).]\n",
    "    [The second row is for 5 seconds, where the table values are 5 days (for 50 per day), 12 hours (for 5 per day), 2 hours (for daily), 21 minutes (for weekly), 5 minutes (for monthly), and 25 seconds (for yearly).]\n",
    "    [The third row is for 30 seconds, where the table values are 4 weeks (for 50 per day), 3 days (for 5 per day), 12 hours (for daily), 2 hours (for weekly), 30 minutes (for monthly), and 2 minutes (for yearly).]\n",
    "    [The fourth row is for 1 minute, where the table values are 8 weeks (for 50 per day), 6 days (for 5 per day), 1 day (for daily), 4 hours (for weekly), 1 hour (for monthly), and 5 minutes (for yearly).]\n",
    "    [The fifth row is for 5 minutes, where the table values are 9 months (for 50 per day), 4 weeks (for 5 per day), 6 days (for daily), 21 hours (for weekly), 5 hours (for monthly), and 25 minutes (for yearly).]\n",
    "    [The sixth row is for 30 minutes, where the table values are greyed out (for 50 per day), 6 months (for 5 per day), 5 weeks (for daily), 5 days (for weekly), 1 day (for monthly), and 2 hours (for yearly).]\n",
    "    [The seventh row is for 1 hour, where the table values are greyed out (for 50 per day), 10 months (for 5 per day), 2 months (for daily), 10 days (for weekly), 2 days (for monthly), and 5 hours (for yearly).]\n",
    "    [The eighth row is for 6 hours, where the table values are greyed out (for 50 per day, 5 per day and daily), 2 months (for weekly), 2 weeks (for monthly), and 1 day (for yearly).]\n",
    "    [The ninth and final row is for 1 day, where the table values are greyed out (for 50 per day, 5 per day, daily and weekly), 8 weeks (for monthly), and 5 days (for yearly).]\n",
    "          \" align=\"right\" style=\"width:40%\" src=https://imgs.xkcd.com/comics/is_it_worth_the_time.png>\n",
    "\n",
    "A wise geophysics technician once told me that the point of functions and classes is to write the language you wish you had. Ideally you could have code that looks like:\n",
    "\n",
    "```python\n",
    "data = read_some_data()\n",
    "processed_data = do_the_mahi(data)\n",
    "paper_draft = make_manuscript(processed_data)\n",
    "nobel_prize = submit_and_review(paper_draft)\n",
    "```\n",
    "\n",
    "It doesn't quite work like that, but functions are there to make your life easier! The main reason they make your life easier boils down to the programming principle of [DRY (Don't Repeat Yourself)](https://en.wikipedia.org/wiki/Don%27t_repeat_yourself).\n",
    "\n",
    "\n",
    "In general you should solve a problem once, solve it well and reuse that solution. Duplication is waste, and solving a problem again introduces more sources of error.  Better still, if someone has solved your problem for you, don't solve it again (unless you think they are wrong). \n",
    "\n",
    "If you do have to solve the problem yourself, you should solve the problem first, and optimise later. A fast but incorrect solution is still wrong (and this is why **tests are important**)."
   ]
  },
  {
   "cell_type": "markdown",
   "metadata": {},
   "source": [
    "## Functions in Python\n",
    "\n",
    "Functions allow you to write some code with specified inputs do some work, and get a returned value (or not if you don't want to, remember, we can work in-place on variables). \n",
    "\n",
    "Lets say we want to work out the length of the third side of a right-angled triangle, we could (and should) write a function to do this.  In Python functions are declared with the following syntax:\n",
    "\n",
    "```python\n",
    "def function_name(argument_1, argument_2):\n",
    "    \"\"\" \n",
    "    This function does something. \n",
    "    \n",
    "    Parameters\n",
    "    ----------\n",
    "    argument_1\n",
    "        Some argument\n",
    "    argument_2\n",
    "        Another argument\n",
    "        \n",
    "    Returns\n",
    "    -------\n",
    "    Some value\n",
    "    \"\"\"\n",
    "    output = do_something(argument_1, argument_2)\n",
    "    return output\n",
    "```\n",
    "where `function_name` is a user-defined name for the function, `argument_1` and `argument_2` are values passed to the function and used by the function, `return` is a keyword argument showing that the function is ending and returning the value stored in `output`.  Note again that indentation is important, and that the `def ...` statement must end with a colon (`:`).\n",
    "\n",
    "The names for arguments do not need to be the same as the variables in the rest of your script, those variable names are only active within the scope of the function.  As with variable naming, functions should be named usefully, and their names should not be the same as any other function of variable.\n",
    "\n",
    "The text within the three quotes (`\"\"\" text \"\"\"`) serves to document the purpose of the function, what the arguments are, and what is returned.  It is good practice to document all functions so that you can easily understand what they are doing!\n",
    "\n",
    "The function below is our attempt at computing the length of the third side of a right-angled triangle:"
   ]
  },
  {
   "cell_type": "code",
   "execution_count": null,
   "metadata": {
    "execution": {
     "iopub.execute_input": "2024-02-20T20:55:47.144882Z",
     "iopub.status.busy": "2024-02-20T20:55:47.144688Z",
     "iopub.status.idle": "2024-02-20T20:55:47.147740Z",
     "shell.execute_reply": "2024-02-20T20:55:47.147199Z"
    }
   },
   "outputs": [],
   "source": [
    "def hypotenuse(a, b):\n",
    "    \"\"\"\n",
    "    Compute the length of the hypotenuse of a right-angled triangle given two sides\n",
    "\n",
    "    Parameters\n",
    "    ----------\n",
    "    a\n",
    "        The length of one side\n",
    "    b\n",
    "        The length of the other side\n",
    "\n",
    "    Returns\n",
    "    -------\n",
    "    The length of the hypotenuse\n",
    "    \"\"\"\n",
    "    c = (a ** 2 + b ** 2) ** 0.5\n",
    "    return c"
   ]
  },
  {
   "cell_type": "code",
   "execution_count": null,
   "metadata": {
    "execution": {
     "iopub.execute_input": "2024-02-20T20:55:47.149668Z",
     "iopub.status.busy": "2024-02-20T20:55:47.149505Z",
     "iopub.status.idle": "2024-02-20T20:55:47.152750Z",
     "shell.execute_reply": "2024-02-20T20:55:47.152368Z"
    }
   },
   "outputs": [],
   "source": [
    "hypotenuse(a=3, b=4)  # A simple pythagorean triple, useful little test-case!"
   ]
  },
  {
   "cell_type": "markdown",
   "metadata": {},
   "source": [
    "**Exercise:**\n",
    "\n",
    "Write a function to calculate the mean of a list of values."
   ]
  },
  {
   "cell_type": "code",
   "execution_count": null,
   "metadata": {
    "execution": {
     "iopub.execute_input": "2024-02-20T20:55:47.154701Z",
     "iopub.status.busy": "2024-02-20T20:55:47.154536Z",
     "iopub.status.idle": "2024-02-20T20:55:47.156700Z",
     "shell.execute_reply": "2024-02-20T20:55:47.156275Z"
    }
   },
   "outputs": [],
   "source": [
    "# Your code here."
   ]
  },
  {
   "cell_type": "markdown",
   "metadata": {},
   "source": [
    "Now that you have a function, you can reuse it (yay!). This is one of the main ideas behind DRY (Don't Repeat Yourself, and yes, I am aware of the irony in repeating myself here...). One simple way to reuse a function is to call it multiple times in a loop. \n",
    "\n",
    "As a simple example, say we wanted to compute the hypotenuse of a series of triangles - we can use our function from before within a loop:"
   ]
  },
  {
   "cell_type": "code",
   "execution_count": null,
   "metadata": {
    "execution": {
     "iopub.execute_input": "2024-02-20T20:55:47.158717Z",
     "iopub.status.busy": "2024-02-20T20:55:47.158527Z",
     "iopub.status.idle": "2024-02-20T20:55:47.161537Z",
     "shell.execute_reply": "2024-02-20T20:55:47.161134Z"
    }
   },
   "outputs": [],
   "source": [
    "a_list = [2, 5, 3, 6]\n",
    "b = 10\n",
    "\n",
    "for a in a_list:\n",
    "    hyp = hypotenuse(a, b)\n",
    "    print(f\"Triangle {a}, {b} has hypotenuse {hyp}\")"
   ]
  },
  {
   "cell_type": "markdown",
   "metadata": {},
   "source": [
    "## Classes\n",
    "\n",
    "---\n",
    "\n",
    "***Caution:*** You don't need to understand the details of classes! BUT you will interact with them a lot. You can skim over the next section, but it is here for reference/interest if you want it!\n",
    "\n",
    "---\n",
    "\n",
    "I want to introduce you to classes here, but you probably won't write any for a while. You will interact with many though (everything in python is an object...) which is the main reason I want to show you them!\n",
    "\n",
    "Python is an [object-oriented](https://en.wikipedia.org/wiki/Object-oriented_programming) language.  Objects are things that can contain data (properties) alongside functions (methods) that operate on them. Everything in Python is an object, but some are less obvious than others.  Methods on objects are accessed using the following syntax:\n",
    "\n",
    "```python\n",
    "obj.method(arguments, ...)\n",
    "```\n",
    "\n",
    "Properties are accessed without the brackets, e.g.:\n",
    "\n",
    "```python\n",
    "obj.property\n",
    "```\n",
    "\n",
    "We have already seen the `.append` method on lists, similar attributes can be accessed in this way.\n",
    "\n",
    "In Python classes are declared using the following syntax:\n",
    "\n",
    "```python\n",
    "class ClassName():\n",
    "    \"\"\" \n",
    "    Some class.\n",
    "    \n",
    "    Parameters\n",
    "    ----------\n",
    "    arg_1\n",
    "        First value\n",
    "    arg_2\n",
    "        Second value    \n",
    "    \"\"\"\n",
    "    default_property = 42\n",
    "    \n",
    "    def __init__(self, arg_1, arg_2):\n",
    "        self.arg_1 = arg_1\n",
    "        self.arg_2 = arg_2\n",
    "        \n",
    "    def some_method(self, arg_3):\n",
    "        \"\"\"\n",
    "        Do something with the object and another argument.\n",
    "        \n",
    "        Parameters\n",
    "        ----------\n",
    "        arg_3\n",
    "            Some argument\n",
    "            \n",
    "        Returns\n",
    "        -------\n",
    "        Some output\n",
    "        \"\"\"\n",
    "        output = do_something(\n",
    "            self.arg_1, self.arg_2, self.default_property, arg_3)\n",
    "        return output\n",
    "```"
   ]
  },
  {
   "cell_type": "markdown",
   "metadata": {},
   "source": [
    "Lets make a class to hold an observation of strike and dip of a plane.  We should keep track of where the observation was made as well, so we will give it `latitude`, `longitude` and `elevation` attributes.\n",
    "\n",
    "In the class below we have added a *special* method called `__repr__` - this method is used by the the Python interpreter (the thing that converts your Python code into something the computer can actually understand) to work out how to format the string that comes from a `print` call. Generally methods that are of the form: `__method__` with double underscores are protected methods (also reffered to as \"dunder\" methods as a concatenation of \"double underscore\") that you don't call directly (e.g. you wouldn't usually run `obj.__repr__()`, you would just run `print(obj)`).\n",
    "\n",
    "Below is that simple class:"
   ]
  },
  {
   "cell_type": "code",
   "execution_count": null,
   "metadata": {
    "execution": {
     "iopub.execute_input": "2024-02-20T20:55:47.163592Z",
     "iopub.status.busy": "2024-02-20T20:55:47.163428Z",
     "iopub.status.idle": "2024-02-20T20:55:47.166867Z",
     "shell.execute_reply": "2024-02-20T20:55:47.166471Z"
    }
   },
   "outputs": [],
   "source": [
    "class StrikeDipObservation():\n",
    "    \"\"\"\n",
    "    Holder for Strike and Dip observations.\n",
    "\n",
    "    Parameters\n",
    "    ----------\n",
    "    strike\n",
    "        Strike of plane in degrees from north\n",
    "    dip\n",
    "        Dip of plane in degrees from horizontal, positive down\n",
    "    latitude\n",
    "        Latitude of observation in degrees\n",
    "    longitude\n",
    "        Longitude of observation in degrees\n",
    "    elevation\n",
    "        Elevation of observation in meters above sea level.\n",
    "    \"\"\"\n",
    "\n",
    "    def __init__(self, strike, dip, latitude, longitude, elevation):\n",
    "        self.strike = strike\n",
    "        self.dip = dip\n",
    "        self.latitude = latitude\n",
    "        self.longitude = longitude\n",
    "        self.elevation = elevation\n",
    "\n",
    "    def __repr__(self):\n",
    "        # This will make a nicely formatted print-string of out class\n",
    "        return (\n",
    "            f\"StrikeDipObservation(strike={self.strike}, dip={self.dip}, \"\n",
    "            f\"latitude={self.latitude}, longitude={self.longitude}, \"\n",
    "            f\"elevation={self.elevation})\")"
   ]
  },
  {
   "cell_type": "code",
   "execution_count": null,
   "metadata": {
    "execution": {
     "iopub.execute_input": "2024-02-20T20:55:47.168783Z",
     "iopub.status.busy": "2024-02-20T20:55:47.168615Z",
     "iopub.status.idle": "2024-02-20T20:55:47.171415Z",
     "shell.execute_reply": "2024-02-20T20:55:47.170966Z"
    }
   },
   "outputs": [],
   "source": [
    "plane_observation = StrikeDipObservation(0, 20, -42.0, 172.3, 1203)\n",
    "print(plane_observation)"
   ]
  },
  {
   "cell_type": "markdown",
   "metadata": {},
   "source": [
    "This is a nice, but pretty useless class.  Lets add some methods to get the plunge and trend of the pole to the plane, and the unit-vector that describes this pole:"
   ]
  },
  {
   "cell_type": "code",
   "execution_count": null,
   "metadata": {
    "execution": {
     "iopub.execute_input": "2024-02-20T20:55:47.173477Z",
     "iopub.status.busy": "2024-02-20T20:55:47.173276Z",
     "iopub.status.idle": "2024-02-20T20:55:47.178848Z",
     "shell.execute_reply": "2024-02-20T20:55:47.178321Z"
    }
   },
   "outputs": [],
   "source": [
    "# Class copied from above with extra methods!\n",
    "\n",
    "# We need to use some sine and cosine functions, which we can get\n",
    "# from Python's math package.\n",
    "import math\n",
    "\n",
    "\n",
    "class StrikeDipObservation():\n",
    "    \"\"\"\n",
    "    Holder for Strike and Dip observations.\n",
    "\n",
    "    Parameters\n",
    "    ----------\n",
    "    strike\n",
    "        Strike of plane in degrees from north\n",
    "    dip\n",
    "        Dip of plane in degrees from horizontal, positive down\n",
    "    latitude\n",
    "        Latitude of observation in degrees\n",
    "    longitude\n",
    "        Longitude of observation in degrees\n",
    "    elevation\n",
    "        Elevation of observation in meters above sea level.\n",
    "    \"\"\"\n",
    "\n",
    "    def __init__(self, strike, dip, latitude, longitude, elevation):\n",
    "        self.strike = strike\n",
    "        self.dip = dip\n",
    "        self.latitude = latitude\n",
    "        self.longitude = longitude\n",
    "        self.elevation = elevation\n",
    "\n",
    "    def __repr__(self):\n",
    "        # This will make a nicely formatted print-string of out class\n",
    "        return (\n",
    "            f\"StrikeDipObservation(strike={self.strike}, dip={self.dip}, \"\n",
    "            f\"latitude={self.latitude}, longitude={self.longitude}, \"\n",
    "            f\"elevation={self.elevation})\")\n",
    "\n",
    "    def plunge(self):\n",
    "        \"\"\" Get the plunge of the pole to the plane. \"\"\"\n",
    "        return 90.0 - self.dip\n",
    "\n",
    "    def trend(self):\n",
    "        \"\"\" Get the trend of the pole to the plane. \"\"\"\n",
    "        trend = self.strike - 90.0\n",
    "        # Ensure positive strike\n",
    "        if trend > 0:\n",
    "            return trend\n",
    "        return self.strike + 270.0\n",
    "\n",
    "    def unit_vector(self):\n",
    "        x = (math.sin(math.radians(self.trend())) *\n",
    "             math.cos(math.radians(self.plunge())))\n",
    "        y = (math.cos(math.radians(self.trend())) *\n",
    "             math.cos(math.radians(self.plunge())))\n",
    "        z = -1 * math.sin(math.radians(self.plunge()))\n",
    "        # Quick check\n",
    "        assert 1 - (math.sqrt(x ** 2 + y ** 2 + z ** 2)) < 0.0000001\n",
    "        return x, y, z"
   ]
  },
  {
   "cell_type": "code",
   "execution_count": null,
   "metadata": {
    "execution": {
     "iopub.execute_input": "2024-02-20T20:55:47.180794Z",
     "iopub.status.busy": "2024-02-20T20:55:47.180624Z",
     "iopub.status.idle": "2024-02-20T20:55:47.183629Z",
     "shell.execute_reply": "2024-02-20T20:55:47.183084Z"
    }
   },
   "outputs": [],
   "source": [
    "plane_observation = StrikeDipObservation(0, 20, -42.0, 172.3, 1203)\n",
    "print(plane_observation)"
   ]
  },
  {
   "cell_type": "code",
   "execution_count": null,
   "metadata": {
    "execution": {
     "iopub.execute_input": "2024-02-20T20:55:47.185604Z",
     "iopub.status.busy": "2024-02-20T20:55:47.185410Z",
     "iopub.status.idle": "2024-02-20T20:55:47.188557Z",
     "shell.execute_reply": "2024-02-20T20:55:47.188173Z"
    }
   },
   "outputs": [],
   "source": [
    "plane_observation.plunge()"
   ]
  },
  {
   "cell_type": "code",
   "execution_count": null,
   "metadata": {
    "execution": {
     "iopub.execute_input": "2024-02-20T20:55:47.190470Z",
     "iopub.status.busy": "2024-02-20T20:55:47.190307Z",
     "iopub.status.idle": "2024-02-20T20:55:47.193431Z",
     "shell.execute_reply": "2024-02-20T20:55:47.193054Z"
    }
   },
   "outputs": [],
   "source": [
    "plane_observation.trend()"
   ]
  },
  {
   "cell_type": "code",
   "execution_count": null,
   "metadata": {
    "execution": {
     "iopub.execute_input": "2024-02-20T20:55:47.195364Z",
     "iopub.status.busy": "2024-02-20T20:55:47.195171Z",
     "iopub.status.idle": "2024-02-20T20:55:47.198313Z",
     "shell.execute_reply": "2024-02-20T20:55:47.197929Z"
    }
   },
   "outputs": [],
   "source": [
    "plane_observation.unit_vector()"
   ]
  },
  {
   "cell_type": "markdown",
   "metadata": {},
   "source": [
    "How very logical...\n",
    "\n",
    "<img alt=\"Logical Spok\" align=\"right\" style=\"width:20%\" src=https://i.imgflip.com/1eqdbk.jpg>\n",
    "\n",
    "You will encounter a range of objects if you continue to use Python, so it is important to understand the basic concept that an object can hold both *attributes* (in our case the values of strike, dip, latitude, longitude and elevation), as well as *methods* (in our case the plunge, trend and unit_vector methods). You probably won't have to write your own methods for a while, but they can be very useful for various things, not-least in explicitly allowing some actions to your data.\n",
    "\n",
    "That is it for now on functions and classes - we will write a few functions in the next few notebooks and we will interact with lots of classes (whether explicitly or implicitly). For now it is important that you know they exist, but I always find it easier to learn with some examples.\n",
    "\n",
    "And with that, lets get into some plotting!"
   ]
  },
  {
   "cell_type": "markdown",
   "metadata": {},
   "source": [
    "---\n",
    "\n",
    "# Some more plotting\n",
    "\n",
    "In the last notebook we looked at plotting a single data set and labelling the diagram in a helpful way. Next we'll look at how we can combine different data sets (here the three components of motion measured at PYGR) in a single set of axes.\n",
    "\n",
    "Remember, we first have to import any packages (notably Matplotlib in this case) that we are going to use. We also need to respecify the function we used previously to get the GNSS data from [GeoNet](https://www.geonet.org.nz).\n",
    "\n",
    "Now is also a good time to explain another line of code you may have seen: `%matplotlib notebook`: this is simply a convenient way of telling Jupyter to display Matplotlib figures in an interactive way, so that they can be zoomed in on etc. Without that line, the Matplotlib output is (was? Jupyter has been updated and it depends on what version you have!) a static figure. Generally you should put that line near the top of your notebook if you want to use it."
   ]
  },
  {
   "cell_type": "code",
   "execution_count": null,
   "metadata": {
    "execution": {
     "iopub.execute_input": "2024-02-20T20:55:47.200403Z",
     "iopub.status.busy": "2024-02-20T20:55:47.200239Z",
     "iopub.status.idle": "2024-02-20T20:55:47.788662Z",
     "shell.execute_reply": "2024-02-20T20:55:47.788120Z"
    }
   },
   "outputs": [],
   "source": [
    "%matplotlib widget\n",
    "\n",
    "import matplotlib.pyplot as plt\n",
    "import requests  # This helps with web-requests\n",
    "import datetime  # Python's representation of dates and times.\n",
    "\n",
    "\n",
    "# The following block of code defines a function that we can use\n",
    "# as often as we like to get GNSS data for a particular station\n",
    "def get_gnss_for_station(\n",
    "        station: str,\n",
    "        fits_url: str = \"http://fits.geonet.org.nz/observation\",) -> dict:\n",
    "    \"\"\"\n",
    "    Get GNSS data from GeoNet for the station\n",
    "\n",
    "    Parameters\n",
    "    ----------\n",
    "    station\n",
    "        The name of the station you want to get data for\n",
    "    fits_url\n",
    "        URL of the FITS data service you want to query.\n",
    "\n",
    "    Returns\n",
    "    -------\n",
    "    Dictionary with keys:\n",
    "        time \n",
    "            list of timestamps of observations\n",
    "        north\n",
    "            list of offsets in mm in the north direction\n",
    "        east\n",
    "            list of offsets in mm in the east direction\n",
    "        up          \n",
    "            list of vertical offsets in mm\n",
    "        north_error\n",
    "            list of errors in mm for north\n",
    "        east_error\n",
    "            list of errors in mm for east\n",
    "        up_error\n",
    "            list of erros in mm for up\n",
    "\n",
    "    \"\"\"\n",
    "    # Initialise an empty dictionary that we will append to\n",
    "    out = dict(time=[],\n",
    "               north=[],\n",
    "               east=[],\n",
    "               up=[],\n",
    "               north_error=[],\n",
    "               east_error=[],\n",
    "               up_error=[])\n",
    "    for channel in {\"north\", \"east\", \"up\"}:\n",
    "        parameters = {\"typeID\": channel[0], \"siteID\": station}\n",
    "        response = requests.get(fits_url, params=parameters)\n",
    "        assert response.status_code == 200, \"Bad request\"\n",
    "        payload = response.content.decode(\"utf-8\").split(\"\\n\")\n",
    "        # payload is a csv with header\n",
    "        # This is a list-comprehension, a type of fast, one-line for loop\n",
    "        payload = [p.split(',') for p in payload]\n",
    "        # Check that this is what we expect\n",
    "        assert payload[0][0] == 'date-time', \"Unkown format\"\n",
    "        assert len(payload[0]) == 3, \"Unknown format\"\n",
    "        times, displacements, errors = zip(*[\n",
    "            (datetime.datetime.strptime(p[0], '%Y-%m-%dT%H:%M:%S.%fZ'),\n",
    "             float(p[1]), float(p[2])) for p in payload[1:-1]])\n",
    "        if len(out[\"time\"]) == 0:\n",
    "            out.update({\"time\": times})\n",
    "        else:\n",
    "            assert out[\"time\"] == times, \"Different time sampling for different components.\"\n",
    "        out.update({channel: displacements, f\"{channel}_error\": errors})\n",
    "    return out"
   ]
  },
  {
   "cell_type": "markdown",
   "metadata": {},
   "source": [
    "Next we'll do something similar to the last exercise but use a `loop` to avoid writing the same code three times."
   ]
  },
  {
   "cell_type": "code",
   "execution_count": null,
   "metadata": {
    "execution": {
     "iopub.execute_input": "2024-02-20T20:55:47.790859Z",
     "iopub.status.busy": "2024-02-20T20:55:47.790644Z",
     "iopub.status.idle": "2024-02-20T20:55:48.493619Z",
     "shell.execute_reply": "2024-02-20T20:55:48.493281Z"
    }
   },
   "outputs": [],
   "source": [
    "pygr_data = get_gnss_for_station(station=\"PYGR\")\n",
    "fig, ax = plt.subplots()\n",
    "# This is the loop\n",
    "for component in [\"north\", \"east\", \"up\"]:\n",
    "    ax.plot(pygr_data[\"time\"], pygr_data[component],\n",
    "            label=component)\n",
    "ax.set_xlabel(\"Sample time (UTC)\")\n",
    "ax.set_ylabel(\"Offset in mm\")\n",
    "ax.set_title(\"GNSS offsets for PYGR\")\n",
    "ax.legend()\n",
    "plt.show()"
   ]
  },
  {
   "cell_type": "markdown",
   "metadata": {},
   "source": [
    "The step shows up on all components! Who would have thought it...?\n",
    "\n",
    "## Customizing plots\n",
    "\n",
    "Matplotlib automatically plots each line in a different colour, which is great! But maybe you don't like the\n",
    "default colours? We can specify colours, and loop through them as well if we want:"
   ]
  },
  {
   "cell_type": "code",
   "execution_count": null,
   "metadata": {
    "execution": {
     "iopub.execute_input": "2024-02-20T20:55:48.495802Z",
     "iopub.status.busy": "2024-02-20T20:55:48.495657Z",
     "iopub.status.idle": "2024-02-20T20:55:48.628534Z",
     "shell.execute_reply": "2024-02-20T20:55:48.628114Z"
    }
   },
   "outputs": [],
   "source": [
    "fig, ax = plt.subplots()\n",
    "# Using the `zip` command we can iterate through pairs of lists.\n",
    "for component, colour in zip([\"north\", \"east\", \"up\"], [\"black\", \"red\", \"green\"]):\n",
    "    # We add the color keyword argumet to set the colour of the line.\n",
    "    ax.plot(pygr_data[\"time\"], pygr_data[component],\n",
    "            label=component, color=colour)\n",
    "ax.set_xlabel(\"Sample time (UTC)\")\n",
    "ax.set_ylabel(\"Offset in mm\")\n",
    "ax.set_title(\"GNSS offsets for PYGR\")\n",
    "ax.legend()\n",
    "plt.show()"
   ]
  },
  {
   "cell_type": "markdown",
   "metadata": {},
   "source": [
    "You will note that Matplotlib uses American spelling. This is the case with pretty much all aspects of the Python world, and you'll just have to get used to it. (Of course, you're free to use whatever spelling conventions you like when naming variables, as long as you adhere to the general guidelines we've mentioned previously...)\n",
    "\n",
    "## Using style sheets\n",
    "You can control all sorts of other style aspects of Matplotlib. One of the simplest ways is to change the `stylesheet` that matplotlib is using.  There are quite a few of them, with  [examples here](https://matplotlib.org/stable/gallery/style_sheets/style_sheets_reference.html). Try experimenting with different options to see which ones you prefer. It's worth bearing in mind that some people might not be able to see the differences between colours. "
   ]
  },
  {
   "cell_type": "code",
   "execution_count": null,
   "metadata": {
    "execution": {
     "iopub.execute_input": "2024-02-20T20:55:48.630580Z",
     "iopub.status.busy": "2024-02-20T20:55:48.630440Z",
     "iopub.status.idle": "2024-02-20T20:55:48.759618Z",
     "shell.execute_reply": "2024-02-20T20:55:48.759287Z"
    }
   },
   "outputs": [],
   "source": [
    "plt.style.use(\"tableau-colorblind10\")\n",
    "fig, ax = plt.subplots()\n",
    "for component in [\"north\", \"east\", \"up\"]:\n",
    "    ax.plot(pygr_data[\"time\"], pygr_data[component],\n",
    "            label=component)\n",
    "ax.set_xlabel(\"Sample time (UTC)\")\n",
    "ax.set_ylabel(\"Offset in mm\")\n",
    "ax.set_title(\"GNSS offsets for PYGR\")\n",
    "ax.legend()\n",
    "plt.show()"
   ]
  },
  {
   "cell_type": "markdown",
   "metadata": {},
   "source": [
    "Nice."
   ]
  },
  {
   "cell_type": "markdown",
   "metadata": {},
   "source": [
    "Something you might find yourself wanting to do now and again is to focus on only part of your data. One way of doing that is to just change the limits of the axes:"
   ]
  },
  {
   "cell_type": "code",
   "execution_count": null,
   "metadata": {
    "execution": {
     "iopub.execute_input": "2024-02-20T20:55:48.762398Z",
     "iopub.status.busy": "2024-02-20T20:55:48.762223Z",
     "iopub.status.idle": "2024-02-20T20:55:48.883349Z",
     "shell.execute_reply": "2024-02-20T20:55:48.882972Z"
    }
   },
   "outputs": [],
   "source": [
    "fig, ax = plt.subplots()\n",
    "for component in [\"north\", \"east\", \"up\"]:\n",
    "    ax.plot(pygr_data[\"time\"], pygr_data[component],\n",
    "            label=component)\n",
    "ax.set_xlim(datetime.datetime(2009, 1, 1), datetime.datetime(2011, 1, 1))\n",
    "ax.set_xlabel(\"Sample time (UTC)\")\n",
    "ax.set_ylabel(\"Offset in mm\")\n",
    "ax.set_title(\"GNSS offsets for PYGR\")\n",
    "ax.legend()\n",
    "plt.show()"
   ]
  },
  {
   "cell_type": "markdown",
   "metadata": {},
   "source": [
    "We will look at some other methods in the next notebook when we encounter the infamous `Pandas` dataframe...\n",
    "\n",
    "So far we have plotted data as a continuous line.  For continuous data like this, this is fine, but what if we want\n",
    "to look at discrete samples?\n",
    "\n",
    "In matplotlib you can make a scatter plot by specifying a marker (in this case we are using a **o** symbol, which gives a circle),\n",
    "and setting the `linestyle` to `\"None\"` (or perhaps `dotted` or even `dashed`, if you want to retain a bit of a line). You can achieve the same result using `ax.scatter(x, y, marker=\"o\")`,\n",
    "but we will use the `.plot` method here because we need the arguments later..."
   ]
  },
  {
   "cell_type": "code",
   "execution_count": null,
   "metadata": {
    "execution": {
     "iopub.execute_input": "2024-02-20T20:55:48.886107Z",
     "iopub.status.busy": "2024-02-20T20:55:48.885965Z",
     "iopub.status.idle": "2024-02-20T20:55:49.007862Z",
     "shell.execute_reply": "2024-02-20T20:55:49.007542Z"
    }
   },
   "outputs": [],
   "source": [
    "fig, ax = plt.subplots()\n",
    "for component in [\"north\", \"east\", \"up\"]:\n",
    "    ax.plot(pygr_data[\"time\"], pygr_data[component],\n",
    "            marker=\"o\", markersize=4, linestyle=\"dotted\", color='navy',\n",
    "            label=component)\n",
    "ax.set_xlim(datetime.datetime(2009, 1, 1), datetime.datetime(2011, 1, 1))\n",
    "ax.set_xlabel(\"Sample time (UTC)\")\n",
    "ax.set_ylabel(\"Offset in mm\")\n",
    "ax.set_title(\"GNSS offsets for PYGR\")\n",
    "ax.legend()\n",
    "plt.show()"
   ]
  },
  {
   "cell_type": "markdown",
   "metadata": {},
   "source": [
    "We can immediately see that there is a gap in the data in early 2010 that wasn't obvious in our previous plots, which is helpful reminder that \"continuous\" data are not always as continuous as they seem.\n",
    "\n",
    "## Plotting uncertainties\n",
    "\n",
    "The data that we are plotting are daily solutions of position relative to some reference point.  These daily solutions are\n",
    "essentially averages (with quite a lot of extra noise reduction and weighting) of samples taken at much higher frequencies.\n",
    "These positions are provided with error estimations: you should always plot your uncertainty to ensure you are not\n",
    "over-interpreting features.  Lets plot some error bars on these points.\n",
    "\n",
    "Remember those `marker` and `linestyle` arguments? We need them here as well."
   ]
  },
  {
   "cell_type": "code",
   "execution_count": null,
   "metadata": {
    "execution": {
     "iopub.execute_input": "2024-02-20T20:55:49.010759Z",
     "iopub.status.busy": "2024-02-20T20:55:49.010591Z",
     "iopub.status.idle": "2024-02-20T20:55:49.918786Z",
     "shell.execute_reply": "2024-02-20T20:55:49.918457Z"
    }
   },
   "outputs": [],
   "source": [
    "fig, ax = plt.subplots()\n",
    "for component in [\"north\", \"east\", \"up\"]:\n",
    "    ax.errorbar(pygr_data[\"time\"], pygr_data[component],\n",
    "                yerr=pygr_data[f\"{component}_error\"],\n",
    "                marker=\"+\", linestyle=\"None\",\n",
    "                label=component)\n",
    "ax.set_xlim(datetime.datetime(2009, 1, 1), datetime.datetime(2011, 1, 1))\n",
    "ax.set_xlabel(\"Sample time (UTC)\")\n",
    "ax.set_ylabel(\"Offset in mm\")\n",
    "ax.set_title(\"GNSS offsets for PYGR\")\n",
    "ax.legend()\n",
    "plt.show()"
   ]
  },
  {
   "cell_type": "markdown",
   "metadata": {},
   "source": [
    "They are plotted, but hard to see, lets plot just the vertical (up) component between 2009/06 and 2009/08:"
   ]
  },
  {
   "cell_type": "code",
   "execution_count": null,
   "metadata": {
    "execution": {
     "iopub.execute_input": "2024-02-20T20:55:49.922007Z",
     "iopub.status.busy": "2024-02-20T20:55:49.921864Z",
     "iopub.status.idle": "2024-02-20T20:55:50.239046Z",
     "shell.execute_reply": "2024-02-20T20:55:50.238723Z"
    }
   },
   "outputs": [],
   "source": [
    "fig, ax = plt.subplots()\n",
    "ax.errorbar(pygr_data[\"time\"], pygr_data[\"up\"],\n",
    "            yerr=pygr_data[\"up_error\"],\n",
    "            marker=\"+\", linestyle=\"None\",\n",
    "            label=component, color=\"green\")\n",
    "ax.set_xlim(datetime.datetime(2009, 6, 1), datetime.datetime(2009, 10, 1))\n",
    "ax.set_xlabel(\"Sample time (UTC)\")\n",
    "ax.set_ylabel(\"Offset in mm\")\n",
    "ax.set_title(\"GNSS offsets for PYGR\")\n",
    "ax.legend()\n",
    "plt.show()"
   ]
  },
  {
   "cell_type": "markdown",
   "metadata": {},
   "source": [
    "This has kept the y-limits the same as for the whole dataset, meaning that we still can't see much! Let's adjust those\n",
    "y limits in the same way that we adjusted the x-limits."
   ]
  },
  {
   "cell_type": "code",
   "execution_count": null,
   "metadata": {
    "execution": {
     "iopub.execute_input": "2024-02-20T20:55:50.242304Z",
     "iopub.status.busy": "2024-02-20T20:55:50.242133Z",
     "iopub.status.idle": "2024-02-20T20:55:50.612160Z",
     "shell.execute_reply": "2024-02-20T20:55:50.611839Z"
    }
   },
   "outputs": [],
   "source": [
    "fig, ax = plt.subplots()\n",
    "ax.errorbar(pygr_data[\"time\"], pygr_data[\"up\"],\n",
    "            yerr=pygr_data[\"up_error\"],\n",
    "            marker=\"+\", linestyle=\"None\",\n",
    "            label=component, color=\"green\")\n",
    "ax.set_xlim(datetime.datetime(2009, 6, 1), datetime.datetime(2009, 10, 1))\n",
    "ax.set_ylim(-150, 0)\n",
    "ax.set_xlabel(\"Sample time (UTC)\")\n",
    "ax.set_ylabel(\"Offset in mm\")\n",
    "ax.set_title(\"GNSS offsets for PYGR\")\n",
    "ax.legend()\n",
    "plt.show()"
   ]
  },
  {
   "cell_type": "markdown",
   "metadata": {},
   "source": [
    "Great, we can see that there is a large error for a particular point there.  For those who haven't guessed it yet, this is the day of the [Dusky Sound earthquake](https://www.geonet.org.nz/earthquake/story/3124785). The errors are largest here because the displacement is a) large and b) not instantaneous. There are components of co-seismic and post-seismic slip in this one data-point that effectively smear the motion. \n",
    "\n",
    "These daily GPS solutions are not *true* measurements, rather a model of the displacements based on data. To use these data to model slip on faults, or other phenomena models are often built on top of these daily solutions (models themselves).  If you don't understand the uncertainty in your data (whether those data are raw data, or modeled data) you won't understand the uncertainty in your final result..."
   ]
  },
  {
   "cell_type": "markdown",
   "metadata": {},
   "source": [
    "One last thing for now, our tick labels on the x-axis are overlapping, obscuring them from view. Lets sort that out as well:"
   ]
  },
  {
   "cell_type": "code",
   "execution_count": null,
   "metadata": {
    "execution": {
     "iopub.execute_input": "2024-02-20T20:55:50.615722Z",
     "iopub.status.busy": "2024-02-20T20:55:50.615582Z",
     "iopub.status.idle": "2024-02-20T20:55:50.943534Z",
     "shell.execute_reply": "2024-02-20T20:55:50.943210Z"
    }
   },
   "outputs": [],
   "source": [
    "fig, ax = plt.subplots()\n",
    "ax.errorbar(pygr_data[\"time\"], pygr_data[\"up\"],\n",
    "            yerr=pygr_data[\"up_error\"],\n",
    "            marker=\"+\", linestyle=\"None\",\n",
    "            label=component, color=\"green\")\n",
    "ax.set_xlim(datetime.datetime(2009, 6, 1), datetime.datetime(2009, 10, 1))\n",
    "ax.set_ylim(-150, 0)\n",
    "# Set the x-labels to be rotated so that they don't overlap.\n",
    "plt.setp(ax.xaxis.get_majorticklabels(), rotation=20)\n",
    "ax.set_xlabel(\"Sample time (UTC)\")\n",
    "ax.set_ylabel(\"Offset in mm\")\n",
    "ax.set_title(\"GNSS offsets for PYGR\")\n",
    "ax.legend()\n",
    "plt.show()"
   ]
  },
  {
   "cell_type": "markdown",
   "metadata": {},
   "source": [
    "**Exercise:** Make a plot of the GNSS time-series for a station of your choosing. \n",
    "\n",
    "Look on the [GeoNet station search](https://www.geonet.org.nz/data/network/sensor/search) and tick the\n",
    "GNSS/GPS box to show the GNSS stations.  Try and find one that you think will have some interesting signals.\n",
    "Hint, find somewhere near a large earthquake, or close the Hikurangi margin where slow-slip regularly occurs."
   ]
  },
  {
   "cell_type": "code",
   "execution_count": null,
   "metadata": {
    "execution": {
     "iopub.execute_input": "2024-02-20T20:55:50.947249Z",
     "iopub.status.busy": "2024-02-20T20:55:50.947106Z",
     "iopub.status.idle": "2024-02-20T20:55:50.950295Z",
     "shell.execute_reply": "2024-02-20T20:55:50.949994Z"
    }
   },
   "outputs": [],
   "source": [
    "# Your plots here."
   ]
  },
  {
   "cell_type": "markdown",
   "metadata": {},
   "source": [
    "# NumPy: Numerical Python\n",
    "\n",
    "We've seen with Matplotlib how importing code (\"modules\", or \"packages\", or \"libraries\") written by someone else, or more likely a huge team of people, enables us to focus on the science we're interested in while leaving much of the heavy-lifting to a module. This sort of philosopy underpins a lot of Python programming and we'll look into it a little further by using a really important package, [NumPy](https://numpy.org/).\n",
    "\n",
    "<img alt=\"Numpy logo\" align=\"right\" style=\"width:30%\" src=\"https://upload.wikimedia.org/wikipedia/commons/3/31/NumPy_logo_2020.svg\">\n",
    "\n",
    "NumPy is flipping excellent. NumPy is at the heart of almost all scientific Python applications. If you are\n",
    "not using NumPy directly you are probably using something that uses NumPy.  If you google around on the\n",
    "topic of Python, you will undoubtedly find people saying:\n",
    "\n",
    "> Python is slow\n",
    "\n",
    "and they are not wrong, Python itself isn't very fast (although if you are a good programmer and know how what you're doing you can can get Python to be *fast enough* for many applications), but one of the super-powers of Python\n",
    "is its extensibility. NumPy extends Python with many fast and well-tested C, C++ and Fortran libraries, and\n",
    "provides *the* way to handle arbitrarily large and dimensional arrays of data in Python.\n",
    "\n",
    "> **NumPy** is fast\n",
    "\n",
    "## Speed\n",
    "\n",
    "Lets first show that speed, and some of the additional simplicity that NumPy brings.  We'll write a function that adds a number to every value in an array using a simple loop."
   ]
  },
  {
   "cell_type": "code",
   "execution_count": null,
   "metadata": {
    "execution": {
     "iopub.execute_input": "2024-02-20T20:55:50.953453Z",
     "iopub.status.busy": "2024-02-20T20:55:50.953322Z",
     "iopub.status.idle": "2024-02-20T20:55:50.956765Z",
     "shell.execute_reply": "2024-02-20T20:55:50.956449Z"
    }
   },
   "outputs": [],
   "source": [
    "def add_to_array(array, number_to_add):\n",
    "    \"\"\" Add one number to all values in an array. \"\"\"\n",
    "    for number in array:\n",
    "        number += number_to_add\n",
    "    return array"
   ]
  },
  {
   "cell_type": "markdown",
   "metadata": {},
   "source": [
    "To test how long this takes and compare to NumPy, we will create an array (similar to a list)\n",
    "of 1 million random numbers.  We will use NumPy's \n",
    "[random.randn](https://numpy.org/doc/stable/reference/random/generated/numpy.random.randn.html) \n",
    "function to make this array.  It is a standard convention to `import numpy as np`: you don't have to,\n",
    "it is just people being lazy and conventional and trying to avoid typing `numpy` quite so many times.\n",
    "\n",
    "To check what we have made we will look at the shape of the array. Every NumPy array has a `.shape` property,\n",
    "which tells us the dimensions of the array (remember that a NumPy array is n-dimensional).  This shape is\n",
    "returned as a `tuple` (hence the round brackets and comma).  We will make a 1x1000000 array. As it's a one-dimensional array, only the\n",
    "length is given."
   ]
  },
  {
   "cell_type": "code",
   "execution_count": null,
   "metadata": {
    "execution": {
     "iopub.execute_input": "2024-02-20T20:55:50.959812Z",
     "iopub.status.busy": "2024-02-20T20:55:50.959680Z",
     "iopub.status.idle": "2024-02-20T20:55:50.995670Z",
     "shell.execute_reply": "2024-02-20T20:55:50.995347Z"
    }
   },
   "outputs": [],
   "source": [
    "import numpy as np\n",
    "\n",
    "array = np.random.randn(int(1e6))\n",
    "print(array.shape)"
   ]
  },
  {
   "cell_type": "markdown",
   "metadata": {},
   "source": [
    "Great, we have an array!  Lets try using our function to add 2 to every value in the array.  We don't really care\n",
    "about the outcome of this, but we will test how long it takes using the `timeit` magic.  This is a jupyter/ipython\n",
    "inline decorator. The outcome of it is that it times how long our function takes an averages over many loops."
   ]
  },
  {
   "cell_type": "code",
   "execution_count": null,
   "metadata": {
    "execution": {
     "iopub.execute_input": "2024-02-20T20:55:50.998904Z",
     "iopub.status.busy": "2024-02-20T20:55:50.998765Z",
     "iopub.status.idle": "2024-02-20T20:55:57.573688Z",
     "shell.execute_reply": "2024-02-20T20:55:57.573360Z"
    },
    "tags": [
     "nbval-ignore-output"
    ]
   },
   "outputs": [],
   "source": [
    "%timeit add_to_array(array, 2)"
   ]
  },
  {
   "cell_type": "markdown",
   "metadata": {},
   "source": [
    "On my computer I get something around 220 milli-seconds. \n",
    "\n",
    "Lets try the same with NumPy's add. We can just use the `+` symbol, or the `+=` for in-place\n",
    "addition. (Note that `+=` is faster, but doesn't work with the `timeit` magic.)"
   ]
  },
  {
   "cell_type": "code",
   "execution_count": null,
   "metadata": {
    "execution": {
     "iopub.execute_input": "2024-02-20T20:55:57.576842Z",
     "iopub.status.busy": "2024-02-20T20:55:57.576702Z",
     "iopub.status.idle": "2024-02-20T20:56:02.101310Z",
     "shell.execute_reply": "2024-02-20T20:56:02.100984Z"
    },
    "tags": [
     "nbval-ignore-output"
    ]
   },
   "outputs": [],
   "source": [
    "%timeit array + 2"
   ]
  },
  {
   "cell_type": "markdown",
   "metadata": {},
   "source": [
    "On my computer I get something around 920 micro-seconds, or around 200 times faster.  Both times are quite fast,\n",
    "but when you are doing an operation many times, NumPy gets the speed you need.\n",
    "\n",
    "So, NumPy is fast for some things... We are not going to provide an exhaustive NumPy tutorial here, for that\n",
    "look to the [canonical NumPy tutorial](https://numpy.org/doc/stable/user/quickstart.html). Instead, lets focus on\n",
    "why you should (or might) care about NumPy by playing with some data.\n",
    "\n",
    "## Reading in data: DFDP-2 temperatures\n",
    "\n",
    "In late 2013 to early 2014, we (led by scientists from VUW, GNS Science, and the University of Otago) drilled an hole near the Alpine Fault.  Unfortunately we came up short of the Alpine Fault, but we got some pretty amazing data from the hole.  The temperatures we measured using a distributed fibre-optic sensing method were pretty unusual - that is, very hot! - and were\n",
    "the topic of a [Nature paper](https://www.nature.com/articles/nature22355).  We provided\n",
    "the temperature data as a supplement to the paper and have extracted a subset of the data to play with here.\n",
    "\n",
    "_(If for some reason someone comes across these notebook and wants to use these data, get the raw data from the\n",
    "paper and cite the paper!)_\n",
    "\n",
    "NumPy provides a nice way to load data from a text-file:"
   ]
  },
  {
   "cell_type": "code",
   "execution_count": null,
   "metadata": {
    "execution": {
     "iopub.execute_input": "2024-02-20T20:56:02.104482Z",
     "iopub.status.busy": "2024-02-20T20:56:02.104342Z",
     "iopub.status.idle": "2024-02-20T20:56:02.128624Z",
     "shell.execute_reply": "2024-02-20T20:56:02.128286Z"
    }
   },
   "outputs": [],
   "source": [
    "temp_data = np.loadtxt(\n",
    "    \"data/Sutherland_etal_DFDP_temperatures.csv\", delimiter=\",\",\n",
    "    skiprows=1)\n",
    "print(temp_data)"
   ]
  },
  {
   "cell_type": "markdown",
   "metadata": {},
   "source": [
    "Here we used the `delimiter` argument to tell NumPy that the file is comma separated (its a .csv file),\n",
    "and the `skiprows` argument to skip the header. Lets check what that header is:"
   ]
  },
  {
   "cell_type": "code",
   "execution_count": null,
   "metadata": {
    "execution": {
     "iopub.execute_input": "2024-02-20T20:56:02.131545Z",
     "iopub.status.busy": "2024-02-20T20:56:02.131408Z",
     "iopub.status.idle": "2024-02-20T20:56:02.135238Z",
     "shell.execute_reply": "2024-02-20T20:56:02.134807Z"
    },
    "tags": [
     "nbval-ignore-output"
    ]
   },
   "outputs": [],
   "source": [
    "with open(\"data/Sutherland_etal_DFDP_temperatures.csv\", \"r\") as f:\n",
    "    # Open the file read-only in a context-manager\n",
    "    print(f.readline())\n",
    "    # Read one line (the zeroth) from the file and print it."
   ]
  },
  {
   "cell_type": "markdown",
   "metadata": {},
   "source": [
    "Now we know what is in each column. One thing to note in passing is the difference between \"Drilled depth\" (which is measured along the borehole) and \"True Vertical Depth\" (which takes into account the fact that the borehole was strongly deviated towards the Alpine Fault by the strong fabric of the rocks being drilled.\n",
    "\n",
    "## Indexing and slicing NumPy arrays\n",
    "\n",
    "We can access the parts of the array by index, or slice.  A slice is a range of indexes, and allows us to grab\n",
    "chunks of an array.  Lets work out what our array looks like and extract some data from it:"
   ]
  },
  {
   "cell_type": "code",
   "execution_count": null,
   "metadata": {
    "execution": {
     "iopub.execute_input": "2024-02-20T20:56:02.138072Z",
     "iopub.status.busy": "2024-02-20T20:56:02.137940Z",
     "iopub.status.idle": "2024-02-20T20:56:02.141357Z",
     "shell.execute_reply": "2024-02-20T20:56:02.141002Z"
    }
   },
   "outputs": [],
   "source": [
    "print(temp_data.shape)"
   ]
  },
  {
   "cell_type": "markdown",
   "metadata": {},
   "source": [
    "This means that our array has 894 x 6 elements. At the moment our data are indexed by row first, then column,\n",
    "so that if we get the zeroth index of our data it will be the first row:"
   ]
  },
  {
   "cell_type": "code",
   "execution_count": null,
   "metadata": {
    "execution": {
     "iopub.execute_input": "2024-02-20T20:56:02.144922Z",
     "iopub.status.busy": "2024-02-20T20:56:02.144772Z",
     "iopub.status.idle": "2024-02-20T20:56:02.148718Z",
     "shell.execute_reply": "2024-02-20T20:56:02.148414Z"
    }
   },
   "outputs": [],
   "source": [
    "temp_data[0]"
   ]
  },
  {
   "cell_type": "markdown",
   "metadata": {},
   "source": [
    "If we want the temperature (column 5, starting from 0) from the 4th row we would have to do:"
   ]
  },
  {
   "cell_type": "code",
   "execution_count": null,
   "metadata": {
    "execution": {
     "iopub.execute_input": "2024-02-20T20:56:02.151833Z",
     "iopub.status.busy": "2024-02-20T20:56:02.151699Z",
     "iopub.status.idle": "2024-02-20T20:56:02.155655Z",
     "shell.execute_reply": "2024-02-20T20:56:02.155340Z"
    }
   },
   "outputs": [],
   "source": [
    "temp_data[4][5]"
   ]
  },
  {
   "cell_type": "markdown",
   "metadata": {},
   "source": [
    "This is all well and good, but it will be easier for what we're doing below to be able to interpret the array in terms of columns first, then rows.  We can *transpose* our data to get it into the shape we want:"
   ]
  },
  {
   "cell_type": "code",
   "execution_count": null,
   "metadata": {
    "execution": {
     "iopub.execute_input": "2024-02-20T20:56:02.158739Z",
     "iopub.status.busy": "2024-02-20T20:56:02.158606Z",
     "iopub.status.idle": "2024-02-20T20:56:02.161936Z",
     "shell.execute_reply": "2024-02-20T20:56:02.161605Z"
    }
   },
   "outputs": [],
   "source": [
    "temp_data = temp_data.T\n",
    "print(temp_data.shape)"
   ]
  },
  {
   "cell_type": "markdown",
   "metadata": {},
   "source": [
    "Now we can easily get all the temperatures by extracting the 5th column:"
   ]
  },
  {
   "cell_type": "code",
   "execution_count": null,
   "metadata": {
    "execution": {
     "iopub.execute_input": "2024-02-20T20:56:02.165272Z",
     "iopub.status.busy": "2024-02-20T20:56:02.165123Z",
     "iopub.status.idle": "2024-02-20T20:56:02.171421Z",
     "shell.execute_reply": "2024-02-20T20:56:02.171058Z"
    }
   },
   "outputs": [],
   "source": [
    "print(temp_data[5])"
   ]
  },
  {
   "cell_type": "markdown",
   "metadata": {},
   "source": [
    "Aaagh! That looks horrible, so let's plot it instead. I have re-written this to have all the parts you need - like a script that you might run in the future!\n",
    "\n",
    "First we'll plot it against _drilled depth_, which is in the zeroth column. The code below should seem fairly familiar because all we're doing is plotting one variable against another with Matplotlib as we"
   ]
  },
  {
   "cell_type": "code",
   "execution_count": null,
   "metadata": {
    "execution": {
     "iopub.execute_input": "2024-02-20T20:56:02.174383Z",
     "iopub.status.busy": "2024-02-20T20:56:02.174248Z",
     "iopub.status.idle": "2024-02-20T20:56:02.288500Z",
     "shell.execute_reply": "2024-02-20T20:56:02.288179Z"
    }
   },
   "outputs": [],
   "source": [
    "import numpy as np\n",
    "import matplotlib.pyplot as plt\n",
    "\n",
    "temp_data = np.loadtxt(\n",
    "    \"data/Sutherland_etal_DFDP_temperatures.csv\", delimiter=\",\",\n",
    "    skiprows=1)\n",
    "temp_data = temp_data.T\n",
    "\n",
    "fig, ax = plt.subplots()\n",
    "ax.plot(temp_data[5], temp_data[0])\n",
    "ax.set_xlabel(\"Temperature (deg C)\")\n",
    "ax.set_ylabel(\"Depth (m)\")\n",
    "ax.set_title(\"DFDP-2B Downhole Temperatures from Sutherland et al., 2017\")\n",
    "ax.invert_yaxis()  # Invert the y-axis so increasing depth is down\n",
    "plt.show()"
   ]
  },
  {
   "cell_type": "markdown",
   "metadata": {},
   "source": [
    "## Array maths: calculating temperature gradient\n",
    "\n",
    "Sutherland et al. calculated temperature gradients in degrees per km.  This is simply division, and we can do this really\n",
    "easily with NumPy using the simple formula:\n",
    "\\begin{equation}\n",
    "    T\\ gradient = \\frac{change\\ in\\ T}{change\\ in\\ depth}\n",
    "\\end{equation}\n",
    "\n",
    "So, we need the change in temperature and change in depth at every step. We can do this by subtracting a 1-sample\n",
    "shifted version of our column of interest from the column, e.g."
   ]
  },
  {
   "cell_type": "code",
   "execution_count": null,
   "metadata": {
    "execution": {
     "iopub.execute_input": "2024-02-20T20:56:02.292580Z",
     "iopub.status.busy": "2024-02-20T20:56:02.292438Z",
     "iopub.status.idle": "2024-02-20T20:56:02.295813Z",
     "shell.execute_reply": "2024-02-20T20:56:02.295501Z"
    }
   },
   "outputs": [],
   "source": [
    "temperature_change = temp_data[5][1:] - temp_data[5][0:-1]"
   ]
  },
  {
   "cell_type": "markdown",
   "metadata": {},
   "source": [
    "This looks a bit funky, but all that we have done is sliced our array so that we get the fifth column (the temperatures)\n",
    "(using the `[5]` index) and taken the elements of that column between the zeroth to n-1-th indexes away from\n",
    "that data from the same column, but from the 1st to the n-th index. \n",
    "\n",
    "We will do the same for the depth:"
   ]
  },
  {
   "cell_type": "code",
   "execution_count": null,
   "metadata": {
    "execution": {
     "iopub.execute_input": "2024-02-20T20:56:02.299127Z",
     "iopub.status.busy": "2024-02-20T20:56:02.298968Z",
     "iopub.status.idle": "2024-02-20T20:56:02.302147Z",
     "shell.execute_reply": "2024-02-20T20:56:02.301842Z"
    }
   },
   "outputs": [],
   "source": [
    "depth_change = temp_data[0][1:] - temp_data[0][0:-1]"
   ]
  },
  {
   "cell_type": "markdown",
   "metadata": {},
   "source": [
    "Lets plot our change in temperature to make sure we have something sensible.  We need to plot against depth, but our change in temperature\n",
    "is an average over a depth range. We will plot against the mid-point of the depths that the change in temperature is calculated over, lets\n",
    "make a new array that is that mid-point depth:"
   ]
  },
  {
   "cell_type": "code",
   "execution_count": null,
   "metadata": {
    "execution": {
     "iopub.execute_input": "2024-02-20T20:56:02.305634Z",
     "iopub.status.busy": "2024-02-20T20:56:02.305500Z",
     "iopub.status.idle": "2024-02-20T20:56:02.308854Z",
     "shell.execute_reply": "2024-02-20T20:56:02.308542Z"
    }
   },
   "outputs": [],
   "source": [
    "mid_point_depth = temp_data[0][0:-1] + depth_change / 2"
   ]
  },
  {
   "cell_type": "markdown",
   "metadata": {},
   "source": [
    "All that we have done is add half the change in depth to the depth. We have to ignore the final depth sample because\n",
    "we don't have a gradient that corresponds to this: there are no data beyond the end of the borehole, alas.\n",
    "\n",
    "Now we can plot again. Again I have put together all that we had above so that this runs like a script."
   ]
  },
  {
   "cell_type": "code",
   "execution_count": null,
   "metadata": {
    "execution": {
     "iopub.execute_input": "2024-02-20T20:56:02.312220Z",
     "iopub.status.busy": "2024-02-20T20:56:02.312064Z",
     "iopub.status.idle": "2024-02-20T20:56:02.370668Z",
     "shell.execute_reply": "2024-02-20T20:56:02.370350Z"
    }
   },
   "outputs": [],
   "source": [
    "import numpy as np\n",
    "import matplotlib.pyplot as plt\n",
    "\n",
    "# Read in the data\n",
    "temp_data = np.loadtxt(\n",
    "    \"data/Sutherland_etal_DFDP_temperatures.csv\", delimiter=\",\",\n",
    "    skiprows=1)\n",
    "temp_data = temp_data.T\n",
    "\n",
    "# Calculate gradients\n",
    "temperature_change = temp_data[5][1:] - temp_data[5][0:-1]\n",
    "depth_change = temp_data[0][1:] - temp_data[0][0:-1]\n",
    "mid_point_depth = temp_data[0][0:-1] + depth_change / 2\n",
    "\n",
    "# Plot the gradients\n",
    "fig, ax = plt.subplots()\n",
    "ax.plot(temperature_change, mid_point_depth)\n",
    "ax.set_xlabel(\"Temperature change (deg C)\")\n",
    "ax.set_ylabel(\"Mid-point depth (m)\")\n",
    "ax.set_title(\"DFDP-2B Temperature Gradient Profile\")\n",
    "ax.invert_yaxis()  # Invert the y-axis so increasing depth is down\n",
    "plt.show()"
   ]
  },
  {
   "cell_type": "markdown",
   "metadata": {},
   "source": [
    "Now we have the change in temperature and the change in depth we can calculate the temperature gradient at each point as a simple\n",
    "division.\n",
    "\n",
    "To get the units into degrees per km we will divide our change in depth by 1000 to convert to km first."
   ]
  },
  {
   "cell_type": "code",
   "execution_count": null,
   "metadata": {
    "execution": {
     "iopub.execute_input": "2024-02-20T20:56:02.375035Z",
     "iopub.status.busy": "2024-02-20T20:56:02.374895Z",
     "iopub.status.idle": "2024-02-20T20:56:02.378503Z",
     "shell.execute_reply": "2024-02-20T20:56:02.378199Z"
    }
   },
   "outputs": [],
   "source": [
    "depth_change /= 1000\n",
    "temperature_gradient = temperature_change / depth_change"
   ]
  },
  {
   "cell_type": "markdown",
   "metadata": {},
   "source": [
    "Again, lets plot the result at the mid-points (again, I have put this all into one cell):"
   ]
  },
  {
   "cell_type": "code",
   "execution_count": null,
   "metadata": {
    "execution": {
     "iopub.execute_input": "2024-02-20T20:56:02.382090Z",
     "iopub.status.busy": "2024-02-20T20:56:02.381958Z",
     "iopub.status.idle": "2024-02-20T20:56:02.441043Z",
     "shell.execute_reply": "2024-02-20T20:56:02.440721Z"
    }
   },
   "outputs": [],
   "source": [
    "import numpy as np\n",
    "import matplotlib.pyplot as plt\n",
    "\n",
    "# Read in the data\n",
    "temp_data = np.loadtxt(\n",
    "    \"data/Sutherland_etal_DFDP_temperatures.csv\", delimiter=\",\",\n",
    "    skiprows=1)\n",
    "temp_data = temp_data.T\n",
    "\n",
    "# Calculate gradients\n",
    "temperature_change = temp_data[5][1:] - temp_data[5][0:-1]\n",
    "depth_change = temp_data[0][1:] - temp_data[0][0:-1]\n",
    "mid_point_depth = temp_data[0][0:-1] + depth_change / 2\n",
    "\n",
    "# Calculate degC per km\n",
    "depth_change /= 1000\n",
    "temperature_gradient = temperature_change / depth_change\n",
    "\n",
    "fig, ax = plt.subplots()\n",
    "ax.plot(temperature_gradient, mid_point_depth)\n",
    "ax.set_xlabel(\"Temperature gradient (deg C / km)\")\n",
    "ax.set_ylabel(\"Mid-point depth (m)\")\n",
    "ax.set_title(\"DFDP2 Downhole Temperatures from Sutherland et al., 2017\")\n",
    "ax.invert_yaxis()  # Invert the y-axis so increasing depth is down\n",
    "plt.show()"
   ]
  },
  {
   "cell_type": "markdown",
   "metadata": {},
   "source": [
    "A brief inspection shows that the last two plots look very similar, this is because the depth sampling is 1m.\n",
    "\n",
    "**But wait!**  This isn't a true depth profile, this is just drilled depth...  We didn't drill a straight hole\n",
    "(not deliberately, but these things happen when you are a few hundred meters down in highly-foliated schist...).\n",
    "\n",
    "Let's have a look at what the hole looks like:"
   ]
  },
  {
   "cell_type": "code",
   "execution_count": null,
   "metadata": {
    "execution": {
     "iopub.execute_input": "2024-02-20T20:56:02.445720Z",
     "iopub.status.busy": "2024-02-20T20:56:02.445579Z",
     "iopub.status.idle": "2024-02-20T20:56:02.510750Z",
     "shell.execute_reply": "2024-02-20T20:56:02.510430Z"
    }
   },
   "outputs": [],
   "source": [
    "import numpy as np\n",
    "import matplotlib.pyplot as plt\n",
    "\n",
    "plt.rcdefaults()  # Go back to a more professional-looking style...\n",
    "\n",
    "# Read in the data\n",
    "temp_data = np.loadtxt(\n",
    "    \"data/Sutherland_etal_DFDP_temperatures.csv\", delimiter=\",\",\n",
    "    skiprows=1)\n",
    "temp_data = temp_data.T\n",
    "\n",
    "horizontal_distance = np.sqrt(temp_data[2] ** 2 + temp_data[3] ** 2)\n",
    "fig, ax = plt.subplots()\n",
    "ax.plot(horizontal_distance, temp_data[4])\n",
    "ax.set_xlabel(\"Horizontal distance from pad (m)\")\n",
    "ax.set_ylabel(\"True Vertical Depth (m)\")\n",
    "ax.set_title(\"DFDP2 hole profile\")\n",
    "ax.invert_yaxis()  # Invert the y-axis so increasing depth is down\n",
    "plt.show()"
   ]
  },
  {
   "cell_type": "markdown",
   "metadata": {},
   "source": [
    "**Exercise:** \n",
    "Plot the temperature gradient against true vertical depth.  You will need to recalculate the depth changes and the temperature gradient to do this.\n",
    "\n",
    "Do your plots look like the plot in the [Sutherland et al. paper](https://www.nature.com/articles/nature22355)?"
   ]
  },
  {
   "cell_type": "code",
   "execution_count": null,
   "metadata": {
    "execution": {
     "iopub.execute_input": "2024-02-20T20:56:02.515574Z",
     "iopub.status.busy": "2024-02-20T20:56:02.515405Z",
     "iopub.status.idle": "2024-02-20T20:56:02.518667Z",
     "shell.execute_reply": "2024-02-20T20:56:02.518361Z"
    }
   },
   "outputs": [],
   "source": [
    "# Your answer here"
   ]
  },
  {
   "cell_type": "markdown",
   "metadata": {},
   "source": [
    "## Saving your data\n",
    "\n",
    "So you have dome some cool things to your data, and you want to save your work.  You should always save your\n",
    "notebook or scripts, and they should be your *sacred* way of doing your analysis.  But it is also\n",
    "good to actually write out the data that you have processed.  With NumPy there are a few ways that you\n",
    "can do that.  One of the simplest ways is using the \n",
    "[savetxt](https://docs.scipy.org/doc/numpy/reference/generated/numpy.savetxt.html) function:"
   ]
  },
  {
   "cell_type": "code",
   "execution_count": null,
   "metadata": {
    "execution": {
     "iopub.execute_input": "2024-02-20T20:56:02.522932Z",
     "iopub.status.busy": "2024-02-20T20:56:02.522751Z",
     "iopub.status.idle": "2024-02-20T20:56:02.686892Z",
     "shell.execute_reply": "2024-02-20T20:56:02.685452Z"
    }
   },
   "outputs": [],
   "source": [
    "np.savetxt(\"data/temperature_gradient.txt\", temperature_gradient)"
   ]
  },
  {
   "cell_type": "markdown",
   "metadata": {},
   "source": [
    "Lets check what is in that file by printing the first five lines:"
   ]
  },
  {
   "cell_type": "code",
   "execution_count": null,
   "metadata": {
    "execution": {
     "iopub.execute_input": "2024-02-20T20:56:02.701108Z",
     "iopub.status.busy": "2024-02-20T20:56:02.700643Z",
     "iopub.status.idle": "2024-02-20T20:56:02.712267Z",
     "shell.execute_reply": "2024-02-20T20:56:02.710900Z"
    }
   },
   "outputs": [],
   "source": [
    "with open(\"data/temperature_gradient.txt\", \"r\") as f:\n",
    "    for i in range(5):\n",
    "        print(f.readline().rstrip())"
   ]
  },
  {
   "cell_type": "markdown",
   "metadata": {},
   "source": [
    "Looks correct.  Note that the `.rstrip` method on a string strips trailing white-space characters, in\n",
    "this case it removes a new-line (`\\n`) character.\n",
    "\n",
    "## Summary\n",
    "\n",
    "NumPy is at the heart of most scientific Python, but it can be unintuitive when thinking about many Earth science datasets. Having to remember which column and row things should be in can be a little frustrating. This is one of the things that Pandas can help us with and we will showcase this in the [pandas notebook](ESCI451_Module_2B.ipynb) next."
   ]
  }
 ],
 "metadata": {
  "kernelspec": {
   "display_name": "Python 3 (ipykernel)",
   "language": "python",
   "name": "python3"
  },
  "language_info": {
   "codemirror_mode": {
    "name": "ipython",
    "version": 3
   },
   "file_extension": ".py",
   "mimetype": "text/x-python",
   "name": "python",
   "nbconvert_exporter": "python",
   "pygments_lexer": "ipython3",
   "version": "3.11.8"
  },
  "widgets": {
   "application/vnd.jupyter.widget-state+json": {
    "state": {
     "06404632a56a4633a026fb9d64e23291": {
      "model_module": "jupyter-matplotlib",
      "model_module_version": "^0.11",
      "model_name": "MPLCanvasModel",
      "state": {
       "_cursor": "pointer",
       "_data_url": "data:image/png;base64,iVBORw0KGgoAAAANSUhEUgAAAoAAAAHgCAYAAAA10dzkAAAAOXRFWHRTb2Z0d2FyZQBNYXRwbG90bGliIHZlcnNpb24zLjguMywgaHR0cHM6Ly9tYXRwbG90bGliLm9yZy/H5lhTAAAACXBIWXMAAA9hAAAPYQGoP6dpAABxaklEQVR4nO3dd3xN9/8H8NfNujdb9hJJEIQEEcRqrdizVkuN1Ki29qa0aGsrHWpVS21Vo2rVDhojghAjKIkgESKy9/38/vDN/fVKQrhJTm7u6/l43MfDPfdzz32fk8+9n5czZUIIASIiIiLSGXpSF0BEREREpYsBkIiIiEjHMAASERER6RgGQCIiIiIdwwBIREREpGMYAImIiIh0DAMgERERkY5hACQiIiLSMQyARERERDqGAZCIiIhIxzAAEhEREekYBkAiIiIiHcMASERERKRjGACJiIiIdAwDIBEREZGOYQAkIiIi0jEMgEREREQ6hgGQiIiISMcwABIRERHpGAZAIiIiIh3DAEhERESkYxgAiYiIiHQMAyARERGRjmEAJCIiItIxDIBEREREOoYBkIiIiEjHMAASERER6RgGQCIiIiIdwwBIREREpGMYAImIiIh0DAMgERERkY5hACQiIiLSMQyARERERDqGAZCIiIhIxzAAEhEREekYBkAiIiIiHcMA+JJ169ZBJpOpHgqFAo6OjmjZsiXmzZuHuLi4fO+ZNWuW2nv++1i2bJmq3X+n6+vrw8rKCnXq1MHw4cNx9uzZfPONjIxUe4+enh5sbGzQsWNHnDlz5rXLEhoaihEjRsDHxwfm5uZwcHBAQEAAjh07lq9tYGBgvvoqVqyIPn36IDw8vEjr7k2XryyRyWQYOXJksc3vxIkTkMlkOHHihMbzevlvU9gjMDBQ48/SVo8ePcKsWbNw+fJlqUt5a0ePHkX9+vVhamoKmUyG3bt3S13SK924cQMDBgxA5cqVoVAoYGtri3r16mHkyJFISkp64/m96m8YGBgIMzOzYqi6aNzd3SX7PuWNJ8UlODgYs2bNwvPnz4ttnkDx/sblWbNmDbp37w53d3cYGxujatWq+PTTTxETE1Ng+61bt6Ju3bpQKBRwdnbG2LFjkZKSotYmOTkZkydPRtu2bWFnZweZTIZZs2YVOL9X/b7WqFGj2JazrDCQuoCyau3atahRoways7MRFxeH06dPY8GCBVi8eDG2bduGgICAfO85ePAgLC0t1aZ5eHioPe/VqxcmTJgAIQSSkpIQHh6O9evXY/Xq1Rg9ejS+//77fPMdNWoU+vXrh9zcXFy7dg2zZ89Gy5YtcebMGfj6+ha6DFu2bMH58+cxePBg1KlTB6mpqVi5ciVat26N3377DQMHDlRrb2xsrAqHOTk5uHPnDr755hs0adIEN27cgIuLy2vX29ssH73aF198gU8++UT1/OLFixgxYgTmzp2Lli1bqqbb2dlJUV6Z8OjRI8yePRvu7u6oW7eu1OW8MSEE+vTpg2rVqmHPnj0wNTVF9erVpS6rUJcuXULTpk3h5eWFL7/8Eu7u7nj69CnCwsKwdetWTJw4ERYWFm80T23/G5ZVwcHBmD17NgIDA1GhQgWpy3mlmTNnomXLlpg7dy5cXFwQERGBr7/+Gn/++ScuXboEBwcHVdtNmzahf//+GDp0KJYuXYpbt25hypQpuH79Og4dOqRqFx8fj9WrV6NOnTro3r071qxZU+jnF7Rh5dy5cxg7dizee++94l3YskCQmrVr1woAIiQkJN9rUVFRwtXVVZibm4vY2FjV9JkzZwoA4smTJ6+cNwAxYsSIfNNzcnLE4MGDBQCxfPly1fR79+4JAGLRokVq7Y8ePSoAiKFDh77y8x4/flzgZ9WuXVtUqVJFbfqgQYOEqalpvvZ5n7Vq1apXfpYQb758ZUlhtb+t48ePCwDi+PHjxTbPl+e9ffv2Yp93WZGWliaUSmWR24eEhAgAYu3atcVaR05OjsjIyCjWeRbkwYMHAoBYsGDBa9umpqaWeD2vM3DgQGFqaiqSkpIKfP1N/nZ5XvU3LOz3qbilpaUJIYRwc3MTgwYNKvHPK0jeeFJcFi1aJACIe/fuFds8hSiZ37iCxqy8fvH111+rpuXk5AgnJyfRtm1btbabNm0SAMT+/ftV05RKpao/PnnyRAAQM2fOLHJNgYGBQiaTidu3b7/h0pR93AX8BipVqoRvv/0WycnJWLVqVbHNV19fH8uWLYOtrS0WLVr02vaNGjUCAERFRb2ynb29fYGf5efnh+jo6CLVlrdF09DQsEjtC/Kq5bt//z769+8Pe3t7yOVyeHl54dtvv4VSqVS1adCgATp16qT2Ph8fH8hkMoSEhKim7dy5EzKZDFevXgXw/7tSrl27hr59+8LS0hIODg4YPHgwEhMTC6x1w4YN8PLygomJCerUqYO9e/fma3P69Gm0bt0a5ubmMDExQZMmTbBv374irYsLFy6ga9eusLa2hkKhgK+vL37//fcivfd1jhw5gtatW8PCwgImJiZo2rQpjh49qtYmb51cuXIFvXv3hqWlJaytrTF+/Hjk5OQgIiIC7du3h7m5Odzd3bFw4UK19+ft9tm4cSPGjx8PR0dHGBsbo3nz5rh06dJbLW/eYReHDh3C4MGDYWdnBxMTE2RmZuLOnTv46KOP4OnpCRMTE7i4uKBLly6qv3FeTQ0aNAAAfPTRR6pdNnm7eVq0aIEWLVrkqy0wMBDu7u6q53mHXCxcuBDffPMNPDw8IJfLcfz48SIvS1paGiZOnAgPDw8oFApYW1ujfv362LJlS6F/t1mzZqFixYoAgClTpkAmk6nqyvt7Xbx4Eb169YKVlRWqVKkCAMjIyMC0adPg4eEBIyMjuLi4YMSIEfl29bm7u6Nz587Yu3cvfH19YWxsDC8vL1XfXrduHby8vGBqaoqGDRviwoULhdaaJz4+HhYWFoXulv3vLszCdqf+9+/yur9hnjt37qBjx44wMzODq6srJkyYgMzMTLU2WVlZ+Oabb1CjRg3I5XLY2dnho48+wpMnTwpcLzt37oSvry8UCgVmz55d4PJkZGRgwoQJqFu3ruo707hxY/z5558FLvvIkSOL9Fuyb98+1K1bF3K5HB4eHli8eHGBn1+Y133nZ82ahUmTJgF4sTcqb72+arfthQsX8MEHH6h2w7q7u6Nv376vHW+KQ0Fjlp+fH/T19dXGrLNnzyImJgYfffSRWtvevXvDzMwMu3btUk3LW+a3kZycjO3bt6N58+aoWrXqW82jLGMAfEMdO3aEvr4+Tp48me+13Nxc5OTkqB65ublFnq+xsTECAgJw7949PHjw4JVt79y5A+Dtdvnl5OTg1KlTqFWrVqGv5+TkICMjA+Hh4Zg0aRKsrKzyBbA3VdDyPXnyBE2aNMGhQ4fw9ddfY8+ePQgICMDEiRPVjscLCAjAyZMnkZ2dDQB4/PgxwsPDYWxsjMOHD6vaHTlyBA4ODvDx8VH77J49e6JatWrYsWMHpk6dis2bN2PcuHH5aty3bx+WLVuGr776Cjt27IC1tTXee+893L17V9UmKCgIrVq1QmJiIn755Rds2bIF5ubm6NKlC7Zt2/bKdXD8+HE0bdoUz58/x8qVK/Hnn3+ibt26eP/997Fu3bo3Xqf/tXHjRrRt2xYWFhb47bff8Pvvv8Pa2hrt2rXLFwIBoE+fPqhTpw527NiBYcOGYenSpRg3bhy6d++OTp06YdeuXWjVqhWmTJmCnTt35nv/559/jrt372LNmjVYs2YNHj16hBYtWqitqzdd3sGDB8PQ0BAbNmzAH3/8AUNDQzx69Ag2NjaYP38+Dh48iJ9++gkGBgbw9/dHREQEAKBevXpYu3YtAGDGjBk4c+YMzpw5g6FDh77Vuvzhhx9w7NgxLF68GAcOHECNGjWKvCzjx4/HihUrMHr0aBw8eBAbNmxA7969ER8fX+jnDR06VLWOR40ahTNnzqgNYADQo0cPVK1aFdu3b8fKlSshhED37t2xePFiDBgwAPv27cP48ePx22+/oVWrVvlCUVhYGKZNm6b6e1paWqJHjx6YOXMm1qxZg7lz52LTpk1ITExE586dkZ6e/sp11LhxY8TExODDDz9EUFDQa9u/TlH+htnZ2ejatStat26NP//8E4MHD8bSpUuxYMECVRulUolu3bph/vz56NevH/bt24f58+fj8OHDaNGiRb46L168iEmTJqn+Xj179iywvszMTDx79gwTJ07E7t27sWXLFjRr1gw9evTA+vXr87Uvym/J0aNH0a1bN5ibm2Pr1q1YtGgRfv/9d9V6eJ2ifOeHDh2KUaNGAXjxH+S89VqvXr1C5xsZGYnq1avju+++w99//40FCxYgJiYGDRo0wNOnT4tUW3EKCgpCbm6u2piVd1x67dq11doaGhqiRo0aRT5u/XW2bt2K1NTUt/4tKfOk3gRZ1rxqF3AeBwcH4eXlpXqet8n+5YeLi4va+/Ca3YxTpkwRAMS5c+eEEP+/C3jBggUiOztbZGRkiNDQUNGgQQMBQOzbt++Nl2/69OkCgNi9e7fa9EGDBhW4DE5OTuL06dNFmvebLt/UqVPVnuf59NNPhUwmExEREUIIIY4cOSIAiJMnTwohhNi4caMwNzcXn332mWjZsqXqfZ6enqJfv36q53l/l4ULF6rN/7PPPhMKhUJtNxUA4eDgoLZLKzY2Vujp6Yl58+appjVq1EjY29uL5ORk1bScnBzh7e0tKlasqJpnQbtHatSoIXx9fUV2drZaPZ07dxZOTk4iNze30HX3Xy/vAk5NTRXW1taiS5cuau1yc3NFnTp1RMOGDfOtk2+//Vatbd26dQUAsXPnTtW07OxsYWdnJ3r06JHvs+vVq6e2/iIjI4WhoaHaYQlFXd6879zAgQNfu+w5OTkiKytLeHp6inHjxqmmv2r3YfPmzUXz5s3zTR80aJBwc3NTPc/7vlWpUkVkZWWptS3qsnh7e4vu3bu/djleVtjhHnl/ry+//FJt+sGDBwvs29u2bRMAxOrVq1XT3NzchLGxsXjw4IFq2uXLl1Xf7//uUt69e7cAIPbs2fPKejMyMkT37t1VvxP6+vrC19dXTJ8+XcTFxam1LWx36st/l9ftAgYgfv/9d7XpHTt2FNWrV1c937JliwAgduzYodYub97/PQTFzc1N6Ovrq35nilJznpycHJGdnS2GDBkifH191V4r6m+Jv7+/cHZ2Funp6appSUlJwtra+rW7gN/kO6/pLuCcnByRkpIiTE1Nxffff6+aXpKHueRJSkoSXl5ewtXVVe03d86cOQKAiImJyfeetm3bimrVqhU4vzfdBezv7y8qVKig9jcqT7gF8C0IIQqcfuTIEYSEhKge+/fvL5b5TpkyBYaGhlAoFPDz88P9+/exatUqdOzYEQDUtjrm5OQUOp81a9Zgzpw5mDBhArp165bvdWNjY1Xt586dw86dO1GtWrUin3X8pst37Ngx1KxZEw0bNlSbHhgYCCGE6oSUpk2bQqFQ4MiRIwCg+t98+/btERwcjLS0NERHR+P27dsFnpzTtWtXtee1a9dGRkZGvjO6W7ZsCXNzc9VzBwcH2Nvbq3Z9pKam4ty5c+jVq5fari99fX0MGDAADx48UG2VetmdO3dw8+ZNfPjhhwDU/2YdO3ZETExMoe99neDgYDx79gyDBg1Sm69SqUT79u0REhKC1NRUtfd07txZ7bmXlxdkMhk6dOigmmZgYICqVasWuOunX79+artV3Nzc0KRJE9Xu0rdZ3oK2vuTk5GDu3LmoWbMmjIyMYGBgACMjI9y+fRs3btx4wzVVNF27dlU75OFNlqVhw4Y4cOAApk6dihMnTmi8ZSzPy+sm77vx8q7V3r17w9TUNN9W37p166qdxOXl5QXgxW5YExOTfNNft7tPLpdj165duH79OpYuXYoPPvgAT548wZw5c+Dl5fXWfflVZDIZunTpojatdu3aarXu3bsXFSpUQJcuXdT+TnXr1oWjo2O+XZ+1a9dGtWrVivT527dvR9OmTWFmZgYDAwMYGhril19+KbAfFuW3JCQkBD169IBCoVC1y9ub8Dpv850vqpSUFEyZMgVVq1aFgYEBDAwMYGZmhtTU1BL7zhUkIyMDPXr0QFRUFLZv317g4QaF7dotjrOor127hnPnzuHDDz9U+xuVJzwL+A2lpqYiPj4+325GAKhTpw5sbW3fet55Pw7Ozs5q08eMGYP+/ftDT08PFSpUUB3LAbzYXP/ymcbHjx/Pd8zT2rVrMXz4cHz88ceFHmeop6eH+vXrq01r164dXF1dMX78eI1D4MvLFx8fr3YMVp7/vg4ACoUCTZs2xZEjRzB79mwcPXoUkydPRosWLZCbm4tTp07h4cOHAFBgALSxsVF7LpfLASDf4Pxyu7y2ee0SEhIghICTk9Nra37Z48ePAQATJ07ExIkTC2zztrtX8ubdq1evQts8e/YMpqamqufW1tZqrxsZGcHExCTfD52RkVGBl/RwdHQscFpYWJhaTW+yvAWt1/Hjx+Onn37ClClT0Lx5c1hZWUFPTw9Dhw4ttnD1spfreJNl+eGHH1CxYkVs27YNCxYsgEKhQLt27bBo0SJ4enoWW03x8fEwMDDIdxiITCaDo6Njvn5Y0N/7VdMzMjKKVJeXl5cqNAoh8N1332H8+PH44osviu3Y1jwF9U+5XK5W6+PHj/H8+XPVcrysKH2uIDt37kSfPn3Qu3dvTJo0CY6OjjAwMMCKFSvw66+/5mtflN8SpVJZ6Pfodd7mO19U/fr1w9GjR/HFF1+gQYMGsLCwgEwmQ8eOHUvsO/eyzMxMvPfeezh9+jT27t0Lf39/tdfz1m98fLzamcHAi+V+uV+/jV9++QUAyu/uXzAAvrF9+/YhNze3wIPKNZGeno4jR46gSpUqqgPC81SsWDFfMMvj7OysdiIEgHyXj1i7di2GDh2KQYMGYeXKlW/0vyMTExNUqVJFNbC/rYKWz8bGpsDrOz169AgA1MJ069at8eWXX+L8+fN48OAB2rRpA3NzczRo0ACHDx/Go0ePUK1aNbi6umpU56vkhY+i1vxfedOnTZuGHj16FNjmbS/7kTfvH3/8UXWC0Mte/pHUVGxsbIHT8n6Y32Z5C+qXGzduxMCBAzF37ly16U+fPi3yJS0UCkWBJ/0UFrhfruNNlsXU1BSzZ8/G7Nmz8fjxY9XWwC5duuDmzZtFqrcoNdnY2CAnJwdPnjxRC4FCCMTGxqpOqChNMpkM48aNw1dffaV2DJZCoch3TCLwYv1r8h/mgtja2sLGxgYHDx4s8PX/bpXLq7koNm7cCA8PD2zbtk3tPQUtV1FYWVlBJpMV+j16nZL6zicmJmLv3r2YOXMmpk6dqpqedwxkacjMzET37t1x/Phx/Pnnn2jdunW+NnkbYK5evYqaNWuqpufk5ODmzZvo27evRjVkZWVhw4YN8PPzK9eXJGIAfAP379/HxIkTYWlpieHDhxfbfHNzczFy5EjEx8dj3rx5b/ReIyOjQsMh8OIMv6FDh6J///5Ys2bNG28aT0lJwZ07dwo8O6uoClu+1q1bY968ebh48aLaQcnr16+HTCZTu8ZdQEAAPv/8c3zxxReoWLGi6qKcAQEB2LNnD2JjYws9gLu4mJqawt/fHzt37sTixYthbGwM4MWB5xs3bkTFihUL3Z1UvXp1eHp6IiwsLF+Y0VTTpk1RoUIFXL9+vVgvZv0qW7Zswfjx41X9KSoqCsHBwaprSxbX8spkMtUW2zz79u3Dw4cP1c7KK2yrLvDibM/t27cjMzNT1S4+Ph7BwcFFulbd2y6Lg4MDAgMDERYWhu+++w5paWlqu1s10bp1ayxcuBAbN25UO6Fpx44dSE1NLXDQLE4xMTEFbj179OgRkpKS4Ofnp5rm7u6OK1euqLW7desWIiIi1ALgq/6GRdW5c2ds3boVubm5+bYaaUImk8HIyEjt9zM2NrbAs4CLIu+M6507d2LRokWqLZvJycn466+/Xvv+N/nOv8l6lclkEELk+86tWbPmjU5qfFt5W/6OHTuGnTt3ol27dgW28/f3h5OTE9atW4f3339fNf2PP/5ASkpKof9RK6o9e/bg6dOn+OqrrzSaT1nHAFiI8PBw1XEVcXFxOHXqFNauXQt9fX3s2rXrrS+6+/jxY5w9exZCCCQnJ6sulBwWFoZx48Zh2LBhxbYM27dvx5AhQ1C3bl0MHz4c58+fV3vd19dX7YuuVCpVd+xQKpV4+PAhfvjhByQkJBR65XRNlm/cuHFYv349OnXqhK+++gpubm7Yt28fli9fjk8//VQtTPn5+cHKygqHDh1SO/U/ICAAX3/9terfJW3evHlo06YNWrZsiYkTJ8LIyAjLly9HeHg4tmzZ8sqAvWrVKnTo0AHt2rVDYGAgXFxc8OzZM9y4cQMXL17E9u3b36omMzMz/Pjjjxg0aBCePXuGXr16wd7eHk+ePEFYWBiePHmCFStWvO0iFyguLg7vvfcehg0bhsTERMycORMKhQLTpk1TtSmO5e3cuTPWrVuHGjVqoHbt2ggNDcWiRYvybSWvUqUKjI2NsWnTJnh5ecHMzAzOzs5wdnbGgAEDsGrVKvTv3x/Dhg1DfHw8Fi5c+EYXKi7qsvj7+6Nz586oXbs2rKyscOPGDWzYsAGNGzcutvAHAG3atEG7du0wZcoUJCUloWnTprhy5QpmzpwJX19fDBgwoNg+qyAff/wxnj9/jp49e8Lb2xv6+vq4efMmli5dCj09PUyZMkXVdsCAAejfvz8+++wz9OzZE1FRUVi4cGG+39BX/Q2L6oMPPsCmTZvQsWNHjBkzBg0bNoShoSEePHiA48ePo1u3bm91Qd+8y8V89tln6NWrF6Kjo/H111/DyckJt2/ffuP5AcDXX3+N9u3bo02bNpgwYQJyc3OxYMECmJqavnZr25t85/O2ln3//fcYNGgQDA0NUb169XxbQwHAwsIC7777LhYtWgRbW1u4u7sjKCgIv/zyS5G2uK9fvx6DBw/Gr7/+qnajgbxDfSIjI1/5/l69euHAgQOYPn06bGxs1O4gZWFhodrap6+vj4ULF2LAgAEYPnw4+vbti9u3b2Py5Mlo06YN2rdvrzbfAwcOIDU1FcnJyQCA69ev448//gDw4soeL383f/nlFxgbG6Nfv36vXWatJtHJJ2VW3hmJeQ8jIyNhb28vmjdvLubOnZvvDDch3uxC0HkPPT09YWFhIXx8fMTHH38szpw5k699YWcGFlVhZ/bmPf57VlhBbfOWe9euXUX6vDddPiFeXFy7X79+wsbGRhgaGorq1auLRYsWFXhG7HvvvScAiE2bNqmmZWVlCVNTU6GnpycSEhLU2hf2d8n7G/93+VHIGcwFnQ146tQp0apVK2FqaiqMjY1Fo0aNxF9//aXWprAz5MLCwkSfPn2Evb29MDQ0FI6OjqJVq1Zi5cqVBa6fghR2IeigoCDRqVMnYW1tLQwNDYWLi4vo1KmTWrvC1klhF9pt3ry5qFWrVr7P3rBhgxg9erSws7MTcrlcvPPOO+LChQv53l+U5X3VmfcJCQliyJAhwt7eXpiYmIhmzZqJU6dOFXhm75YtW0SNGjWEoaFhvjP9fvvtN+Hl5SUUCoWoWbOm2LZtW6FnARf2fSvKskydOlXUr19fWFlZCblcLipXrizGjRsnnj59WuA8X/fZr/ptSU9PF1OmTBFubm7C0NBQODk5iU8//TTf98DNzU106tQp3/sL6vNF/c35+++/xeDBg0XNmjWFpaWlMDAwEE5OTqJHjx75vutKpVIsXLhQVK5cWSgUClG/fn1x7NixN/obFtY/C7pocnZ2tli8eLGoU6eOUCgUwszMTNSoUUMMHz5c7WK+ha2XvNde/t7Pnz9fuLu7C7lcLry8vMTPP/9c4Oe/yW/Jnj17RO3atYWRkZGoVKmSmD9//htdCLoo33khhJg2bZpwdnYWenp6rz1z98GDB6Jnz57CyspKmJubi/bt24vw8PB89Rf0G5f3XX75TG5bW1vRqFGj1y7Pq8args7k37x5s2r9OTo6itGjR6udLZzHzc2tSOOgEELcv39f6OnpFemqBNpOJkQhp4wSEb3kxIkTaNmyJbZv3/7KA9CJiIAXW9tq1aqFvXv3anw9WSpevAwMERERlYjjx4+jcePGDH9lEAMgERERlYgRI0YgODhY6jKoANwFTERERKRjuAWQiIiISMcwABIRERHpGAZAIiIiIh3DAEhERESkY3gnEA0olUo8evQI5ubmb3yLNSIiIpKG+N/dqpydnaGnp5vbwhgANfDo0SO4urpKXQYRERG9hejo6Hy3ltQVDIAayLuXYnR09BvdV5SIiIikk5SUBFdX1wLviawrGAA1kLfb18LCggGQiIhIy+jy4Vu6ueObiIiISIcxABIRERHpGAZAIiIiIh3DAEhERESkYxgAiYiIiHQMAyARERGRjmEAJCIiItIxDIBEREREOoYBkIiIiEjH6HwAXL58OTw8PKBQKODn54dTp05JXRIRERFRidLpALht2zaMHTsW06dPx6VLl/DOO++gQ4cOuH//vtSlEREREZUYmRBCSF2EVPz9/VGvXj2sWLFCNc3Lywvdu3fHvHnzXvv+pKQkWFpaIjExkfcCJiIi0hIcvwEDqQuQSlZWFkJDQzF16lS16W3btkVwcHCB78nMzERmZqbqeVJSUonWmCc9KwfXYhIR9jABVx49R2R8KnZ//K5O38SaiIiI3p7OBsCnT58iNzcXDg4OatMdHBwQGxtb4HvmzZuH2bNnl0Z5+PdJMn4MisDRiFhcj02C8qUNtbFJGXCyNC6VWoiIiKh80dkAmOflrWhCiEK3rE2bNg3jx49XPU9KSoKrq2ux13TnSTL8FhxAUka2apqtmRx1XKxQx6UCajtbwcRIv9g/l4iIiHSDzgZAW1tb6Ovr59vaFxcXl2+rYB65XA65XF7ite258gBJGdmoWMEES3v6oWllOzhaKLjLl4iIiIqFzp4FbGRkBD8/Pxw+fFht+uHDh9GkSROJqnohb+tePVdr9PKtBCdLY4Y/IiIiKjY6uwUQAMaPH48BAwagfv36aNy4MVavXo379+/jk08+kbQuVytTAEB0QqqkdRAREVH5pNMB8P3330d8fDy++uorxMTEwNvbG/v374ebm5ukdblamQAAbsUlIzUzB6Zynf4zERERUTHT6esAaqqkriOUnpUDlxm7kJCWBW8nS+wY+i6qOejmdYqIiIiKG68DqMPHAJZlxkYG2DO8ORzMFQiPSUSDRQcR9iBB6rKIiIionGAALKOaVbHHpakd0djDFkkZ2ej+cxCepmRIXRYRERGVAwyAZZiTpTH2fdoCVWzNEBmfil5rTiErJ1fqsoiIiEjLMQCWcVYmcvw5vDnMFQYIuhOHL/ddkbokIiIi0nIMgFqgllMFrPrAHwCw/tw9bgUkIiIijTAAaomuPhVhaWyImKR0fHv0htTlEBERkRZjANQSpnIDTGztBQDYe+2hxNUQERGRNmMA1CIfNaoCPZkMwXef4kJUvNTlEBERkZZiANQiLhVM0KdeJQDAjL1hEldDRERE2ooBUMt82cEHAPD3jRhcfvBM4mqIiIhIGzEAahkvR0u8V8cVANBrzSmcuPVY4oqIiIhI2zAAaqFlvevDzdoU/z5NQcsfjuD9X08hOiFV6rKIiIhISzAAaiHnCia4OKUDPnvHE3oyGX6/eB/Vv/oL3xy8ioxsXiOQiIiIXk0mhBBSF6GtkpKSYGlpicTERFhYWEhSQ9iDBIz+4wJO3okDAHjYmOG7nn7oWruiJPUQERGVdWVh/JYatwBquToVrXBiTAC2BDaFSwVj3ItPQbfVQfhw3T8Ie5AgdXlERERUBnELoAbK2v8gUjNz8NWBq1h09Dry/qq+Fa3wXh1XDG/mCXtzhbQFEhERlQFlbfyWAgOgBspqBzoX+RRLjt3ArrAHyM5VAgBMjPQxrW0tfN7WG3p6MokrJCIikk5ZHb9LEwOgBsp6B3qSnIG94Q+x/NQtXLj/4pqBC7rVxeQ2tSSujIiISDplffwuDTwGsByzM1fgo8ZVcH5SeyzoVhcAsPzUbTDzExER6TYGQB0gk8kwsnl1mBoZIOpZKpouOYQv94Zhx6X7uBT9DM/TsqQukYiIiEqRgdQFUOkwMTLAd7388OnW8zhz7ynO3Huq9rqdmRwN3GzQ0M0G/u62aOhmA2tTuUTVEhERUUniMYAa0MZjCO4/S8Weqw9wMfoZrsUk4l58Cp6kZBbY1tPOHK2rO6KdlxNaVXOEhbFhKVdLRERU/LRx/C5uDIAaKC8dKCUzG9diEnE+Mh7nop7ifGQ8bj9JVmtjoCdDk8p2aOflhPY1nVHXxYpnExMRkVYqL+O3JhgANVCeO9Cz1EwE332Cv2/E4O8bMfkCoYO5At1qV0SvupXQopoDDPV5OCkREWmH8jx+FxUDoAZ0qQPdfZqsCoNHI2KRkpmjes3axAjv1XFF3/ruaOFpD309hkEiIiq7dGn8LgwDoAZ0tQNl5eQi6HYcdly+j51h0WrHEDqYK9Cnnhs+8HNDYw9byGTcTUxERGWLro7f/8UAqAF2ICBXqcTJO3HYGhqFPy7dx7P/XFLGzdoU7/8vDNataMUwSEREZQLHbwZAjbADqcvOVeLwzRhsDY3CrrBotd3E1R0s8EE9N/St747qDlxXREQkHY7fDIAaYQcqXHpWDvZfe4StF6OwN/whMrJzVa/Vc7XGwIYe6FffHXbmCgmrJCIiXcTxmwFQI+xARZOUno09Vx9gS2gkDt2IQY7yRZcz0JOhQ01nDPKvjM7eLpAb6ktcKRER6QKO3wyAGmEHenNPUzKwNTQK68/fQ0hUvGq6lYkR3q/nhsBGldHQzYbHCxIRUYnh+M0AqBF2IM1cj0nEhvN3sSHkHh4+T1dNr+1SAcOaVEX/Bh6oYGIkYYVERFQecfxmANQIO1DxyFUqcfzWY/x27i7+uBytOl7Q2FAfvX0r4eOmVdGksh23ChIRUbHg+M0AqBF2oOKXkJaJTSGRWP3PHVx99Fw13cvRAp8088Qg/8qwNOZWQSIienscvxkANcIOVHKEEDgXGY+fg+9ga2gk0rJebBU0NTJA/wbuGPFuNfi4WElcJRERaSOO3wyAGmEHKh2J6VnYFBKJn07ewvXYRNX0d6rYYVwrL3T1ceHt54iIqMg4fjMAaoQdqHQJIRB0Ow4/nbqFXWHRyP3f5WQq25phbIsa+KhxZZjJDSWukoiIyjqO3wyAGmEHks7D52lYfvIWVp6+rbr9nKWxIT5uWhWjmleHq5WpxBUSEVFZxfGbAVAj7EDSS83Mwfrzd/Hd8Zu4FZcMANDXk6GPbyWMb+WF+m42EldIRERlDcdvBkCNsAOVHUqlwP5rD7Hk+E0cv/VYNZ3HCRIR0cs4fjMAaoQdqGy6FP0MS4/fxJYLkarbzvE4QSIiysPxmwFQI+xAZduj52n46eQtrDh9Gwn/O07QysQIY1pUx6jm1WFtKpe4QiIikgLHbwZAjbADaYe84wSXHruJ209eHCdoJjfAiHerYXwrL9ibKySukIiIShPHbwZAjbADaZdcpRI7Lkdjzt/huPLwOYAXt5sb1rQqJrWuiYpWJtIWSEREpYLjNwOgRtiBtJMQAnvDH+Kbg+E4HxUPADDU10Ogf2VMbVsTlW3NJa6QiIhKEsdvBkCNsANpNyEEjkbE4puD4Qi6EwfgxSVk+vq5YVpbb9R0spS4QiIiKgkcvxkANcIOVH6c/jcOc/4Ox8HrMQAAmQzoUccV09t5w9fVWuLqiIioOHH8ZgDUCDtQ+XMhKh5z/g7H7isPVNM61nLGV51qw68SLypNRFQecPxmANQIO1D5Ff7oOeb+HY5tF+9D+b+vSM+6rvi6cx14OXLXMBGRNuP4zQCoEXag8u92XBK+OnAVmy5EQghATybDwIYemNnRB+42ZlKXR0REb4HjNwOgRtiBdEf4o+f4Ym+Yatewob4ehjetiuntveFoYSxxdURE9CY4fjMAaoQdSPeci3yKGX+F4UhELADAxEgfY1rUwKQAL1iZ8M4iRETagOM3A6BG2IF017GIWHz+12Wci3xxHUFLY0NMDqiJ0S2q817DRERlHMdvBkCNsAPpNiEE/rr6ENP/uozwmEQAgL25Al+298bwZp4w0NeTuEIiIioIx28GQI2wAxHw4hZz20Kj8OW+K/j3aQoAoG5FK/zUpwGaVLaTuDoiInoZx28GQI2wA9F/Zecqsfr0bXyx7woS0rIAAB81qowF3XxhZ66QuDoiIsrD8RvgPiqiYmKor4cRzasj4osuGNy4CgBg7dm7qPbVX1hx6hZylUqJKyQiInqBAZComNmZK/DLh40QPL4t6la0wvP0LHy2LQQNF/2N85FPpS6PiIiIAZCopDSubIcLk9tjWe/6sDQ2xMXoZ2j07d8Y+XsIktKzpS6PiIh0GAMgUQnS1/v/3cIDGnpACOCnk7fg9c1f2Hn5PngILhERSYEBkKgUOFgYY/3AJjgyqjWq2pnjUWI6eq45hc4rT+Du02SpyyMiIh3DAEhUilpXd8TVzzthRntvGOrrYf+1R6g1Zx++OnAVGdm5UpdHREQ6gpeB0QBPIydN3IxNxMjtF3D0f7eVq2JrhmV9GqB9TWeJKyMiKt84fnMLIJFkajha4vDIVtj6UVM4WRjj36cp6LD8OHr+fBLRCalSl0dEROWYVgbAefPmoUGDBjA3N4e9vT26d++OiIgItTZCCMyaNQvOzs4wNjZGixYtcO3aNbU2mZmZGDVqFGxtbWFqaoquXbviwYMHpbkopONkMhne93PHzS+6YFzLGtDXk2FnWDS8vt6LhYevISuHu4WJiKj4aWUADAoKwogRI3D27FkcPnwYOTk5aNu2LVJT/3+rycKFC7FkyRIsW7YMISEhcHR0RJs2bZCc/P8H3I8dOxa7du3C1q1bcfr0aaSkpKBz587IzeWgS6XLwtgQS3r64dKUDmhWxQ6pWTmY8udl1J2/HyduPZa6PCIiKmfKxTGAT548gb29PYKCgvDuu+9CCAFnZ2eMHTsWU6ZMAfBia5+DgwMWLFiA4cOHIzExEXZ2dtiwYQPef/99AMCjR4/g6uqK/fv3o127dq/9XB5DQCVBCIH15+5h0u6LeJKSCQDoV98dS3rUg4OFscTVERFpP47fWroF8GWJiYkAAGtrawDAvXv3EBsbi7Zt26rayOVyNG/eHMHBwQCA0NBQZGdnq7VxdnaGt7e3qg2RFGQyGQY1qoyIL7vgs3c8IZMBmy9EotG3f/PYQCIiKhZaHwCFEBg/fjyaNWsGb29vAEBs7IuzKh0cHNTaOjg4qF6LjY2FkZERrKysCm3zsszMTCQlJak9iEqKlYkcP73fECGT2qOqnTki41PR8vsjePg8TerSiIhIy2l9ABw5ciSuXLmCLVu25HtNJpOpPRdC5Jv2sle1mTdvHiwtLVUPV1fXty+cqIj8Ktng2OjW8LAxw79PU9D6x6OITUqXuiwiItJiWh0AR40ahT179uD48eOoWLGiarqjoyMA5NuSFxcXp9oq6OjoiKysLCQkJBTa5mXTpk1DYmKi6hEdHV2ci0NUKFcrUxwb3RquViaIeJyEHj+fRK5SKXVZRESkpbQyAAohMHLkSOzcuRPHjh2Dh4eH2useHh5wdHTE4cOHVdOysrIQFBSEJk2aAAD8/PxgaGio1iYmJgbh4eGqNi+Ty+WwsLBQexCVFncbMxwbHQALhSHO3HuKuX9fe/2biIiICmAgdQFvY8SIEdi8eTP+/PNPmJubq7b0WVpawtjYGDKZDGPHjsXcuXPh6ekJT09PzJ07FyYmJujXr5+q7ZAhQzBhwgTY2NjA2toaEydOhI+PDwICAqRcPKJCVbUzxw+96iNw4xl8ue8KAGBGe+/XHtpARET0X1p5GZjCBru1a9ciMDAQwIuthLNnz8aqVauQkJAAf39//PTTT6oTRQAgIyMDkyZNwubNm5Geno7WrVtj+fLlRT62j6eRk1Q+33MZ8w692ALY1acivu5cG7VdrF7zLiIiAjh+A1oaAMsKdiCS0spTtzBy+wXkKl98hTt7u2B406poX9MZBvpaeXQHEVGp4PjNAKgRdiCS2tWHCZh76Bq2XYxC3jfZycIYg/w98FGjKqjmwH5JRPQyjt8MgBphB6Ky4tbjJKz65zY2nL+nunsIALxTxQ6DG1dBb183mMq18pBfIqJix/GbAVAj7EBU1mTl5GJv+EP8euZfHLgeA+X/vt5mcgN84OeGIY2rwt/dhieNEJFO4/jNAKgRdiAqyx4+T8P6c3fx69m7uPMkWTXdy9ECgxtVwUD/yrA3V0hYIRGRNDh+MwBqhB2ItIEQAqf+jcOvZ+5i+6UopGXlAgAM9fXQs64rPn3HE+9UsedWQSLSGRy/GQA1wg5E2iYpPRvbLkZhTfAdnI+KV02v5WSJsS1rYGBDDxgZ6EtYIRFRyeP4zQCoEXYg0maXop9h5enb2BQSidSsHABAJSsTTGtbCx81qgK5IYMgEZVPHL8ZADXCDkTlQWJ6Fn498y8WHrmO2KQMAIBLBWOMb+mFoU2qwsLYUOIKiYiKF8dvBkCNsANReZKelYNfzvyL+Yev4eHzdACAhcIQHzetitEtqsPVylTiComIigfHbwZAjbADUXmUmZ2LDSH3sOTYDdyITQIAGOjJ0LNuJYx4txqaVbHjCSNEpNU4fjMAaoQdiMozpVLgwPVH+PbYDRy/9Vg13dvJEp+9Ww39G3jAXMHdw0SkfTh+MwBqhB2IdMXlB8+w/ORtbLpwT3UZGTO5AQY29MCn71SDt3MFaQskInoDHL8ZADXCDkS65nlaFtafv4vlp24j4nGSavo7Vezw6TvV0KOOK88eJqIyj+M3A6BG2IFIVwkhcPzWYyw/dQu7rzxArvLFz4itmRyDG1XBx02rooqducRVEhEVjOM3A6BG2IGIXtxybk3wHfwcfEd19jAAtPB0wIcN3NGrbiVUMDGSsEIiInUcvxkANcIORPT/cnKV2HftIVaevo2/b8Qg75fFyEAPnWu5YJB/ZXTydoa+np60hRKRzuP4zQCoEXYgooJFPUvB5pBIbLoQiWsxiarpVWzNMKZFDXzUuDLM5DyDmIikwfGbAVAj7EBEryaEwJWHz7Hh/D38evZfJKRlAQAsjQ0xrElVjGpeHZWseYFpIipdHL8ZADXCDkRUdKmZOfjt3F18d/wmbj9JBvDiAtOBjSrj87be8LA1k7hCItIVHL8ZADXCDkT05pRKgf3XHuLbYzdx4vaLC0wb6Mkw0L8yprerhcq2PHuYiEoWx28GQI2wAxFpJvjuE8zefxWHbsYAAPT1ZBjQwAPT23ujKi8jQ0QlhOM3A6BG2IGIiseZu0/w1cGrOHj9/4Ng/wYemN6uFjzt+d0iouLF8ZsBUCPsQETF61zkU8zefxUHrj8CAOjJZBjQ0ANfdvDmrmEiKjYcvxkANcIORFQyzkc+xVcHrmLftRdBMO9kkentvOFuw5NFiEgzHL8ZADXCDkRUss5HPsWX+67g7xsvdg0b6uthaJMqmN7OGy4VTCSujoi0FcdvBkCNsAMRlY7gu08wc98VHImIBQDIDfTwSTNPTGtbCw4WxhJXR0TahuM3A6BG2IGIStfJO48x468wnPr3CQDA1MgA41rVwOSAmjBX8M4iRFQ0HL8ZADXCDkRU+oQQOHIzFjP2huF8VDwAwNnSGN90roMBDT1goM97DRPRq3H8ZgDUCDsQkXSEENgVFo3Juy/h36cpAIDqDhaY3dEHvX3doKcnk7hCIiqrOH4zAGqEHYhIehnZuVgWFIH5h68jPjUTANDAzQbf9fRDk8p2EldHRGURx28GQI2wAxGVHUnp2fjuxE0sPnodyRk5AIC+fm6Y380XlaxNJa6OiMoSjt8MgBphByIqex4npWP6X2H49ey/EAIwNtTHpICamBxQE6ZyA6nLI6IygOM3A6BG2IGIyq5L0c8wdkcoTt6JAwC4VDDGgm6+6FffHTIZjw8k0mUcvxkANcIORFS2CSGw43I0Ju2+iMj4VABAI3dbfN/LDw3dbSWujoikwvEb4PUSiKjckslk6OVbCTdmdMGcLnVgamSAs5FP4b/4b3y04QziUzKlLpGISBIMgERU7ikM9fF5O2/c+rILBvlXBgCsO3cX1b/+CytP3UJOrlLiComIShd3AWuAm5CJtNOZu0/w8ZZzCI9JBAD4OFfAdz390Kq6o8SVEVFp4PjNLYBEpIMaV7bDpakd8WPv+rAyMcLVR8/R+sejeG91EP59kix1eUREJY5bADXA/0EQab/4lEzM2n8FK07fRq5SwMhAD2Nb1MD0dt6wMOb9hYnKI47fDIAaYQciKj+uxTzH+B0XcehmDADAwVyBeV3rIrBRZV42hqic4fjNXcBERACAWk4VcHBES/w1vDk87czxODkDgzedRasfjuLW4ySpyyMiKlYMgERE/yOTydDZpyLCp3fCwu6+MDHSx4nbj1F73j5M3n0RCWm8bAwRlQ/cBawBbkImKt/uPU3BZ7+fx8HrL3YLW5kY4csOPvjsHU8YGehLXB0RvS2O3wyAGmEHIir/hBA4cP0RJu++hGv/u2xMVTtzLOzui+61K/L4QCItxPGbAVAj7EBEuiNXqcS6s3cx/a8wPE7OAAC8W9Ue375XD/XdbCSujojeBMdvBkCNsAMR6Z7kjGwsPHId3x69gfTsXADAIP/KmNulDpwrmEhcHREVBcdvBkCNsAMR6a7ohFR8vucyNoZEAgBMjQzwebtaGN/KCwpDHh9IVJZx/GYA1Ag7EBGdi3yKsX+E4mzkUwCAu40pFnWvh551XXl8IFEZxfGbAVAj7EBEBLw4UWTzhUhM+fMSHj5PB/Di+MDvevrB19Va4uqI6GUcvxkANcIORET/lZqZg4VHrmPhkevIyM6FTAYMaVwF33SuAwcLY6nLI6L/4fjNAKgRdiAiKsj9Z6mY+uclbAmNAgCYKwzwRXsfjG5eHXIeH0gkOY7fDIAaYQciolf55984jPkjFKHRzwAAVWzNsPi9eujG6wcSSYrjN28FR0RUYppWscf5Se2xtn8jOFoo8O/TFLz380m0WXYMVx8mSF0eEemwUtkCGBERgS1btuDUqVOIjIxEWloa7Ozs4Ovri3bt2qFnz56Qy+UlXUax4/8giKiokjOyMe/QNSw5dgOZOUoY6MnweTtvTG9Xi7eVIyplHL9LOABeunQJkydPxqlTp9CkSRM0bNgQLi4uMDY2xrNnzxAeHo5Tp04hKSkJkydPxtixY7UqCLIDEdGbuvc0BeN3hmL3lQcAgDouVvixd328U9Ve4sqIdAfH7xIOgG5ubpg0aRL69esHa+vCL4Vw5swZLF26FHXr1sXnn39eUuUUO3YgInobQgj8fjEKI36/gPjUTABAL99KWNKjHlytTCWujqj84/hdwgEwKysLRkZGJdZeauxARKSJuOQMfLk3DD8H/wulEDAx0sei7vXw6TuePEmEqARx/OZZwBphByKi4nDlYQJG/B6C0/8+AQC08HTAyg8aoroDf1eISgLH71IOgOfPn8eJEycQFxcHpVKp9tqSJUtKq4xiww5ERMVFCIHvjt/E9L/CkJ6dCyMDPcxo540pbWryJBGiYsbxuxQD4Ny5czFjxgxUr14dDg4Oars3ZDIZjh07VhplFCt2ICIqbveepuCz38/j4PUYAEAtJ0v83NcfjSvbSVwZUfnB8bsUA6CDgwMWLFiAwMDA0vi4UsEOREQlQQiBLRciMXZHKJ6kZEImAz57pxrmdqkLC2NDqcsj0nocv0vxQtB6enpo2rRpaX0cEZHWkslk6NfAAzdmdEGgf2UIAfx08hZ85u7F0YhYqcsjonKg1ALguHHj8NNPP5XWxxERaT0bMznWDmiMI6Naw8PGDPcT0hDw41F8suUcktKzpS6PiLRYqe0CViqV6NSpE27duoWaNWvC0FB9N8bOnTtLo4xixU3IRFRaUjKzMXn3Jaw4dRsAULGCCVb1bYiOtVwkroxI+3D8LsUtgKNGjcLx48dRrVo12NjYwNLSUu1BRESFM5MbYvn7DXF8dACq2JrhwfM0dFpxAv1/+wfxKZlSl0dEWqbUAuD69euxY8cOHDhwAOvWrcPatWvVHm9r3rx5kMlkGDt2rGqaEAKzZs2Cs7MzjI2N0aJFC1y7dk3tfZmZmRg1ahRsbW1hamqKrl274sGDB29dBxFRaWhRzQFXPu+ECa28oCeTYVNIJLy++QvbQiPBy7oSUVGVWgC0trZGlSpVinWeISEhWL16NWrXrq02feHChViyZAmWLVuGkJAQODo6ok2bNkhOTla1GTt2LHbt2oWtW7fi9OnTSElJQefOnZGbm1usNRIRFTcTIwMs7lEPZya0RS0nSzxJycQHa/9Bo8V/48jNGAZBInqtUguAs2bNwsyZM5GWllYs80tJScGHH36In3/+GVZWVqrpQgh89913mD59Onr06AFvb2/89ttvSEtLw+bNmwEAiYmJ+OWXX/Dtt98iICAAvr6+2LhxI65evYojR44US31ERCWtobstQid3wKyOPjAx0sf5qHi0WXYMbZcdw92nya+fARHprFILgD/88AMOHDgABwcH+Pj4oF69emqPNzVixAh06tQJAQEBatPv3buH2NhYtG3bVjVNLpejefPmCA4OBgCEhoYiOztbrY2zszO8vb1VbYiItIHcUB8zO9bG3VndMKZFdRgZ6OFIRCxqz92PFaduQank1kAiys+gtD6oe/fuxTavrVu34uLFiwgJCcn3Wmzsi2tkOTg4qE13cHBAVFSUqo2RkZHalsO8NnnvL0hmZiYyM///YOukpKS3XgYiouLkYGGM73rVx6jm1TF401mcvBOHz7aF4PeL97H8/QbwcuTJdkT0/0otAM6cObNY5hMdHY0xY8bg0KFDUCgUhbb7763mgBe7hl+e9rLXtZk3bx5mz579ZgUTEZWiKnbmOD46AMtORmDqn5dx4vZj1J67D+NbeeGLDt4wk/NOIkRUiruAi6IoBy6HhoYiLi4Ofn5+MDAwgIGBAYKCgvDDDz/AwMBAteXv5S15cXFxqtccHR2RlZWFhISEQtsUZNq0aUhMTFQ9oqOj33QRiYhKnJ6eDKNb1MC16Z3RxdsFOUqBhUeuw3vOPgTdfix1eURUBpRoAPTy8sLmzZuRlZX1yna3b9/Gp59+igULFrx2nq1bt8bVq1dx+fJl1aN+/fr48MMPcfnyZVSuXBmOjo44fPiw6j1ZWVkICgpCkyZNAAB+fn4wNDRUaxMTE4Pw8HBVm4LI5XJYWFioPYiIyioPWzPs+aQF9gxvDncbU0Q9S0XLH45g8u6LyMjmFQ+IdFmJ7gL+6aefMGXKFIwYMQJt27ZF/fr14ezsDIVCgYSEBFy/fh2nT5/G9evXMXLkSHz22Wevnae5uTm8vb3VppmamsLGxkY1fezYsZg7dy48PT3h6emJuXPnwsTEBP369QMAWFpaYsiQIZgwYQJsbGxgbW2NiRMnwsfHJ99JJURE2q6LT0W08HTA+J2hWBP8LxYduYH91x5h/cAmqOdqLXV5RCSBEg2ArVq1QkhICIKDg7Ft2zZs3rwZkZGRSE9Ph62tLXx9fTFw4ED0798fFSpUKLbPnTx5MtLT0/HZZ58hISEB/v7+OHToEMzNzVVtli5dCgMDA/Tp0wfp6elo3bo11q1bB319/WKrg4iorDBXGOLnfo3Qxbsihm05h2sxifBfdBAz2nvj83beMNQvU0cEEVEJK7V7AZdHvJcgEWmjpykZ+HRbCP64dB8A0NDNBpsDm6KKnflr3klUPnD8LmMngRARUcmzNVPg98HNsDmwKSoYG+F8VDzqzt+P387e5V1EiHQEAyARkQ6SyWToW98dYdM64p0qdkjJzEHgxjPot+4fPE979Yl7RKT9GACJiHRYJWtTHB8TgG8614G+ngxbQ6NQd/5+nLoTJ3VpRFSCGACJiHScvp4eprf3xj/j26KyrRminqWi+feHMXr7BaRm5khdHhGVAAZAIiICAPi72+LSlI4Y0rgKhAB+DIqAz9x9OHmHF48mKm9K9SxgpVKJO3fuIC4uDkqlUu21d999t7TKKDY8i4iIyqtDN2IwbPNZ3E9Ig55Mhq8718bUNrWgp/fqW2oSaQOO36UYAM+ePYt+/fohKioq31lmMpkMubnad1V6diAiKs+SM7Ix8vcQrD9/DwDQpoYj1vVvDOcKJhJXRqQZjt+luAv4k08+Qf369REeHo5nz54hISFB9Xj27FlplUFEREVkrjDEugGN8cuHjaAw1Mfhm7GoO38//r7+SOrSiEhDpbYF0NTUFGFhYahatWppfFyp4P8giEhX3IhNRN+1/yDsYQIAYHyrGvi6cx2YGJXoDaWISgTH71LcAujv7487d+6U1scREVEx8nK0xNmJ7fDZO54AgCXHbsJn7j6ci3wqcWVE9DZKdAvglStXVP/+999/MWPGDEyaNAk+Pj4wNDRUa1u7du2SKqPE8H8QRKSL9l59gE+2ncfD5+kwMtDD7I61MbG1Fwx4P2HSEhy/SzgA6unpQSaTFXprobzXeBIIEZF2SUrPRuDGM9gVFg0A8He3wW8DmqC6A38Lqezj+F3CATAqKqrIbd3c3EqqjBLDDkREukwIgfXn7mH0HxeQlJENEyN9fNezPoY2qQKZjJeLobKL43cpngRy8uRJNGnSBAYG6gcM5+TkIDg4mNcBJCLSUtEJqQjccAbHbr24YHRXn4pY1bchHC2MJa6MqGAcv0sxAOrr6yMmJgb29vZq0+Pj42Fvb89dwEREWkypFPj22A3M2BuGrBwlbEzlWPlBQ/TyrSR1aUT5cPwuxbOA8471e1l8fDxMTU1LqwwiIioBenoyTAqoiQuT2qOOixXiUzPR+5dT6P/bP0hIy5S6PCJ6SYlfwKlHjx4AXpzwERgYCLlcrnotNzcXV65cQZMmTUq6DCIiKgU+LlY4P6kdvjpwFfMOXcemkEgcv/UYv37YCO1qOktdHhH9T4lvAbS0tISlpSWEEDA3N1c9t7S0hKOjIz7++GNs3LixpMsgIqJSYmSgj2+61EXwhLaoZm+OR4npaL/8OGbvvwKlstRuP09Er1BqxwDOnj0bEydOLFe7e3kMARHRq6Vl5WDK7ktYdvIWAKBtDSf8NrAxTxAhSXH8LsUAmCcuLg4RERGQyWSoVq1avpNCtAk7EBFR0fz8zx2M+eMC0rNzYWcmx9r+jdHJ20XqskhHcfwuxZNAkpKSMGDAALi4uKB58+Z499134eLigv79+yMxMbG0yiAiIgkMa1oVFyZ3QG2XCniSkonOK09gzB8XkJGtfVeAICoPSi0ADh06FOfOncPevXvx/PlzJCYmYu/evbhw4QKGDRtWWmUQEZFEajpZ4tzE9hjTojoA4IcTEfBffBA3YrkRgKi0ldouYFNTU/z9999o1qyZ2vRTp06hffv2SE1NLY0yihU3IRMRvZ391x4icMMZPEnJhMJQH/O61sXo5tWhp8c7iFDJ4/hdilsAbWxsYGlpmW+6paUlrKysSqsMIiIqAzrWckHYtE5oW8MJGdm5GLcjFK1+OILoBO3bGECkjUotAM6YMQPjx49HTEyMalpsbCwmTZqEL774orTKICKiMsLJ0hgHR7TEivcbwNTIAEF34lB77n5sv1j0+8gT0dsptV3Avr6+uHPnDjIzM1Gp0otbA92/fx9yuRyenp5qbS9evFgaJWmMm5CJiIrH7bgkfPhbMEKi4gEAHzWqjB9614eZ3FDiyqg84vhdCncCydO9e/fS+igiItIynvYW+Gd8W8zcdwXzD1/D2rN3cfrfJ9j18buo5VRB6vKIyp1Svw5gecL/QRARFb8Ttx5jwPpgPHieBjO5AX4b0Bg96laSuiwqRzh+l+IxgADw/PlzrFmzBtOmTcOzZ88AvNjd+/Dhw9Isg4iIyrAW1RxwcUoHtKzmgJTMHPRccwoz/rrM28gRFaNSC4BXrlxBtWrVsGDBAixevBjPnz8HAOzatQvTpk0rrTKIiEgL2JkrcGhEK4xrWQMAMOfva+iy6gSep2VJXBlR+VBqAXD8+PEIDAzE7du3oVAoVNM7dOiAkydPllYZRESkJQz09bCkpx82DGwChaE+9l97hIaLDuJ6DC8cTaSpUguAISEhGD58eL7pLi4uiI2NLa0yiIhIy/Rv6IF/xrdFJSsT3H6SDP/FB7EvnIcOEWmi1AKgQqFAUlJSvukRERGws7MrrTKIiEgL1XO1xoXJHdDC88VxgV1XBWHh4WvgeYxEb6fUAmC3bt3w1VdfITs7GwAgk8lw//59TJ06FT179iytMoiISEvZmSvw94iWGNK4CpRCYMqfl9Fv3T9Iy8qRujQirVNqAXDx4sV48uQJ7O3tkZ6ejubNm6Nq1aowNzfHnDlzSqsMIiLSYkYG+vi5nz9+6tMABnoybA2NwrtLD+NBQprUpRFplVK/DuCxY8dw8eJFKJVK1KtXDwEBAaX58cWK1xEiIpJO0O3H6LnmFOJTM2FjKseqDxqipy+vF0ivx/GbF4LWCDsQEZG07j1NQc81J3HpQQIAYGYHH3zZwQd6ejKJK6OyjON3Ke0CViqV+PXXX9G5c2d4e3vDx8cHXbt2xfr163kALxERvTUPWzOcndgOE1t7AQBmH7iKLqtO4ElyhsSVEZVtJR4AhRDo2rUrhg4diocPH8LHxwe1atVCVFQUAgMD8d5775V0CUREVI4ZGehj0Xv1sKafP+QGeth/7RHqzt+PE7ceS10aUZllUNIfsG7dOpw8eRJHjx5Fy5Yt1V47duwYunfvjvXr12PgwIElXQoREZVjQ5pURQM3G7z/62ncfJyEVj8ewbyudTGhlRcM9Ev1zqdEZV6JfyO2bNmCzz//PF/4A4BWrVph6tSp2LRpU0mXQUREOqC2ixUuTO6AQf6VIQQw9c/LeO/nk7xUDNFLSjwAXrlyBe3bty/09Q4dOiAsLKykyyAiIh1hKjfA2v6NsPz9BlAY6mNv+EP4LzqI0PvxUpdGVGaUeAB89uwZHBwcCn3dwcEBCQkJJV0GERHpEJlMhk/fqYbDI1vBzkyO8JhENFt6GLvCoqUujahMKPEAmJubCwODwg811NfXR04ON80TEVHxa1bFHtdndEZnbxdkZOei55qTmL3/CrJycqUujUhSJX4dQD09PXTo0AFyubzA1zMzM3Hw4EHk5mrfl5HXESIi0g45uUqM/D0Eq/65AwDwc7XG9iHvwMPWTOLKSAocv0shAH700UdFard27dqSLKNEsAMREWkPIQS2hkZh5O8heJaWBSsTI/w2oDG6+FSUujQqZRy/eScQjbADERFpn/vPUtHn11M4F/nipJDRLapjQTdfKAz1Ja6MSgvH71K6EwgREVFZUcnaFCfHtsG4ljUAAD+ciED9hQdwLvKpxJURlR4GQCIi0jlGBvpY0tMP+z5tATszOa7FJKLxt39j8u6LPEGEdAIDIBER6ayOtVxwfUZnDGjoASGARUduoNUPR/E0hfcSpvKNAZCIiHSarZkC6wc2wa5h78LS2BD/3H2CBosOIvjuE6lLIyoxDIBEREQAutdxxZkJ7VDZ1gyR8al4Z+lhzNp3BTm5SqlLIyp2DIBERET/4+VoiYtTOqB/A3cohcDsA1fRc80pxKdkSl0aUbFiACQiIvoPS2MjbBjUFJsGNYGhvh72XH2AyrP+xM7L96UujajYMAASEREVoF8DDxwb3Ro+zhWQlJGNnmtOoduqIDx6niZ1aUQaYwAkIiIqRLMq9giZ1B5T29SEgZ4Me64+gO+CAzh+K1bq0og0wgBIRET0CnJDfczr5ovL0zqitksFxCVnoPWPR/H5nsu8ZiBpLQZAIiKiIqjlVAFnJrTD4MZVIAQw79A1NPn2ECIeJ0ldGtEbYwAkIiIqIhMjA/zyYSP8MeQdWJsYITT6Geot2I9Vp29DqRRSl0dUZAyAREREb6inbyVc+bwTWld3RFpWLj7Zeh5NlvyNs/d4P2HSDgyAREREb8GlggkOjWiFJT3qwUxugHOR8Wj87d/ot/Y07jxJlro8oldiACQiInpLenoyjGvlhVtfdsXgxlUgkwFbQqNQ4+u/sDssWuryiArFAEhERKQhJ0tj/PJhI4RO7oCmle2QqxQYuT0EGdk8S5jKJgZAIiKiYuLrao0jo1qjYgUTPHyejh4/n0T4o+dSl0WUDwMgERFRMVIY6uPbHvWgryfDgeuP4DN3H0b+HoL0rBypSyNS0doA+PDhQ/Tv3x82NjYwMTFB3bp1ERoaqnpdCIFZs2bB2dkZxsbGaNGiBa5du6Y2j8zMTIwaNQq2trYwNTVF165d8eDBg9JeFCIiKmf61HPDpSkd0Nu3EgDgp5O30HDRQVyLeS5tYUT/o5UBMCEhAU2bNoWhoSEOHDiA69ev49tvv0WFChVUbRYuXIglS5Zg2bJlCAkJgaOjI9q0aYPk5P8/M2vs2LHYtWsXtm7ditOnTyMlJQWdO3dGbi6P2SAiIs34uFjh9yHv4OBnLeFgrkB4TCLqLzyIFaduQQheM5CkJRNa2AunTp2Kf/75B6dOnSrwdSEEnJ2dMXbsWEyZMgXAi619Dg4OWLBgAYYPH47ExETY2dlhw4YNeP/99wEAjx49gqurK/bv34927dq9to6kpCRYWloiMTERFhYWxbeARERUrjxOSkfgxjM4eD0GANC9dkWs6dcINmZyiSvTTRy/tXQL4J49e1C/fn307t0b9vb28PX1xc8//6x6/d69e4iNjUXbtm1V0+RyOZo3b47g4GAAQGhoKLKzs9XaODs7w9vbW9WGiIioODhYGGPfJy2xpEc9GOrrYfeVB6g9bx+O34qVujTSUVoZAO/evYsVK1bA09MTf//9Nz755BOMHj0a69evBwDExr74Qjk4OKi9z8HBQfVabGwsjIyMYGVlVWibl2VmZiIpKUntQUREVBR51ww8N7EdqjtY4FFiOlr/eBTT91xGdq5S6vJIx2hlAFQqlahXrx7mzp0LX19fDB8+HMOGDcOKFSvU2slkMrXnQoh80172qjbz5s2DpaWl6uHq6qrZghARkc7xdbVG6OQOGNqkCoQA5h66hneWHsLdp7x7CJUerQyATk5OqFmzpto0Ly8v3L9/HwDg6OgIAPm25MXFxam2Cjo6OiIrKwsJCQmFtnnZtGnTkJiYqHpER/Mq70RE9OZM5Qb4uV8j/D64GSyNDXEuMh515+/HxvP3eIIIlQqtDIBNmzZFRESE2rRbt27Bzc0NAODh4QFHR0ccPnxY9XpWVhaCgoLQpEkTAICfnx8MDQ3V2sTExCA8PFzV5mVyuRwWFhZqDyIiorfVu54bwqZ1RNPKdkjOyMGA9cHoueYUHielS10alXNaGQDHjRuHs2fPYu7cubhz5w42b96M1atXY8SIEQBe7PodO3Ys5s6di127diE8PByBgYEwMTFBv379AACWlpYYMmQIJkyYgKNHj+LSpUvo378/fHx8EBAQIOXiERGRDnGzNsOJMQGY3ak2DPRk2BUWjVpz9mFbaCS3BlKJ0crLwADA3r17MW3aNNy+fRseHh4YP348hg0bpnpdCIHZs2dj1apVSEhIgL+/P3766Sd4e3ur2mRkZGDSpEnYvHkz0tPT0bp1ayxfvrzIx/bxNHIiIipOlx88Q+CGswh7+OLwpJ51XbHyg4awNVNIXFn5wvFbiwNgWcAORERExS0rJxdz/76GOX+HI0cp4GihwK8fNkKHWi5Sl1ZucPzW0l3ARERE5ZWRgT5mdaqNc5Paw8vRArFJGei44gRGbDuP1EzeT5iKBwMgERFRGVTvf5eLGdOiOgBg+anbqLdgP85HPpW4MioPGACJiIjKKGMjA3zXqz4OjWgFZ0tj3IpLRpMlhzB7/xXk8OLRpAEGQCIiojKujZcTrn7eCe/Xc0OuUmDW/qtouuQQbj3mHano7TAAEhERaQFrUzm2Dm6GzYFNYWlsiPNR8fBdsB87Lt2XujTSQgyAREREWqRvfXdc/bwTWlZzQFpWLnr9cgqz91+BUsmLelDRMQASERFpGVcrUxwa0Up1gsis/VfRd91pZGbnSlwZaQsGQCIiIi1koK+H73rVx5p+/jDU18PvF++j/fLjeJKcIXVppAUYAImIiLTYkCZVsf/TFjCTG+DE7ceov/AALkY/k7osKuMYAImIiLRcQA0nnJvYHp525rifkIZ3lh7CrrBoqcuiMowBkIiIqByo6WSJ85Pao20NJ6Rl5aLHzycxax9PDqGCMQASERGVExVMjLDv0xYY1fzFySGzD1zFez+fRFJ6tsSVUVnDAEhERFSOGOjr4Yfe9bG2fyPIDfSw5+oD+C8+iMj4FKlLozKEAZCIiKgcCmxUBafGtYVLBWPcfJyEZksP4erDBKnLojKCAZCIiKicauBmg/MT28PL0QIPn6ej2dLDOBYRK3VZVAYwABIREZVjzhVMcGpsWzSrYoekjGy0X34cG8/fk7oskhgDIBERUTlnYybH4ZGt0adeJWTnKjFgfTBWnroldVkkIQZAIiIiHaAw1MeWwGYY/b/bx326LQSTdl1ErlIpcWUkBQZAIiIiHaGnJ8N3Pf0ws4MPAGDx0RuYuOuSxFWRFBgAiYiIdIhMJsOsTrXxcz9/AMD3J27i8I0Yiaui0sYASEREpIOGNqmKIY2rQAig77p/cObuE6lLolLEAEhERKSjlvVpAD9Xa8SnZqLp0kNYcPgahOCt43QBAyAREZGOUhjq4/CoVhjQ0ANCAFP/vIzhW84jJ5cnhpR3DIBEREQ6zMpEjvUDm+D7Xn7Qk8nwc/AddF8dhNTMHKlLoxLEAEhEREQY3aIGdg57B8aG+th37RFa/3gEyRnZUpdFJYQBkIiIiAAA3Wq74tjoAFibGOFcZDzaLz+GhLRMqcuiEsAASERERCqNPGxxcEQrVDA2QvDdp3h36WE8ep4mdVlUzBgAiYiISE0DNxucHBsAJwtjhMckounSQ7jzJFnqsqgYMQASERFRPj4uVvhnfFtUtTNHZHwq3l16GDdiE6Uui4oJAyAREREVyMPWDKfHtYGPcwXEJKWj+XeHEfYgQeqyqBgwABIREVGhHCyMcXx0AOq5WuNJSiZa/nAEF6OfSV0WaYgBkIiIiF7JxkyOo6Nao5G7LRLSshDw41FciIqXuizSAAMgERERvVYFEyP8PaKVKgS2/OEIjt+KlboseksMgERERFQkFsaGODSyFVpWc0BKZg7aLz+OnZfvS10WvQUGQCIiIioyc4Uh9n/aEu/VcUVWjhK9fzmNX4LvSF0WvSEGQCIiInojCkN9/D64GYY0rgKlEBi6+RwWHr4mdVn0BhgAiYiI6I0Z6Ovh537+mBxQEwAw5c/LmLL7EoQQEldGRcEASERERG9FJpNhQXdfLOzuCwBYeOQ6vj16Q+KqqCgYAImIiEgjkwJqYmlPPwDA5D8vYc+VBxJXRK/DAEhEREQaG9OiOj5p5gkhgH7r/sGVh7xjSFnGAEhEREQak8lk+KF3fbSu7ojUrBx0XRWE5IxsqcuiQjAAEhERUbEw1NfD9iHN4GFjhqhnqZi9/6rUJVEhGACJiIio2FiZyPFTn/oAgGUnI5CRnStxRVQQBkAiIiIqVu1rOsPOTI7MHCXCHz2XuhwqAAMgERERFSuZTAZjQ30AgJLXBSyTGACJiIio2GXmKAEARgaMGmUR/ypERERU7EzlBgCAZ6lZEldCBWEAJCIiomJXycoUAPDgeZrElVBBGACJiIio2NV0tAAAXI9NlLgSKggDIBERERW7KrbmAICoZ6kSV0IFYQAkIiKiYmdvrgAAxCVnSFwJFYQBkIiIiIpdFVszAMC1GO4CLosYAImIiKjY1XaxAgA8Ts7A0xRuBSxrGACJiIio2JnKDVDJygQAEPE4SeJq6GUMgERERFQiajhYAgBuMACWOQyAREREVCLqVnyxG/jsvacSV0IvYwAkIiKiEtHC0x4AcPz2Y4kroZcxABIREVGJaFrZHvp6Mtx9moL7vB5gmcIASERERCXCwtgQfq7WAICgO9wKWJYwABIREVGJaeHpAAA4cTtO4krovxgAiYiIqMS0rPYiAB6NiIUQQuJqKA8DIBEREZWYd6vaQ2Goj6hnqbwrSBnCAEhEREQlxsTIAK3/txVwz9UHEldDeRgAiYiIqER18akIANgb/lDiSigPAyARERGVqM7eLpDJgDP3niI6gZeDKQu0MgDm5ORgxowZ8PDwgLGxMSpXroyvvvoKSqVS1UYIgVmzZsHZ2RnGxsZo0aIFrl27pjafzMxMjBo1Cra2tjA1NUXXrl3x4AE3TxMRERUnlwomeKfKi4tCbw2NkrgaArQ0AC5YsAArV67EsmXLcOPGDSxcuBCLFi3Cjz/+qGqzcOFCLFmyBMuWLUNISAgcHR3Rpk0bJCcnq9qMHTsWu3btwtatW3H69GmkpKSgc+fOyM3NlWKxiIiIyq3+DTwAABtD7klcCQGATGjhOdmdO3eGg4MDfvnlF9W0nj17wsTEBBs2bIAQAs7Ozhg7diymTJkC4MXWPgcHByxYsADDhw9HYmIi7OzssGHDBrz//vsAgEePHsHV1RX79+9Hu3btXltHUlISLC0tkZiYCAsLi5JZWCIionIgIS0TDtN2IjtXibuzusHD1kyyWjh+a+kWwGbNmuHo0aO4desWACAsLAynT59Gx44dAQD37t1DbGws2rZtq3qPXC5H8+bNERwcDAAIDQ1Fdna2WhtnZ2d4e3ur2rwsMzMTSUlJag8iIiJ6PSsTOWo7VwAAhEY/k7YYgoHUBbyNKVOmIDExETVq1IC+vj5yc3MxZ84c9O3bFwAQGxsLAHBwcFB7n4ODA6KiolRtjIyMYGVlla9N3vtfNm/ePMyePbu4F4eIiEgn1HSyRGj0M9x5kvz6xlSitHIL4LZt27Bx40Zs3rwZFy9exG+//YbFixfjt99+U2snk8nUngsh8k172avaTJs2DYmJiapHdHS0ZgtCRESkQ6r8b7dvxGPuQZOaVm4BnDRpEqZOnYoPPvgAAODj44OoqCjMmzcPgwYNgqOjI4AXW/mcnJxU74uLi1NtFXR0dERWVhYSEhLUtgLGxcWhSZMmBX6uXC6HXC4vqcUiIiIq1+q4vBhvLz7gLmCpaeUWwLS0NOjpqZeur6+vugyMh4cHHB0dcfjwYdXrWVlZCAoKUoU7Pz8/GBoaqrWJiYlBeHh4oQGQiIiI3l5DNxsAQPijRCSkZUpcjW7Tyi2AXbp0wZw5c1CpUiXUqlULly5dwpIlSzB48GAAL3b9jh07FnPnzoWnpyc8PT0xd+5cmJiYoF+/fgAAS0tLDBkyBBMmTICNjQ2sra0xceJE+Pj4ICAgQMrFIyIiKpecK5jA28kS4TGJ2H7xPj5u5il1STpLKwPgjz/+iC+++AKfffYZ4uLi4OzsjOHDh+PLL79UtZk8eTLS09Px2WefISEhAf7+/jh06BDMzc1VbZYuXQoDAwP06dMH6enpaN26NdatWwd9fX0pFouIiKjcG+hfGZN3X8LWi1EMgBLSyusAlhW8jhAREdGbCX/0HD5z98HESB9P5veCiVHpb4vi+K2lxwASERGRdqrlZAlHCwXSsnJx5t5TqcvRWQyAREREVGpkMhk61HQGAPx19YHE1eguBkAiIiIqVXkB8GhEwTdeoJLHAEhERESlqmU1B8hkQHhMImKT0qUuRycxABIREVGpsjVTwLeiNQBuBZQKAyARERGVutbVX9yZiwFQGgyAREREVOoCqr+4VeuRiFjwinSljwGQiIiISl2zKnYwMtBDdEIabsclS12OzmEAJCIiolJnYmQA///dG5jXAyx9DIBEREQkCWdLEwDA42SeCVzaGACJiIhIEr6uVgCAc5HxEleiexgAiYiISBItPV+cCXzoZgzSs3Ikrka3MAASERGRJOpXsoGbtSlSMnPw/YkIqcvRKQyAREREJAk9PRm+7OADAJixNwxn7j6RuCLdwQBIREREkvmoUWW8X88NuUqBUdsv8JqApYQBkIiIiCQjk8nwfS8/KAz1ERr9DEG346QuSScwABIREZGkHCyMMaihBwDg5+A7ElejGxgAiYiISHJDm1QFAOy4fB/PUjMlrqb8YwAkIiIiyflVskYdFytk5iixKSRS6nLKPQZAIiIikpxMJsOQxlUAAGvO3OHJICWMAZCIiIjKhA8buENuoIcrD5/j6qPnUpdTrjEAEhERUZlgbSpH6+qOAIDNFyKlLaacYwAkIiKiMiPQvzIAYOflaIkrKd8YAImIiKjMeLeqPWQy4PaTZOwKYwgsKQyAREREVGY4WBgj7/yPHj+fRK5SKW1B5RQDIBEREZUZG8/fe+l5pDSFlHMMgERERFQmJGdkY/LuS6rn9StZo00NRwkrKr8MpC6AiIiICADMFYZYP7Ax/rn7BNPbecNAn9upSgoDIBEREZUZATWcEFDDSeoyyj1GayIiIiIdwwBIREREpGMYAImIiIh0DAMgERERkY5hACQiIiLSMQyARERERDqGAZCIiIhIxzAAEhEREekYBkAiIiIiHcMASERERKRjGACJiIiIdAwDIBEREZGOYQAkIiIi0jEGUhegzYQQAICkpCSJKyEiIqKiyhu388ZxXcQAqIHk5GQAgKurq8SVEBER0ZtKTk6GpaWl1GVIQiZ0Of5qSKlU4tGjRzA3N4dMJpO6nDIhKSkJrq6uiI6OhoWFhdTllEtcxyWP67jkcR2XPK7jwgkhkJycDGdnZ+jp6ebRcNwCqAE9PT1UrFhR6jLKJAsLC/7glDCu45LHdVzyuI5LHtdxwXR1y18e3Yy9RERERDqMAZCIiIhIxzAAUrGSy+WYOXMm5HK51KWUW1zHJY/ruORxHZc8rmN6FZ4EQkRERKRjuAWQiIiISMcwABIRERHpGAZAIiIiIh3DAEhERESkYxgA6Y3NmzcPDRo0gLm5Oezt7dG9e3dERESotRFCYNasWXB2doaxsTFatGiBa9euSVSx9ps3bx5kMhnGjh2rmsZ1rLmHDx+if//+sLGxgYmJCerWrYvQ0FDV61zHmsnJycGMGTPg4eEBY2NjVK5cGV999RWUSqWqDdfxmzl58iS6dOkCZ2dnyGQy7N69W+31oqzPzMxMjBo1Cra2tjA1NUXXrl3x4MGDUlwKKgsYAOmNBQUFYcSIETh79iwOHz6MnJwctG3bFqmpqao2CxcuxJIlS7Bs2TKEhITA0dERbdq0Ud0/mYouJCQEq1evRu3atdWmcx1rJiEhAU2bNoWhoSEOHDiA69ev49tvv0WFChVUbbiONbNgwQKsXLkSy5Ytw40bN7Bw4UIsWrQIP/74o6oN1/GbSU1NRZ06dbBs2bICXy/K+hw7dix27dqFrVu34vTp00hJSUHnzp2Rm5tbWotBZYEg0lBcXJwAIIKCgoQQQiiVSuHo6Cjmz5+vapORkSEsLS3FypUrpSpTKyUnJwtPT09x+PBh0bx5czFmzBghBNdxcZgyZYpo1qxZoa9zHWuuU6dOYvDgwWrTevToIfr37y+E4DrWFACxa9cu1fOirM/nz58LQ0NDsXXrVlWbhw8fCj09PXHw4MFSq52kxy2ApLHExEQAgLW1NQDg3r17iI2NRdu2bVVt5HI5mjdvjuDgYElq1FYjRoxAp06dEBAQoDad61hze/bsQf369dG7d2/Y29vD19cXP//8s+p1rmPNNWvWDEePHsWtW7cAAGFhYTh9+jQ6duwIgOu4uBVlfYaGhiI7O1utjbOzM7y9vbnOdYyB1AWQdhNCYPz48WjWrBm8vb0BALGxsQAABwcHtbYODg6Iiooq9Rq11datW3Hx4kWEhITke43rWHN3797FihUrMH78eHz++ec4f/48Ro8eDblcjoEDB3IdF4MpU6YgMTERNWrUgL6+PnJzczFnzhz07dsXAPtxcSvK+oyNjYWRkRGsrKzytcl7P+kGBkDSyMiRI3HlyhWcPn0632symUztuRAi3zQqWHR0NMaMGYNDhw5BoVAU2o7r+O0plUrUr18fc+fOBQD4+vri2rVrWLFiBQYOHKhqx3X89rZt24aNGzdi8+bNqFWrFi5fvoyxY8fC2dkZgwYNUrXjOi5eb7M+uc51D3cB01sbNWoU9uzZg+PHj6NixYqq6Y6OjgCQ73+TcXFx+f5nSgULDQ1FXFwc/Pz8YGBgAAMDAwQFBeGHH36AgYGBaj1yHb89Jycn1KxZU22al5cX7t+/D4D9uDhMmjQJU6dOxQcffAAfHx8MGDAA48aNw7x58wBwHRe3oqxPR0dHZGVlISEhodA2pBsYAOmNCSEwcuRI7Ny5E8eOHYOHh4fa6x4eHnB0dMThw4dV07KyshAUFIQmTZqUdrlaqXXr1rh69SouX76setSvXx8ffvghLl++jMqVK3Mda6hp06b5Ll9069YtuLm5AWA/Lg5paWnQ01MfZvT19VWXgeE6Ll5FWZ9+fn4wNDRUaxMTE4Pw8HCuc10j3fknpK0+/fRTYWlpKU6cOCFiYmJUj7S0NFWb+fPnC0tLS7Fz505x9epV0bdvX+Hk5CSSkpIkrFy7/fcsYCG4jjV1/vx5YWBgIObMmSNu374tNm3aJExMTMTGjRtVbbiONTNo0CDh4uIi9u7dK+7duyd27twpbG1txeTJk1VtuI7fTHJysrh06ZK4dOmSACCWLFkiLl26JKKiooQQRVufn3zyiahYsaI4cuSIuHjxomjVqpWoU6eOyMnJkWqxSAIMgPTGABT4WLt2raqNUqkUM2fOFI6OjkIul4t3331XXL16Vbqiy4GXAyDXseb++usv4e3tLeRyuahRo4ZYvXq12utcx5pJSkoSY8aMEZUqVRIKhUJUrlxZTJ8+XWRmZqracB2/mePHjxf4+zto0CAhRNHWZ3p6uhg5cqSwtrYWxsbGonPnzuL+/fsSLA1JSSaEENJseyQiIiIiKfAYQCIiIiIdwwBIREREpGMYAImIiIh0DAMgERERkY5hACQiIiLSMQyARERERDqGAZCIiIhIxzAAEhFJ4JdffkHbtm1f2SYwMBDdu3cvnYJe4+rVq6hYsSJSU1OlLoWIigEDIJEOk8lkr3wEBgZKXWKxa9GiBcaOHStpDZmZmfjyyy/xxRdfSFrHf126dAm9e/eGg4MDFAoFqlWrhmHDhuHWrVsAAB8fHzRs2BBLly6VuFIiKg4MgEQ6LCYmRvX47rvvYGFhoTbt+++/l7rEIsvOztaaz9uxYwfMzMzwzjvvFGNFb2/v3r1o1KgRMjMzsWnTJty4cQMbNmyApaWlWkj96KOPsGLFCuTm5kpYLREVBwZAIh3m6OioelhaWkImk6lNO3nyJPz8/KBQKFC5cmXMnj0bOTk5qvfLZDKsWrUKnTt3homJCby8vHDmzBncuXMHLVq0gKmpKRo3box///1X9Z5Zs2ahbt26WLVqFVxdXWFiYoLevXvj+fPnarWtXbsWXl5eUCgUqFGjBpYvX656LTIyEjKZDL///jtatGgBhUKBjRs3Ij4+Hn379kXFihVhYmICHx8fbNmyRfW+wMBABAUF4fvvv1dt5YyMjMS6detQoUIFtc/fvXs3ZDJZvrp//fVXVK5cGXK5HEIIJCYm4uOPP4a9vT0sLCzQqlUrhIWFvXK9b926FV27dlWblpubi/Hjx6NChQqwsbHB5MmT8fKdOoUQWLhwISpXrgxjY2PUqVMHf/zxh1qbPXv2wNPTE8bGxmjZsiV+++03yGSyfOs3T1paGj766CN07NgRe/bsQUBAADw8PODv74/Fixdj1apVqrbt2rVDfHw8goKCXrl8RKQFJL0TMRGVGWvXrhWWlpaq5wcPHhQWFhZi3bp14t9//xWHDh0S7u7uYtasWao2AISLi4vYtm2biIiIEN27dxfu7u6iVatW4uDBg+L69euiUaNGon379qr3zJw5U5iamopWrVqJS5cuiaCgIFG1alXRr18/VZvVq1cLJycnsWPHDnH37l2xY8cOYW1tLdatWyeEEOLevXsCgHB3d1e1efjwoXjw4IFYtGiRuHTpkvj333/FDz/8IPT19cXZs2eFEEI8f/5cNG7cWAwbNkzExMSImJgYkZOTk2/ZhRBi165d4r8/kXl1t2vXTly8eFGEhYUJpVIpmjZtKrp06SJCQkLErVu3xIQJE4SNjY2Ij48vdF1XqFBBbN26VW3aggULhKWlpfjjjz/E9evXxZAhQ4S5ubno1q2bqs3nn38uatSoIQ4ePCj+/fdfsXbtWiGXy8WJEydU68XQ0FBMnDhR3Lx5U2zZskW4uLgIACIhIaHAWnbu3CkAiODg4ELr/a+GDRuq9QEi0k4MgEQkhMgfAN955x0xd+5ctTYbNmwQTk5OqucAxIwZM1TPz5w5IwCIX375RTVty5YtQqFQqJ7PnDlT6Ovri+joaNW0AwcOCD09PRETEyOEEMLV1VVs3rxZ7bO//vpr0bhxYyHE/wfA77777rXL1bFjRzFhwgTV8+bNm4sxY8a8ctmFKDgAGhoairi4ONW0o0ePCgsLC5GRkaH23ipVqohVq1YVWE9CQoIAIE6ePKk23cnJScyfP1/1PDs7W1SsWFEVAFNSUoRCocgX1IYMGSL69u0rhBBiypQpwtvbW+316dOnvzIALliwQAAQz549K/D1l7333nsiMDCwSG2JqOwykGa7IxGVdaGhoQgJCcGcOXNU03Jzc5GRkYG0tDSYmJgAAGrXrq163cHBAcCLEwb+Oy0jIwNJSUmwsLAAAFSqVAkVK1ZUtWncuDGUSiUiIiKgr6+P6OhoDBkyBMOGDVO1ycnJgaWlpVqN9evXV3uem5uL+fPnY9u2bXj48CEyMzORmZkJU1NTTVcHAMDNzQ12dnaq56GhoUhJSYGNjY1au/T0dLXd3i+/BgAKhUI1LTExETExMWjcuLFqmoGBAerXr6/aDXz9+nVkZGSgTZs2avPLysqCr68vACAiIgINGjRQe71hw4avXCbx0m7m1zE2NkZaWtobvYeIyh4GQCIqkFKpxOzZs9GjR498r/03vBgaGqr+nXfMXEHTlEploZ+V10Ymk6na/fzzz/D391drp6+vr/b85WD37bffYunSpfjuu+/g4+MDU1NTjB07FllZWYUvKAA9Pb18Qaigkzxe/jylUgknJyecOHEiX9uXjynMY2NjA5lMhoSEhFfW9LK89bJv3z64uLiovSaXywG8CHP/PW4xb9qrVKtWDQBw8+ZNtQBamGfPnqFKlSpFrpuIyiYGQCIqUL169RAREYGqVasW+7zv37+PR48ewdnZGQBw5swZ6OnpoVq1anBwcICLiwvu3r2LDz/88I3me+rUKXTr1g39+/cH8CI03b59G15eXqo2RkZG+c5itbOzQ3JyMlJTU1Uh7/Lly6/9vHr16iE2NhYGBgZwd3cvUo1GRkaoWbMmrl+/rroOoKWlJZycnHD27Fm8++67AF5s8QwNDUW9evUAADVr1oRcLsf9+/fRvHnzAuddo0YN7N+/X23ahQsXXllP27ZtYWtri4ULF2LXrl35Xn/+/LlamA0PD0evXr2KtKxEVHYxABJRgb788kt07twZrq6u6N27N/T09HDlyhVcvXoV33zzjUbzVigUGDRoEBYvXoykpCSMHj0affr0gaOjI4AXZ9yOHj0aFhYW6NChAzIzM3HhwgUkJCRg/Pjxhc63atWq2LFjB4KDg2FlZYUlS5YgNjZWLQC6u7vj3LlziIyMhJmZGaytreHv7w8TExN8/vnnGDVqFM6fP49169a9djkCAgLQuHFjdO/eHQsWLED16tXx6NEj7N+/H927d8+3izpPu3btcPr0abXrEY4ZMwbz58+Hp6cnvLy8sGTJErUzd83NzTFx4kSMGzcOSqUSzZo1Q1JSEoKDg2FmZoZBgwZh+PDhWLJkCaZMmYIhQ4bg8uXLquV4ectgHlNTU6xZswa9e/dG165dMXr0aFStWhVPnz7F77//jvv372Pr1q0AXpx9/fDhQwQEBLx23RBRGSfpEYhEVGYUdCLEwYMHRZMmTYSxsbGwsLAQDRs2FKtXr1a9DkDs2rVL9Tzv5IxLly6pph0/flztJISZM2eKOnXqiOXLlwtnZ2ehUChEjx498p2EsGnTJlG3bl1hZGQkrKysxLvvvit27txZ6OcIIUR8fLzo1q2bMDMzE/b29mLGjBli4MCBamfSRkREiEaNGgljY2MBQNy7d08I8eKkj6pVqwqFQiE6d+4sVq9ene8kkDp16uRbb0lJSWLUqFHC2dlZGBoaCldXV/Hhhx+K+/fvF7qub9y4IYyNjcXz589V07Kzs8WYMWOEhYWFqFChghg/fny+2pVKpfj+++9F9erVhaGhobCzsxPt2rUTQUFBqjZ//vmnqFq1qpDL5aJFixZixYoVAoBIT08vtB4hhAgJCRE9evQQdnZ2Qi6Xi6pVq4qPP/5Y3L59W9Vm7ty5ol27dq+cDxFpB5kQb3gEMBGRBmbNmoXdu3cXaRdredanTx/4+vpi2rRpJfo5c+bMwcqVKxEdHa3RfDIzM+Hp6YktW7agadOmxVQdEUmFF4ImIpLAokWLYGZmVuzzXb58OUJCQnD37l1s2LABixYtwqBBgzSeb1RUFKZPn87wR1RO8BhAIiIJuLm5YdSoUcU+39u3b+Obb77Bs2fPUKlSJUyYMKFYtjJWq1ZNdcYwEWk/7gImIiIi0jHcBUxERESkYxgAiYiIiHQMAyARERGRjmEAJCIiItIxDIBEREREOoYBkIiIiEjHMAASERER6RgGQCIiIiIdwwBIREREpGP+D2EMdzu1D3XtAAAAAElFTkSuQmCC",
       "_dom_classes": [],
       "_figure_label": "Figure",
       "_image_mode": "full",
       "_message": "",
       "_model_module": "jupyter-matplotlib",
       "_model_module_version": "^0.11",
       "_model_name": "MPLCanvasModel",
       "_rubberband_height": 0,
       "_rubberband_width": 0,
       "_rubberband_x": 0,
       "_rubberband_y": 0,
       "_size": [
        640.0,
        480.0
       ],
       "_view_count": null,
       "_view_module": "jupyter-matplotlib",
       "_view_module_version": "^0.11",
       "_view_name": "MPLCanvasView",
       "capture_scroll": false,
       "footer_visible": true,
       "header_visible": true,
       "layout": "IPY_MODEL_0b53032dfa0a43679d3da3a0667adc81",
       "pan_zoom_throttle": 33.0,
       "resizable": true,
       "tabbable": null,
       "toolbar": "IPY_MODEL_728a09d1b43c412d961331f3be821e01",
       "toolbar_position": "left",
       "toolbar_visible": "fade-in-fade-out",
       "tooltip": null
      }
     },
     "06458a6aa44e4ffdb6cc2aa6f5b9246f": {
      "model_module": "jupyter-matplotlib",
      "model_module_version": "^0.11",
      "model_name": "ToolbarModel",
      "state": {
       "_current_action": "",
       "_dom_classes": [],
       "_model_module": "jupyter-matplotlib",
       "_model_module_version": "^0.11",
       "_model_name": "ToolbarModel",
       "_view_count": null,
       "_view_module": "jupyter-matplotlib",
       "_view_module_version": "^0.11",
       "_view_name": "ToolbarView",
       "button_style": "",
       "collapsed": true,
       "layout": "IPY_MODEL_85b6e56d75524771b14b947cbbb27bf5",
       "orientation": "vertical",
       "tabbable": null,
       "toolitems": [
        [
         "Home",
         "Reset original view",
         "home",
         "home"
        ],
        [
         "Back",
         "Back to previous view",
         "arrow-left",
         "back"
        ],
        [
         "Forward",
         "Forward to next view",
         "arrow-right",
         "forward"
        ],
        [
         "Pan",
         "Left button pans, Right button zooms\nx/y fixes axis, CTRL fixes aspect",
         "arrows",
         "pan"
        ],
        [
         "Zoom",
         "Zoom to rectangle\nx/y fixes axis",
         "square-o",
         "zoom"
        ],
        [
         "Download",
         "Download plot",
         "floppy-o",
         "save_figure"
        ]
       ],
       "tooltip": null
      }
     },
     "06c9d534a1c7492a8dd3b9dfadee52b6": {
      "model_module": "@jupyter-widgets/base",
      "model_module_version": "2.0.0",
      "model_name": "LayoutModel",
      "state": {
       "_model_module": "@jupyter-widgets/base",
       "_model_module_version": "2.0.0",
       "_model_name": "LayoutModel",
       "_view_count": null,
       "_view_module": "@jupyter-widgets/base",
       "_view_module_version": "2.0.0",
       "_view_name": "LayoutView",
       "align_content": null,
       "align_items": null,
       "align_self": null,
       "border_bottom": null,
       "border_left": null,
       "border_right": null,
       "border_top": null,
       "bottom": null,
       "display": null,
       "flex": null,
       "flex_flow": null,
       "grid_area": null,
       "grid_auto_columns": null,
       "grid_auto_flow": null,
       "grid_auto_rows": null,
       "grid_column": null,
       "grid_gap": null,
       "grid_row": null,
       "grid_template_areas": null,
       "grid_template_columns": null,
       "grid_template_rows": null,
       "height": null,
       "justify_content": null,
       "justify_items": null,
       "left": null,
       "margin": null,
       "max_height": null,
       "max_width": null,
       "min_height": null,
       "min_width": null,
       "object_fit": null,
       "object_position": null,
       "order": null,
       "overflow": null,
       "padding": null,
       "right": null,
       "top": null,
       "visibility": null,
       "width": null
      }
     },
     "0b53032dfa0a43679d3da3a0667adc81": {
      "model_module": "@jupyter-widgets/base",
      "model_module_version": "2.0.0",
      "model_name": "LayoutModel",
      "state": {
       "_model_module": "@jupyter-widgets/base",
       "_model_module_version": "2.0.0",
       "_model_name": "LayoutModel",
       "_view_count": null,
       "_view_module": "@jupyter-widgets/base",
       "_view_module_version": "2.0.0",
       "_view_name": "LayoutView",
       "align_content": null,
       "align_items": null,
       "align_self": null,
       "border_bottom": null,
       "border_left": null,
       "border_right": null,
       "border_top": null,
       "bottom": null,
       "display": null,
       "flex": null,
       "flex_flow": null,
       "grid_area": null,
       "grid_auto_columns": null,
       "grid_auto_flow": null,
       "grid_auto_rows": null,
       "grid_column": null,
       "grid_gap": null,
       "grid_row": null,
       "grid_template_areas": null,
       "grid_template_columns": null,
       "grid_template_rows": null,
       "height": null,
       "justify_content": null,
       "justify_items": null,
       "left": null,
       "margin": null,
       "max_height": null,
       "max_width": null,
       "min_height": null,
       "min_width": null,
       "object_fit": null,
       "object_position": null,
       "order": null,
       "overflow": null,
       "padding": null,
       "right": null,
       "top": null,
       "visibility": null,
       "width": null
      }
     },
     "0fbf33ae4ceb4ac3894bc55d4313c4e4": {
      "model_module": "jupyter-matplotlib",
      "model_module_version": "^0.11",
      "model_name": "ToolbarModel",
      "state": {
       "_current_action": "",
       "_dom_classes": [],
       "_model_module": "jupyter-matplotlib",
       "_model_module_version": "^0.11",
       "_model_name": "ToolbarModel",
       "_view_count": null,
       "_view_module": "jupyter-matplotlib",
       "_view_module_version": "^0.11",
       "_view_name": "ToolbarView",
       "button_style": "",
       "collapsed": true,
       "layout": "IPY_MODEL_589f1a948b0c45b78384bced9b7c0dd7",
       "orientation": "vertical",
       "tabbable": null,
       "toolitems": [
        [
         "Home",
         "Reset original view",
         "home",
         "home"
        ],
        [
         "Back",
         "Back to previous view",
         "arrow-left",
         "back"
        ],
        [
         "Forward",
         "Forward to next view",
         "arrow-right",
         "forward"
        ],
        [
         "Pan",
         "Left button pans, Right button zooms\nx/y fixes axis, CTRL fixes aspect",
         "arrows",
         "pan"
        ],
        [
         "Zoom",
         "Zoom to rectangle\nx/y fixes axis",
         "square-o",
         "zoom"
        ],
        [
         "Download",
         "Download plot",
         "floppy-o",
         "save_figure"
        ]
       ],
       "tooltip": null
      }
     },
     "1135c34c66014e7e9902cf8d8351d83b": {
      "model_module": "jupyter-matplotlib",
      "model_module_version": "^0.11",
      "model_name": "MPLCanvasModel",
      "state": {
       "_cursor": "pointer",
       "_data_url": "data:image/png;base64,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",
       "_dom_classes": [],
       "_figure_label": "Figure",
       "_image_mode": "full",
       "_message": "",
       "_model_module": "jupyter-matplotlib",
       "_model_module_version": "^0.11",
       "_model_name": "MPLCanvasModel",
       "_rubberband_height": 0,
       "_rubberband_width": 0,
       "_rubberband_x": 0,
       "_rubberband_y": 0,
       "_size": [
        640.0,
        480.0
       ],
       "_view_count": null,
       "_view_module": "jupyter-matplotlib",
       "_view_module_version": "^0.11",
       "_view_name": "MPLCanvasView",
       "capture_scroll": false,
       "footer_visible": true,
       "header_visible": true,
       "layout": "IPY_MODEL_939bf79e1c104e4e8273098d4a2bfdc2",
       "pan_zoom_throttle": 33.0,
       "resizable": true,
       "tabbable": null,
       "toolbar": "IPY_MODEL_c9dbb96bd3b6467bb9276fbba03df039",
       "toolbar_position": "left",
       "toolbar_visible": "fade-in-fade-out",
       "tooltip": null
      }
     },
     "11c0560cb5b446a38f3c909e3e47310e": {
      "model_module": "@jupyter-widgets/base",
      "model_module_version": "2.0.0",
      "model_name": "LayoutModel",
      "state": {
       "_model_module": "@jupyter-widgets/base",
       "_model_module_version": "2.0.0",
       "_model_name": "LayoutModel",
       "_view_count": null,
       "_view_module": "@jupyter-widgets/base",
       "_view_module_version": "2.0.0",
       "_view_name": "LayoutView",
       "align_content": null,
       "align_items": null,
       "align_self": null,
       "border_bottom": null,
       "border_left": null,
       "border_right": null,
       "border_top": null,
       "bottom": null,
       "display": null,
       "flex": null,
       "flex_flow": null,
       "grid_area": null,
       "grid_auto_columns": null,
       "grid_auto_flow": null,
       "grid_auto_rows": null,
       "grid_column": null,
       "grid_gap": null,
       "grid_row": null,
       "grid_template_areas": null,
       "grid_template_columns": null,
       "grid_template_rows": null,
       "height": null,
       "justify_content": null,
       "justify_items": null,
       "left": null,
       "margin": null,
       "max_height": null,
       "max_width": null,
       "min_height": null,
       "min_width": null,
       "object_fit": null,
       "object_position": null,
       "order": null,
       "overflow": null,
       "padding": null,
       "right": null,
       "top": null,
       "visibility": null,
       "width": null
      }
     },
     "15494276cec04b36b7b068c674b98d8c": {
      "model_module": "@jupyter-widgets/base",
      "model_module_version": "2.0.0",
      "model_name": "LayoutModel",
      "state": {
       "_model_module": "@jupyter-widgets/base",
       "_model_module_version": "2.0.0",
       "_model_name": "LayoutModel",
       "_view_count": null,
       "_view_module": "@jupyter-widgets/base",
       "_view_module_version": "2.0.0",
       "_view_name": "LayoutView",
       "align_content": null,
       "align_items": null,
       "align_self": null,
       "border_bottom": null,
       "border_left": null,
       "border_right": null,
       "border_top": null,
       "bottom": null,
       "display": null,
       "flex": null,
       "flex_flow": null,
       "grid_area": null,
       "grid_auto_columns": null,
       "grid_auto_flow": null,
       "grid_auto_rows": null,
       "grid_column": null,
       "grid_gap": null,
       "grid_row": null,
       "grid_template_areas": null,
       "grid_template_columns": null,
       "grid_template_rows": null,
       "height": null,
       "justify_content": null,
       "justify_items": null,
       "left": null,
       "margin": null,
       "max_height": null,
       "max_width": null,
       "min_height": null,
       "min_width": null,
       "object_fit": null,
       "object_position": null,
       "order": null,
       "overflow": null,
       "padding": null,
       "right": null,
       "top": null,
       "visibility": null,
       "width": null
      }
     },
     "167fee27b83542488910f7ba83b7fde5": {
      "model_module": "@jupyter-widgets/base",
      "model_module_version": "2.0.0",
      "model_name": "LayoutModel",
      "state": {
       "_model_module": "@jupyter-widgets/base",
       "_model_module_version": "2.0.0",
       "_model_name": "LayoutModel",
       "_view_count": null,
       "_view_module": "@jupyter-widgets/base",
       "_view_module_version": "2.0.0",
       "_view_name": "LayoutView",
       "align_content": null,
       "align_items": null,
       "align_self": null,
       "border_bottom": null,
       "border_left": null,
       "border_right": null,
       "border_top": null,
       "bottom": null,
       "display": null,
       "flex": null,
       "flex_flow": null,
       "grid_area": null,
       "grid_auto_columns": null,
       "grid_auto_flow": null,
       "grid_auto_rows": null,
       "grid_column": null,
       "grid_gap": null,
       "grid_row": null,
       "grid_template_areas": null,
       "grid_template_columns": null,
       "grid_template_rows": null,
       "height": null,
       "justify_content": null,
       "justify_items": null,
       "left": null,
       "margin": null,
       "max_height": null,
       "max_width": null,
       "min_height": null,
       "min_width": null,
       "object_fit": null,
       "object_position": null,
       "order": null,
       "overflow": null,
       "padding": null,
       "right": null,
       "top": null,
       "visibility": null,
       "width": null
      }
     },
     "2207e8b7cd7f4e26bf7cd4f80198dc0d": {
      "model_module": "@jupyter-widgets/base",
      "model_module_version": "2.0.0",
      "model_name": "LayoutModel",
      "state": {
       "_model_module": "@jupyter-widgets/base",
       "_model_module_version": "2.0.0",
       "_model_name": "LayoutModel",
       "_view_count": null,
       "_view_module": "@jupyter-widgets/base",
       "_view_module_version": "2.0.0",
       "_view_name": "LayoutView",
       "align_content": null,
       "align_items": null,
       "align_self": null,
       "border_bottom": null,
       "border_left": null,
       "border_right": null,
       "border_top": null,
       "bottom": null,
       "display": null,
       "flex": null,
       "flex_flow": null,
       "grid_area": null,
       "grid_auto_columns": null,
       "grid_auto_flow": null,
       "grid_auto_rows": null,
       "grid_column": null,
       "grid_gap": null,
       "grid_row": null,
       "grid_template_areas": null,
       "grid_template_columns": null,
       "grid_template_rows": null,
       "height": null,
       "justify_content": null,
       "justify_items": null,
       "left": null,
       "margin": null,
       "max_height": null,
       "max_width": null,
       "min_height": null,
       "min_width": null,
       "object_fit": null,
       "object_position": null,
       "order": null,
       "overflow": null,
       "padding": null,
       "right": null,
       "top": null,
       "visibility": null,
       "width": null
      }
     },
     "2446c04b9f0444bcbb51bb8d842edda2": {
      "model_module": "jupyter-matplotlib",
      "model_module_version": "^0.11",
      "model_name": "ToolbarModel",
      "state": {
       "_current_action": "",
       "_dom_classes": [],
       "_model_module": "jupyter-matplotlib",
       "_model_module_version": "^0.11",
       "_model_name": "ToolbarModel",
       "_view_count": null,
       "_view_module": "jupyter-matplotlib",
       "_view_module_version": "^0.11",
       "_view_name": "ToolbarView",
       "button_style": "",
       "collapsed": true,
       "layout": "IPY_MODEL_15494276cec04b36b7b068c674b98d8c",
       "orientation": "vertical",
       "tabbable": null,
       "toolitems": [
        [
         "Home",
         "Reset original view",
         "home",
         "home"
        ],
        [
         "Back",
         "Back to previous view",
         "arrow-left",
         "back"
        ],
        [
         "Forward",
         "Forward to next view",
         "arrow-right",
         "forward"
        ],
        [
         "Pan",
         "Left button pans, Right button zooms\nx/y fixes axis, CTRL fixes aspect",
         "arrows",
         "pan"
        ],
        [
         "Zoom",
         "Zoom to rectangle\nx/y fixes axis",
         "square-o",
         "zoom"
        ],
        [
         "Download",
         "Download plot",
         "floppy-o",
         "save_figure"
        ]
       ],
       "tooltip": null
      }
     },
     "2ef32e2dffd24fbf813a547bf93402dd": {
      "model_module": "@jupyter-widgets/base",
      "model_module_version": "2.0.0",
      "model_name": "LayoutModel",
      "state": {
       "_model_module": "@jupyter-widgets/base",
       "_model_module_version": "2.0.0",
       "_model_name": "LayoutModel",
       "_view_count": null,
       "_view_module": "@jupyter-widgets/base",
       "_view_module_version": "2.0.0",
       "_view_name": "LayoutView",
       "align_content": null,
       "align_items": null,
       "align_self": null,
       "border_bottom": null,
       "border_left": null,
       "border_right": null,
       "border_top": null,
       "bottom": null,
       "display": null,
       "flex": null,
       "flex_flow": null,
       "grid_area": null,
       "grid_auto_columns": null,
       "grid_auto_flow": null,
       "grid_auto_rows": null,
       "grid_column": null,
       "grid_gap": null,
       "grid_row": null,
       "grid_template_areas": null,
       "grid_template_columns": null,
       "grid_template_rows": null,
       "height": null,
       "justify_content": null,
       "justify_items": null,
       "left": null,
       "margin": null,
       "max_height": null,
       "max_width": null,
       "min_height": null,
       "min_width": null,
       "object_fit": null,
       "object_position": null,
       "order": null,
       "overflow": null,
       "padding": null,
       "right": null,
       "top": null,
       "visibility": null,
       "width": null
      }
     },
     "30b4cc0b35ad4cbfb3faaa94dbe7402e": {
      "model_module": "@jupyter-widgets/base",
      "model_module_version": "2.0.0",
      "model_name": "LayoutModel",
      "state": {
       "_model_module": "@jupyter-widgets/base",
       "_model_module_version": "2.0.0",
       "_model_name": "LayoutModel",
       "_view_count": null,
       "_view_module": "@jupyter-widgets/base",
       "_view_module_version": "2.0.0",
       "_view_name": "LayoutView",
       "align_content": null,
       "align_items": null,
       "align_self": null,
       "border_bottom": null,
       "border_left": null,
       "border_right": null,
       "border_top": null,
       "bottom": null,
       "display": null,
       "flex": null,
       "flex_flow": null,
       "grid_area": null,
       "grid_auto_columns": null,
       "grid_auto_flow": null,
       "grid_auto_rows": null,
       "grid_column": null,
       "grid_gap": null,
       "grid_row": null,
       "grid_template_areas": null,
       "grid_template_columns": null,
       "grid_template_rows": null,
       "height": null,
       "justify_content": null,
       "justify_items": null,
       "left": null,
       "margin": null,
       "max_height": null,
       "max_width": null,
       "min_height": null,
       "min_width": null,
       "object_fit": null,
       "object_position": null,
       "order": null,
       "overflow": null,
       "padding": null,
       "right": null,
       "top": null,
       "visibility": null,
       "width": null
      }
     },
     "3a4ed1a61bac4e38a5d6c1300ca82a48": {
      "model_module": "jupyter-matplotlib",
      "model_module_version": "^0.11",
      "model_name": "ToolbarModel",
      "state": {
       "_current_action": "",
       "_dom_classes": [],
       "_model_module": "jupyter-matplotlib",
       "_model_module_version": "^0.11",
       "_model_name": "ToolbarModel",
       "_view_count": null,
       "_view_module": "jupyter-matplotlib",
       "_view_module_version": "^0.11",
       "_view_name": "ToolbarView",
       "button_style": "",
       "collapsed": true,
       "layout": "IPY_MODEL_abcb560890c24a6fba501f86a34eed03",
       "orientation": "vertical",
       "tabbable": null,
       "toolitems": [
        [
         "Home",
         "Reset original view",
         "home",
         "home"
        ],
        [
         "Back",
         "Back to previous view",
         "arrow-left",
         "back"
        ],
        [
         "Forward",
         "Forward to next view",
         "arrow-right",
         "forward"
        ],
        [
         "Pan",
         "Left button pans, Right button zooms\nx/y fixes axis, CTRL fixes aspect",
         "arrows",
         "pan"
        ],
        [
         "Zoom",
         "Zoom to rectangle\nx/y fixes axis",
         "square-o",
         "zoom"
        ],
        [
         "Download",
         "Download plot",
         "floppy-o",
         "save_figure"
        ]
       ],
       "tooltip": null
      }
     },
     "3f26dfef8ed040a29c5c5daa38f20140": {
      "model_module": "jupyter-matplotlib",
      "model_module_version": "^0.11",
      "model_name": "MPLCanvasModel",
      "state": {
       "_cursor": "pointer",
       "_data_url": "data:image/png;base64,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",
       "_dom_classes": [],
       "_figure_label": "Figure",
       "_image_mode": "full",
       "_message": "",
       "_model_module": "jupyter-matplotlib",
       "_model_module_version": "^0.11",
       "_model_name": "MPLCanvasModel",
       "_rubberband_height": 0,
       "_rubberband_width": 0,
       "_rubberband_x": 0,
       "_rubberband_y": 0,
       "_size": [
        640.0,
        480.0
       ],
       "_view_count": null,
       "_view_module": "jupyter-matplotlib",
       "_view_module_version": "^0.11",
       "_view_name": "MPLCanvasView",
       "capture_scroll": false,
       "footer_visible": true,
       "header_visible": true,
       "layout": "IPY_MODEL_06c9d534a1c7492a8dd3b9dfadee52b6",
       "pan_zoom_throttle": 33.0,
       "resizable": true,
       "tabbable": null,
       "toolbar": "IPY_MODEL_59a074f7421d494f9aaaa36b2d43a855",
       "toolbar_position": "left",
       "toolbar_visible": "fade-in-fade-out",
       "tooltip": null
      }
     },
     "451ec212ead04485bd912a141c4eb1e0": {
      "model_module": "jupyter-matplotlib",
      "model_module_version": "^0.11",
      "model_name": "MPLCanvasModel",
      "state": {
       "_cursor": "pointer",
       "_data_url": "data:image/png;base64,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",
       "_dom_classes": [],
       "_figure_label": "Figure",
       "_image_mode": "full",
       "_message": "",
       "_model_module": "jupyter-matplotlib",
       "_model_module_version": "^0.11",
       "_model_name": "MPLCanvasModel",
       "_rubberband_height": 0,
       "_rubberband_width": 0,
       "_rubberband_x": 0,
       "_rubberband_y": 0,
       "_size": [
        640.0,
        480.0
       ],
       "_view_count": null,
       "_view_module": "jupyter-matplotlib",
       "_view_module_version": "^0.11",
       "_view_name": "MPLCanvasView",
       "capture_scroll": false,
       "footer_visible": true,
       "header_visible": true,
       "layout": "IPY_MODEL_30b4cc0b35ad4cbfb3faaa94dbe7402e",
       "pan_zoom_throttle": 33.0,
       "resizable": true,
       "tabbable": null,
       "toolbar": "IPY_MODEL_3a4ed1a61bac4e38a5d6c1300ca82a48",
       "toolbar_position": "left",
       "toolbar_visible": "fade-in-fade-out",
       "tooltip": null
      }
     },
     "463777b6459143f5a20877404da8da9b": {
      "model_module": "@jupyter-widgets/base",
      "model_module_version": "2.0.0",
      "model_name": "LayoutModel",
      "state": {
       "_model_module": "@jupyter-widgets/base",
       "_model_module_version": "2.0.0",
       "_model_name": "LayoutModel",
       "_view_count": null,
       "_view_module": "@jupyter-widgets/base",
       "_view_module_version": "2.0.0",
       "_view_name": "LayoutView",
       "align_content": null,
       "align_items": null,
       "align_self": null,
       "border_bottom": null,
       "border_left": null,
       "border_right": null,
       "border_top": null,
       "bottom": null,
       "display": null,
       "flex": null,
       "flex_flow": null,
       "grid_area": null,
       "grid_auto_columns": null,
       "grid_auto_flow": null,
       "grid_auto_rows": null,
       "grid_column": null,
       "grid_gap": null,
       "grid_row": null,
       "grid_template_areas": null,
       "grid_template_columns": null,
       "grid_template_rows": null,
       "height": null,
       "justify_content": null,
       "justify_items": null,
       "left": null,
       "margin": null,
       "max_height": null,
       "max_width": null,
       "min_height": null,
       "min_width": null,
       "object_fit": null,
       "object_position": null,
       "order": null,
       "overflow": null,
       "padding": null,
       "right": null,
       "top": null,
       "visibility": null,
       "width": null
      }
     },
     "47ebc8220b894030b71eb07b6598efb6": {
      "model_module": "jupyter-matplotlib",
      "model_module_version": "^0.11",
      "model_name": "MPLCanvasModel",
      "state": {
       "_cursor": "pointer",
       "_data_url": "data:image/png;base64,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",
       "_dom_classes": [],
       "_figure_label": "Figure",
       "_image_mode": "full",
       "_message": "",
       "_model_module": "jupyter-matplotlib",
       "_model_module_version": "^0.11",
       "_model_name": "MPLCanvasModel",
       "_rubberband_height": 0,
       "_rubberband_width": 0,
       "_rubberband_x": 0,
       "_rubberband_y": 0,
       "_size": [
        640.0,
        480.0
       ],
       "_view_count": null,
       "_view_module": "jupyter-matplotlib",
       "_view_module_version": "^0.11",
       "_view_name": "MPLCanvasView",
       "capture_scroll": false,
       "footer_visible": true,
       "header_visible": true,
       "layout": "IPY_MODEL_fbd58326bdfb4adc8bdd371ebd550f25",
       "pan_zoom_throttle": 33.0,
       "resizable": true,
       "tabbable": null,
       "toolbar": "IPY_MODEL_06458a6aa44e4ffdb6cc2aa6f5b9246f",
       "toolbar_position": "left",
       "toolbar_visible": "fade-in-fade-out",
       "tooltip": null
      }
     },
     "522444e83563435cabe4ddbd30a6e183": {
      "model_module": "jupyter-matplotlib",
      "model_module_version": "^0.11",
      "model_name": "MPLCanvasModel",
      "state": {
       "_cursor": "pointer",
       "_data_url": "data:image/png;base64,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",
       "_dom_classes": [],
       "_figure_label": "Figure",
       "_image_mode": "full",
       "_message": "",
       "_model_module": "jupyter-matplotlib",
       "_model_module_version": "^0.11",
       "_model_name": "MPLCanvasModel",
       "_rubberband_height": 0,
       "_rubberband_width": 0,
       "_rubberband_x": 0,
       "_rubberband_y": 0,
       "_size": [
        640.0,
        480.0
       ],
       "_view_count": null,
       "_view_module": "jupyter-matplotlib",
       "_view_module_version": "^0.11",
       "_view_name": "MPLCanvasView",
       "capture_scroll": false,
       "footer_visible": true,
       "header_visible": true,
       "layout": "IPY_MODEL_a3ff7cfc17a64b5d863f5d7a56c0d25a",
       "pan_zoom_throttle": 33.0,
       "resizable": true,
       "tabbable": null,
       "toolbar": "IPY_MODEL_d67d4ac0007440f883b19c96d574e2b3",
       "toolbar_position": "left",
       "toolbar_visible": "fade-in-fade-out",
       "tooltip": null
      }
     },
     "53c6f45dc74a494ab126eff2d44619f7": {
      "model_module": "@jupyter-widgets/base",
      "model_module_version": "2.0.0",
      "model_name": "LayoutModel",
      "state": {
       "_model_module": "@jupyter-widgets/base",
       "_model_module_version": "2.0.0",
       "_model_name": "LayoutModel",
       "_view_count": null,
       "_view_module": "@jupyter-widgets/base",
       "_view_module_version": "2.0.0",
       "_view_name": "LayoutView",
       "align_content": null,
       "align_items": null,
       "align_self": null,
       "border_bottom": null,
       "border_left": null,
       "border_right": null,
       "border_top": null,
       "bottom": null,
       "display": null,
       "flex": null,
       "flex_flow": null,
       "grid_area": null,
       "grid_auto_columns": null,
       "grid_auto_flow": null,
       "grid_auto_rows": null,
       "grid_column": null,
       "grid_gap": null,
       "grid_row": null,
       "grid_template_areas": null,
       "grid_template_columns": null,
       "grid_template_rows": null,
       "height": null,
       "justify_content": null,
       "justify_items": null,
       "left": null,
       "margin": null,
       "max_height": null,
       "max_width": null,
       "min_height": null,
       "min_width": null,
       "object_fit": null,
       "object_position": null,
       "order": null,
       "overflow": null,
       "padding": null,
       "right": null,
       "top": null,
       "visibility": null,
       "width": null
      }
     },
     "589f1a948b0c45b78384bced9b7c0dd7": {
      "model_module": "@jupyter-widgets/base",
      "model_module_version": "2.0.0",
      "model_name": "LayoutModel",
      "state": {
       "_model_module": "@jupyter-widgets/base",
       "_model_module_version": "2.0.0",
       "_model_name": "LayoutModel",
       "_view_count": null,
       "_view_module": "@jupyter-widgets/base",
       "_view_module_version": "2.0.0",
       "_view_name": "LayoutView",
       "align_content": null,
       "align_items": null,
       "align_self": null,
       "border_bottom": null,
       "border_left": null,
       "border_right": null,
       "border_top": null,
       "bottom": null,
       "display": null,
       "flex": null,
       "flex_flow": null,
       "grid_area": null,
       "grid_auto_columns": null,
       "grid_auto_flow": null,
       "grid_auto_rows": null,
       "grid_column": null,
       "grid_gap": null,
       "grid_row": null,
       "grid_template_areas": null,
       "grid_template_columns": null,
       "grid_template_rows": null,
       "height": null,
       "justify_content": null,
       "justify_items": null,
       "left": null,
       "margin": null,
       "max_height": null,
       "max_width": null,
       "min_height": null,
       "min_width": null,
       "object_fit": null,
       "object_position": null,
       "order": null,
       "overflow": null,
       "padding": null,
       "right": null,
       "top": null,
       "visibility": null,
       "width": null
      }
     },
     "59a074f7421d494f9aaaa36b2d43a855": {
      "model_module": "jupyter-matplotlib",
      "model_module_version": "^0.11",
      "model_name": "ToolbarModel",
      "state": {
       "_current_action": "",
       "_dom_classes": [],
       "_model_module": "jupyter-matplotlib",
       "_model_module_version": "^0.11",
       "_model_name": "ToolbarModel",
       "_view_count": null,
       "_view_module": "jupyter-matplotlib",
       "_view_module_version": "^0.11",
       "_view_name": "ToolbarView",
       "button_style": "",
       "collapsed": true,
       "layout": "IPY_MODEL_629b7d8e67fa4163b7c20af2e867b703",
       "orientation": "vertical",
       "tabbable": null,
       "toolitems": [
        [
         "Home",
         "Reset original view",
         "home",
         "home"
        ],
        [
         "Back",
         "Back to previous view",
         "arrow-left",
         "back"
        ],
        [
         "Forward",
         "Forward to next view",
         "arrow-right",
         "forward"
        ],
        [
         "Pan",
         "Left button pans, Right button zooms\nx/y fixes axis, CTRL fixes aspect",
         "arrows",
         "pan"
        ],
        [
         "Zoom",
         "Zoom to rectangle\nx/y fixes axis",
         "square-o",
         "zoom"
        ],
        [
         "Download",
         "Download plot",
         "floppy-o",
         "save_figure"
        ]
       ],
       "tooltip": null
      }
     },
     "5d3f1b2b098948b0b80b72c0b685d0d0": {
      "model_module": "jupyter-matplotlib",
      "model_module_version": "^0.11",
      "model_name": "ToolbarModel",
      "state": {
       "_current_action": "",
       "_dom_classes": [],
       "_model_module": "jupyter-matplotlib",
       "_model_module_version": "^0.11",
       "_model_name": "ToolbarModel",
       "_view_count": null,
       "_view_module": "jupyter-matplotlib",
       "_view_module_version": "^0.11",
       "_view_name": "ToolbarView",
       "button_style": "",
       "collapsed": true,
       "layout": "IPY_MODEL_11c0560cb5b446a38f3c909e3e47310e",
       "orientation": "vertical",
       "tabbable": null,
       "toolitems": [
        [
         "Home",
         "Reset original view",
         "home",
         "home"
        ],
        [
         "Back",
         "Back to previous view",
         "arrow-left",
         "back"
        ],
        [
         "Forward",
         "Forward to next view",
         "arrow-right",
         "forward"
        ],
        [
         "Pan",
         "Left button pans, Right button zooms\nx/y fixes axis, CTRL fixes aspect",
         "arrows",
         "pan"
        ],
        [
         "Zoom",
         "Zoom to rectangle\nx/y fixes axis",
         "square-o",
         "zoom"
        ],
        [
         "Download",
         "Download plot",
         "floppy-o",
         "save_figure"
        ]
       ],
       "tooltip": null
      }
     },
     "629b7d8e67fa4163b7c20af2e867b703": {
      "model_module": "@jupyter-widgets/base",
      "model_module_version": "2.0.0",
      "model_name": "LayoutModel",
      "state": {
       "_model_module": "@jupyter-widgets/base",
       "_model_module_version": "2.0.0",
       "_model_name": "LayoutModel",
       "_view_count": null,
       "_view_module": "@jupyter-widgets/base",
       "_view_module_version": "2.0.0",
       "_view_name": "LayoutView",
       "align_content": null,
       "align_items": null,
       "align_self": null,
       "border_bottom": null,
       "border_left": null,
       "border_right": null,
       "border_top": null,
       "bottom": null,
       "display": null,
       "flex": null,
       "flex_flow": null,
       "grid_area": null,
       "grid_auto_columns": null,
       "grid_auto_flow": null,
       "grid_auto_rows": null,
       "grid_column": null,
       "grid_gap": null,
       "grid_row": null,
       "grid_template_areas": null,
       "grid_template_columns": null,
       "grid_template_rows": null,
       "height": null,
       "justify_content": null,
       "justify_items": null,
       "left": null,
       "margin": null,
       "max_height": null,
       "max_width": null,
       "min_height": null,
       "min_width": null,
       "object_fit": null,
       "object_position": null,
       "order": null,
       "overflow": null,
       "padding": null,
       "right": null,
       "top": null,
       "visibility": null,
       "width": null
      }
     },
     "6998f7db3015453a81811061e9d616fe": {
      "model_module": "jupyter-matplotlib",
      "model_module_version": "^0.11",
      "model_name": "MPLCanvasModel",
      "state": {
       "_cursor": "pointer",
       "_data_url": "data:image/png;base64,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",
       "_dom_classes": [],
       "_figure_label": "Figure",
       "_image_mode": "full",
       "_message": "",
       "_model_module": "jupyter-matplotlib",
       "_model_module_version": "^0.11",
       "_model_name": "MPLCanvasModel",
       "_rubberband_height": 0,
       "_rubberband_width": 0,
       "_rubberband_x": 0,
       "_rubberband_y": 0,
       "_size": [
        640.0,
        480.0
       ],
       "_view_count": null,
       "_view_module": "jupyter-matplotlib",
       "_view_module_version": "^0.11",
       "_view_name": "MPLCanvasView",
       "capture_scroll": false,
       "footer_visible": true,
       "header_visible": true,
       "layout": "IPY_MODEL_f5c2a20202244115a561848492bd059a",
       "pan_zoom_throttle": 33.0,
       "resizable": true,
       "tabbable": null,
       "toolbar": "IPY_MODEL_f1582a12ccfa49a18148b2878df10520",
       "toolbar_position": "left",
       "toolbar_visible": "fade-in-fade-out",
       "tooltip": null
      }
     },
     "6aa7f00992a7498fa64fd8918b0172bc": {
      "model_module": "@jupyter-widgets/base",
      "model_module_version": "2.0.0",
      "model_name": "LayoutModel",
      "state": {
       "_model_module": "@jupyter-widgets/base",
       "_model_module_version": "2.0.0",
       "_model_name": "LayoutModel",
       "_view_count": null,
       "_view_module": "@jupyter-widgets/base",
       "_view_module_version": "2.0.0",
       "_view_name": "LayoutView",
       "align_content": null,
       "align_items": null,
       "align_self": null,
       "border_bottom": null,
       "border_left": null,
       "border_right": null,
       "border_top": null,
       "bottom": null,
       "display": null,
       "flex": null,
       "flex_flow": null,
       "grid_area": null,
       "grid_auto_columns": null,
       "grid_auto_flow": null,
       "grid_auto_rows": null,
       "grid_column": null,
       "grid_gap": null,
       "grid_row": null,
       "grid_template_areas": null,
       "grid_template_columns": null,
       "grid_template_rows": null,
       "height": null,
       "justify_content": null,
       "justify_items": null,
       "left": null,
       "margin": null,
       "max_height": null,
       "max_width": null,
       "min_height": null,
       "min_width": null,
       "object_fit": null,
       "object_position": null,
       "order": null,
       "overflow": null,
       "padding": null,
       "right": null,
       "top": null,
       "visibility": null,
       "width": null
      }
     },
     "6c15301b46a849aa9465b4b67cf11adc": {
      "model_module": "@jupyter-widgets/base",
      "model_module_version": "2.0.0",
      "model_name": "LayoutModel",
      "state": {
       "_model_module": "@jupyter-widgets/base",
       "_model_module_version": "2.0.0",
       "_model_name": "LayoutModel",
       "_view_count": null,
       "_view_module": "@jupyter-widgets/base",
       "_view_module_version": "2.0.0",
       "_view_name": "LayoutView",
       "align_content": null,
       "align_items": null,
       "align_self": null,
       "border_bottom": null,
       "border_left": null,
       "border_right": null,
       "border_top": null,
       "bottom": null,
       "display": null,
       "flex": null,
       "flex_flow": null,
       "grid_area": null,
       "grid_auto_columns": null,
       "grid_auto_flow": null,
       "grid_auto_rows": null,
       "grid_column": null,
       "grid_gap": null,
       "grid_row": null,
       "grid_template_areas": null,
       "grid_template_columns": null,
       "grid_template_rows": null,
       "height": null,
       "justify_content": null,
       "justify_items": null,
       "left": null,
       "margin": null,
       "max_height": null,
       "max_width": null,
       "min_height": null,
       "min_width": null,
       "object_fit": null,
       "object_position": null,
       "order": null,
       "overflow": null,
       "padding": null,
       "right": null,
       "top": null,
       "visibility": null,
       "width": null
      }
     },
     "728a09d1b43c412d961331f3be821e01": {
      "model_module": "jupyter-matplotlib",
      "model_module_version": "^0.11",
      "model_name": "ToolbarModel",
      "state": {
       "_current_action": "",
       "_dom_classes": [],
       "_model_module": "jupyter-matplotlib",
       "_model_module_version": "^0.11",
       "_model_name": "ToolbarModel",
       "_view_count": null,
       "_view_module": "jupyter-matplotlib",
       "_view_module_version": "^0.11",
       "_view_name": "ToolbarView",
       "button_style": "",
       "collapsed": true,
       "layout": "IPY_MODEL_2207e8b7cd7f4e26bf7cd4f80198dc0d",
       "orientation": "vertical",
       "tabbable": null,
       "toolitems": [
        [
         "Home",
         "Reset original view",
         "home",
         "home"
        ],
        [
         "Back",
         "Back to previous view",
         "arrow-left",
         "back"
        ],
        [
         "Forward",
         "Forward to next view",
         "arrow-right",
         "forward"
        ],
        [
         "Pan",
         "Left button pans, Right button zooms\nx/y fixes axis, CTRL fixes aspect",
         "arrows",
         "pan"
        ],
        [
         "Zoom",
         "Zoom to rectangle\nx/y fixes axis",
         "square-o",
         "zoom"
        ],
        [
         "Download",
         "Download plot",
         "floppy-o",
         "save_figure"
        ]
       ],
       "tooltip": null
      }
     },
     "7cfffd515e084bf0bdd87a8b16163a57": {
      "model_module": "jupyter-matplotlib",
      "model_module_version": "^0.11",
      "model_name": "MPLCanvasModel",
      "state": {
       "_cursor": "pointer",
       "_data_url": "data:image/png;base64,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",
       "_dom_classes": [],
       "_figure_label": "Figure",
       "_image_mode": "full",
       "_message": "",
       "_model_module": "jupyter-matplotlib",
       "_model_module_version": "^0.11",
       "_model_name": "MPLCanvasModel",
       "_rubberband_height": 0,
       "_rubberband_width": 0,
       "_rubberband_x": 0,
       "_rubberband_y": 0,
       "_size": [
        640.0,
        480.0
       ],
       "_view_count": null,
       "_view_module": "jupyter-matplotlib",
       "_view_module_version": "^0.11",
       "_view_name": "MPLCanvasView",
       "capture_scroll": false,
       "footer_visible": true,
       "header_visible": true,
       "layout": "IPY_MODEL_6c15301b46a849aa9465b4b67cf11adc",
       "pan_zoom_throttle": 33.0,
       "resizable": true,
       "tabbable": null,
       "toolbar": "IPY_MODEL_84c530b62abf4c48a77c0e7416695118",
       "toolbar_position": "left",
       "toolbar_visible": "fade-in-fade-out",
       "tooltip": null
      }
     },
     "8338aa7d57194a2ca8422dbda68d8320": {
      "model_module": "jupyter-matplotlib",
      "model_module_version": "^0.11",
      "model_name": "MPLCanvasModel",
      "state": {
       "_cursor": "pointer",
       "_data_url": "data:image/png;base64,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",
       "_dom_classes": [],
       "_figure_label": "Figure",
       "_image_mode": "full",
       "_message": "",
       "_model_module": "jupyter-matplotlib",
       "_model_module_version": "^0.11",
       "_model_name": "MPLCanvasModel",
       "_rubberband_height": 0,
       "_rubberband_width": 0,
       "_rubberband_x": 0,
       "_rubberband_y": 0,
       "_size": [
        640.0,
        480.0
       ],
       "_view_count": null,
       "_view_module": "jupyter-matplotlib",
       "_view_module_version": "^0.11",
       "_view_name": "MPLCanvasView",
       "capture_scroll": false,
       "footer_visible": true,
       "header_visible": true,
       "layout": "IPY_MODEL_2ef32e2dffd24fbf813a547bf93402dd",
       "pan_zoom_throttle": 33.0,
       "resizable": true,
       "tabbable": null,
       "toolbar": "IPY_MODEL_c92f40e9dd94443bbba06cc6fa2f1985",
       "toolbar_position": "left",
       "toolbar_visible": "fade-in-fade-out",
       "tooltip": null
      }
     },
     "84c530b62abf4c48a77c0e7416695118": {
      "model_module": "jupyter-matplotlib",
      "model_module_version": "^0.11",
      "model_name": "ToolbarModel",
      "state": {
       "_current_action": "",
       "_dom_classes": [],
       "_model_module": "jupyter-matplotlib",
       "_model_module_version": "^0.11",
       "_model_name": "ToolbarModel",
       "_view_count": null,
       "_view_module": "jupyter-matplotlib",
       "_view_module_version": "^0.11",
       "_view_name": "ToolbarView",
       "button_style": "",
       "collapsed": true,
       "layout": "IPY_MODEL_53c6f45dc74a494ab126eff2d44619f7",
       "orientation": "vertical",
       "tabbable": null,
       "toolitems": [
        [
         "Home",
         "Reset original view",
         "home",
         "home"
        ],
        [
         "Back",
         "Back to previous view",
         "arrow-left",
         "back"
        ],
        [
         "Forward",
         "Forward to next view",
         "arrow-right",
         "forward"
        ],
        [
         "Pan",
         "Left button pans, Right button zooms\nx/y fixes axis, CTRL fixes aspect",
         "arrows",
         "pan"
        ],
        [
         "Zoom",
         "Zoom to rectangle\nx/y fixes axis",
         "square-o",
         "zoom"
        ],
        [
         "Download",
         "Download plot",
         "floppy-o",
         "save_figure"
        ]
       ],
       "tooltip": null
      }
     },
     "85b6e56d75524771b14b947cbbb27bf5": {
      "model_module": "@jupyter-widgets/base",
      "model_module_version": "2.0.0",
      "model_name": "LayoutModel",
      "state": {
       "_model_module": "@jupyter-widgets/base",
       "_model_module_version": "2.0.0",
       "_model_name": "LayoutModel",
       "_view_count": null,
       "_view_module": "@jupyter-widgets/base",
       "_view_module_version": "2.0.0",
       "_view_name": "LayoutView",
       "align_content": null,
       "align_items": null,
       "align_self": null,
       "border_bottom": null,
       "border_left": null,
       "border_right": null,
       "border_top": null,
       "bottom": null,
       "display": null,
       "flex": null,
       "flex_flow": null,
       "grid_area": null,
       "grid_auto_columns": null,
       "grid_auto_flow": null,
       "grid_auto_rows": null,
       "grid_column": null,
       "grid_gap": null,
       "grid_row": null,
       "grid_template_areas": null,
       "grid_template_columns": null,
       "grid_template_rows": null,
       "height": null,
       "justify_content": null,
       "justify_items": null,
       "left": null,
       "margin": null,
       "max_height": null,
       "max_width": null,
       "min_height": null,
       "min_width": null,
       "object_fit": null,
       "object_position": null,
       "order": null,
       "overflow": null,
       "padding": null,
       "right": null,
       "top": null,
       "visibility": null,
       "width": null
      }
     },
     "8d656179dfe043fc86bf057411a91fc5": {
      "model_module": "@jupyter-widgets/base",
      "model_module_version": "2.0.0",
      "model_name": "LayoutModel",
      "state": {
       "_model_module": "@jupyter-widgets/base",
       "_model_module_version": "2.0.0",
       "_model_name": "LayoutModel",
       "_view_count": null,
       "_view_module": "@jupyter-widgets/base",
       "_view_module_version": "2.0.0",
       "_view_name": "LayoutView",
       "align_content": null,
       "align_items": null,
       "align_self": null,
       "border_bottom": null,
       "border_left": null,
       "border_right": null,
       "border_top": null,
       "bottom": null,
       "display": null,
       "flex": null,
       "flex_flow": null,
       "grid_area": null,
       "grid_auto_columns": null,
       "grid_auto_flow": null,
       "grid_auto_rows": null,
       "grid_column": null,
       "grid_gap": null,
       "grid_row": null,
       "grid_template_areas": null,
       "grid_template_columns": null,
       "grid_template_rows": null,
       "height": null,
       "justify_content": null,
       "justify_items": null,
       "left": null,
       "margin": null,
       "max_height": null,
       "max_width": null,
       "min_height": null,
       "min_width": null,
       "object_fit": null,
       "object_position": null,
       "order": null,
       "overflow": null,
       "padding": null,
       "right": null,
       "top": null,
       "visibility": null,
       "width": null
      }
     },
     "926488c7df0d4bb78693a401f1c9edf8": {
      "model_module": "jupyter-matplotlib",
      "model_module_version": "^0.11",
      "model_name": "MPLCanvasModel",
      "state": {
       "_cursor": "pointer",
       "_data_url": "data:image/png;base64,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",
       "_dom_classes": [],
       "_figure_label": "Figure",
       "_image_mode": "full",
       "_message": "",
       "_model_module": "jupyter-matplotlib",
       "_model_module_version": "^0.11",
       "_model_name": "MPLCanvasModel",
       "_rubberband_height": 0,
       "_rubberband_width": 0,
       "_rubberband_x": 0,
       "_rubberband_y": 0,
       "_size": [
        640.0,
        480.0
       ],
       "_view_count": null,
       "_view_module": "jupyter-matplotlib",
       "_view_module_version": "^0.11",
       "_view_name": "MPLCanvasView",
       "capture_scroll": false,
       "footer_visible": true,
       "header_visible": true,
       "layout": "IPY_MODEL_dab6e91cfec7429ba501c743d410cca5",
       "pan_zoom_throttle": 33.0,
       "resizable": true,
       "tabbable": null,
       "toolbar": "IPY_MODEL_0fbf33ae4ceb4ac3894bc55d4313c4e4",
       "toolbar_position": "left",
       "toolbar_visible": "fade-in-fade-out",
       "tooltip": null
      }
     },
     "939bf79e1c104e4e8273098d4a2bfdc2": {
      "model_module": "@jupyter-widgets/base",
      "model_module_version": "2.0.0",
      "model_name": "LayoutModel",
      "state": {
       "_model_module": "@jupyter-widgets/base",
       "_model_module_version": "2.0.0",
       "_model_name": "LayoutModel",
       "_view_count": null,
       "_view_module": "@jupyter-widgets/base",
       "_view_module_version": "2.0.0",
       "_view_name": "LayoutView",
       "align_content": null,
       "align_items": null,
       "align_self": null,
       "border_bottom": null,
       "border_left": null,
       "border_right": null,
       "border_top": null,
       "bottom": null,
       "display": null,
       "flex": null,
       "flex_flow": null,
       "grid_area": null,
       "grid_auto_columns": null,
       "grid_auto_flow": null,
       "grid_auto_rows": null,
       "grid_column": null,
       "grid_gap": null,
       "grid_row": null,
       "grid_template_areas": null,
       "grid_template_columns": null,
       "grid_template_rows": null,
       "height": null,
       "justify_content": null,
       "justify_items": null,
       "left": null,
       "margin": null,
       "max_height": null,
       "max_width": null,
       "min_height": null,
       "min_width": null,
       "object_fit": null,
       "object_position": null,
       "order": null,
       "overflow": null,
       "padding": null,
       "right": null,
       "top": null,
       "visibility": null,
       "width": null
      }
     },
     "a3ff7cfc17a64b5d863f5d7a56c0d25a": {
      "model_module": "@jupyter-widgets/base",
      "model_module_version": "2.0.0",
      "model_name": "LayoutModel",
      "state": {
       "_model_module": "@jupyter-widgets/base",
       "_model_module_version": "2.0.0",
       "_model_name": "LayoutModel",
       "_view_count": null,
       "_view_module": "@jupyter-widgets/base",
       "_view_module_version": "2.0.0",
       "_view_name": "LayoutView",
       "align_content": null,
       "align_items": null,
       "align_self": null,
       "border_bottom": null,
       "border_left": null,
       "border_right": null,
       "border_top": null,
       "bottom": null,
       "display": null,
       "flex": null,
       "flex_flow": null,
       "grid_area": null,
       "grid_auto_columns": null,
       "grid_auto_flow": null,
       "grid_auto_rows": null,
       "grid_column": null,
       "grid_gap": null,
       "grid_row": null,
       "grid_template_areas": null,
       "grid_template_columns": null,
       "grid_template_rows": null,
       "height": null,
       "justify_content": null,
       "justify_items": null,
       "left": null,
       "margin": null,
       "max_height": null,
       "max_width": null,
       "min_height": null,
       "min_width": null,
       "object_fit": null,
       "object_position": null,
       "order": null,
       "overflow": null,
       "padding": null,
       "right": null,
       "top": null,
       "visibility": null,
       "width": null
      }
     },
     "abcb560890c24a6fba501f86a34eed03": {
      "model_module": "@jupyter-widgets/base",
      "model_module_version": "2.0.0",
      "model_name": "LayoutModel",
      "state": {
       "_model_module": "@jupyter-widgets/base",
       "_model_module_version": "2.0.0",
       "_model_name": "LayoutModel",
       "_view_count": null,
       "_view_module": "@jupyter-widgets/base",
       "_view_module_version": "2.0.0",
       "_view_name": "LayoutView",
       "align_content": null,
       "align_items": null,
       "align_self": null,
       "border_bottom": null,
       "border_left": null,
       "border_right": null,
       "border_top": null,
       "bottom": null,
       "display": null,
       "flex": null,
       "flex_flow": null,
       "grid_area": null,
       "grid_auto_columns": null,
       "grid_auto_flow": null,
       "grid_auto_rows": null,
       "grid_column": null,
       "grid_gap": null,
       "grid_row": null,
       "grid_template_areas": null,
       "grid_template_columns": null,
       "grid_template_rows": null,
       "height": null,
       "justify_content": null,
       "justify_items": null,
       "left": null,
       "margin": null,
       "max_height": null,
       "max_width": null,
       "min_height": null,
       "min_width": null,
       "object_fit": null,
       "object_position": null,
       "order": null,
       "overflow": null,
       "padding": null,
       "right": null,
       "top": null,
       "visibility": null,
       "width": null
      }
     },
     "b5c1d286cdab43cebbacfc9b685821ab": {
      "model_module": "jupyter-matplotlib",
      "model_module_version": "^0.11",
      "model_name": "MPLCanvasModel",
      "state": {
       "_cursor": "pointer",
       "_data_url": "data:image/png;base64,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",
       "_dom_classes": [],
       "_figure_label": "Figure",
       "_image_mode": "full",
       "_message": "",
       "_model_module": "jupyter-matplotlib",
       "_model_module_version": "^0.11",
       "_model_name": "MPLCanvasModel",
       "_rubberband_height": 0,
       "_rubberband_width": 0,
       "_rubberband_x": 0,
       "_rubberband_y": 0,
       "_size": [
        640.0,
        480.0
       ],
       "_view_count": null,
       "_view_module": "jupyter-matplotlib",
       "_view_module_version": "^0.11",
       "_view_name": "MPLCanvasView",
       "capture_scroll": false,
       "footer_visible": true,
       "header_visible": true,
       "layout": "IPY_MODEL_6aa7f00992a7498fa64fd8918b0172bc",
       "pan_zoom_throttle": 33.0,
       "resizable": true,
       "tabbable": null,
       "toolbar": "IPY_MODEL_5d3f1b2b098948b0b80b72c0b685d0d0",
       "toolbar_position": "left",
       "toolbar_visible": "fade-in-fade-out",
       "tooltip": null
      }
     },
     "c92f40e9dd94443bbba06cc6fa2f1985": {
      "model_module": "jupyter-matplotlib",
      "model_module_version": "^0.11",
      "model_name": "ToolbarModel",
      "state": {
       "_current_action": "",
       "_dom_classes": [],
       "_model_module": "jupyter-matplotlib",
       "_model_module_version": "^0.11",
       "_model_name": "ToolbarModel",
       "_view_count": null,
       "_view_module": "jupyter-matplotlib",
       "_view_module_version": "^0.11",
       "_view_name": "ToolbarView",
       "button_style": "",
       "collapsed": true,
       "layout": "IPY_MODEL_8d656179dfe043fc86bf057411a91fc5",
       "orientation": "vertical",
       "tabbable": null,
       "toolitems": [
        [
         "Home",
         "Reset original view",
         "home",
         "home"
        ],
        [
         "Back",
         "Back to previous view",
         "arrow-left",
         "back"
        ],
        [
         "Forward",
         "Forward to next view",
         "arrow-right",
         "forward"
        ],
        [
         "Pan",
         "Left button pans, Right button zooms\nx/y fixes axis, CTRL fixes aspect",
         "arrows",
         "pan"
        ],
        [
         "Zoom",
         "Zoom to rectangle\nx/y fixes axis",
         "square-o",
         "zoom"
        ],
        [
         "Download",
         "Download plot",
         "floppy-o",
         "save_figure"
        ]
       ],
       "tooltip": null
      }
     },
     "c9dbb96bd3b6467bb9276fbba03df039": {
      "model_module": "jupyter-matplotlib",
      "model_module_version": "^0.11",
      "model_name": "ToolbarModel",
      "state": {
       "_current_action": "",
       "_dom_classes": [],
       "_model_module": "jupyter-matplotlib",
       "_model_module_version": "^0.11",
       "_model_name": "ToolbarModel",
       "_view_count": null,
       "_view_module": "jupyter-matplotlib",
       "_view_module_version": "^0.11",
       "_view_name": "ToolbarView",
       "button_style": "",
       "collapsed": true,
       "layout": "IPY_MODEL_167fee27b83542488910f7ba83b7fde5",
       "orientation": "vertical",
       "tabbable": null,
       "toolitems": [
        [
         "Home",
         "Reset original view",
         "home",
         "home"
        ],
        [
         "Back",
         "Back to previous view",
         "arrow-left",
         "back"
        ],
        [
         "Forward",
         "Forward to next view",
         "arrow-right",
         "forward"
        ],
        [
         "Pan",
         "Left button pans, Right button zooms\nx/y fixes axis, CTRL fixes aspect",
         "arrows",
         "pan"
        ],
        [
         "Zoom",
         "Zoom to rectangle\nx/y fixes axis",
         "square-o",
         "zoom"
        ],
        [
         "Download",
         "Download plot",
         "floppy-o",
         "save_figure"
        ]
       ],
       "tooltip": null
      }
     },
     "cedd3108347e429fb1953d1925a1dcef": {
      "model_module": "@jupyter-widgets/base",
      "model_module_version": "2.0.0",
      "model_name": "LayoutModel",
      "state": {
       "_model_module": "@jupyter-widgets/base",
       "_model_module_version": "2.0.0",
       "_model_name": "LayoutModel",
       "_view_count": null,
       "_view_module": "@jupyter-widgets/base",
       "_view_module_version": "2.0.0",
       "_view_name": "LayoutView",
       "align_content": null,
       "align_items": null,
       "align_self": null,
       "border_bottom": null,
       "border_left": null,
       "border_right": null,
       "border_top": null,
       "bottom": null,
       "display": null,
       "flex": null,
       "flex_flow": null,
       "grid_area": null,
       "grid_auto_columns": null,
       "grid_auto_flow": null,
       "grid_auto_rows": null,
       "grid_column": null,
       "grid_gap": null,
       "grid_row": null,
       "grid_template_areas": null,
       "grid_template_columns": null,
       "grid_template_rows": null,
       "height": null,
       "justify_content": null,
       "justify_items": null,
       "left": null,
       "margin": null,
       "max_height": null,
       "max_width": null,
       "min_height": null,
       "min_width": null,
       "object_fit": null,
       "object_position": null,
       "order": null,
       "overflow": null,
       "padding": null,
       "right": null,
       "top": null,
       "visibility": null,
       "width": null
      }
     },
     "d0bb9935b4954c1984e76b5de4ac3bb5": {
      "model_module": "@jupyter-widgets/base",
      "model_module_version": "2.0.0",
      "model_name": "LayoutModel",
      "state": {
       "_model_module": "@jupyter-widgets/base",
       "_model_module_version": "2.0.0",
       "_model_name": "LayoutModel",
       "_view_count": null,
       "_view_module": "@jupyter-widgets/base",
       "_view_module_version": "2.0.0",
       "_view_name": "LayoutView",
       "align_content": null,
       "align_items": null,
       "align_self": null,
       "border_bottom": null,
       "border_left": null,
       "border_right": null,
       "border_top": null,
       "bottom": null,
       "display": null,
       "flex": null,
       "flex_flow": null,
       "grid_area": null,
       "grid_auto_columns": null,
       "grid_auto_flow": null,
       "grid_auto_rows": null,
       "grid_column": null,
       "grid_gap": null,
       "grid_row": null,
       "grid_template_areas": null,
       "grid_template_columns": null,
       "grid_template_rows": null,
       "height": null,
       "justify_content": null,
       "justify_items": null,
       "left": null,
       "margin": null,
       "max_height": null,
       "max_width": null,
       "min_height": null,
       "min_width": null,
       "object_fit": null,
       "object_position": null,
       "order": null,
       "overflow": null,
       "padding": null,
       "right": null,
       "top": null,
       "visibility": null,
       "width": null
      }
     },
     "d67d4ac0007440f883b19c96d574e2b3": {
      "model_module": "jupyter-matplotlib",
      "model_module_version": "^0.11",
      "model_name": "ToolbarModel",
      "state": {
       "_current_action": "",
       "_dom_classes": [],
       "_model_module": "jupyter-matplotlib",
       "_model_module_version": "^0.11",
       "_model_name": "ToolbarModel",
       "_view_count": null,
       "_view_module": "jupyter-matplotlib",
       "_view_module_version": "^0.11",
       "_view_name": "ToolbarView",
       "button_style": "",
       "collapsed": true,
       "layout": "IPY_MODEL_d0bb9935b4954c1984e76b5de4ac3bb5",
       "orientation": "vertical",
       "tabbable": null,
       "toolitems": [
        [
         "Home",
         "Reset original view",
         "home",
         "home"
        ],
        [
         "Back",
         "Back to previous view",
         "arrow-left",
         "back"
        ],
        [
         "Forward",
         "Forward to next view",
         "arrow-right",
         "forward"
        ],
        [
         "Pan",
         "Left button pans, Right button zooms\nx/y fixes axis, CTRL fixes aspect",
         "arrows",
         "pan"
        ],
        [
         "Zoom",
         "Zoom to rectangle\nx/y fixes axis",
         "square-o",
         "zoom"
        ],
        [
         "Download",
         "Download plot",
         "floppy-o",
         "save_figure"
        ]
       ],
       "tooltip": null
      }
     },
     "dab6e91cfec7429ba501c743d410cca5": {
      "model_module": "@jupyter-widgets/base",
      "model_module_version": "2.0.0",
      "model_name": "LayoutModel",
      "state": {
       "_model_module": "@jupyter-widgets/base",
       "_model_module_version": "2.0.0",
       "_model_name": "LayoutModel",
       "_view_count": null,
       "_view_module": "@jupyter-widgets/base",
       "_view_module_version": "2.0.0",
       "_view_name": "LayoutView",
       "align_content": null,
       "align_items": null,
       "align_self": null,
       "border_bottom": null,
       "border_left": null,
       "border_right": null,
       "border_top": null,
       "bottom": null,
       "display": null,
       "flex": null,
       "flex_flow": null,
       "grid_area": null,
       "grid_auto_columns": null,
       "grid_auto_flow": null,
       "grid_auto_rows": null,
       "grid_column": null,
       "grid_gap": null,
       "grid_row": null,
       "grid_template_areas": null,
       "grid_template_columns": null,
       "grid_template_rows": null,
       "height": null,
       "justify_content": null,
       "justify_items": null,
       "left": null,
       "margin": null,
       "max_height": null,
       "max_width": null,
       "min_height": null,
       "min_width": null,
       "object_fit": null,
       "object_position": null,
       "order": null,
       "overflow": null,
       "padding": null,
       "right": null,
       "top": null,
       "visibility": null,
       "width": null
      }
     },
     "e889472b060f429b816fbe15d5bbd7b8": {
      "model_module": "jupyter-matplotlib",
      "model_module_version": "^0.11",
      "model_name": "ToolbarModel",
      "state": {
       "_current_action": "",
       "_dom_classes": [],
       "_model_module": "jupyter-matplotlib",
       "_model_module_version": "^0.11",
       "_model_name": "ToolbarModel",
       "_view_count": null,
       "_view_module": "jupyter-matplotlib",
       "_view_module_version": "^0.11",
       "_view_name": "ToolbarView",
       "button_style": "",
       "collapsed": true,
       "layout": "IPY_MODEL_463777b6459143f5a20877404da8da9b",
       "orientation": "vertical",
       "tabbable": null,
       "toolitems": [
        [
         "Home",
         "Reset original view",
         "home",
         "home"
        ],
        [
         "Back",
         "Back to previous view",
         "arrow-left",
         "back"
        ],
        [
         "Forward",
         "Forward to next view",
         "arrow-right",
         "forward"
        ],
        [
         "Pan",
         "Left button pans, Right button zooms\nx/y fixes axis, CTRL fixes aspect",
         "arrows",
         "pan"
        ],
        [
         "Zoom",
         "Zoom to rectangle\nx/y fixes axis",
         "square-o",
         "zoom"
        ],
        [
         "Download",
         "Download plot",
         "floppy-o",
         "save_figure"
        ]
       ],
       "tooltip": null
      }
     },
     "eedd341381264c1ba3c9250d0207d2e0": {
      "model_module": "@jupyter-widgets/base",
      "model_module_version": "2.0.0",
      "model_name": "LayoutModel",
      "state": {
       "_model_module": "@jupyter-widgets/base",
       "_model_module_version": "2.0.0",
       "_model_name": "LayoutModel",
       "_view_count": null,
       "_view_module": "@jupyter-widgets/base",
       "_view_module_version": "2.0.0",
       "_view_name": "LayoutView",
       "align_content": null,
       "align_items": null,
       "align_self": null,
       "border_bottom": null,
       "border_left": null,
       "border_right": null,
       "border_top": null,
       "bottom": null,
       "display": null,
       "flex": null,
       "flex_flow": null,
       "grid_area": null,
       "grid_auto_columns": null,
       "grid_auto_flow": null,
       "grid_auto_rows": null,
       "grid_column": null,
       "grid_gap": null,
       "grid_row": null,
       "grid_template_areas": null,
       "grid_template_columns": null,
       "grid_template_rows": null,
       "height": null,
       "justify_content": null,
       "justify_items": null,
       "left": null,
       "margin": null,
       "max_height": null,
       "max_width": null,
       "min_height": null,
       "min_width": null,
       "object_fit": null,
       "object_position": null,
       "order": null,
       "overflow": null,
       "padding": null,
       "right": null,
       "top": null,
       "visibility": null,
       "width": null
      }
     },
     "f1582a12ccfa49a18148b2878df10520": {
      "model_module": "jupyter-matplotlib",
      "model_module_version": "^0.11",
      "model_name": "ToolbarModel",
      "state": {
       "_current_action": "",
       "_dom_classes": [],
       "_model_module": "jupyter-matplotlib",
       "_model_module_version": "^0.11",
       "_model_name": "ToolbarModel",
       "_view_count": null,
       "_view_module": "jupyter-matplotlib",
       "_view_module_version": "^0.11",
       "_view_name": "ToolbarView",
       "button_style": "",
       "collapsed": true,
       "layout": "IPY_MODEL_f7a33eb7e69b4b36a4ce28ad7857bf71",
       "orientation": "vertical",
       "tabbable": null,
       "toolitems": [
        [
         "Home",
         "Reset original view",
         "home",
         "home"
        ],
        [
         "Back",
         "Back to previous view",
         "arrow-left",
         "back"
        ],
        [
         "Forward",
         "Forward to next view",
         "arrow-right",
         "forward"
        ],
        [
         "Pan",
         "Left button pans, Right button zooms\nx/y fixes axis, CTRL fixes aspect",
         "arrows",
         "pan"
        ],
        [
         "Zoom",
         "Zoom to rectangle\nx/y fixes axis",
         "square-o",
         "zoom"
        ],
        [
         "Download",
         "Download plot",
         "floppy-o",
         "save_figure"
        ]
       ],
       "tooltip": null
      }
     },
     "f46287f552f74547b08861ed0890d9f8": {
      "model_module": "jupyter-matplotlib",
      "model_module_version": "^0.11",
      "model_name": "MPLCanvasModel",
      "state": {
       "_cursor": "pointer",
       "_data_url": "data:image/png;base64,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",
       "_dom_classes": [],
       "_figure_label": "Figure",
       "_image_mode": "full",
       "_message": "",
       "_model_module": "jupyter-matplotlib",
       "_model_module_version": "^0.11",
       "_model_name": "MPLCanvasModel",
       "_rubberband_height": 0,
       "_rubberband_width": 0,
       "_rubberband_x": 0,
       "_rubberband_y": 0,
       "_size": [
        640.0,
        480.0
       ],
       "_view_count": null,
       "_view_module": "jupyter-matplotlib",
       "_view_module_version": "^0.11",
       "_view_name": "MPLCanvasView",
       "capture_scroll": false,
       "footer_visible": true,
       "header_visible": true,
       "layout": "IPY_MODEL_cedd3108347e429fb1953d1925a1dcef",
       "pan_zoom_throttle": 33.0,
       "resizable": true,
       "tabbable": null,
       "toolbar": "IPY_MODEL_e889472b060f429b816fbe15d5bbd7b8",
       "toolbar_position": "left",
       "toolbar_visible": "fade-in-fade-out",
       "tooltip": null
      }
     },
     "f5c2a20202244115a561848492bd059a": {
      "model_module": "@jupyter-widgets/base",
      "model_module_version": "2.0.0",
      "model_name": "LayoutModel",
      "state": {
       "_model_module": "@jupyter-widgets/base",
       "_model_module_version": "2.0.0",
       "_model_name": "LayoutModel",
       "_view_count": null,
       "_view_module": "@jupyter-widgets/base",
       "_view_module_version": "2.0.0",
       "_view_name": "LayoutView",
       "align_content": null,
       "align_items": null,
       "align_self": null,
       "border_bottom": null,
       "border_left": null,
       "border_right": null,
       "border_top": null,
       "bottom": null,
       "display": null,
       "flex": null,
       "flex_flow": null,
       "grid_area": null,
       "grid_auto_columns": null,
       "grid_auto_flow": null,
       "grid_auto_rows": null,
       "grid_column": null,
       "grid_gap": null,
       "grid_row": null,
       "grid_template_areas": null,
       "grid_template_columns": null,
       "grid_template_rows": null,
       "height": null,
       "justify_content": null,
       "justify_items": null,
       "left": null,
       "margin": null,
       "max_height": null,
       "max_width": null,
       "min_height": null,
       "min_width": null,
       "object_fit": null,
       "object_position": null,
       "order": null,
       "overflow": null,
       "padding": null,
       "right": null,
       "top": null,
       "visibility": null,
       "width": null
      }
     },
     "f7a33eb7e69b4b36a4ce28ad7857bf71": {
      "model_module": "@jupyter-widgets/base",
      "model_module_version": "2.0.0",
      "model_name": "LayoutModel",
      "state": {
       "_model_module": "@jupyter-widgets/base",
       "_model_module_version": "2.0.0",
       "_model_name": "LayoutModel",
       "_view_count": null,
       "_view_module": "@jupyter-widgets/base",
       "_view_module_version": "2.0.0",
       "_view_name": "LayoutView",
       "align_content": null,
       "align_items": null,
       "align_self": null,
       "border_bottom": null,
       "border_left": null,
       "border_right": null,
       "border_top": null,
       "bottom": null,
       "display": null,
       "flex": null,
       "flex_flow": null,
       "grid_area": null,
       "grid_auto_columns": null,
       "grid_auto_flow": null,
       "grid_auto_rows": null,
       "grid_column": null,
       "grid_gap": null,
       "grid_row": null,
       "grid_template_areas": null,
       "grid_template_columns": null,
       "grid_template_rows": null,
       "height": null,
       "justify_content": null,
       "justify_items": null,
       "left": null,
       "margin": null,
       "max_height": null,
       "max_width": null,
       "min_height": null,
       "min_width": null,
       "object_fit": null,
       "object_position": null,
       "order": null,
       "overflow": null,
       "padding": null,
       "right": null,
       "top": null,
       "visibility": null,
       "width": null
      }
     },
     "fbd58326bdfb4adc8bdd371ebd550f25": {
      "model_module": "@jupyter-widgets/base",
      "model_module_version": "2.0.0",
      "model_name": "LayoutModel",
      "state": {
       "_model_module": "@jupyter-widgets/base",
       "_model_module_version": "2.0.0",
       "_model_name": "LayoutModel",
       "_view_count": null,
       "_view_module": "@jupyter-widgets/base",
       "_view_module_version": "2.0.0",
       "_view_name": "LayoutView",
       "align_content": null,
       "align_items": null,
       "align_self": null,
       "border_bottom": null,
       "border_left": null,
       "border_right": null,
       "border_top": null,
       "bottom": null,
       "display": null,
       "flex": null,
       "flex_flow": null,
       "grid_area": null,
       "grid_auto_columns": null,
       "grid_auto_flow": null,
       "grid_auto_rows": null,
       "grid_column": null,
       "grid_gap": null,
       "grid_row": null,
       "grid_template_areas": null,
       "grid_template_columns": null,
       "grid_template_rows": null,
       "height": null,
       "justify_content": null,
       "justify_items": null,
       "left": null,
       "margin": null,
       "max_height": null,
       "max_width": null,
       "min_height": null,
       "min_width": null,
       "object_fit": null,
       "object_position": null,
       "order": null,
       "overflow": null,
       "padding": null,
       "right": null,
       "top": null,
       "visibility": null,
       "width": null
      }
     },
     "fe61c2a5a8d44d24844dd6aecef6c939": {
      "model_module": "jupyter-matplotlib",
      "model_module_version": "^0.11",
      "model_name": "MPLCanvasModel",
      "state": {
       "_cursor": "pointer",
       "_data_url": "data:image/png;base64,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",
       "_dom_classes": [],
       "_figure_label": "Figure",
       "_image_mode": "full",
       "_message": "",
       "_model_module": "jupyter-matplotlib",
       "_model_module_version": "^0.11",
       "_model_name": "MPLCanvasModel",
       "_rubberband_height": 0,
       "_rubberband_width": 0,
       "_rubberband_x": 0,
       "_rubberband_y": 0,
       "_size": [
        640.0,
        480.0
       ],
       "_view_count": null,
       "_view_module": "jupyter-matplotlib",
       "_view_module_version": "^0.11",
       "_view_name": "MPLCanvasView",
       "capture_scroll": false,
       "footer_visible": true,
       "header_visible": true,
       "layout": "IPY_MODEL_eedd341381264c1ba3c9250d0207d2e0",
       "pan_zoom_throttle": 33.0,
       "resizable": true,
       "tabbable": null,
       "toolbar": "IPY_MODEL_2446c04b9f0444bcbb51bb8d842edda2",
       "toolbar_position": "left",
       "toolbar_visible": "fade-in-fade-out",
       "tooltip": null
      }
     }
    },
    "version_major": 2,
    "version_minor": 0
   }
  }
 },
 "nbformat": 4,
 "nbformat_minor": 4
}
