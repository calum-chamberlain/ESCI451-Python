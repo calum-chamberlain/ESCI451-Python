{
 "cells": [
  {
   "cell_type": "markdown",
   "metadata": {},
   "source": [
    "# Introduction to Python for Earth Scientists\n",
    "\n",
    "These notebooks have been developed by Calum Chamberlain, Finnigan Illsley-Kemp and John Townend at [Victoria University of Wellington-Te Herenga Waka](https://www.wgtn.ac.nz) for use by Earth Science graduate students. \n",
    "\n",
    "The notebooks cover material that we think will be of particular benefit to those students with little or no previous experience of computer-based data analysis. We presume very little background in command-line or code-based computing, and have compiled this material with an emphasis on general tasks that a grad student might encounter on a daily basis. \n",
    "\n",
    "In 2022, this material will be delivered at the start of Trimester 1 in conjunction with [ESCI451 Active Earth](https://www.wgtn.ac.nz/courses/esci/451/2022/offering?crn=32176). Space and pandemic alert levels permitting, interested students not enrolled in ESCI451 are encouraged to come along too but please contact Calum, Finn, or John first.\n",
    "\n",
    "| Notebook | Contents | Data |\n",
    "| --- | --- | --- |\n",
    "| [1A](ESCI451_Module_1A.ipynb) | Introduction to programming, Python, and Jupyter notebooks | - |\n",
    "| [1B](ESCI451_Module_1B.ipynb) | Basic data types and variables, getting data, and plotting with Matplotlib | Geodetic positions |\n",
    "| [2A](ESCI451_Module_2A.ipynb) | More complex plotting, introduction to Numpy | Geodetic positions; DFDP-2B temperatures |\n",
    "| [2B](ESCI451_Module_2B.ipynb) | Using Pandas to load, peruse and plot data | Earthquake catalogue  |\n",
    "| **[3A](ESCI451_Module_3A.ipynb)** | **Working with Pandas dataframes** | **Geochemical data set; GNSS data** |\n",
    "| [3B](ESCI451_Module_3B.ipynb) | Simple time series analysis using Pandas | Historical temperature records |\n",
    "| [4A](ESCI451_Module_4A.ipynb) | Making maps with PyGMT | Earthquake catalogue |\n",
    "| [4B](ESCI451_Module_4B.ipynb) | Gridded data and vectors | Ashfall data and GNSS |\n",
    "\n",
    "The content may change in response to students' questions or current events. Each of the four modules has been designed to take about three hours, with a short break between each of the two parts."
   ]
  },
  {
   "cell_type": "markdown",
   "metadata": {},
   "source": [
    "# This notebook\n",
    "\n",
    "1. More with Pandas dataframes\n",
    "   - Loading and summarising another dataset\n",
    "   - Working with subplots\n",
    "   - Regression\n",
    "   - Dates and times and datetimes\n",
    "   - Querying a dataframe using a function\n",
    "   - Applying functions to a dataframe\n",
    "2. Extension: more sophisticated analysis of a big dataset\n",
    "   \n",
    " "
   ]
  },
  {
   "cell_type": "markdown",
   "metadata": {},
   "source": [
    "## Loading and summarising another dataset\n",
    "\n",
    "Let's recap where we got to with Pandas in the previous notebook. We learnt how to obtain data from GeoNet and store it in .csv file and a Pandas dataframe, which we could then inspect and plot in various ways. \n",
    "\n",
    "We'll start this notebook by reviewing some of the ways in which we can inspect, describe and plot Pandas dataframes, and then focus on working with dates and times. The first step is to reload the necessary modules."
   ]
  },
  {
   "cell_type": "code",
   "execution_count": 21,
   "metadata": {},
   "outputs": [],
   "source": [
    "import pandas as pd\n",
    "import requests\n",
    "import matplotlib.pyplot as plt\n",
    "import datetime\n",
    "import numpy as np\n",
    "\n",
    "# Uncomment the line below to turn on interactive plotting\n",
    "# %matplotlib widget"
   ]
  },
  {
   "cell_type": "markdown",
   "metadata": {},
   "source": [
    "Let's load a geochemical data set obtained by a PhD student, Elliot Swallow, for volcanic rocks from Huckleberry Ridge."
   ]
  },
  {
   "cell_type": "code",
   "execution_count": 2,
   "metadata": {},
   "outputs": [
    {
     "name": "stdout",
     "output_type": "stream",
     "text": [
      "        SiO2 (wt%)  TiO2 (wt%)  Al2O3 (wt%)  Fe2O3 (T) (wt%)  MnO (wt%)  \\\n",
      "Sample                                                                    \n",
      "YP114        72.98        0.26        13.56             2.96       0.05   \n",
      "YP307        76.50        0.13        11.85             1.70       0.04   \n",
      "YP359        74.56        0.17        12.83             2.06       0.04   \n",
      "YP363        76.61        0.12        12.06             1.73       0.04   \n",
      "YP414        76.08        0.14        12.14             1.79       0.04   \n",
      "...            ...         ...          ...              ...        ...   \n",
      "YP564        76.64        0.17        12.23             2.13       0.02   \n",
      "YP603        76.93        0.19        11.77             2.29       0.04   \n",
      "YP081        75.68        0.10        12.81             1.84       0.04   \n",
      "YP133        76.69        0.10        12.04             1.55       0.02   \n",
      "YP600        76.39        0.10        12.54             1.59       0.03   \n",
      "\n",
      "        MgO (wt%)  CaO (wt%)  Na2O (wt%)  K2O (wt%)  P2O5 (wt%)  ...  \\\n",
      "Sample                                                           ...   \n",
      "YP114        0.08       0.82        4.05       5.22       0.040  ...   \n",
      "YP307        0.08       1.15        2.87       5.67       0.020  ...   \n",
      "YP359        0.23       1.28        2.95       5.86       0.030  ...   \n",
      "YP363        0.04       0.69        2.78       5.94       0.010  ...   \n",
      "YP414        0.06       0.96        2.77       5.99       0.020  ...   \n",
      "...           ...        ...         ...        ...         ...  ...   \n",
      "YP564        0.01       0.37        3.30       4.89       0.030  ...   \n",
      "YP603        0.01       0.39        3.48       4.58       0.020  ...   \n",
      "YP081        0.14       0.68        3.34       5.35       0.021  ...   \n",
      "YP133        0.25       1.45        3.03       4.85       0.020  ...   \n",
      "YP600        0.06       1.01        2.84       5.17       0.010  ...   \n",
      "\n",
      "        Dy (ppm)  Ho (ppm)  Er (ppm)  Tm (ppm)  Yb (ppm)  Lu (ppm)  Hf (ppm)  \\\n",
      "Sample                                                                         \n",
      "YP114       11.2   2.20002       6.4      0.89       5.7   0.82957       9.8   \n",
      "YP307       10.1   1.90000       6.0      0.82       5.3   0.88000       6.0   \n",
      "YP359        9.8   1.90000       5.6      0.75       4.9   0.85000       6.8   \n",
      "YP363       10.5   2.10000       6.3      0.89       5.6   1.02000       6.6   \n",
      "YP414        8.9   1.73000       5.3      0.73       4.6   0.84000       6.4   \n",
      "...          ...       ...       ...       ...       ...       ...       ...   \n",
      "YP564        9.0   1.70000       4.9      0.64       4.1   0.60000       8.1   \n",
      "YP603        7.2   1.47000       4.4      0.62       4.2   0.62000       8.2   \n",
      "YP081       14.7   3.00000       8.9      1.29       8.3   1.20000       7.8   \n",
      "YP133       11.9   2.40000       7.4      1.06       6.7   1.19000       7.0   \n",
      "YP600       12.2   2.40000       7.4      1.05       6.6   1.12000       6.9   \n",
      "\n",
      "        Pb (ppm)  Th (ppm)  U (ppm)  \n",
      "Sample                               \n",
      "YP114       25.0  19.36672      2.2  \n",
      "YP307       40.0  23.00000      4.5  \n",
      "YP359       55.0  23.00000      3.8  \n",
      "YP363       38.0  23.00000      5.1  \n",
      "YP414       28.0  20.00000      4.0  \n",
      "...          ...       ...      ...  \n",
      "YP564       38.0  21.00000      6.3  \n",
      "YP603       35.0  16.90000      4.2  \n",
      "YP081       29.0  31.00000      7.5  \n",
      "YP133       42.0  25.00000      6.4  \n",
      "YP600       80.0  25.00000      6.0  \n",
      "\n",
      "[65 rows x 38 columns]\n"
     ]
    }
   ],
   "source": [
    "geochem = pd.read_csv(\n",
    "    \"data/Edited Swallow et al J Petrol data for plotting.csv\",\n",
    "    index_col=\"Sample\")\n",
    "print(geochem)"
   ]
  },
  {
   "cell_type": "markdown",
   "metadata": {},
   "source": [
    "Printing a dataframe out gives us a rough look at the data and we've seen before how we can compute various statistics to explore the dataframe piece by piece. But there's another way of getting a nicely-formatted, informative summary of the whole dataframe and that is to use the `.describe()` command:"
   ]
  },
  {
   "cell_type": "code",
   "execution_count": 3,
   "metadata": {},
   "outputs": [
    {
     "data": {
      "text/html": [
       "<div>\n",
       "<style scoped>\n",
       "    .dataframe tbody tr th:only-of-type {\n",
       "        vertical-align: middle;\n",
       "    }\n",
       "\n",
       "    .dataframe tbody tr th {\n",
       "        vertical-align: top;\n",
       "    }\n",
       "\n",
       "    .dataframe thead th {\n",
       "        text-align: right;\n",
       "    }\n",
       "</style>\n",
       "<table border=\"1\" class=\"dataframe\">\n",
       "  <thead>\n",
       "    <tr style=\"text-align: right;\">\n",
       "      <th></th>\n",
       "      <th>SiO2 (wt%)</th>\n",
       "      <th>TiO2 (wt%)</th>\n",
       "      <th>Al2O3 (wt%)</th>\n",
       "      <th>Fe2O3 (T) (wt%)</th>\n",
       "      <th>MnO (wt%)</th>\n",
       "      <th>MgO (wt%)</th>\n",
       "      <th>CaO (wt%)</th>\n",
       "      <th>Na2O (wt%)</th>\n",
       "      <th>K2O (wt%)</th>\n",
       "      <th>P2O5 (wt%)</th>\n",
       "      <th>...</th>\n",
       "      <th>Dy (ppm)</th>\n",
       "      <th>Ho (ppm)</th>\n",
       "      <th>Er (ppm)</th>\n",
       "      <th>Tm (ppm)</th>\n",
       "      <th>Yb (ppm)</th>\n",
       "      <th>Lu (ppm)</th>\n",
       "      <th>Hf (ppm)</th>\n",
       "      <th>Pb (ppm)</th>\n",
       "      <th>Th (ppm)</th>\n",
       "      <th>U (ppm)</th>\n",
       "    </tr>\n",
       "  </thead>\n",
       "  <tbody>\n",
       "    <tr>\n",
       "      <th>count</th>\n",
       "      <td>65.000000</td>\n",
       "      <td>65.000000</td>\n",
       "      <td>65.000000</td>\n",
       "      <td>65.000000</td>\n",
       "      <td>65.000000</td>\n",
       "      <td>65.000000</td>\n",
       "      <td>65.000000</td>\n",
       "      <td>65.000000</td>\n",
       "      <td>65.000000</td>\n",
       "      <td>65.000000</td>\n",
       "      <td>...</td>\n",
       "      <td>65.000000</td>\n",
       "      <td>65.000000</td>\n",
       "      <td>65.000000</td>\n",
       "      <td>65.000000</td>\n",
       "      <td>65.000000</td>\n",
       "      <td>65.000000</td>\n",
       "      <td>65.000000</td>\n",
       "      <td>65.000000</td>\n",
       "      <td>65.000000</td>\n",
       "      <td>65.000000</td>\n",
       "    </tr>\n",
       "    <tr>\n",
       "      <th>mean</th>\n",
       "      <td>74.183231</td>\n",
       "      <td>0.332462</td>\n",
       "      <td>12.286308</td>\n",
       "      <td>3.753692</td>\n",
       "      <td>0.060615</td>\n",
       "      <td>0.125385</td>\n",
       "      <td>1.287692</td>\n",
       "      <td>3.251846</td>\n",
       "      <td>4.600769</td>\n",
       "      <td>0.071015</td>\n",
       "      <td>...</td>\n",
       "      <td>9.144615</td>\n",
       "      <td>1.793268</td>\n",
       "      <td>5.316615</td>\n",
       "      <td>0.735387</td>\n",
       "      <td>4.721538</td>\n",
       "      <td>0.780735</td>\n",
       "      <td>9.248016</td>\n",
       "      <td>31.741538</td>\n",
       "      <td>17.719730</td>\n",
       "      <td>4.264615</td>\n",
       "    </tr>\n",
       "    <tr>\n",
       "      <th>std</th>\n",
       "      <td>3.039516</td>\n",
       "      <td>0.272827</td>\n",
       "      <td>0.697152</td>\n",
       "      <td>2.692407</td>\n",
       "      <td>0.035745</td>\n",
       "      <td>0.103155</td>\n",
       "      <td>0.951845</td>\n",
       "      <td>0.369501</td>\n",
       "      <td>1.149364</td>\n",
       "      <td>0.096781</td>\n",
       "      <td>...</td>\n",
       "      <td>2.298507</td>\n",
       "      <td>0.458869</td>\n",
       "      <td>1.399712</td>\n",
       "      <td>0.195950</td>\n",
       "      <td>1.234845</td>\n",
       "      <td>0.212324</td>\n",
       "      <td>2.712692</td>\n",
       "      <td>9.352855</td>\n",
       "      <td>5.001809</td>\n",
       "      <td>0.990649</td>\n",
       "    </tr>\n",
       "    <tr>\n",
       "      <th>min</th>\n",
       "      <td>66.460000</td>\n",
       "      <td>0.100000</td>\n",
       "      <td>11.480000</td>\n",
       "      <td>1.320000</td>\n",
       "      <td>0.010000</td>\n",
       "      <td>-0.000000</td>\n",
       "      <td>0.330000</td>\n",
       "      <td>2.580000</td>\n",
       "      <td>2.040000</td>\n",
       "      <td>0.010000</td>\n",
       "      <td>...</td>\n",
       "      <td>3.200000</td>\n",
       "      <td>0.620000</td>\n",
       "      <td>1.880000</td>\n",
       "      <td>0.270000</td>\n",
       "      <td>1.800000</td>\n",
       "      <td>0.290000</td>\n",
       "      <td>6.000000</td>\n",
       "      <td>16.800000</td>\n",
       "      <td>7.700000</td>\n",
       "      <td>2.200000</td>\n",
       "    </tr>\n",
       "    <tr>\n",
       "      <th>25%</th>\n",
       "      <td>72.230000</td>\n",
       "      <td>0.140000</td>\n",
       "      <td>11.760000</td>\n",
       "      <td>1.840000</td>\n",
       "      <td>0.040000</td>\n",
       "      <td>0.050000</td>\n",
       "      <td>0.700000</td>\n",
       "      <td>2.950000</td>\n",
       "      <td>3.920000</td>\n",
       "      <td>0.020000</td>\n",
       "      <td>...</td>\n",
       "      <td>7.600000</td>\n",
       "      <td>1.500000</td>\n",
       "      <td>4.400000</td>\n",
       "      <td>0.610000</td>\n",
       "      <td>3.900000</td>\n",
       "      <td>0.640000</td>\n",
       "      <td>7.000000</td>\n",
       "      <td>26.000000</td>\n",
       "      <td>14.000000</td>\n",
       "      <td>3.800000</td>\n",
       "    </tr>\n",
       "    <tr>\n",
       "      <th>50%</th>\n",
       "      <td>75.060000</td>\n",
       "      <td>0.220000</td>\n",
       "      <td>12.000000</td>\n",
       "      <td>2.540000</td>\n",
       "      <td>0.050000</td>\n",
       "      <td>0.090000</td>\n",
       "      <td>1.030000</td>\n",
       "      <td>3.260000</td>\n",
       "      <td>4.960000</td>\n",
       "      <td>0.030000</td>\n",
       "      <td>...</td>\n",
       "      <td>9.600000</td>\n",
       "      <td>1.890000</td>\n",
       "      <td>5.700000</td>\n",
       "      <td>0.780000</td>\n",
       "      <td>5.000000</td>\n",
       "      <td>0.840000</td>\n",
       "      <td>8.300000</td>\n",
       "      <td>30.000000</td>\n",
       "      <td>17.900000</td>\n",
       "      <td>4.200000</td>\n",
       "    </tr>\n",
       "    <tr>\n",
       "      <th>75%</th>\n",
       "      <td>76.690000</td>\n",
       "      <td>0.390000</td>\n",
       "      <td>12.760000</td>\n",
       "      <td>4.570000</td>\n",
       "      <td>0.070000</td>\n",
       "      <td>0.190000</td>\n",
       "      <td>1.400000</td>\n",
       "      <td>3.480000</td>\n",
       "      <td>5.370000</td>\n",
       "      <td>0.070000</td>\n",
       "      <td>...</td>\n",
       "      <td>10.500000</td>\n",
       "      <td>2.100000</td>\n",
       "      <td>6.200000</td>\n",
       "      <td>0.840000</td>\n",
       "      <td>5.500000</td>\n",
       "      <td>0.920000</td>\n",
       "      <td>11.000000</td>\n",
       "      <td>36.000000</td>\n",
       "      <td>21.000000</td>\n",
       "      <td>4.700000</td>\n",
       "    </tr>\n",
       "    <tr>\n",
       "      <th>max</th>\n",
       "      <td>77.640000</td>\n",
       "      <td>1.120000</td>\n",
       "      <td>14.050000</td>\n",
       "      <td>10.680000</td>\n",
       "      <td>0.160000</td>\n",
       "      <td>0.470000</td>\n",
       "      <td>3.910000</td>\n",
       "      <td>4.180000</td>\n",
       "      <td>6.160000</td>\n",
       "      <td>0.390000</td>\n",
       "      <td>...</td>\n",
       "      <td>14.700000</td>\n",
       "      <td>3.000000</td>\n",
       "      <td>8.900000</td>\n",
       "      <td>1.290000</td>\n",
       "      <td>8.300000</td>\n",
       "      <td>1.200000</td>\n",
       "      <td>16.224530</td>\n",
       "      <td>80.000000</td>\n",
       "      <td>31.000000</td>\n",
       "      <td>7.500000</td>\n",
       "    </tr>\n",
       "  </tbody>\n",
       "</table>\n",
       "<p>8 rows × 38 columns</p>\n",
       "</div>"
      ],
      "text/plain": [
       "       SiO2 (wt%)  TiO2 (wt%)  Al2O3 (wt%)  Fe2O3 (T) (wt%)  MnO (wt%)  \\\n",
       "count   65.000000   65.000000    65.000000        65.000000  65.000000   \n",
       "mean    74.183231    0.332462    12.286308         3.753692   0.060615   \n",
       "std      3.039516    0.272827     0.697152         2.692407   0.035745   \n",
       "min     66.460000    0.100000    11.480000         1.320000   0.010000   \n",
       "25%     72.230000    0.140000    11.760000         1.840000   0.040000   \n",
       "50%     75.060000    0.220000    12.000000         2.540000   0.050000   \n",
       "75%     76.690000    0.390000    12.760000         4.570000   0.070000   \n",
       "max     77.640000    1.120000    14.050000        10.680000   0.160000   \n",
       "\n",
       "       MgO (wt%)  CaO (wt%)  Na2O (wt%)  K2O (wt%)  P2O5 (wt%)  ...  \\\n",
       "count  65.000000  65.000000   65.000000  65.000000   65.000000  ...   \n",
       "mean    0.125385   1.287692    3.251846   4.600769    0.071015  ...   \n",
       "std     0.103155   0.951845    0.369501   1.149364    0.096781  ...   \n",
       "min    -0.000000   0.330000    2.580000   2.040000    0.010000  ...   \n",
       "25%     0.050000   0.700000    2.950000   3.920000    0.020000  ...   \n",
       "50%     0.090000   1.030000    3.260000   4.960000    0.030000  ...   \n",
       "75%     0.190000   1.400000    3.480000   5.370000    0.070000  ...   \n",
       "max     0.470000   3.910000    4.180000   6.160000    0.390000  ...   \n",
       "\n",
       "        Dy (ppm)   Ho (ppm)   Er (ppm)   Tm (ppm)   Yb (ppm)   Lu (ppm)  \\\n",
       "count  65.000000  65.000000  65.000000  65.000000  65.000000  65.000000   \n",
       "mean    9.144615   1.793268   5.316615   0.735387   4.721538   0.780735   \n",
       "std     2.298507   0.458869   1.399712   0.195950   1.234845   0.212324   \n",
       "min     3.200000   0.620000   1.880000   0.270000   1.800000   0.290000   \n",
       "25%     7.600000   1.500000   4.400000   0.610000   3.900000   0.640000   \n",
       "50%     9.600000   1.890000   5.700000   0.780000   5.000000   0.840000   \n",
       "75%    10.500000   2.100000   6.200000   0.840000   5.500000   0.920000   \n",
       "max    14.700000   3.000000   8.900000   1.290000   8.300000   1.200000   \n",
       "\n",
       "        Hf (ppm)   Pb (ppm)   Th (ppm)    U (ppm)  \n",
       "count  65.000000  65.000000  65.000000  65.000000  \n",
       "mean    9.248016  31.741538  17.719730   4.264615  \n",
       "std     2.712692   9.352855   5.001809   0.990649  \n",
       "min     6.000000  16.800000   7.700000   2.200000  \n",
       "25%     7.000000  26.000000  14.000000   3.800000  \n",
       "50%     8.300000  30.000000  17.900000   4.200000  \n",
       "75%    11.000000  36.000000  21.000000   4.700000  \n",
       "max    16.224530  80.000000  31.000000   7.500000  \n",
       "\n",
       "[8 rows x 38 columns]"
      ]
     },
     "execution_count": 3,
     "metadata": {},
     "output_type": "execute_result"
    }
   ],
   "source": [
    "geochem.describe()"
   ]
  },
  {
   "cell_type": "markdown",
   "metadata": {},
   "source": [
    "How cool is that?!\n",
    "\n",
    "## Working with subplots\n",
    "\n",
    "What we can immediately see is that this dataset contains a lot of geochemical parameters (38!) and if we want to discover how they relate to each other we're going to have to do some more plotting. Ideally, it would be interesting to plot each parameter against every other one but this will get pretty overwhelming so we'll focus on a few interesting ones.\n",
    "\n",
    "To make our plots, we'll use the `plt.subplots()` syntax we've encountered previously, but which we haven't yet used to its full extent. As the name suggests, subplots let you make multiple plots in one. \n",
    "\n",
    "To start with, let's plot the first four major elements in the table ($TiO_2$, $Al_2O_3$, $Fe_2O_3 (T)$, $MnO$) against $Si0_2$.\n",
    "\n",
    "To do this we will need four axes.  We can make four axes using the `plt.subplots` command.  Lets get help for that function.  You can get to the docs for a given function by typing `function?`.  Run the cell below and you should see a pop-up of the docs.\n",
    "\n",
    "\n"
   ]
  },
  {
   "cell_type": "code",
   "execution_count": 4,
   "metadata": {},
   "outputs": [],
   "source": [
    "plt.subplots?"
   ]
  },
  {
   "cell_type": "markdown",
   "metadata": {},
   "source": [
    "The arguments that we care about at the moment at:\n",
    "- `nrows`, the number of rows of subplots\n",
    "- `ncols`, the number of columns of subplots\n",
    "- `sharex`, whether axes should have the same x-axis.  We will be having $SiO_2$ on all the x-axes, so we will set this to be `True`.\n",
    "\n",
    "Lets make a 2x2 grid of subplots:"
   ]
  },
  {
   "cell_type": "code",
   "execution_count": 5,
   "metadata": {},
   "outputs": [
    {
     "data": {
      "image/png": "[encoded data removed]",
      "text/plain": [
       "<Figure size 432x288 with 4 Axes>"
      ]
     },
     "metadata": {
      "needs_background": "light"
     },
     "output_type": "display_data"
    }
   ],
   "source": [
    "fig, ax = plt.subplots(nrows=2, ncols=2, sharex=True)"
   ]
  },
  {
   "cell_type": "markdown",
   "metadata": {},
   "source": [
    "Note that we īncluded `sharex=True` in our command, which will ensure that all four panels have the same x-axis.\n",
    "\n",
    "This returned two things as usual, `fig`: the `figure` containing all our axes, and `ax`, which is a list of the subplot axes.  We can specify which axes we want to use for each graph by remembering that Python counts from zero and noting that _the axes are indexed by row and then by column_."
   ]
  },
  {
   "cell_type": "code",
   "execution_count": 6,
   "metadata": {},
   "outputs": [
    {
     "data": {
      "image/png": "[encoded data removed]",
      "text/plain": [
       "<Figure size 432x288 with 4 Axes>"
      ]
     },
     "metadata": {
      "needs_background": "light"
     },
     "output_type": "display_data"
    }
   ],
   "source": [
    "fig, ax = plt.subplots(nrows=2, ncols=2, sharex=True)\n",
    "for column in range(2):\n",
    "    for row in range(2):\n",
    "        ax[row][column].set_title(f\"ax[{row}][{column}]\")"
   ]
  },
  {
   "cell_type": "markdown",
   "metadata": {},
   "source": [
    "Right, let's plot actual data using two loops to run through the parameters and axes:"
   ]
  },
  {
   "cell_type": "code",
   "execution_count": 7,
   "metadata": {},
   "outputs": [
    {
     "data": {
      "image/png": "[encoded data removed]",
      "text/plain": [
       "<Figure size 432x288 with 4 Axes>"
      ]
     },
     "metadata": {
      "needs_background": "light"
     },
     "output_type": "display_data"
    }
   ],
   "source": [
    "fig, ax = plt.subplots(nrows=2, ncols=2, sharex=True)\n",
    "\n",
    "elements = [[\"TiO2 (wt%)\", \"Al2O3 (wt%)\"], [\"Fe2O3 (T) (wt%)\", \"MnO (wt%)\"]]\n",
    "for column in range(2):\n",
    "    for row in range(2):\n",
    "        element_name = elements[row][column]\n",
    "        ax[row][column].scatter(geochem[\"SiO2 (wt%)\"], geochem[element_name])\n",
    "        ax[row][column].set_ylabel(element_name)\n",
    "        ax[row][column].set_xlabel(\"$SiO_2$ (wt%)\")"
   ]
  },
  {
   "cell_type": "markdown",
   "metadata": {},
   "source": [
    "The y-axis labels are getting in the way a bit but we can easily avoid this as follows:"
   ]
  },
  {
   "cell_type": "code",
   "execution_count": 8,
   "metadata": {},
   "outputs": [
    {
     "data": {
      "image/png": "[encoded data removed]",
      "text/plain": [
       "<Figure size 432x288 with 4 Axes>"
      ]
     },
     "metadata": {
      "needs_background": "light"
     },
     "output_type": "display_data"
    }
   ],
   "source": [
    "fig, ax = plt.subplots(nrows=2, ncols=2, sharex=True)\n",
    "\n",
    "elements = [[\"TiO2 (wt%)\", \"Al2O3 (wt%)\"], [\"Fe2O3 (T) (wt%)\", \"MnO (wt%)\"]]\n",
    "for column in range(2):\n",
    "    for row in range(2):\n",
    "        element_name = elements[row][column]\n",
    "        ax[row][column].scatter(geochem[\"SiO2 (wt%)\"], geochem[element_name])\n",
    "        ax[row][column].set_ylabel(element_name)\n",
    "        ax[row][column].set_xlabel(\"$SiO_2$ (wt%)\")\n",
    "        if column == 1:\n",
    "            ax[row][column].yaxis.tick_right()\n",
    "            ax[row][column].yaxis.set_label_position(\"right\")"
   ]
  },
  {
   "cell_type": "markdown",
   "metadata": {},
   "source": [
    "### Exercise:\n",
    "\n",
    "Try writing some code to plot the four parameters of interest against $SiO_2$ in a 1x4 subplot layout with a common y-axis ($SiO_2$)."
   ]
  },
  {
   "cell_type": "code",
   "execution_count": 9,
   "metadata": {},
   "outputs": [],
   "source": [
    "# Your answer here"
   ]
  },
  {
   "cell_type": "markdown",
   "metadata": {},
   "source": [
    "## Regression\n",
    "\n",
    "We can infer from the plots above that $Fe_2O_3$ and $TiO_2$ exhibit very similar behaviour with regard to $SiO_2$. Sure enough, we find when we plot one against the other that they have are highly correlated:"
   ]
  },
  {
   "cell_type": "code",
   "execution_count": 10,
   "metadata": {},
   "outputs": [
    {
     "data": {
      "text/plain": [
       "<AxesSubplot:xlabel='Fe2O3 (T) (wt%)', ylabel='TiO2 (wt%)'>"
      ]
     },
     "execution_count": 10,
     "metadata": {},
     "output_type": "execute_result"
    },
    {
     "data": {
      "image/png": "[encoded data removed]",
      "text/plain": [
       "<Figure size 432x288 with 1 Axes>"
      ]
     },
     "metadata": {
      "needs_background": "light"
     },
     "output_type": "display_data"
    }
   ],
   "source": [
    "geochem.plot(x=\"Fe2O3 (T) (wt%)\", y=\"TiO2 (wt%)\", kind='scatter')"
   ]
  },
  {
   "cell_type": "markdown",
   "metadata": {},
   "source": [
    "We'll use these two parameters to briefly explore linear regression. There are myriad ways to do this in Python but perhaps the simplest to start with is numpy's [polyfit](https://numpy.org/doc/stable/reference/generated/numpy.polyfit.html) algorithm. "
   ]
  },
  {
   "cell_type": "code",
   "execution_count": 11,
   "metadata": {},
   "outputs": [
    {
     "name": "stdout",
     "output_type": "stream",
     "text": [
      "[ 0.09956925 -0.04129079]\n",
      "[[ 5.62105856e-06 -2.10997243e-05]\n",
      " [-2.10997243e-05  1.19322352e-04]]\n"
     ]
    }
   ],
   "source": [
    "import numpy as np\n",
    "\n",
    "model, covariance = np.polyfit(\n",
    "    geochem['Fe2O3 (T) (wt%)'], geochem['TiO2 (wt%)'], 1, cov=True)\n",
    "print(model)\n",
    "print(covariance)"
   ]
  },
  {
   "cell_type": "markdown",
   "metadata": {},
   "source": [
    "What we've done is fit a linear model of the form $y=ax+b$ to the Fe (x) and Ti (y) oxide dat, using least-shokies. We could have fit a quadratic model by simply changing the \"1\" at the end of the command to \"2\".\n",
    "\n",
    "We can define a simple function to construct a function from the model parameters that, when re-applied to the Fe data, will return the predicted Ti measurements:"
   ]
  },
  {
   "cell_type": "code",
   "execution_count": 12,
   "metadata": {},
   "outputs": [],
   "source": [
    "def pred_func(x):\n",
    "    return (x * model[0]) + model[1]\n",
    "\n",
    "\n",
    "Ti_predicted = geochem['Fe2O3 (T) (wt%)'].apply(pred_func)"
   ]
  },
  {
   "cell_type": "markdown",
   "metadata": {},
   "source": [
    "Let's plot the results to see what we've found and whether it makes sense."
   ]
  },
  {
   "cell_type": "code",
   "execution_count": 13,
   "metadata": {},
   "outputs": [
    {
     "data": {
      "image/png": "[encoded data removed]",
      "text/plain": [
       "<Figure size 432x288 with 1 Axes>"
      ]
     },
     "metadata": {
      "needs_background": "light"
     },
     "output_type": "display_data"
    }
   ],
   "source": [
    "fig, ax = plt.subplots()\n",
    "ax.plot(geochem['Fe2O3 (T) (wt%)'], geochem['TiO2 (wt%)'],\n",
    "        'o', color='red', label='Measurements')\n",
    "ax.plot(geochem['Fe2O3 (T) (wt%)'], Ti_predicted, label='Linear model',\n",
    "        linestyle='dotted', linewidth=0.5, color='red')\n",
    "ax.set_xlabel(\"Fe2O3 (T) (wt%)\")\n",
    "ax.set_ylabel(\"TiO2 (wt%)\")\n",
    "ax.set_title(\"An example of linear regression with numpy\")\n",
    "ax.legend()\n",
    "plt.show()"
   ]
  },
  {
   "cell_type": "markdown",
   "metadata": {},
   "source": [
    "## More on dates and times and datetimes\n",
    "\n",
    "In the previous notebook, we made our GeoNet query using `str` objects for the start and end-time arguments, but Python has nice native ways of working with dates and times. These do useful things like cope with leap-years, allow you to add seconds (or other time units) to dates and times, and allow you to format dates and times as `str` objects.\n",
    "\n",
    "We should switch from giving `str`s to giving `datetime`s.  `datetime` objects come from Python's native `datetime` library, and include a handy `.strftime` method which is literally string-format-time.  We will use that to make the correctly formatted string for our query.  The query requires something of the format:\n",
    "\n",
    "> year-month-dayThour:minute:second\n",
    "\n",
    "In `datetime` speak the format string for that is:\n",
    "\n",
    "> `%Y-%m-%dT%H:%M:%S`\n",
    "\n",
    "- `%Y` is a four-digit year (e.g.: ..., 2018, 2019, 2020, ...)\n",
    "- `%m` is a two-digit month (e.g.: 01, 02, 03, 04, 05, 06, 07, 08, 09, 10, 11, 12)\n",
    "- `%d` is a two-digit day (zero-padded as months are, e.g.: 01, 02, ... 28, 29, 30, 31)\n",
    "- `T` is just a letter, anything not preceded by a `%` sign is interpreted as a `str`\n",
    "- `%H` is a two-digit hour (as above)\n",
    "- `%M` is a two-digit minute (as above)\n",
    "- `%S` is a two-digit second (as above).\n",
    "\n",
    "Other formatters, for things like day of the week, month as a word, julian-day, milliseconds, etc. can be found in the [offical docs](https://docs.python.org/3/library/datetime.html#strftime-and-strptime-format-codes).\n",
    "\n",
    "Lets see how we could format a `datetime`.  To start we need to make a `datetime` object, we can provide arguments of the year, month, day, hour, minute, second, (millisecond) to make one:"
   ]
  },
  {
   "cell_type": "code",
   "execution_count": 14,
   "metadata": {},
   "outputs": [
    {
     "name": "stdout",
     "output_type": "stream",
     "text": [
      "2020-01-10 12:43:10\n"
     ]
    }
   ],
   "source": [
    "# datetime is the module, datetime.datetime is the object itself\n",
    "test_time = datetime.datetime(2020, 1, 10, 12, 43, 10)\n",
    "print(test_time)"
   ]
  },
  {
   "cell_type": "markdown",
   "metadata": {},
   "source": [
    "Now lets format the string the way that we want it:"
   ]
  },
  {
   "cell_type": "code",
   "execution_count": 15,
   "metadata": {},
   "outputs": [
    {
     "name": "stdout",
     "output_type": "stream",
     "text": [
      "2020-01-10T12:43:10\n"
     ]
    }
   ],
   "source": [
    "print(test_time.strftime(\"%Y-%m-%dT%H:%M:%S\"))"
   ]
  },
  {
   "cell_type": "markdown",
   "metadata": {},
   "source": [
    "**Exercise:** format the `datetime` object as \"year/month/day hour:minute:seconds\" and then try some other formats using the information listed in the [offical docs](https://docs.python.org/3/library/datetime.html#strftime-and-strptime-format-codes)."
   ]
  },
  {
   "cell_type": "code",
   "execution_count": 16,
   "metadata": {},
   "outputs": [],
   "source": [
    "# Your answer here"
   ]
  },
  {
   "cell_type": "markdown",
   "metadata": {},
   "source": [
    "Now that we know how it all works, lets put it together into a function with some useful\n",
    "arguments that we can query.\n",
    "\n",
    "## Querying a dataframe using a function\n",
    "\n",
    "We will set some default values for our arguments, so that we do not always have to\n",
    "specify every argument.  These defaults are given in the function definition as:\n",
    "\n",
    "```python\n",
    "def function(argument=value, ...):\n",
    "    contents_of_function\n",
    "```\n",
    "where `argument` is the argument name, and `value` is the default value for that argument:"
   ]
  },
  {
   "cell_type": "code",
   "execution_count": 17,
   "metadata": {},
   "outputs": [],
   "source": [
    "def get_geonet_quakes(\n",
    "    min_latitude=-49.0, max_latitude=-40.0,\n",
    "    min_longitude=164.0, max_longitude=182.0,\n",
    "    min_magnitude=1, max_magnitude=9.0,\n",
    "    min_depth=0.0, max_depth=500.0,\n",
    "    start_time=datetime.datetime(1960, 1, 1),\n",
    "    end_time=datetime.datetime(2020, 1, 1),\n",
    "):\n",
    "    \"\"\"\n",
    "    Get a dataframe of the eatrhquakes in the GeoNet catalogue.\n",
    "\n",
    "    Parameters\n",
    "    ----------\n",
    "    min_latitude\n",
    "        Minimum latitude in degrees for search\n",
    "    max_latitude\n",
    "        Maximum latitude in degrees for search\n",
    "    min_longitude\n",
    "        Minimum longitude in degrees for search\n",
    "    max_longitude\n",
    "        Maximum longitude in degrees for search\n",
    "    min_depth\n",
    "        Minimum depth in km for search\n",
    "    max_depth\n",
    "        Maximum depth in km for search\n",
    "    min_magnitude\n",
    "        Minimum magnitude for search\n",
    "    max_magnitude\n",
    "        Maximum magnitude for search\n",
    "    start_time\n",
    "        Start date and time for search\n",
    "    end_time\n",
    "        End date and time for search\n",
    "\n",
    "    Returns\n",
    "    -------\n",
    "    pandas.DateFrame of resulting events\n",
    "    \"\"\"\n",
    "    # Convert start_time and end_time to strings\n",
    "    start_time = start_time.strftime(\"%Y-%m-%dT%H:%M:%S\")\n",
    "    end_time = end_time.strftime(\"%Y-%m-%dT%H:%M:%S\")\n",
    "    # Use the more efficient f-string formatting\n",
    "    query_string = (\n",
    "        \"https://quakesearch.geonet.org.nz/csv?bbox=\"\n",
    "        f\"{min_longitude},{min_latitude},{max_longitude},\"\n",
    "        f\"{max_latitude}&minmag={min_magnitude}\"\n",
    "        f\"&maxmag={max_magnitude}&mindepth={min_depth}\"\n",
    "        f\"&maxdepth={max_depth}&startdate={start_time}\"\n",
    "        f\"&enddate={end_time}\")\n",
    "    print(f\"Using query: {query_string}\")\n",
    "    response = requests.get(query_string)\n",
    "    with open(\"data/earthquakes.csv\", \"wb\") as f:\n",
    "        f.write(response.content)\n",
    "    earthquakes = pd.read_csv(\n",
    "        \"data/earthquakes.csv\",\n",
    "        parse_dates=[\"origintime\", \"modificationtime\"],\n",
    "        dtype={\"publicid\": str})\n",
    "    earthquakes = earthquakes.rename(\n",
    "        columns={\" magnitude\": \"magnitude\",\n",
    "                 \" latitude\": \"latitude\",\n",
    "                 \" depth\": \"depth\"})\n",
    "    return earthquakes"
   ]
  },
  {
   "cell_type": "markdown",
   "metadata": {},
   "source": [
    "Lets quickly run this function to get the data.  There won't be any output.  Note that I didn't\n",
    "provide these data in the repository because:\n",
    "1. I don't have permission to re-distribute the data and,\n",
    "2. this dataset gets updated frequently!"
   ]
  },
  {
   "cell_type": "code",
   "execution_count": 18,
   "metadata": {},
   "outputs": [
    {
     "name": "stdout",
     "output_type": "stream",
     "text": [
      "Using query: https://quakesearch.geonet.org.nz/csv?bbox=164.0,-49.0,182.0,-40.0&minmag=3&maxmag=9.0&mindepth=0.0&maxdepth=500.0&startdate=2015-01-01T00:00:00&enddate=2020-01-01T00:00:00\n",
      "Index(['publicid', 'eventtype', 'origintime', 'modificationtime', 'longitude',\n",
      "       'latitude', 'magnitude', 'depth', 'magnitudetype', 'depthtype',\n",
      "       'evaluationmethod', 'evaluationstatus', 'evaluationmode', 'earthmodel',\n",
      "       'usedphasecount', 'usedstationcount', 'magnitudestationcount',\n",
      "       'minimumdistance', 'azimuthalgap', 'originerror',\n",
      "       'magnitudeuncertainty'],\n",
      "      dtype='object')\n"
     ]
    }
   ],
   "source": [
    "earthquakes = get_geonet_quakes(\n",
    "    start_time=datetime.datetime(2015, 1, 1), min_magnitude=3)\n",
    "\n",
    "print(earthquakes.columns)"
   ]
  },
  {
   "cell_type": "markdown",
   "metadata": {},
   "source": [
    "## Do something useful: applying functions to a dataframe\n",
    "\n",
    "We saw in the previous notebook how we could sort and slice a dataframe in various ways.Let's look at\n",
    "an example of doing some actual calculations with a dataframe.  We will use some of what we have\n",
    "learnt to calculate the occurance rate of earthquakes within a region.  In this case\n",
    "we will take the region around the top of South Island, containing the faults that ruptured\n",
    "in the Kaikoura earthquake."
   ]
  },
  {
   "cell_type": "code",
   "execution_count": 19,
   "metadata": {},
   "outputs": [
    {
     "name": "stdout",
     "output_type": "stream",
     "text": [
      "Using query: https://quakesearch.geonet.org.nz/csv?bbox=172.37,-43.12,174.95,-41.15&minmag=2&maxmag=9.0&mindepth=0.0&maxdepth=500.0&startdate=2010-01-01T00:00:00&enddate=2020-01-01T00:00:00\n",
      "Downloaded 30854 earthquakes\n"
     ]
    }
   ],
   "source": [
    "kaikoura = get_geonet_quakes(\n",
    "    min_latitude=-43.12, max_latitude=-41.15,\n",
    "    min_longitude=172.37, max_longitude=174.95,\n",
    "    start_time=datetime.datetime(2010, 1, 1),\n",
    "    min_magnitude=2)\n",
    "# Rename those columns\n",
    "kaikoura = kaikoura.rename(\n",
    "    columns={\" magnitude\": \"magnitude\",\n",
    "             \" latitude\": \"latitude\",\n",
    "             \" depth\": \"depth\"})\n",
    "\n",
    "print(f\"Downloaded {len(kaikoura)} earthquakes\")"
   ]
  },
  {
   "cell_type": "markdown",
   "metadata": {},
   "source": [
    "Earthquake rate is the number of earthquakes per unit time.  For a dataset like this we can calculate\n",
    "rate as 1 over the inter-event time.\n",
    "\n",
    "First we need to sort by origin time:"
   ]
  },
  {
   "cell_type": "code",
   "execution_count": 20,
   "metadata": {},
   "outputs": [],
   "source": [
    "kaikoura = kaikoura.sort_values(by=[\"origintime\"], ignore_index=True)"
   ]
  },
  {
   "cell_type": "markdown",
   "metadata": {},
   "source": [
    "Then we need to calculate the time between each successive earthquake.  We can do this by\n",
    "taking the `origintime` column away from a one-sample shifted version of the `origintime` column,\n",
    "much like we did for calculating the temperature gradient in the DFDP drillhole. In Pandas we\n",
    "can do this quickly using the `.diff` method:"
   ]
  },
  {
   "cell_type": "code",
   "execution_count": 21,
   "metadata": {},
   "outputs": [
    {
     "name": "stdout",
     "output_type": "stream",
     "text": [
      "0                          NaT\n",
      "1       0 days 04:49:17.548000\n",
      "2       0 days 05:37:57.876000\n",
      "3       0 days 06:41:39.160000\n",
      "4       0 days 11:29:03.363000\n",
      "                 ...          \n",
      "30849   0 days 04:00:38.425000\n",
      "30850   0 days 03:35:27.277000\n",
      "30851   0 days 10:19:42.972000\n",
      "30852   0 days 10:59:17.003000\n",
      "30853   1 days 00:24:15.080000\n",
      "Name: origintime, Length: 30854, dtype: timedelta64[ns]\n"
     ]
    }
   ],
   "source": [
    "inter_event_time = kaikoura[\"origintime\"].diff()\n",
    "print(inter_event_time)"
   ]
  },
  {
   "cell_type": "markdown",
   "metadata": {},
   "source": [
    "This column is in `timedelta` format. Lets convert it to seconds:"
   ]
  },
  {
   "cell_type": "code",
   "execution_count": 22,
   "metadata": {},
   "outputs": [
    {
     "name": "stdout",
     "output_type": "stream",
     "text": [
      "0              NaN\n",
      "1        17357.548\n",
      "2        20277.876\n",
      "3        24099.160\n",
      "4        41343.363\n",
      "           ...    \n",
      "30849    14438.425\n",
      "30850    12927.277\n",
      "30851    37182.972\n",
      "30852    39557.003\n",
      "30853    87855.080\n",
      "Name: origintime, Length: 30854, dtype: float64\n"
     ]
    }
   ],
   "source": [
    "inter_event_time = inter_event_time.dt.total_seconds()\n",
    "print(inter_event_time)"
   ]
  },
  {
   "cell_type": "markdown",
   "metadata": {},
   "source": [
    "The rate is simply 1 / `inter_event_time`:"
   ]
  },
  {
   "cell_type": "code",
   "execution_count": 23,
   "metadata": {},
   "outputs": [],
   "source": [
    "rate = 1 / inter_event_time"
   ]
  },
  {
   "cell_type": "code",
   "execution_count": 24,
   "metadata": {},
   "outputs": [
    {
     "name": "stdout",
     "output_type": "stream",
     "text": [
      "0             NaN\n",
      "1        0.000058\n",
      "2        0.000049\n",
      "3        0.000041\n",
      "4        0.000024\n",
      "           ...   \n",
      "30849    0.000069\n",
      "30850    0.000077\n",
      "30851    0.000027\n",
      "30852    0.000025\n",
      "30853    0.000011\n",
      "Name: origintime, Length: 30854, dtype: float64\n"
     ]
    }
   ],
   "source": [
    "print(rate)"
   ]
  },
  {
   "cell_type": "markdown",
   "metadata": {},
   "source": [
    "We can now add this column into the dataframe and call it `\"rate\"`:"
   ]
  },
  {
   "cell_type": "code",
   "execution_count": 25,
   "metadata": {},
   "outputs": [],
   "source": [
    "kaikoura['rate'] = rate"
   ]
  },
  {
   "cell_type": "markdown",
   "metadata": {},
   "source": [
    "We can plot rate as a function of time. Remember that the time values we use here are the\n",
    "event origin-times, which do not directly represent the time of the rate calculated, which\n",
    "is an average between events:"
   ]
  },
  {
   "cell_type": "code",
   "execution_count": 26,
   "metadata": {
    "scrolled": true
   },
   "outputs": [
    {
     "data": {
      "image/png": "[encoded data removed]",
      "text/plain": [
       "<Figure size 432x288 with 1 Axes>"
      ]
     },
     "metadata": {
      "needs_background": "light"
     },
     "output_type": "display_data"
    }
   ],
   "source": [
    "ax = kaikoura.plot(x=\"origintime\", y=\"rate\")\n",
    "ax.set_ylabel(\"Instantaneous Rate (earthquakes per second)\")\n",
    "plt.show()"
   ]
  },
  {
   "cell_type": "markdown",
   "metadata": {},
   "source": [
    "There is lots more that you can do with dataframes.  Pandas is in heavy use in the datascience\n",
    "world, and allows you to quickly explore datasets.  Hopefully you will find it useful at some\n",
    "point in your Geoscience career.\n",
    "\n",
    "As a final thing, you can save your dataframes:"
   ]
  },
  {
   "cell_type": "code",
   "execution_count": 27,
   "metadata": {},
   "outputs": [],
   "source": [
    "kaikoura.to_csv(\"data/kaikoura.csv\", index=False)"
   ]
  },
  {
   "cell_type": "markdown",
   "metadata": {},
   "source": [
    "## Summary\n",
    "\n",
    "That covers *some* of the basics of `dataframes` in pandas.  You should be able to use them to replace most of what you would have done with spreadsheets to allow you to work in a more programatic and reproducible way. We also demonstrated some of the basics of fitting simple polynomials to data.  Note that numpy's `polyfit` function isn't limited to 1st order polynomials, the sky is the limit!\n"
   ]
  },
  {
   "cell_type": "markdown",
   "metadata": {},
   "source": [
    "## Extension: more sophisticated analysis of a dataframe\n",
    "\n",
    "### Extension: calculating velocities and strain from GNSS data\n",
    "\n",
    "You might remember from ESCI203 that we can use GNSS (GPS is one famly of Global Navigation Satellite System or GNSS) to calculate velocities, as well as strain between places. In ESCI203 you calculated this by hand, fitting lines to data, but we can do so much better! In this extension we will:\n",
    "\n",
    "1. Calculate the average velocities for a few continuous GNSS sites in NZ;\n",
    "2. Do some sliding-window fun to work out the strain between these sites and how strain varies with time.\n",
    "\n",
    "To start with we need to get some data. We will consider two sites on either side of the Alpine Fault: [HOKI](https://www.geonet.org.nz/data/network/mark/HOKI) and [MTJO](https://www.geonet.org.nz/data/network/mark/MTJO). We can use our helper function from before to get those data:"
   ]
  },
  {
   "cell_type": "code",
   "execution_count": 2,
   "metadata": {},
   "outputs": [],
   "source": [
    "from helpers.get_data import get_gnss_for_station\n",
    "\n",
    "starttime, endtime = datetime.datetime(2001, 1, 1), datetime.datetime(2022, 1, 1)\n",
    "\n",
    "hoki = get_gnss_for_station(\n",
    "    \"HOKI\", starttime=starttime, endtime=endtime)\n",
    "mtjo = get_gnss_for_station(\n",
    "    \"MTJO\", starttime=starttime, endtime=endtime)"
   ]
  },
  {
   "cell_type": "code",
   "execution_count": 4,
   "metadata": {},
   "outputs": [
    {
     "data": {
      "image/png": "[encoded data removed]",
      "text/plain": [
       "<Figure size 720x360 with 2 Axes>"
      ]
     },
     "metadata": {
      "needs_background": "light"
     },
     "output_type": "display_data"
    }
   ],
   "source": [
    "fig, axes = plt.subplots(ncols=2, figsize=(10, 5), sharex=True)\n",
    "\n",
    "for component in [\"east\", \"east\", \"up\"]:\n",
    "    axes[0].plot(hoki[\"time\"], hoki[component], label=component)\n",
    "    axes[1].plot(mtjo[\"time\"], mtjo[component], label=component)\n",
    "for ax, station in zip(axes, [\"HOKI\", \"MTJO\"]):\n",
    "    ax.set_xlabel(\"Sample time (UTC)\")\n",
    "    ax.set_ylabel(\"Offset in mm\")\n",
    "    ax.set_title(f\"GNSS offsets for {station}\")\n",
    "    ax.legend()\n",
    "plt.show()"
   ]
  },
  {
   "cell_type": "markdown",
   "metadata": {},
   "source": [
    "Now that we have those data we need to combine them into a dataframe to use some sliding windows:"
   ]
  },
  {
   "cell_type": "code",
   "execution_count": 5,
   "metadata": {},
   "outputs": [
    {
     "data": {
      "text/html": [
       "<div>\n",
       "<style scoped>\n",
       "    .dataframe tbody tr th:only-of-type {\n",
       "        vertical-align: middle;\n",
       "    }\n",
       "\n",
       "    .dataframe tbody tr th {\n",
       "        vertical-align: top;\n",
       "    }\n",
       "\n",
       "    .dataframe thead th {\n",
       "        text-align: right;\n",
       "    }\n",
       "</style>\n",
       "<table border=\"1\" class=\"dataframe\">\n",
       "  <thead>\n",
       "    <tr style=\"text-align: right;\">\n",
       "      <th></th>\n",
       "      <th>north</th>\n",
       "      <th>east</th>\n",
       "      <th>up</th>\n",
       "      <th>north_error</th>\n",
       "      <th>east_error</th>\n",
       "      <th>up_error</th>\n",
       "    </tr>\n",
       "  </thead>\n",
       "  <tbody>\n",
       "    <tr>\n",
       "      <th>count</th>\n",
       "      <td>7470.000000</td>\n",
       "      <td>7470.000000</td>\n",
       "      <td>7470.000000</td>\n",
       "      <td>7470.00000</td>\n",
       "      <td>7470.000000</td>\n",
       "      <td>7470.000000</td>\n",
       "    </tr>\n",
       "    <tr>\n",
       "      <th>mean</th>\n",
       "      <td>19.626565</td>\n",
       "      <td>-1.182345</td>\n",
       "      <td>0.247641</td>\n",
       "      <td>2.23556</td>\n",
       "      <td>2.009147</td>\n",
       "      <td>7.791256</td>\n",
       "    </tr>\n",
       "    <tr>\n",
       "      <th>std</th>\n",
       "      <td>248.289263</td>\n",
       "      <td>13.509561</td>\n",
       "      <td>7.453440</td>\n",
       "      <td>0.57238</td>\n",
       "      <td>0.507688</td>\n",
       "      <td>2.358841</td>\n",
       "    </tr>\n",
       "    <tr>\n",
       "      <th>min</th>\n",
       "      <td>-433.420000</td>\n",
       "      <td>-32.690000</td>\n",
       "      <td>-19.890000</td>\n",
       "      <td>1.21000</td>\n",
       "      <td>1.040000</td>\n",
       "      <td>3.820000</td>\n",
       "    </tr>\n",
       "    <tr>\n",
       "      <th>25%</th>\n",
       "      <td>-190.312500</td>\n",
       "      <td>-11.337500</td>\n",
       "      <td>-4.640000</td>\n",
       "      <td>1.92000</td>\n",
       "      <td>1.720000</td>\n",
       "      <td>6.350000</td>\n",
       "    </tr>\n",
       "    <tr>\n",
       "      <th>50%</th>\n",
       "      <td>21.325000</td>\n",
       "      <td>2.160000</td>\n",
       "      <td>-1.040000</td>\n",
       "      <td>2.17000</td>\n",
       "      <td>1.950000</td>\n",
       "      <td>7.360000</td>\n",
       "    </tr>\n",
       "    <tr>\n",
       "      <th>75%</th>\n",
       "      <td>234.622500</td>\n",
       "      <td>8.727500</td>\n",
       "      <td>3.580000</td>\n",
       "      <td>2.47000</td>\n",
       "      <td>2.230000</td>\n",
       "      <td>8.830000</td>\n",
       "    </tr>\n",
       "    <tr>\n",
       "      <th>max</th>\n",
       "      <td>442.250000</td>\n",
       "      <td>26.320000</td>\n",
       "      <td>37.460000</td>\n",
       "      <td>13.02000</td>\n",
       "      <td>11.380000</td>\n",
       "      <td>42.850000</td>\n",
       "    </tr>\n",
       "  </tbody>\n",
       "</table>\n",
       "</div>"
      ],
      "text/plain": [
       "             north         east           up  north_error   east_error  \\\n",
       "count  7470.000000  7470.000000  7470.000000   7470.00000  7470.000000   \n",
       "mean     19.626565    -1.182345     0.247641      2.23556     2.009147   \n",
       "std     248.289263    13.509561     7.453440      0.57238     0.507688   \n",
       "min    -433.420000   -32.690000   -19.890000      1.21000     1.040000   \n",
       "25%    -190.312500   -11.337500    -4.640000      1.92000     1.720000   \n",
       "50%      21.325000     2.160000    -1.040000      2.17000     1.950000   \n",
       "75%     234.622500     8.727500     3.580000      2.47000     2.230000   \n",
       "max     442.250000    26.320000    37.460000     13.02000    11.380000   \n",
       "\n",
       "          up_error  \n",
       "count  7470.000000  \n",
       "mean      7.791256  \n",
       "std       2.358841  \n",
       "min       3.820000  \n",
       "25%       6.350000  \n",
       "50%       7.360000  \n",
       "75%       8.830000  \n",
       "max      42.850000  "
      ]
     },
     "execution_count": 5,
     "metadata": {},
     "output_type": "execute_result"
    }
   ],
   "source": [
    "hoki_df = pd.DataFrame.from_dict(hoki)\n",
    "mtjo_df = pd.DataFrame.from_dict(mtjo)\n",
    "\n",
    "hoki_df.describe()"
   ]
  },
  {
   "cell_type": "markdown",
   "metadata": {},
   "source": [
    "The next notebook covers merging dataframes in more detail, but for now we will just make a merged dataframe based on using the date as the index. Note that the merge below drops values that don't have matching times between the two datasets."
   ]
  },
  {
   "cell_type": "code",
   "execution_count": 6,
   "metadata": {},
   "outputs": [
    {
     "data": {
      "text/html": [
       "<div>\n",
       "<style scoped>\n",
       "    .dataframe tbody tr th:only-of-type {\n",
       "        vertical-align: middle;\n",
       "    }\n",
       "\n",
       "    .dataframe tbody tr th {\n",
       "        vertical-align: top;\n",
       "    }\n",
       "\n",
       "    .dataframe thead th {\n",
       "        text-align: right;\n",
       "    }\n",
       "</style>\n",
       "<table border=\"1\" class=\"dataframe\">\n",
       "  <thead>\n",
       "    <tr style=\"text-align: right;\">\n",
       "      <th></th>\n",
       "      <th>north_hoki</th>\n",
       "      <th>east_hoki</th>\n",
       "      <th>up_hoki</th>\n",
       "      <th>north_error_hoki</th>\n",
       "      <th>east_error_hoki</th>\n",
       "      <th>up_error_hoki</th>\n",
       "      <th>north_mtjo</th>\n",
       "      <th>east_mtjo</th>\n",
       "      <th>up_mtjo</th>\n",
       "      <th>north_error_mtjo</th>\n",
       "      <th>east_error_mtjo</th>\n",
       "      <th>up_error_mtjo</th>\n",
       "    </tr>\n",
       "  </thead>\n",
       "  <tbody>\n",
       "    <tr>\n",
       "      <th>count</th>\n",
       "      <td>7459.000000</td>\n",
       "      <td>7459.000000</td>\n",
       "      <td>7459.000000</td>\n",
       "      <td>7459.000000</td>\n",
       "      <td>7459.000000</td>\n",
       "      <td>7459.000000</td>\n",
       "      <td>7459.000000</td>\n",
       "      <td>7459.000000</td>\n",
       "      <td>7459.000000</td>\n",
       "      <td>7459.000000</td>\n",
       "      <td>7459.000000</td>\n",
       "      <td>7459.000000</td>\n",
       "    </tr>\n",
       "    <tr>\n",
       "      <th>mean</th>\n",
       "      <td>20.097769</td>\n",
       "      <td>-1.201837</td>\n",
       "      <td>0.257407</td>\n",
       "      <td>2.236096</td>\n",
       "      <td>2.009615</td>\n",
       "      <td>7.793873</td>\n",
       "      <td>10.571298</td>\n",
       "      <td>-9.659306</td>\n",
       "      <td>-0.022903</td>\n",
       "      <td>1.943223</td>\n",
       "      <td>1.750871</td>\n",
       "      <td>6.460861</td>\n",
       "    </tr>\n",
       "    <tr>\n",
       "      <th>std</th>\n",
       "      <td>248.139336</td>\n",
       "      <td>13.506545</td>\n",
       "      <td>7.451650</td>\n",
       "      <td>0.572540</td>\n",
       "      <td>0.507801</td>\n",
       "      <td>2.359238</td>\n",
       "      <td>184.770623</td>\n",
       "      <td>174.389696</td>\n",
       "      <td>7.141216</td>\n",
       "      <td>0.621654</td>\n",
       "      <td>0.566677</td>\n",
       "      <td>2.389868</td>\n",
       "    </tr>\n",
       "    <tr>\n",
       "      <th>min</th>\n",
       "      <td>-433.420000</td>\n",
       "      <td>-32.690000</td>\n",
       "      <td>-19.890000</td>\n",
       "      <td>1.210000</td>\n",
       "      <td>1.040000</td>\n",
       "      <td>3.820000</td>\n",
       "      <td>-328.190000</td>\n",
       "      <td>-314.840000</td>\n",
       "      <td>-52.740000</td>\n",
       "      <td>0.910000</td>\n",
       "      <td>0.830000</td>\n",
       "      <td>2.750000</td>\n",
       "    </tr>\n",
       "    <tr>\n",
       "      <th>25%</th>\n",
       "      <td>-189.180000</td>\n",
       "      <td>-11.345000</td>\n",
       "      <td>-4.640000</td>\n",
       "      <td>1.920000</td>\n",
       "      <td>1.720000</td>\n",
       "      <td>6.360000</td>\n",
       "      <td>-144.225000</td>\n",
       "      <td>-160.955000</td>\n",
       "      <td>-4.040000</td>\n",
       "      <td>1.560000</td>\n",
       "      <td>1.390000</td>\n",
       "      <td>4.885000</td>\n",
       "    </tr>\n",
       "    <tr>\n",
       "      <th>50%</th>\n",
       "      <td>21.910000</td>\n",
       "      <td>2.150000</td>\n",
       "      <td>-1.040000</td>\n",
       "      <td>2.170000</td>\n",
       "      <td>1.950000</td>\n",
       "      <td>7.360000</td>\n",
       "      <td>13.630000</td>\n",
       "      <td>-14.220000</td>\n",
       "      <td>-0.670000</td>\n",
       "      <td>1.850000</td>\n",
       "      <td>1.660000</td>\n",
       "      <td>5.920000</td>\n",
       "    </tr>\n",
       "    <tr>\n",
       "      <th>75%</th>\n",
       "      <td>234.720000</td>\n",
       "      <td>8.710000</td>\n",
       "      <td>3.585000</td>\n",
       "      <td>2.470000</td>\n",
       "      <td>2.230000</td>\n",
       "      <td>8.830000</td>\n",
       "      <td>170.805000</td>\n",
       "      <td>144.545000</td>\n",
       "      <td>3.620000</td>\n",
       "      <td>2.230000</td>\n",
       "      <td>2.020000</td>\n",
       "      <td>7.605000</td>\n",
       "    </tr>\n",
       "    <tr>\n",
       "      <th>max</th>\n",
       "      <td>442.250000</td>\n",
       "      <td>26.320000</td>\n",
       "      <td>37.460000</td>\n",
       "      <td>13.020000</td>\n",
       "      <td>11.380000</td>\n",
       "      <td>42.850000</td>\n",
       "      <td>326.460000</td>\n",
       "      <td>302.380000</td>\n",
       "      <td>121.980000</td>\n",
       "      <td>13.770000</td>\n",
       "      <td>13.100000</td>\n",
       "      <td>42.420000</td>\n",
       "    </tr>\n",
       "  </tbody>\n",
       "</table>\n",
       "</div>"
      ],
      "text/plain": [
       "        north_hoki    east_hoki      up_hoki  north_error_hoki  \\\n",
       "count  7459.000000  7459.000000  7459.000000       7459.000000   \n",
       "mean     20.097769    -1.201837     0.257407          2.236096   \n",
       "std     248.139336    13.506545     7.451650          0.572540   \n",
       "min    -433.420000   -32.690000   -19.890000          1.210000   \n",
       "25%    -189.180000   -11.345000    -4.640000          1.920000   \n",
       "50%      21.910000     2.150000    -1.040000          2.170000   \n",
       "75%     234.720000     8.710000     3.585000          2.470000   \n",
       "max     442.250000    26.320000    37.460000         13.020000   \n",
       "\n",
       "       east_error_hoki  up_error_hoki   north_mtjo    east_mtjo      up_mtjo  \\\n",
       "count      7459.000000    7459.000000  7459.000000  7459.000000  7459.000000   \n",
       "mean          2.009615       7.793873    10.571298    -9.659306    -0.022903   \n",
       "std           0.507801       2.359238   184.770623   174.389696     7.141216   \n",
       "min           1.040000       3.820000  -328.190000  -314.840000   -52.740000   \n",
       "25%           1.720000       6.360000  -144.225000  -160.955000    -4.040000   \n",
       "50%           1.950000       7.360000    13.630000   -14.220000    -0.670000   \n",
       "75%           2.230000       8.830000   170.805000   144.545000     3.620000   \n",
       "max          11.380000      42.850000   326.460000   302.380000   121.980000   \n",
       "\n",
       "       north_error_mtjo  east_error_mtjo  up_error_mtjo  \n",
       "count       7459.000000      7459.000000    7459.000000  \n",
       "mean           1.943223         1.750871       6.460861  \n",
       "std            0.621654         0.566677       2.389868  \n",
       "min            0.910000         0.830000       2.750000  \n",
       "25%            1.560000         1.390000       4.885000  \n",
       "50%            1.850000         1.660000       5.920000  \n",
       "75%            2.230000         2.020000       7.605000  \n",
       "max           13.770000        13.100000      42.420000  "
      ]
     },
     "execution_count": 6,
     "metadata": {},
     "output_type": "execute_result"
    }
   ],
   "source": [
    "hoki_df = pd.DataFrame.from_dict(hoki)\n",
    "mtjo_df = pd.DataFrame.from_dict(mtjo)\n",
    "\n",
    "hoki_df.set_index(\"time\", inplace=True)\n",
    "mtjo_df.set_index(\"time\", inplace=True)\n",
    "\n",
    "af_data = pd.merge(\n",
    "    left=hoki_df, right=mtjo_df, how='inner', \n",
    "    left_index=True, right_index=True,\n",
    "    suffixes=(\"_hoki\", \"_mtjo\"))\n",
    "\n",
    "af_data.describe()"
   ]
  },
  {
   "cell_type": "markdown",
   "metadata": {},
   "source": [
    "### Computing velocity\n",
    "\n",
    "We know that velocity is just $\\frac{distance}{time}$. We can fairly simply work out the daily velocity by calculating the difference between two data points and then dividing by the time between. To exemplify this we are going to focus on the east component of motion and make a simpler dataframe that we can play with:"
   ]
  },
  {
   "cell_type": "code",
   "execution_count": 7,
   "metadata": {},
   "outputs": [
    {
     "name": "stdout",
     "output_type": "stream",
     "text": [
      "                     east_hoki  east_mtjo\n",
      "time                                     \n",
      "2001-01-01 11:59:00      22.30     300.68\n",
      "2001-01-02 11:59:00      23.99     300.87\n",
      "2001-01-03 11:59:00      25.68     302.38\n",
      "2001-01-04 11:59:00      23.96     299.15\n",
      "2001-01-05 11:59:00      23.71     300.98\n",
      "...                        ...        ...\n",
      "2021-12-27 11:59:00      -2.20    -307.81\n",
      "2021-12-28 11:59:00       0.11    -307.78\n",
      "2021-12-29 11:59:00      -0.79    -308.32\n",
      "2021-12-30 11:59:00       0.30    -307.02\n",
      "2021-12-31 11:59:00      -1.35    -309.15\n",
      "\n",
      "[7459 rows x 2 columns]\n"
     ]
    }
   ],
   "source": [
    "af_east = pd.merge(\n",
    "    left=af_data.east_hoki, right=af_data.east_mtjo,\n",
    "    left_index=True, right_index=True)\n",
    "\n",
    "print(af_east)"
   ]
  },
  {
   "cell_type": "code",
   "execution_count": 8,
   "metadata": {},
   "outputs": [
    {
     "name": "stdout",
     "output_type": "stream",
     "text": [
      "                     east_hoki  east_mtjo  east_hoki_vel  east_mtjo_vel\n",
      "time                                                                   \n",
      "2001-01-01 11:59:00      22.30     300.68            NaN            NaN\n",
      "2001-01-02 11:59:00      23.99     300.87         616.85          69.35\n",
      "2001-01-03 11:59:00      25.68     302.38         616.85         551.15\n",
      "2001-01-04 11:59:00      23.96     299.15        -627.80       -1178.95\n",
      "2001-01-05 11:59:00      23.71     300.98         -91.25         667.95\n",
      "...                        ...        ...            ...            ...\n",
      "2021-12-27 11:59:00      -2.20    -307.81        -434.35        -288.35\n",
      "2021-12-28 11:59:00       0.11    -307.78         843.15          10.95\n",
      "2021-12-29 11:59:00      -0.79    -308.32        -328.50        -197.10\n",
      "2021-12-30 11:59:00       0.30    -307.02         397.85         474.50\n",
      "2021-12-31 11:59:00      -1.35    -309.15        -602.25        -777.45\n",
      "\n",
      "[7459 rows x 4 columns]\n"
     ]
    }
   ],
   "source": [
    "af_east = pd.merge(\n",
    "    left=af_data.east_hoki, right=af_data.east_mtjo,\n",
    "    left_index=True, right_index=True)\n",
    "\n",
    "# First work out the sample interval - this isn't always consistent!\n",
    "delta = (af_east.index[1:] - af_east.index[0:-1]).total_seconds() / (365 * 86400)\n",
    "\n",
    "# Compute velocity\n",
    "east_hoki_vel = (af_east.east_hoki[1:].to_numpy() - af_east.east_hoki[0:-1].to_numpy()) / delta\n",
    "east_mtjo_vel = (af_east.east_mtjo[1:].to_numpy() - af_east.east_mtjo[0:-1].to_numpy()) / delta\n",
    "\n",
    "# Put back into the dataframe\n",
    "af_east[\"east_hoki_vel\"] = pd.Series(east_hoki_vel, index=af_east.index[1:])\n",
    "af_east[\"east_mtjo_vel\"] = pd.Series(east_mtjo_vel, index=af_east.index[1:])\n",
    "\n",
    "print(af_east)"
   ]
  },
  {
   "cell_type": "code",
   "execution_count": 16,
   "metadata": {},
   "outputs": [
    {
     "data": {
      "text/plain": [
       "Text(0, 0.5, 'Velocity (mm/day)')"
      ]
     },
     "execution_count": 16,
     "metadata": {},
     "output_type": "execute_result"
    },
    {
     "data": {
      "image/png": "[encoded data removed]",
      "text/plain": [
       "<Figure size 432x288 with 1 Axes>"
      ]
     },
     "metadata": {
      "needs_background": "light"
     },
     "output_type": "display_data"
    }
   ],
   "source": [
    "ax = af_east[[\"east_hoki_vel\", \"east_mtjo_vel\"]].plot()\n",
    "ax.set_ylabel(\"Velocity (mm/day)\")"
   ]
  },
  {
   "cell_type": "code",
   "execution_count": 17,
   "metadata": {},
   "outputs": [
    {
     "data": {
      "text/plain": [
       "Text(0, 0.5, 'Velocity (mm/day)')"
      ]
     },
     "execution_count": 17,
     "metadata": {},
     "output_type": "execute_result"
    },
    {
     "data": {
      "image/png": "[encoded data removed]",
      "text/plain": [
       "<Figure size 432x288 with 1 Axes>"
      ]
     },
     "metadata": {
      "needs_background": "light"
     },
     "output_type": "display_data"
    }
   ],
   "source": [
    "ax = af_east.rolling(\"7d\", min_periods=7).median()[[\"east_hoki_vel\", \"east_mtjo_vel\"]].plot(alpha=0.5)\n",
    "ax.set_ylabel(\"Velocity (mm/day)\")"
   ]
  },
  {
   "cell_type": "markdown",
   "metadata": {},
   "source": [
    "That is all very well, but velocity is a vector (and we have three components of it!) - lets work on getting the relative horizontal velocity between the two sites. We will fix MTJO and work out the velocity of HOKI relative to it. To do that we want to:\n",
    "1. Subtract the east and north velocities of MTFO from HOKI\n",
    "2. Do some trigonometry to work out the magnitude and orientation of the vector."
   ]
  },
  {
   "cell_type": "code",
   "execution_count": 23,
   "metadata": {},
   "outputs": [
    {
     "data": {
      "text/plain": [
       "Text(0, 0.5, 'Displacement (mm)')"
      ]
     },
     "execution_count": 23,
     "metadata": {},
     "output_type": "execute_result"
    },
    {
     "data": {
      "image/png": "[encoded data removed]",
      "text/plain": [
       "<Figure size 432x288 with 1 Axes>"
      ]
     },
     "metadata": {
      "needs_background": "light"
     },
     "output_type": "display_data"
    }
   ],
   "source": [
    "starttime = datetime.datetime(2001, 1, 1)\n",
    "endtime = datetime.datetime(2022, 1, 1)\n",
    "\n",
    "hoki = get_gnss_for_station(\n",
    "    \"HOKI\", starttime=starttime, endtime=endtime)\n",
    "mtjo = get_gnss_for_station(\n",
    "    \"MTJO\", starttime=starttime, endtime=endtime)\n",
    "\n",
    "hoki_df = pd.DataFrame.from_dict(hoki)\n",
    "mtjo_df = pd.DataFrame.from_dict(mtjo)\n",
    "\n",
    "hoki_df.set_index(\"time\", inplace=True)\n",
    "mtjo_df.set_index(\"time\", inplace=True)\n",
    "\n",
    "af_data = pd.merge(\n",
    "    left=hoki_df, right=mtjo_df, how='inner', \n",
    "    left_index=True, right_index=True,\n",
    "    suffixes=(\"_hoki\", \"_mtjo\"))\n",
    "\n",
    "# Subtract east and north velocities of MTJO from HOKI\n",
    "relative_east = af_data.east_hoki - af_data.east_mtjo\n",
    "relative_north = af_data.north_hoki - af_data.north_mtjo\n",
    "\n",
    "# Make a new dataframe that contains our relative horizontal velocities\n",
    "hoki_mtjo_relative = pd.DataFrame({\"east\": relative_east, \"north\": relative_north})\n",
    "\n",
    "# Because we just care about relative velocities we can set the data to zero at the beginning of observations\n",
    "hoki_mtjo_relative.east -= hoki_mtjo_relative.east[0]\n",
    "hoki_mtjo_relative.north -= hoki_mtjo_relative.north[0]\n",
    "\n",
    "ax = hoki_mtjo_relative.plot()\n",
    "ax.set_ylabel(\"Displacement (mm)\")"
   ]
  },
  {
   "cell_type": "markdown",
   "metadata": {},
   "source": [
    "*Chocolate Fish for whoever tells me what that eastward step is...*"
   ]
  },
  {
   "cell_type": "markdown",
   "metadata": {},
   "source": [
    "Now that we have the relative displacements we can work out the magnitude and direction of the relative displacement vector, then divide that magnitude by the sample interval to get the relative velocity magnitude.\n",
    "\n",
    "To work out the magnitude and bearing of the relative displacement we need to use simple trig. We want to apply that maths to the whole of our dataframe. Pandas has a handy way of doing this using the [`.apply()`](https://pandas.pydata.org/docs/reference/api/pandas.DataFrame.apply.html#pandas.DataFrame.apply) method. \n",
    "\n",
    "We are going to define two simple functions to get the magnitude and bearing of the displacement vector, then use the `.apply()` method on our `DataFrame` to  get this done efficiently. Pandas does fun things to accelerate the `.apply()` method that make it faster than just looping over our data."
   ]
  },
  {
   "cell_type": "code",
   "execution_count": 12,
   "metadata": {},
   "outputs": [],
   "source": [
    "from math import atan2, degrees\n",
    "\n",
    "def displacement_magnitude(east, north):\n",
    "    \"\"\" Calculate the magnitude of relative displacement. \"\"\"\n",
    "    return (east ** 2 + north ** 2) ** 0.5\n",
    "\n",
    "def displacement_bearing(east, north):\n",
    "    \"\"\" Calculate the orientation of relative displacement. \"\"\"\n",
    "    return degrees(atan2(east, north)) % 360"
   ]
  },
  {
   "cell_type": "code",
   "execution_count": 25,
   "metadata": {},
   "outputs": [
    {
     "data": {
      "text/plain": [
       "Text(0, 0.5, 'Displacement (mm)')"
      ]
     },
     "execution_count": 25,
     "metadata": {},
     "output_type": "execute_result"
    },
    {
     "data": {
      "image/png": "[encoded data removed]",
      "text/plain": [
       "<Figure size 432x288 with 1 Axes>"
      ]
     },
     "metadata": {
      "needs_background": "light"
     },
     "output_type": "display_data"
    }
   ],
   "source": [
    "# Here we use lambda to...\n",
    "\n",
    "hoki_mtjo_relative[\"magnitude\"] = hoki_mtjo_relative.apply(\n",
    "    lambda row: displacement_magnitude(row.east, row.north),\n",
    "    axis=1)\n",
    "hoki_mtjo_relative[\"bearing\"] = hoki_mtjo_relative.apply(\n",
    "    lambda row: displacement_bearing(row.east, row.north),\n",
    "    axis=1)\n",
    "\n",
    "ax = hoki_mtjo_relative.magnitude.plot()\n",
    "ax.set_ylabel('Displacement (mm)')"
   ]
  },
  {
   "cell_type": "markdown",
   "metadata": {},
   "source": [
    "A fairly nice way to look at angular data is using a [polar](https://matplotlib.org/stable/gallery/pie_and_polar_charts/polar_demo.html) plot. We can look at the bearing of the relative displacement over time and have a check to see that it does what we expect - who can remember the sense of motion across the Alpine Fault, and the general orientation of the Alpine Fault?"
   ]
  },
  {
   "cell_type": "code",
   "execution_count": 22,
   "metadata": {},
   "outputs": [
    {
     "data": {
      "image/png": "[encoded data removed]",
      "text/plain": [
       "<Figure size 432x288 with 1 Axes>"
      ]
     },
     "metadata": {
      "needs_background": "light"
     },
     "output_type": "display_data"
    }
   ],
   "source": [
    "fig, ax = plt.subplots(subplot_kw={'projection': 'polar'})\n",
    "ax.plot(np.radians(hoki_mtjo_relative.bearing), hoki_mtjo_relative.index)\n",
    "ax.set_theta_zero_location('N')\n",
    "ax.set_theta_direction(-1)\n",
    "plt.show()"
   ]
  },
  {
   "cell_type": "markdown",
   "metadata": {},
   "source": [
    "We can apply all sorts of function through DataFrames using this approach! First though we are going to calculate the relative velocity by simply dividing our relative displacement magnitude by the time interval - note that our data are not regularly sampled, so we can't just divide by 1 day!"
   ]
  },
  {
   "cell_type": "code",
   "execution_count": 26,
   "metadata": {},
   "outputs": [
    {
     "data": {
      "text/plain": [
       "Text(0, 0.5, 'Velocity (mm/day)')"
      ]
     },
     "execution_count": 26,
     "metadata": {},
     "output_type": "execute_result"
    },
    {
     "data": {
      "image/png": "[encoded data removed]",
      "text/plain": [
       "<Figure size 432x288 with 1 Axes>"
      ]
     },
     "metadata": {
      "needs_background": "light"
     },
     "output_type": "display_data"
    }
   ],
   "source": [
    "# Calculate time elapsed between samples and convert from seconds to days\n",
    "delta_time = (hoki_mtjo_relative.index[1:] - hoki_mtjo_relative.index[0:-1]).total_seconds() / (365 * 86400)\n",
    "\n",
    "delta_displacement = hoki_mtjo_relative.magnitude[1:].to_numpy() - hoki_mtjo_relative.magnitude[0:-1].to_numpy()\n",
    "\n",
    "hoki_mtjo_relative[\"velocity\"] = pd.Series(\n",
    "    delta_displacement / delta_time, \n",
    "    index=hoki_mtjo_relative.index[1:])\n",
    "\n",
    "ax = hoki_mtjo_relative.velocity.plot()\n",
    "ax.set_ylabel(\"Velocity (mm/day)\")"
   ]
  },
  {
   "cell_type": "code",
   "execution_count": 28,
   "metadata": {},
   "outputs": [
    {
     "data": {
      "text/plain": [
       "Text(0, 0.5, 'Velocity (mm/day)')"
      ]
     },
     "execution_count": 28,
     "metadata": {},
     "output_type": "execute_result"
    },
    {
     "data": {
      "image/png": "[encoded data removed]",
      "text/plain": [
       "<Figure size 432x288 with 1 Axes>"
      ]
     },
     "metadata": {
      "needs_background": "light"
     },
     "output_type": "display_data"
    }
   ],
   "source": [
    "ax = hoki_mtjo_relative.velocity.rolling(\"200d\", min_periods=50).median().plot()\n",
    "ax.set_ylabel(\"Velocity (mm/day)\")"
   ]
  },
  {
   "cell_type": "markdown",
   "metadata": {},
   "source": [
    "# TODO:\n",
    "- [ ] work out velocity earlier, and test larger sample steps\n",
    "- [ ] Calculate strain rate."
   ]
  }
 ],
 "metadata": {
  "celltoolbar": "Tags",
  "kernelspec": {
   "display_name": "Python 3 (ipykernel)",
   "language": "python",
   "name": "python3"
  },
  "language_info": {
   "codemirror_mode": {
    "name": "ipython",
    "version": 3
   },
   "file_extension": ".py",
   "mimetype": "text/x-python",
   "name": "python",
   "nbconvert_exporter": "python",
   "pygments_lexer": "ipython3",
   "version": "3.8.12"
  },
  "toc-autonumbering": false,
  "toc-showmarkdowntxt": false,
  "toc-showtags": false
 },
 "nbformat": 4,
 "nbformat_minor": 4
}
