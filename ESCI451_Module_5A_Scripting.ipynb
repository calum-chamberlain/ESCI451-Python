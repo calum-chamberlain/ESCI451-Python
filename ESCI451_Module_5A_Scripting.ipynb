{
 "cells": [
  {
   "cell_type": "markdown",
   "id": "002e7bb4-14b3-4dce-8b75-ca813f50b237",
   "metadata": {
    "jp-MarkdownHeadingCollapsed": true,
    "tags": []
   },
   "source": [
    "# Introduction to Python for Earth Scientists\n",
    "\n",
    "These notebooks have been developed by Calum Chamberlain, Finnigan Illsley-Kemp, John Townend and El Mestel at [Victoria University of Wellington-Te Herenga Waka](https://www.wgtn.ac.nz) for use by Earth Science graduate students. \n",
    "\n",
    "The notebooks cover material that we think will be of particular benefit to those students with little or no previous experience of computer-based data analysis. We presume very little background in command-line or code-based computing, and have compiled this material with an emphasis on general tasks that a grad student might encounter on a daily basis. \n",
    "\n",
    "In 2024, this material will be delivered at the start of Trimester 1 in conjunction with [ESCI451 Active Earth](https://www.wgtn.ac.nz/courses/esci/451). Space permitting, interested students not enrolled in ESCI451 are encouraged to come along too but please contact El, Calum, Finn, or John first.\n",
    "\n",
    "| Notebook | Contents | Data |\n",
    "| --- | --- | --- |\n",
    "| [1A](ESCI451_Module_1A.ipynb) | Introduction to programming, Python, and Jupyter notebooks | - |\n",
    "| [1B](ESCI451_Module_1B.ipynb) | Basic data types and variables, getting data, and plotting with Matplotlib | Geodetic positions |\n",
    "| [2A](ESCI451_Module_2A.ipynb) | Logic, more complex plotting, introduction to Numpy | Geodetic positions; DFDP-2B temperatures |\n",
    "| [2B](ESCI451_Module_2B.ipynb) | Using Pandas to load, peruse and plot data | Earthquake catalogue  |\n",
    "| [3A](ESCI451_Module_3A.ipynb) | Working with Pandas dataframes | Geochemical data set; GNSS data |\n",
    "| [3B](ESCI451_Module_3B.ipynb) | Simple time series analysis using Pandas | Historical Temperature Records |\n",
    "| [4A](ESCI451_Module_4A.ipynb) | Making maps with PyGMT | Earthquake catalogue |\n",
    "| [4B](ESCI451_Module_4B.ipynb) | Gridded data and vectors | Ashfall data and GNSS |\n",
    "| **[Scripting](ESCI451_Module_5A_Scripting.ipynb)** | **Moving from notebooks to scripts and the command line** | **-** |\n",
    "\n",
    "The content may change in response to students' questions or current events. Each of the four modules has been designed to take about three hours, with a short break between each of the two parts."
   ]
  },
  {
   "cell_type": "markdown",
   "id": "aaa55c78-1dba-4b18-bf07-e4a5d8b31951",
   "metadata": {},
   "source": [
    "# Moving on from notebooks\n",
    "\n",
    "Most of the work we do in scientific programming is not done in notebooks. Notebooks are really helpful for teaching and disseminating information, but as you will have seen, you can run cells out of order resulting in some irreproducible workflows. Generally we write *scripts* that run a series of function calls in order, then save the result.\n",
    "\n",
    "In this notebook I want you to **break free from the notebook** and have a go at writing your own scripts and running them from the command line.\n",
    "\n",
    "## Getting started\n",
    "\n",
    "To start with, you need to open a terminal (or command prompt or similar). Because we are working inside jupyter lab, we can all access the command line in the same way. You should see a *Launcher* tab at the top of this notebook. If you don't, then click the big plus on the left hand side of the browser window to re-open the launcher. Click on the launcher tab and find the *terminal* button. This will open a command line interface.\n",
    "\n",
    "Once you have that, type `python` and hit return. This will open a python interactive session (aka prompt). This is essentially what is going on when you type in and run code in the notebooks, but at a slightly lower level. You can type python commands here and then hit enter to run them. \n",
    "\n",
    "Try typing:\n",
    "```python\n",
    "print(\"Hello pythonistas\")\n",
    "```\n",
    "to confirm that you are doing the right thing.\n",
    "\n",
    "To exit from the python prompt run:\n",
    "```python\n",
    "exit()\n",
    "```\n",
    "\n",
    "Great! You can do a useful thing from the command line! We won't spend any more effort here for now, but don't be scared of pulling up a terminal to do some work - just think about what you are doing before you run random code from the internet..."
   ]
  },
  {
   "cell_type": "markdown",
   "id": "1bb7da20-7ec9-4a5f-9d47-deda6e1d1cfa",
   "metadata": {},
   "source": [
    "## Writing scripts\n",
    "\n",
    "To write a script you need to first open a text editor - in jupyter lab you can open a text editor from the launcher and opening a new text file. If you rename this file to have a `.py` file extension then the editor will do useful syntax highlighting for you. Try renaming the file to `test_script.py` (right click on the new file that was created in the left hand file browser and click rename).\n",
    "\n",
    "In principle a python script can just be a series of commands in order without any functions, *but* it is good practice to wrap your code in at least one function and add an `if __name__ == \"__main__\"` statement at the end that actually runs your code. This will avoid you accidentally running code if you try to `import` anything from your script (it also gets around some [multiprocessing issues](https://docs.python.org/3/library/multiprocessing.html#programming-guidelines)).\n",
    "\n",
    "Try copying the following code into your `test_script.py` file then save the file.\n",
    "\n",
    "```python\n",
    "\n",
    "# You should generally group your import statements together at the top of the file\n",
    "import matplotlib.pyplot as plt\n",
    "import matplotlib.animation as animation\n",
    "import numpy as np\n",
    "\n",
    "\n",
    "# It can be handy to make a \"main\" function that does the work - this might call other functions internally\n",
    "def animate_sine():\n",
    "    \"\"\" Simple animated sine curve. Adapted from https://matplotlib.org/stable/gallery/animation/simple_anim.html\"\"\"\n",
    "    fig, ax = plt.subplots()\n",
    "    \n",
    "    x = np.arange(0, 4 * np.pi, 0.001)\n",
    "    line, = ax.plot(x, np.sin(x))\n",
    "    \n",
    "    def animate(i):\n",
    "        line.set_ydata(np.sin(x + i / 50))  # update the data.\n",
    "        return line,\n",
    "    \n",
    "    ani = animation.FuncAnimation(\n",
    "        fig, animate, interval=20, blit=True, save_count=50)\n",
    "    \n",
    "    plt.show()\n",
    "    \n",
    "\n",
    "if __name__ == \"__main__\":\n",
    "    animate_sine()\n",
    "```"
   ]
  },
  {
   "cell_type": "markdown",
   "id": "6922d09c-b8b0-4945-ad00-0df176fcccad",
   "metadata": {},
   "source": [
    "## Running scripts\n",
    "\n",
    "Running scripts can be done by opening a command prompt and running:\n",
    "```bash\n",
    "python test_script.py\n",
    "```\n",
    "where `test_script.py` should be replaced by the name of your script - if you get an error like:\n",
    "```\n",
    "python: can't open file 'bob.py': [Errno 2] No such file or directory\n",
    "```\n",
    "it means that you haven't given the right file - you might be in the wrong directory or have a typo in your file name. You can give the full path to the script as well.\n",
    "\n",
    "Try opening a command prompt again and running your script. You should see an animated figure pop up!\n",
    "\n",
    "That is it! Writing and running scripts is nice and simple now that you know how to write python code in the notebook. You don't have to work through the jupyter lab - you can just open terminals on their own. On linux you can press `ctrl-t` to open a terminal, or search for *terminal* in the start menu. On macOS you should find the terminal in the main menu as well. On windows you should look for *command prompt* or *powershell* or *windows terminal*. Remember to activate your conda environment though if you are using one!"
   ]
  },
  {
   "cell_type": "markdown",
   "id": "a4364b2a-b16a-4364-905a-59f228fce3ea",
   "metadata": {},
   "source": [
    "## Installing packages\n",
    "\n",
    "Remember how I said that one of the great things about open-source programming is that often someone has fixed your problem already? Even better is when someone fixes your problem and shares the code in a package!\n",
    "\n",
    "We are using [conda](https://docs.conda.io/en/latest/) to manage our packages and keep our python environment safely seperate from the system python. You don't have to use conda, but it is a nice way to safely work with multiple different python environments without nuking your computer.\n",
    "\n",
    "If you find a package that you want that is available through conda you should be able to install is simply from the command line using:\n",
    "```bash\n",
    "conda install <package>\n",
    "```\n",
    "where package is the name of the package you want to install - check the codes documentation first though as they might need specific things to install the code.\n",
    "\n",
    "An alternative package manager (and the default python package manager) is [pip](https://pip.pypa.io/en/stable/index.html) which queries the python package index ([*pypi*](https://pypi.org/)). You should avoid using `pip` and `conda` at the same time, unless you absolutely have to (if a package is not available through `conda`). Again, check the docs for the package you want to install first to see what they recommend."
   ]
  },
  {
   "cell_type": "code",
   "execution_count": null,
   "id": "26fdf8b4-b633-4479-86bc-70f157e7a0b3",
   "metadata": {},
   "outputs": [],
   "source": []
  }
 ],
 "metadata": {
  "kernelspec": {
   "display_name": "Python 3 (ipykernel)",
   "language": "python",
   "name": "python3"
  },
  "language_info": {
   "codemirror_mode": {
    "name": "ipython",
    "version": 3
   },
   "file_extension": ".py",
   "mimetype": "text/x-python",
   "name": "python",
   "nbconvert_exporter": "python",
   "pygments_lexer": "ipython3",
   "version": "3.11.8"
  }
 },
 "nbformat": 4,
 "nbformat_minor": 5
}
