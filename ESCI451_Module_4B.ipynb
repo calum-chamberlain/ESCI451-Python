{
 "cells": [
  {
   "cell_type": "markdown",
   "id": "53e4876f",
   "metadata": {},
   "source": [
    "# Introduction to Python for Earth Scientists\n",
    "\n",
    "These notebooks have been developed by Calum Chamberlain, Finnigan Illsley-Kemp and John Townend at [Victoria University of Wellington---Te Herenga Waka](https://www.wgtn.ac.nz) for use by students entering the postgraduate programme in Earth Science.\n",
    "\n",
    "We presume very little background in command-line or code-based computing, and have compiled this material with an emphasis on general tasks that a grad student might encounter on a daily basis. \n",
    "\n",
    "In 2022, this material will be delivered at the start of Trimester 1 in conjunction with [ESCI451 Active Earth](https://www.wgtn.ac.nz/courses/esci/451/2022/offering?crn=32176). Space and pandemic alert levels permitting, interested students not enrolled in ESCI451 are encouraged to come along too but please contact Calum, Finn, or John first.\n",
    "\n",
    "| Notebook | Contents | Data |\n",
    "| --- | --- | --- |\n",
    "| [1A](ESCI451_Module_1A.ipynb) | Introduction to programming, Python, and Jupyter notebooks | - |\n",
    "| [1B](ESCI451_Module_1B.ipynb) | Basic data types and variables, getting data, and plotting with Matplotlib | Geodetic positions |\n",
    "| [2A](ESCI451_Module_2A.ipynb) | More complex plotting, introduction to Numpy | Geodetic positions; DFDP-2B temperatures |\n",
    "| [2B](ESCI451_Module_2B.ipynb) | Using Pandas to load, peruse and plot data | Earthquake catalogue  |\n",
    "| [3A](ESCI451_Module_3A.ipynb) | Working with Pandas dataframes | Geochemical data set; GNSS data |\n",
    "| [3B](ESCI451_Module_3B.ipynb) | Simple time series analysis using Pandas | Historical temperature records |\n",
    "| [4A](ESCI451_Module_4A.ipynb) | Making maps with PyGMT | Earthquake catalogue |\n",
    "| **[4B](ESCI451_Module_4B.ipynb)** | **Gridded data and vectors** | **Ashfall data and GNSS** |\n",
    "\n",
    "The content may change in response to students' questions or current events. Each of the four modules has been designed to take about three hours, with a short break between each of the two parts."
   ]
  },
  {
   "cell_type": "markdown",
   "id": "0d0db698",
   "metadata": {},
   "source": [
    "# Mapping Part 2: Plotting gridded data"
   ]
  },
  {
   "cell_type": "markdown",
   "id": "b1042db4",
   "metadata": {},
   "source": [
    "We have already done some work with gridded data, probably without even realising it! The topography that we were plotting in the last lab is a grid of elevations that we then plotted on our maps.  Lots of spatial data in Earth Sciences are best resolved on a grid, so in this lab we are going to spend some time playing around with plotting some cool gridded data.\n",
    "\n",
    "First up let's import PyGMT and some other stuff"
   ]
  },
  {
   "cell_type": "code",
   "execution_count": null,
   "id": "0d7b0cfd",
   "metadata": {},
   "outputs": [],
   "source": [
    "import pygmt\n",
    "import pandas as pd"
   ]
  },
  {
   "cell_type": "markdown",
   "id": "2ddebc67",
   "metadata": {},
   "source": [
    "We are going to play around with some model output Simon Barker and colleagues worked up in their [2018 paper](https://agupubs.onlinelibrary.wiley.com/doi/full/10.1029/2018GC008152) on modeling ash dispersal from future eruptions of Taupō supervolcano.\n",
    "\n",
    "All the outputs from their models are included in an online repository, as any good, modern paper should! I have taken the liberty of including one model output in the data directory and we will start by playing with that, but you should explore the data repository and get other model outputs if you want.\n",
    "\n",
    "The output of the model is ash thickness, and is modeled dependent on a few things, including wind direction.\n",
    "\n",
    "Let's start by reading the data. The data is given in ESRI-ASCII format, which is used in GIS programmes like Arc. We've provided a function in `helpers` to convert this into a Pandas dataframe:"
   ]
  },
  {
   "cell_type": "code",
   "execution_count": null,
   "id": "dfc1e938",
   "metadata": {},
   "outputs": [],
   "source": [
    "from helpers.asc_to_df import transform_asc_to_df\n",
    "\n",
    "datafile = \"data/DepositFile_ESRI_ASCII.txt\"\n",
    "df = transform_asc_to_df(datafile)\n",
    "df.rename(columns={'variable': 'thickness'}, inplace=True)"
   ]
  },
  {
   "cell_type": "markdown",
   "id": "0753679a",
   "metadata": {},
   "source": [
    "Now let's draw a map and some contours of ash thickness. For the contouring we use the aptly named [`contour`](https://www.pygmt.org/latest/api/generated/pygmt.Figure.contour.html) method:"
   ]
  },
  {
   "cell_type": "code",
   "execution_count": null,
   "id": "668f5775",
   "metadata": {},
   "outputs": [],
   "source": [
    "fig = pygmt.Figure()\n",
    "pygmt.config(MAP_FRAME_TYPE='plain', FORMAT_GEO_MAP='ddd.xx')\n",
    "fig.coast(region=[173, 179, -42, -36],\n",
    "          shorelines=True,\n",
    "          land='lightgreen',\n",
    "          water='lightblue',\n",
    "          projection='M10c',\n",
    "          frame=['WSne', 'xa2f1', 'ya2f1'])\n",
    "\n",
    "fig.contour(x=df['longitude'],\n",
    "            y=df['latitude'],\n",
    "            z=df['thickness'],\n",
    "            levels=1,  # draw a contour every 1mm thickness\n",
    "            annotation=10,  # annotate every 10mm\n",
    "            pen='2p')\n",
    "\n",
    "fig.show()"
   ]
  },
  {
   "cell_type": "markdown",
   "id": "f01cf3e0",
   "metadata": {},
   "source": [
    "That must have been a strong Westerly. Poor Gisbourne...\n",
    "\n",
    "There are really too many contours drawn there and it looks very messy. Let's tell PyGMT exactly which contours to plot. To do this we need to give the `levels` paramater a comma-seperated string of the contours we want. This isn't very pythonic, but hopefully this is improved in future versions."
   ]
  },
  {
   "cell_type": "code",
   "execution_count": null,
   "id": "5604395c",
   "metadata": {},
   "outputs": [],
   "source": [
    "fig = pygmt.Figure()\n",
    "pygmt.config(MAP_FRAME_TYPE='plain', FORMAT_GEO_MAP='ddd.xx')\n",
    "fig.coast(region=[173, 179, -42, -36],\n",
    "          shorelines=True,\n",
    "          land='lightgreen',\n",
    "          water='lightblue',\n",
    "          projection='M10c',\n",
    "          frame=['WSne', 'xa2f1', 'ya2f1'])\n",
    "\n",
    "fig.contour(x=df['longitude'],\n",
    "            y=df['latitude'],\n",
    "            z=df['thickness'],\n",
    "            levels='1,5,10,15,20,25,30',  # The non-pythonic comma separated string\n",
    "            # The annotations we want to add to the contours.\n",
    "            annotation='1,5,10,15,20,25,30',\n",
    "            pen='2p')\n",
    "\n",
    "fig.show()"
   ]
  },
  {
   "cell_type": "markdown",
   "id": "1a3d99c6",
   "metadata": {},
   "source": [
    "That's pretty easy and very handy for many earth science datasets. You can do something very similar with topography using the [`grdcontour`](https://www.pygmt.org/latest/api/generated/pygmt.Figure.grdcontour.html) method.\n",
    "\n",
    "Now, go and download a different model run from Simon's [repository](https://www.sciencebase.gov/catalog/item/5cdd9ed7e4b029273746367a) and plot it up:"
   ]
  },
  {
   "cell_type": "code",
   "execution_count": null,
   "id": "0393c8a5",
   "metadata": {},
   "outputs": [],
   "source": [
    "# Your answer here"
   ]
  },
  {
   "cell_type": "markdown",
   "id": "8601216c",
   "metadata": {},
   "source": [
    "# Plotting Vectors"
   ]
  },
  {
   "cell_type": "markdown",
   "id": "a331aa68",
   "metadata": {},
   "source": [
    "Another common observation we deal with in Earth Science is vectors. PyGMT can handle these really nicely.\n",
    "\n",
    "For this exercise we're going to go down to Kaikōura and will begin by plotting an arbitrary vector with the [`velo`](https://www.pygmt.org/latest/api/generated/pygmt.Figure.velo.html) method. We first have to out our data into a `dataframe` and then we plot it:"
   ]
  },
  {
   "cell_type": "code",
   "execution_count": null,
   "id": "e8c39f54",
   "metadata": {},
   "outputs": [],
   "source": [
    "fig = pygmt.Figure()\n",
    "pygmt.config(MAP_FRAME_TYPE='plain', FORMAT_GEO_MAP='ddd.xx')\n",
    "fig.coast(region=[172.5, 174.5, -43, -41.5],\n",
    "          shorelines=True,\n",
    "          land='lightgreen',\n",
    "          water='lightblue',\n",
    "          projection='M10c',\n",
    "          frame=['WSne', 'xa0.5f0.1', 'ya0.5f0.1'])\n",
    "\n",
    "# Make a dataframe to store our data\n",
    "df = pd.DataFrame(data={\n",
    "    \"x\": [173.5],\n",
    "    \"y\": [-42],\n",
    "    \"east_velocity\": [3],\n",
    "    \"north_velocity\": [3],\n",
    "})\n",
    "\n",
    "fig.velo(data=df,\n",
    "         pen='1p,black',  # vector line\n",
    "         color='black',  # arrow head\n",
    "         spec='e0.5/0.5',  # this is telling it to plot a vector with a scale of 0.5 cm for each unit\n",
    "         )\n",
    "\n",
    "fig.show()"
   ]
  },
  {
   "cell_type": "markdown",
   "id": "3a885a26",
   "metadata": {},
   "source": [
    "Ok great, but that vector doesn't mean anything. Let's do something more interesting.\n",
    "\n",
    "Let's begin by importing some GNSS data using the function from our previous notebook that is also included in the helpers module:"
   ]
  },
  {
   "cell_type": "code",
   "execution_count": null,
   "id": "abf68e32",
   "metadata": {},
   "outputs": [],
   "source": [
    "from helpers.get_data import get_gnss_for_station\n",
    "import datetime as dt"
   ]
  },
  {
   "cell_type": "markdown",
   "id": "c5e505ad",
   "metadata": {},
   "source": [
    "Let's use that to download some data from a Kaikōura GNSS station, remember you can see the map of GNSS stations [here](https://www.geonet.org.nz/data/gnss/map):"
   ]
  },
  {
   "cell_type": "code",
   "execution_count": null,
   "id": "d0374e06",
   "metadata": {},
   "outputs": [],
   "source": [
    "GNSS_data = pd.DataFrame(get_gnss_for_station(\n",
    "    'KAIK', starttime=dt.datetime(2010, 1, 1), endtime=dt.datetime(2020, 1, 1)))"
   ]
  },
  {
   "cell_type": "markdown",
   "id": "fdf2f1b9",
   "metadata": {},
   "source": [
    "Nice, now let's have a look at that GNSS data either side of the [Kaikōura earthquake](https://www.geonet.org.nz/earthquake/2016p858000). Remember this earthquake happened at 11:02:56 on 2016-11-13 (UTC time):"
   ]
  },
  {
   "cell_type": "code",
   "execution_count": null,
   "id": "a954f524",
   "metadata": {},
   "outputs": [],
   "source": [
    "import matplotlib.pyplot as plt\n",
    "\n",
    "fig, ax = plt.subplots()\n",
    "\n",
    "for component in [\"north\", \"east\", \"up\"]:\n",
    "    ax.plot(GNSS_data[\"time\"], GNSS_data[component],\n",
    "            label=component)\n",
    "\n",
    "ax.set_xlim(\n",
    "    dt.datetime(2016, 11, 6, 11, 2, 56),\n",
    "    dt.datetime(2016, 11, 20, 11, 2, 56))\n",
    "ax.set_xlabel(\"Sample time (UTC)\")\n",
    "ax.set_ylabel(\"Offset in mm\")\n",
    "ax.set_title(\"GNSS offsets for KAIK\")\n",
    "ax.legend()\n",
    "fig.autofmt_xdate()  # Simple fix for overlapping dates on x-axis\n",
    "\n",
    "plt.show()"
   ]
  },
  {
   "cell_type": "markdown",
   "id": "54d63eb7",
   "metadata": {},
   "source": [
    "That's quite an offset! We could calculate a vector from that displacement\n",
    "\n",
    "Let's first cut our dataset down to the two week period we're interested in. We can do this by defining a filter and using the [`loc`](https://pandas.pydata.org/pandas-docs/stable/reference/api/pandas.DataFrame.loc.html) method on our `pandas.DataFrame`:"
   ]
  },
  {
   "cell_type": "code",
   "execution_count": null,
   "id": "2df8fefa",
   "metadata": {},
   "outputs": [],
   "source": [
    "date_filter = (GNSS_data['time'] >= '2016/11/06T11:02:56') & (\n",
    "    GNSS_data['time'] <= '2016/11/20T11:02:56')\n",
    "\n",
    "GNSS_data.loc[date_filter]"
   ]
  },
  {
   "cell_type": "markdown",
   "id": "d0f150d2",
   "metadata": {},
   "source": [
    "You can see that we've filtered our dataframe so that we now only have the data covering that two week period. Now to calculate the displacement over this time-window we simply need to calculate the difference between the north and east components at the beginning and end of this time period. Here's an example of how to do this for the North component using the handy [`first_valid_index`](https://pandas.pydata.org/pandas-docs/stable/reference/api/pandas.DataFrame.first_valid_index.html?highlight=first_valid_index#pandas.DataFrame.first_valid_index) and [`last_valid_index`](https://pandas.pydata.org/pandas-docs/stable/reference/api/pandas.DataFrame.last_valid_index.html?highlight=last_valid_index#pandas.DataFrame.last_valid_index) methods:"
   ]
  },
  {
   "cell_type": "code",
   "execution_count": null,
   "id": "bf9da431",
   "metadata": {},
   "outputs": [],
   "source": [
    "date_filter = (GNSS_data['time'] >= '2016/11/06T11:02:56') & (\n",
    "    GNSS_data['time'] <= '2016/11/20T11:02:56')\n",
    "\n",
    "N_first_value = GNSS_data.loc[date_filter]['north'].first_valid_index()\n",
    "N_last_value = GNSS_data.loc[date_filter]['north'].last_valid_index()\n",
    "\n",
    "N_disp = N_last_value - N_first_value\n",
    "\n",
    "print(f\"The displacement if {N_disp} mm\")"
   ]
  },
  {
   "cell_type": "markdown",
   "id": "bea16fbf",
   "metadata": {},
   "source": [
    "Now here's an exercise. Calculate both the North and East displacement for this GNSS station and plot it as a vector on the map. To give you a hand I've given you some code to download the GNSS locations from GeoNet and an example of how to get the Latitude for KAIK:"
   ]
  },
  {
   "cell_type": "code",
   "execution_count": null,
   "id": "9d72feee",
   "metadata": {},
   "outputs": [],
   "source": [
    "# Downloading the GNSS locations from GeoNet's GitHub\n",
    "url = (r'https://raw.githubusercontent.com/GeoNet/delta/main/network/marks.csv')\n",
    "sites = pd.read_csv(url, delimiter=\",\")\n",
    "sites.head()\n",
    "sites = sites.reset_index()\n",
    "\n",
    "site_lat = sites.loc[sites['Mark'] == 'KAIK']['Latitude']\n",
    "\n",
    "\n",
    "# Your answer here"
   ]
  },
  {
   "cell_type": "markdown",
   "id": "42fbc336",
   "metadata": {},
   "source": [
    "Great, now write a loop that downloads data and calculates vectors for the following nearby GNSS sites (MRBL, HANM, CMBL, WITH) and then plot them on a map.\n",
    "\n",
    "You could also plot the Kaikōura [epicentre](https://www.geonet.org.nz/earthquake/2016p858000):"
   ]
  },
  {
   "cell_type": "code",
   "execution_count": null,
   "id": "7242742d",
   "metadata": {},
   "outputs": [],
   "source": [
    "# Your answer here"
   ]
  },
  {
   "cell_type": "markdown",
   "id": "6979f9bb",
   "metadata": {},
   "source": [
    "---\n",
    "## Beyond GMT\n",
    "\n",
    "GMT makes really pretty plots but not this isn't by any means the only way to plot geospatial data. Below are a list of other projects you might want to check out:\n",
    "\n",
    "- [cartopy](https://scitools.org.uk/cartopy/docs/latest/) is the most \"pythonic\" map plotting library at the moment, but it can be painful with a lot of geospatial data. It is worth a look though and if you are interested we have some resources from previous years using caropty.\n",
    "- [bokeh](https://bokeh.org/) is pretty cool for creating interactive plots, including [maps](https://docs.bokeh.org/en/latest/docs/user_guide/geo.html) - CJC uses this quite a bit for interogating data.\n",
    "- [follium](https://github.com/python-visualization/folium) looks nice for making interactive mapping plots - possibly better than bokeh because it is more focused on mapping.\n",
    "\n",
    "That is all for now - hopefully that has given you some idea of how you can make some fairly nice plots without too much effort.  A key idea with these notebooks is for you to **borrow some code** from them so that you do not have to re-write everything yourself.\n",
    "\n",
    "# Fin\n",
    "\n",
    "Great! All being well you now know a little more about programming, and Python. At the least, we hope that this course has shown you that **you can write code** - it doesn't have to be perfect, and your skills will improve with time, *but* you now have the power to make computers do a lot of your work for you! Yay!\n",
    "\n",
    "Now you can write some code and use the legitimate excuse of every programmer (although in Python you don't have to spend time compilling, you can just run your code!):\n",
    "\n",
    "<div>\n",
    "    <img src=\"https://imgs.xkcd.com/comics/compiling.png\"><br>\n",
    "</div>"
   ]
  }
 ],
 "metadata": {
  "celltoolbar": "Tags",
  "kernelspec": {
   "display_name": "Python 3 (ipykernel)",
   "language": "python",
   "name": "python3"
  },
  "language_info": {
   "codemirror_mode": {
    "name": "ipython",
    "version": 3
   },
   "file_extension": ".py",
   "mimetype": "text/x-python",
   "name": "python",
   "nbconvert_exporter": "python",
   "pygments_lexer": "ipython3",
   "version": "3.8.12"
  }
 },
 "nbformat": 4,
 "nbformat_minor": 5
}
