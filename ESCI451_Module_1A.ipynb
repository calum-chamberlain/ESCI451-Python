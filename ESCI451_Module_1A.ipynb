{
 "cells": [
  {
   "cell_type": "markdown",
   "metadata": {},
   "source": [
    "# Introduction to Python for Earth Scientists\n",
    "\n",
    "These notebooks have been developed by Calum Chamberlain, Finnigan Illsley-Kemp and John Townend at [Victoria University of Wellington-Te Herenga Waka](https://www.wgtn.ac.nz) for use by Earth Science graduate students. \n",
    "\n",
    "The notebooks cover material that we think will be of particular benefit to those students with little or no previous experience of computer-based data analysis. We presume very little background in command-line or code-based computing, and have compiled this material with an emphasis on general tasks that a grad student might encounter on a daily basis. \n",
    "\n",
    "In 2022, this material will be delivered at the start of Trimester 1 in conjunction with [ESCI451 Active Earth](https://www.wgtn.ac.nz/courses/esci/451/2022/offering?crn=32176). Space and pandemic alert levels permitting, interested students not enrolled in ESCI451 are encouraged to come along too but please contact Calum, Finn, or John first.\n",
    "\n",
    "| Notebook | Contents | Data |\n",
    "| --- | --- | --- |\n",
    "| **[1A](ESCI451_Module_1A.ipynb)** | **Introduction to programming, Python, and Jupyter notebooks** | **-** |\n",
    "| [1B](ESCI451_Module_1B.ipynb) | Basic data types and variables, getting data, and plotting with Matplotlib | Geodetic positions |\n",
    "| [2A](ESCI451_Module_2A.ipynb) | Logic, more complex plotting, introduction to Numpy | Geodetic positions; DFDP-2B temperatures |\n",
    "| [2B](ESCI451_Module_2B.ipynb) | Using Pandas to load, peruse and plot data | Earthquake catalogue  |\n",
    "| [3A](ESCI451_Module_3A.ipynb) | Working with Pandas dataframes | Geochemical data set; GNSS data |\n",
    "| [3B](ESCI451_Module_3B.ipynb) | Simple time series analysis using Pandas | Historical Temperature Records |\n",
    "| [4A](ESCI451_Module_4A.ipynb) | Making maps with Cartopy | Earthquake catalogue |\n",
    "| [4B](ESCI451_Module_4B.ipynb) | Working with gridded data | DEMs and Ashfall data |\n",
    "\n",
    "The content may change in response to students' questions or current events. Each of the four modules has been designed to take about three hours, with a short break between each of the two parts.\n"
   ]
  },
  {
   "cell_type": "markdown",
   "metadata": {
    "slideshow": {
     "slide_type": "slide"
    }
   },
   "source": [
    "# This notebook\n",
    "\n",
    "1. What, why and how do we programme?\n",
    "   - Why programming?\n",
    "   - An example of lots of data\n",
    "   - Why Python?\n",
    "   - Jupyter notebooks\n",
    "2. Using Python on your own computer\n",
    "3. Hello World!\n"
   ]
  },
  {
   "cell_type": "markdown",
   "metadata": {
    "slideshow": {
     "slide_type": "slide"
    }
   },
   "source": [
    "# What, why and how do we programme?\n",
    "\n",
    "## Why programming (what's wrong with Excel!?)\n",
    "\n",
    "- **Reproducibility:** If someone can't replicate your \n",
    "  work, why should we trust it to be true?\n",
    "- **Safety:** Your data and your processing should not\n",
    "  overlap.  Your raw data should be sacred.\n",
    "- **Speed:** You want a result, and you want it yesterday... Learn how to write good code \n",
    "    (and change the clock on your computer) and you can...\n",
    "- **Complexity:** Being able to solve complex problems logically, in a way that others can follow\n",
    "    (and reproduce) is essential to natural sciences. *Hint: Writing good code is as much about the*\n",
    "    *quality of your documentation as it is about the quality of your code*.\n",
    "- **Data scale:** Data in natural sciences is noisy, and large. Ideally to understand the natural world\n",
    "    we would have data from every place at every time throughout the Earth. We don't have that, but\n",
    "    our datasets are growing...\n",
    "    \n",
    "\n",
    "\n",
    "<img alt=\"XKCD spreadsheets\" align=\"center\" style=\"width:80%\" src=\"https://imgs.xkcd.com/comics/spreadsheets.png\">"
   ]
  },
  {
   "cell_type": "markdown",
   "metadata": {
    "slideshow": {
     "slide_type": "slide"
    }
   },
   "source": [
    "## An example of lots of data\n",
    "\n",
    "Let's consider what happens if we're dealing with data from a fairly standard seismological network. \n",
    "\n",
    "- long durations (multi-year);\n",
    "- multiple locations;\n",
    "- modest sampling rates.\n",
    "\n",
    "For example: [SAMBA](http://ds.iris.edu/mda/9F/?starttime=2008-01-01T00:00:00&endtime=2020-12-31T23:59:59) is\n",
    "the Southern Alps Microearthquake Borehole Array around Mt. Cook has been recording since 2008.\n",
    "\n",
    "<img alt=\"SAMBA\" align=\"right\" style=\"width:100%\" src=\"images/COVA_pano.jpg\">"
   ]
  },
  {
   "cell_type": "markdown",
   "metadata": {
    "slideshow": {
     "slide_type": "slide"
    }
   },
   "source": [
    "SAMBA records at 200Hz (200 samples per second). How many seconds per day?"
   ]
  },
  {
   "cell_type": "code",
   "execution_count": 1,
   "metadata": {
    "slideshow": {
     "slide_type": "fragment"
    }
   },
   "outputs": [
    {
     "name": "stdout",
     "output_type": "stream",
     "text": [
      "There are 86400 seconds in a day\n"
     ]
    }
   ],
   "source": [
    "seconds_per_day = 60 * 60 * 24\n",
    "print(f\"There are {seconds_per_day} seconds in a day\")"
   ]
  },
  {
   "cell_type": "markdown",
   "metadata": {
    "slideshow": {
     "slide_type": "slide"
    }
   },
   "source": [
    "How many samples per day?"
   ]
  },
  {
   "cell_type": "code",
   "execution_count": 2,
   "metadata": {
    "slideshow": {
     "slide_type": "fragment"
    }
   },
   "outputs": [
    {
     "name": "stdout",
     "output_type": "stream",
     "text": [
      "SAMBA records 17280000.0 samples per day\n"
     ]
    }
   ],
   "source": [
    "sampling_rate = 200.0\n",
    "samples_per_day = seconds_per_day * sampling_rate\n",
    "print(f\"SAMBA records {samples_per_day} samples per day\")"
   ]
  },
  {
   "cell_type": "markdown",
   "metadata": {
    "slideshow": {
     "slide_type": "slide"
    }
   },
   "source": [
    "So, > 17 million samples per day.  But that is just for one channel: SAMBA seismographs\n",
    "have three channels, a vertical and two horizontals, so how many samples per day for one station?"
   ]
  },
  {
   "cell_type": "code",
   "execution_count": 3,
   "metadata": {
    "slideshow": {
     "slide_type": "fragment"
    }
   },
   "outputs": [
    {
     "name": "stdout",
     "output_type": "stream",
     "text": [
      "One station records 51840000.0 samples per day\n"
     ]
    }
   ],
   "source": [
    "number_of_channels = 3\n",
    "samples_per_day_per_station = samples_per_day * number_of_channels\n",
    "print(f\"One station records {samples_per_day_per_station} samples per day\")"
   ]
  },
  {
   "cell_type": "markdown",
   "metadata": {
    "slideshow": {
     "slide_type": "slide"
    }
   },
   "source": [
    "Nearly 52 million samples per day per station. SAMBA is made up of 13 stations, so our dataset gets bigger\n",
    "still:"
   ]
  },
  {
   "cell_type": "code",
   "execution_count": 4,
   "metadata": {
    "slideshow": {
     "slide_type": "fragment"
    }
   },
   "outputs": [
    {
     "name": "stdout",
     "output_type": "stream",
     "text": [
      "SAMBA records 673920000.0 samples per day\n"
     ]
    }
   ],
   "source": [
    "number_of_stations = 13\n",
    "samples_per_day_total = samples_per_day_per_station * number_of_stations\n",
    "print(f\"SAMBA records {samples_per_day_total} samples per day\")"
   ]
  },
  {
   "cell_type": "markdown",
   "metadata": {
    "slideshow": {
     "slide_type": "slide"
    }
   },
   "source": [
    "673 million samples per day across the network. So what is that over the first 10 years of operation?"
   ]
  },
  {
   "cell_type": "code",
   "execution_count": 5,
   "metadata": {
    "slideshow": {
     "slide_type": "fragment"
    }
   },
   "outputs": [
    {
     "name": "stdout",
     "output_type": "stream",
     "text": [
      "SAMBA records about 246149280000.0 samples per year.\n",
      "In 10 years of operation SAMBA recorded something like 2.461493e+12 samples\n"
     ]
    }
   ],
   "source": [
    "days_per_year = 365.25  # Roughly\n",
    "samples_per_year = days_per_year * samples_per_day_total\n",
    "print(f\"SAMBA records about {samples_per_year} samples per year.\")\n",
    "samples_per_decade = samples_per_year * 10\n",
    "print(\n",
    "    f\"In 10 years of operation SAMBA recorded something like {samples_per_decade:e} samples\")"
   ]
  },
  {
   "cell_type": "markdown",
   "metadata": {
    "slideshow": {
     "slide_type": "fragment"
    }
   },
   "source": [
    "2 trillion samples.\n",
    "\n",
    "Try working with that in a spreadsheet...\n",
    "\n",
    "Of course, this is just one example of a large dataset - and it's hard to imagine a situation in which a scientist needed to work with all 2 trillion measurements in a completely unstructured way. However, the SAMBA dataset gives an idea about the sorts of volumes of data that could be encountered."
   ]
  },
  {
   "cell_type": "markdown",
   "metadata": {
    "slideshow": {
     "slide_type": "slide"
    }
   },
   "source": [
    "## Why Python?\n",
    "\n",
    "In this course we will be using the Python programming language to help us learn how to automate tasks in geoscience. Python is a relatively friendly language, but it still has lots of **rules** that you need to follow to make codes run. In the first three notebooks we will introduce some of those rules and start you on your way to \n",
    "[zen](https://www.python.org/dev/peps/pep-0020/).\n",
    "\n",
    "So, why Python?\n",
    "1. Open-source, community-driven (free) software;\n",
    "2. Simple syntax, fast to make mistakes and helpful error messages;\n",
    "3. Community libraries to do lots of complex tasks \n",
    "   (e.g. [ObsPy](https://github.com/obspy/obspy/wiki) for seismology, [CartoPy](https://pypi.org/project/Cartopy/) for making maps and handling geographic projections, and [SciPy](https://www.scipy.org/) as an umbrella environment for computational science)\n",
    "\n",
    "<img alt=\"xkcd Python\" align=\"center\" style=\"width:80%\" src=\"https://imgs.xkcd.com/comics/python.png\">\n",
    "\n",
    "Python itself is a useful language in its own right, but one of *the best* things about Python is all the packages written to extend it.  These packages are usually distributed via [pypi](https://pypi.org) or/and [anaconda](https://conda.io), and are easy to install.  This means that you often don't have to write (much of) your own code! Most of the time someone out there knows better than you how to do something, so you get to use their code and focus on the important things.\n",
    "\n",
    "Most Python packages (and all good ones) have documentation.  If you find yourself stuck, or thinking *I wish I could do this*, it is worth having a search online for what you want, or what you are stuck on.  With Python, installing other packages can be quite simple using either [conda](https://conda.io/en/latest/) or [pip](https://pypi.org/project/pip/).\n",
    "\n",
    "Python is an interpreted language (rather than a compiled language like Fortran or C). Because of this it is easy to iterate and see your results. You can interact with your code in a step-by-step way, so it is simple to understand the logic of your code. However, because of the interpreted nature of the language, Python is rarely the fastest choice. To combat this, Python can be (and has been) extended by compilled sections of code, meaning that time-critical sections of code can be sped-up.  This has led to quite a few libraries that use *Python as glue* to hold together faster sections of code written in C, fortran, or other languages. We will introduce one of these fast packages, *numpy* later: *numpy* is at the heart of almost all scientific Python applications.\n",
    "\n",
    "Python itself is open-source and runs almost anywhere, and is used for a whole range of purposes, from science to web-pages, data analysis and more: Dropbox was written almost exclusively in \n",
    "[Python](https://blogs.dropbox.com/tech/2018/09/how-we-rolled-out-one-of-the-largest-python-3-migrations-ever/)."
   ]
  },
  {
   "cell_type": "markdown",
   "metadata": {
    "slideshow": {
     "slide_type": "slide"
    }
   },
   "source": [
    "## What are Jupyter notebooks and how do we use them?\n",
    "\n",
    "This is a Jupyter notebook! [Jupyter notebooks](www.jupyter.org) provide inline interactive Python shells - i.e. an interface to entering and running real Python code - interspersed with explanations and other details that are formatted in something known as \"markdown\". Notebooks are increasingly used to document the actual code researchers are using to do their analysis alongside the interpretations and analysis. In fact there are now [some scientific papers have been written in Jupyter notebooks](https://github.com/jupyter/jupyter/wiki/A-gallery-of-interesting-Jupyter-Notebooks#reproducible-academic-publications) which enables people to test their work. They are a great way to *show your work* while explaining what you did in more extensive prose. We are using them for teaching purposes because they let us play with the code and explain the ideas behind the code.\n",
    "\n",
    "Notebooks like the ones we've prepared for these modules are designed to be used interactively in a web browser.  You should run through them, change some values, see what works, try and play\n",
    "with variables and experiment.  There will be sections that you are expected to fill in\n",
    "marked as **Exercise:**.  Shout out if and when you have problems.\n",
    "\n",
    "In these notebooks we'll provide a brief introduction to Python for newcomers, with a firm emphasis on doing the sorts of things that graduate students and more senior researchers do in Earth Sciences.  The focus of these notebooks is to introduce you to the simple data types and logic in Python, and a couple of handy packages.  There are many other great tutorials out there for more in-depth ideas, e.g.\n",
    "- [The Python tutorial](https://docs.python.org/3/tutorial/)\n",
    "- [LearnPython](https://www.learnpython.org/)\n",
    "- [Data Carpentry](https://datacarpentry.org/lessons/) and [Software Carpentry](https://software-carpentry.org/) for data literacy and research computing skills\n",
    "- And many more!\n",
    "\n",
    "Let us know if you want to play around with any other data.\n",
    "\n",
    "Remember that this course is supposed to be a brief and generalised look over some of the key ideas in Python and useful libraries as they relate to Earth Science research. Feel free to ask for more specific advice on topics you're working and we'll do our best to help."
   ]
  },
  {
   "cell_type": "markdown",
   "metadata": {
    "slideshow": {
     "slide_type": "slide"
    }
   },
   "source": [
    "### Getting set-up on a CO501 computer\n",
    "1. Log into your Linux account\n",
    "2. Open a terminals and set-up your conda virtual environment\n",
    "```bash\n",
    "startconda esci451\n",
    "```\n",
    "3. Clone the notebook repository\n",
    "```bash\n",
    "git clone https://github.com/calum-chamberlain/ESCI451-Python.git\n",
    "```\n",
    "4. Start Jupyter:\n",
    "```bash\n",
    "cd ESCI451-Python\n",
    "jupyter notebook\n",
    "```"
   ]
  },
  {
   "cell_type": "markdown",
   "metadata": {},
   "source": [
    "# Using Python on your own computer\n",
    "\n",
    "As we've emphasized above, we've chosen to use Jupyter notebooks for these modules. However, there are other ways that you can interact with Python, especially as you become more experienced. One way is to use a Python shell. In MacOS or Linux systems, open a terminal and type `python3` to start a Python 3.x shell (In case you're interested, the default Python on most systems is Python 2.7, which is now longer being developed and has been superseded by Python 3.x.)  In windows, open the command line and type `C:\\python3\\python.exe`: you might have to check your Python version.  \n",
    "\n",
    "To get a more interactive, nicely coloured interface, try using the [iPython](https://ipython.org/) shell, which you can install using Anaconda (or pypi).\n",
    "\n",
    "## Using the same environment on your own computer as CO501\n",
    "\n",
    "To get your computer set up with the esci451 environment you need to:\n",
    "1. Install [miniconda](https://docs.conda.io/en/latest/miniconda.html) or [anaconda](https://www.anaconda.com/products/individual) (which comes with a GUI)\n",
    "2. Download the `environment.yml` file from [here](https://raw.githubusercontent.com/calum-chamberlain/ESCI451-Python/master/environment.yml) and save it somewhere.\n",
    "3. Open a terminal (MacOS or Linux) or Command.exe (Windows) and  navigate to where you saved the `environment.yml` file.\n",
    "4. Run `conda env create -f environment.yml`. This might take a while - carry on with the notebooks while this runs!\n",
    "\n",
    "This will make an `esci451` environment. To start this environment and run jupyter open a terminal (or command prompt) and run:\n",
    "```bash\n",
    "conda activate esci451\n",
    "jupyter notebook\n",
    "```\n",
    "Then you can navigate to your local notebooks!"
   ]
  },
  {
   "cell_type": "markdown",
   "metadata": {},
   "source": [
    "# Getting started - \"Hello World!\"\n",
    "\n",
    "The first program written in most languages is a simple \"Hello World!\" program, that just outputs the phrase \"Hello World!\"\n",
    "to the screen. In Python this is embarassingly simple (run the code by clicking the arrow button up the top, or by hitting\n",
    "*ctrl-enter*):"
   ]
  },
  {
   "cell_type": "code",
   "execution_count": 6,
   "metadata": {},
   "outputs": [
    {
     "name": "stdout",
     "output_type": "stream",
     "text": [
      "Hello World!\n"
     ]
    }
   ],
   "source": [
    "print(\"Hello World!\")"
   ]
  },
  {
   "cell_type": "markdown",
   "metadata": {},
   "source": [
    "What we did is call the `print` function with the *argument* `\"Hello World!\"`. Encapsulating *Hello World!* in\n",
    "quotes tells Python that we want this to be a *string* type. Strings hold characters, other types hold other\n",
    "data types.\n",
    "\n",
    "The `print` function takes whatever we gave it as an argument and prints that to screen (we see the output of our\n",
    "code in Jupyter notebooks just beneath the *cell* that we ran the code in).\n",
    "\n",
    "In the next notebook, we'll look at different data types and start playing with real data."
   ]
  }
 ],
 "metadata": {
  "kernelspec": {
   "display_name": "Python 3 (ipykernel)",
   "language": "python",
   "name": "python3"
  },
  "language_info": {
   "codemirror_mode": {
    "name": "ipython",
    "version": 3
   },
   "file_extension": ".py",
   "mimetype": "text/x-python",
   "name": "python",
   "nbconvert_exporter": "python",
   "pygments_lexer": "ipython3",
   "version": "3.8.12"
  }
 },
 "nbformat": 4,
 "nbformat_minor": 4
}
