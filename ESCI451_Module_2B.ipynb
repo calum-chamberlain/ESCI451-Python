{
 "cells": [
  {
   "cell_type": "markdown",
   "metadata": {
    "editable": true,
    "slideshow": {
     "slide_type": "slide"
    },
    "tags": []
   },
   "source": [
    "# Introduction to Python for Earth Scientists\n",
    "\n",
    "These notebooks have been developed by Calum Chamberlain, Finnigan Illsley-Kemp, John Townend and El Mestel at [Victoria University of Wellington-Te Herenga Waka](https://www.wgtn.ac.nz) for use by Earth Science graduate students. \n",
    "\n",
    "The notebooks cover material that we think will be of particular benefit to those students with little or no previous experience of computer-based data analysis. We presume very little background in command-line or code-based computing, and have compiled this material with an emphasis on general tasks that a grad student might encounter on a daily basis. \n",
    "\n",
    "In 2024, this material will be delivered at the start of Trimester 1 in conjunction with [ESCI451 Active Earth](https://www.wgtn.ac.nz/courses/esci/451). Space permitting, interested students not enrolled in ESCI451 are encouraged to come along too but please contact El, Calum, Finn, or John first.\n",
    "\n",
    "| Notebook | Contents | Data |\n",
    "| --- | --- | --- |\n",
    "| [1A](ESCI451_Module_1A.ipynb) | Introduction to programming, Python, and Jupyter notebooks | - |\n",
    "| [1B](ESCI451_Module_1B.ipynb) | Basic data types and variables, getting data, and plotting with Matplotlib | Geodetic positions |\n",
    "| [2A](ESCI451_Module_2A.ipynb) | More complex plotting, introduction to Numpy | Geodetic positions; DFDP-2B temperatures |\n",
    "| **[2B](ESCI451_Module_2B.ipynb)** | **Using Pandas to load, peruse and plot data** | **Earthquake catalogue**  |\n",
    "| [3A](ESCI451_Module_3A.ipynb) | Working with Pandas dataframes | Geochemical data set; GNSS data |\n",
    "| [3B](ESCI451_Module_3B.ipynb) | Simple time series analysis using Pandas | Historical temperature records |\n",
    "| [4A](ESCI451_Module_4A.ipynb) | Making maps with PyGMT | Earthquake catalogue |\n",
    "| [4B](ESCI451_Module_4B.ipynb) | Gridded data and vectors | Ashfall data and GNSS |\n",
    "| [Scripting](ESCI451_Module_5A_Scripting.ipynb) | Moving from notebooks to scripts and the command line | - |\n",
    "\n",
    "The content may change in response to students' questions or current events. Each of the four modules has been designed to take about three hours, with a short break between each of the two parts."
   ]
  },
  {
   "cell_type": "markdown",
   "metadata": {},
   "source": [
    "# This notebook\n",
    "\n",
    "1. An introduction to Pandas and dataframes\n",
    "   - Loading data into a dataframe\n",
    "   - Visualising the datafame\n",
    "   - Dataframe statistics\n",
    "   - Sorting and slicing a dataframe\n",
    "   - Editing dataframes\n",
    "   - Loading Excel data (stop using excel!!!)\n",
    "\n",
    "# An introduction to Pandas and dataframes\n",
    " \n",
    "<img alt=\"Pandas logo\" align=\"right\" style=\"width:30%\" src=\"https://upload.wikimedia.org/wikipedia/commons/e/ed/Pandas_logo.svg\">\n",
    "\n",
    "So far we have looked at some fairly simple datasets.  NumPy is great for multi-dimensional arrays, but\n",
    "book-keeping can be tricky and somewhat counterintuitive.  Pandas is our friend here.  Pandas adds meta-data to our data, and allows\n",
    "us to interact with data using names and words, rather than indexes. This can mean that we can\n",
    "write much clearer code (yay).  It's also really good at working with data that you would have previously\n",
    "interacted with in spreadsheets.  Spreadsheets are the source of **many** errors, and keeping data and\n",
    "results in the same file is almost criminal! Your data are sacred and should **never be in the same\n",
    "file that you process them in!**.\n",
    "\n",
    "Pandas [github README](https://github.com/pandas-dev/pandas/blob/main/README.md) outlines why you should\n",
    "care about Pandas:\n",
    "\n",
    "> **pandas** is a Python package providing fast, flexible, and expressive data structures designed to \n",
    "make working with \"relational\" or \"labeled\" data both easy and intuitive. It aims to be the \n",
    "fundamental high-level building block for doing practical, **real world** data analysis in Python.\n",
    "Additionally, it has the broader goal of becoming the **most powerful and flexible open source \n",
    "data analysis / manipulation tool available in any language**. It is already well on its way towards \n",
    "this goal.\n",
    "\n",
    "When Pandas says **real world** think messy data. Measurements of properties of the Earth are *almost always*\n",
    "messy: data are missed when power fails or equipment breaks or when it is too wet to get into the field,\n",
    "almost all Earth science datasets are noisy, and almost all Earth science data are multi-dimensional and\n",
    "relational (e.g. multiple variables at one particular place and/or time).  Pandas is really good at coping\n",
    "with this mess, and **will make your life easier!**"
   ]
  },
  {
   "cell_type": "code",
   "execution_count": null,
   "metadata": {
    "tags": []
   },
   "outputs": [],
   "source": [
    "# Enable interactive plots.\n",
    "%matplotlib widget"
   ]
  },
  {
   "cell_type": "markdown",
   "metadata": {},
   "source": [
    "## Loading data into a dataframe\n",
    "\n",
    "To explore some of the functionality of Pandas, we need a dataset. One large and freely accesible\n",
    "geoscience dataset in New Zealand is the GeoNet eatrhquake catalogue. This contains hundreds of thousands\n",
    "of earthquakes, so should be fun to play around with.\n",
    "\n",
    "To start off with, we need to get the data.  We could manually query the \n",
    "[Quake Search](https://quakesearch.geonet.org.nz/) web-app, but that means we need to\n",
    "click lots of buttons, and isn't great for just exploring a dataset.  Lets do it\n",
    "programatically.  We will build a function, but let's look at the steps along the way.\n",
    "\n",
    "### Building a query\n",
    "\n",
    "The Quake Search page can be queried by generating a specific web request in the form:\n",
    "\n",
    "`\"https://quakesearch.geonet.org.nz/csv?bbox={min-longitude},{min-latitude},{max-longitude},{max-latitude}&minmag={min-magnitude}&maxmag={max-magnitude}&mindepth={min-depth}&maxdepth={max-depth}&startdate={start-time}&enddate={end-time}\"`\n",
    "\n",
    "We can build that as a string really easily using variables in place of the curly-brackets things:"
   ]
  },
  {
   "cell_type": "code",
   "execution_count": null,
   "metadata": {
    "tags": []
   },
   "outputs": [],
   "source": [
    "format_string = (\n",
    "    \"https://quakesearch.geonet.org.nz/csv?bbox=\"\n",
    "    \"{min_longitude},{min_latitude},{max_longitude},\"\n",
    "    \"{max_latitude}&minmag={min_magnitude}\"\n",
    "    \"&maxmag={max_magnitude}&mindepth={min_depth}\"\n",
    "    \"&maxdepth={max_depth}&startdate={start_time}\"\n",
    "    \"&enddate={end_time}\")\n",
    "\n",
    "min_latitude = -49.0\n",
    "max_latitude = -40.0\n",
    "min_longitude = 164.0\n",
    "max_longitude = 182.0\n",
    "min_magnitude = 0.0\n",
    "max_magnitude = 9.0\n",
    "min_depth = 0.0  # in km\n",
    "max_depth = 500.0\n",
    "start_time = \"2016-1-1T00:00:00\"\n",
    "end_time = \"2017-1-1T00:00:00\"\n",
    "\n",
    "query_string = format_string.format(\n",
    "    min_latitude=min_latitude,\n",
    "    max_latitude=max_latitude,\n",
    "    min_longitude=min_longitude,\n",
    "    max_longitude=max_longitude,\n",
    "    min_magnitude=min_magnitude,\n",
    "    max_magnitude=max_magnitude,\n",
    "    min_depth=min_depth,\n",
    "    max_depth=max_depth,\n",
    "    start_time=start_time,\n",
    "    end_time=end_time)\n",
    "\n",
    "print(query_string)"
   ]
  },
  {
   "cell_type": "markdown",
   "metadata": {},
   "source": [
    "See what we did? We specified the format of the query string, then specified the particular search criteria we were interested in, and then put those two elements together to construct the query string. Because we have used variables in place of parts of the string, we can change our query really easily.  \n",
    "\n",
    "If you click that link we just constructed you should download a file called *earthquakes.csv*. What we really want though is to download that file and look at it in Python straight away.  To do that\n",
    "we can use the `requests` package to make a web-request:"
   ]
  },
  {
   "cell_type": "code",
   "execution_count": null,
   "metadata": {
    "tags": []
   },
   "outputs": [],
   "source": [
    "import requests\n",
    "\n",
    "response = requests.get(query_string)\n",
    "print(response)"
   ]
  },
  {
   "cell_type": "markdown",
   "metadata": {},
   "source": [
    "All being well, that should have output `<Response [200]>`. The value of 200 is simply a return code saying that things went as planned.\n",
    "\n",
    "The `Response` object contains the content that we requested from the web as a `.contents` attribute.  Lets have a look at the first 1000 elements of the response:"
   ]
  },
  {
   "cell_type": "code",
   "execution_count": null,
   "metadata": {
    "tags": []
   },
   "outputs": [],
   "source": [
    "print(response.content[0:1000])"
   ]
  },
  {
   "cell_type": "markdown",
   "metadata": {},
   "source": [
    "This is the contents of the `earthquakes.csv` file and we can write it to a file in the data directory.  The\n",
    "contents that we have downloaded are in binary (which `print` converted a string before\n",
    "displaying it), so we have to open the file we want to write to using the `wb` argument, which means\n",
    "\"open the file in **b**inary mode with **w**rite permission\":"
   ]
  },
  {
   "cell_type": "code",
   "execution_count": null,
   "metadata": {
    "tags": []
   },
   "outputs": [],
   "source": [
    "with open(\"data/earthquakes.csv\", \"wb\") as f:\n",
    "    f.write(response.content)"
   ]
  },
  {
   "cell_type": "markdown",
   "metadata": {},
   "source": [
    "Now we could read those data in using some convoluted looping and NumPy arrays, or we could\n",
    "just get Pandas to read it using the \n",
    "[pandas.read_csv](https://pandas.pydata.org/pandas-docs/stable/reference/api/pandas.read_csv.html)\n",
    "function.  This will quickly parse that large .csv (comma-separated variable) file into a Pandas \n",
    "[dataframe](https://pandas.pydata.org/pandas-docs/stable/reference/frame.html):"
   ]
  },
  {
   "cell_type": "code",
   "execution_count": null,
   "metadata": {
    "tags": []
   },
   "outputs": [],
   "source": [
    "import pandas as pd  # It is a normal convention to rename pandas as pd for short\n",
    "\n",
    "earthquakes = pd.read_csv(\"data/earthquakes.csv\")\n",
    "\n",
    "print(earthquakes[0:5])"
   ]
  },
  {
   "cell_type": "markdown",
   "metadata": {},
   "source": [
    "Dataframes are really handy ways of handling \"spreadshseet\"-type data, because they provide a convenient way of labelling the columns. Here we have printed out the first five rows (starting from zero, remember) of the `earthquakes` dataframe we have create. This shows the catalogue information for five earthquakes, arranged in columns labelled `publicid`, `eventtype`, `origintime`, etc. You can see a full list of the column names with the following command:"
   ]
  },
  {
   "cell_type": "code",
   "execution_count": null,
   "metadata": {
    "tags": []
   },
   "outputs": [],
   "source": [
    "import pandas as pd\n",
    "\n",
    "earthquakes = pd.read_csv(\"data/earthquakes.csv\")\n",
    "\n",
    "earthquakes.columns"
   ]
  },
  {
   "cell_type": "markdown",
   "metadata": {},
   "source": [
    "We can access the contents of those columns pretty easily too:"
   ]
  },
  {
   "cell_type": "code",
   "execution_count": null,
   "metadata": {
    "tags": []
   },
   "outputs": [],
   "source": [
    "import pandas as pd\n",
    "\n",
    "earthquakes = pd.read_csv(\"data/earthquakes.csv\")\n",
    "\n",
    "print(earthquakes[\"origintime\"][0:10])"
   ]
  },
  {
   "cell_type": "markdown",
   "metadata": {},
   "source": [
    "See how in this case we've specified both a column (`origintime`) and a number of rows (the first ten).\n",
    "\n",
    "Each column is a Pandas [Series](https://pandas.pydata.org/pandas-docs/stable/reference/api/pandas.Series.html#pandas.Series) which is similar to a numpy array\n",
    "and has a lot of the same functionality."
   ]
  },
  {
   "cell_type": "markdown",
   "metadata": {},
   "source": [
    "You will note that the time columns (`origintime` and `modificationtime`) have not been\n",
    "read in (\"parsed\") in the most helpful way: we can see what the strings represent but can't yet treat them as dates or times directly. To get around this, we can tell pandas to read those columns in as `datetime` objects\n",
    "using the `parse_dates` argument.  While we're at it, we can also get rid of the warning about values in column\n",
    "0 having multiple dtypes (short for data types) by setting the `dtype` argument for the `publicid` column."
   ]
  },
  {
   "cell_type": "code",
   "execution_count": null,
   "metadata": {
    "tags": []
   },
   "outputs": [],
   "source": [
    "earthquakes = pd.read_csv(\n",
    "    \"data/earthquakes.csv\",\n",
    "    parse_dates=[\"origintime\", \"modificationtime\"],\n",
    "    dtype={\"publicid\": str})\n",
    "\n",
    "print(earthquakes[\"origintime\"][0:10])"
   ]
  },
  {
   "cell_type": "markdown",
   "metadata": {},
   "source": [
    "Now the `dtype` of the `origintime` column is reported as `datetime64`, which is a 64-bit precision\n",
    "`datetime` number. We'll leave more detailed discussion of dates and times until the next module and for the time being we'll explore the dataframe itself in a bit more detail. \n",
    "\n",
    "Before we do that, however, let's quickly address one other minor formatting issue. You might notice that some of the column names have a leading space in them.  GeoNet doesn't format it's tables particularly nicely, and those leading spaces are annoying. Let's rename the columns to remove the spaces - first we can make a dictionary that maps the original name to the new name, then use the `.rename` method on the dataframe:"
   ]
  },
  {
   "cell_type": "code",
   "execution_count": null,
   "metadata": {
    "tags": []
   },
   "outputs": [],
   "source": [
    "import pandas as pd\n",
    "\n",
    "earthquakes = pd.read_csv(\n",
    "    \"data/earthquakes.csv\",\n",
    "    parse_dates=[\"origintime\", \"modificationtime\"],\n",
    "    dtype={\"publicid\": str})\n",
    "\n",
    "column_mapper = dict()\n",
    "for column in earthquakes.columns:\n",
    "    # Use the strip method to remove spaces\n",
    "    column_mapper[column] = column.strip()\n",
    "    \n",
    "earthquakes = earthquakes.rename(columns=column_mapper)\n",
    "print(earthquakes.columns)"
   ]
  },
  {
   "cell_type": "markdown",
   "metadata": {},
   "source": [
    "## Data visualisation\n",
    "\n",
    "Now we have a nicely named dataframe, lets have a look at some of the data.\n",
    "First lets look at magnitude against time. We could use matplotlib directly, but pandas\n",
    "has some handy plotting shortcuts built in - I have put all the parts from above together here as you would in your own script:"
   ]
  },
  {
   "cell_type": "code",
   "execution_count": null,
   "metadata": {
    "tags": []
   },
   "outputs": [],
   "source": [
    "import pandas as pd\n",
    "import matplotlib.pyplot as plt\n",
    "\n",
    "earthquakes = pd.read_csv(\n",
    "    \"data/earthquakes.csv\",\n",
    "    parse_dates=[\"origintime\", \"modificationtime\"],\n",
    "    dtype={\"publicid\": str})\n",
    "column_mapper = dict()\n",
    "for column in earthquakes.columns:\n",
    "    # Use the strip method to remove spaces\n",
    "    column_mapper[column] = column.strip()\n",
    "    \n",
    "earthquakes = earthquakes.rename(columns=column_mapper)\n",
    "\n",
    "# Plot the data!\n",
    "\n",
    "earthquakes.plot(x=\"origintime\", y=\"magnitude\", kind=\"scatter\")\n",
    "plt.show()"
   ]
  },
  {
   "cell_type": "markdown",
   "metadata": {},
   "source": [
    "Here we specified the `x` argument as the column name we wanted to plot on the x-axis, and\n",
    "`y` as the other column name.  Pandas has a few different plotting options that can\n",
    "be specified by the `kind` argument, you can find out more about them \n",
    "[here](https://pandas.pydata.org/pandas-docs/stable/user_guide/visualization.html).\n",
    "\n",
    "You can clearly see the large magnitude Kaikoura earthquake standing out from everything else.\n",
    "\n",
    "Another helpful plot might be a histogram. The syntax for that is pretty straightforward too and here are two examples:"
   ]
  },
  {
   "cell_type": "code",
   "execution_count": null,
   "metadata": {
    "tags": []
   },
   "outputs": [],
   "source": [
    "import pandas as pd\n",
    "import matplotlib.pyplot as plt\n",
    "\n",
    "earthquakes = pd.read_csv(\n",
    "    \"data/earthquakes.csv\",\n",
    "    parse_dates=[\"origintime\", \"modificationtime\"],\n",
    "    dtype={\"publicid\": str})\n",
    "column_mapper = dict()\n",
    "for column in earthquakes.columns:\n",
    "    # Use the strip method to remove spaces\n",
    "    column_mapper[column] = column.strip()\n",
    "    \n",
    "earthquakes = earthquakes.rename(columns=column_mapper)\n",
    "\n",
    "# Plot the data!\n",
    "\n",
    "earthquakes.hist(column='depth', bins=25)\n",
    "plt.show()"
   ]
  },
  {
   "cell_type": "code",
   "execution_count": null,
   "metadata": {
    "tags": []
   },
   "outputs": [],
   "source": [
    "import pandas as pd\n",
    "import matplotlib.pyplot as plt\n",
    "\n",
    "earthquakes = pd.read_csv(\n",
    "    \"data/earthquakes.csv\",\n",
    "    parse_dates=[\"origintime\", \"modificationtime\"],\n",
    "    dtype={\"publicid\": str})\n",
    "column_mapper = dict()\n",
    "for column in earthquakes.columns:\n",
    "    # Use the strip method to remove spaces\n",
    "    column_mapper[column] = column.strip()\n",
    "    \n",
    "earthquakes = earthquakes.rename(columns=column_mapper)\n",
    "\n",
    "# Plot the data!\n",
    "\n",
    "earthquakes.hist(column=['depth', 'magnitude'])\n",
    "plt.show()"
   ]
  },
  {
   "cell_type": "markdown",
   "metadata": {},
   "source": [
    "### Exercise:\n",
    "\n",
    "Pick a specific region in New Zealand based on latitude and longitude ([this website](http://bboxfinder.com/) is\n",
    "really helpful for finding bounding boxes) and get a dataframe spanning a longer period of\n",
    "time.  Plot the magnitude vs. time graph for that region."
   ]
  },
  {
   "cell_type": "code",
   "execution_count": null,
   "metadata": {
    "tags": []
   },
   "outputs": [],
   "source": [
    "# Your answer here.  Call your dataframe something different to `earthquakes`"
   ]
  },
  {
   "cell_type": "markdown",
   "metadata": {},
   "source": [
    "## Dataframe statistics\n",
    "\n",
    "We can also obtain some basic stats from our dataframe, like the median magnitude..."
   ]
  },
  {
   "cell_type": "code",
   "execution_count": null,
   "metadata": {
    "tags": []
   },
   "outputs": [],
   "source": [
    "import pandas as pd\n",
    "\n",
    "earthquakes = pd.read_csv(\n",
    "    \"data/earthquakes.csv\",\n",
    "    parse_dates=[\"origintime\", \"modificationtime\"],\n",
    "    dtype={\"publicid\": str})\n",
    "column_mapper = dict()\n",
    "for column in earthquakes.columns:\n",
    "    # Use the strip method to remove spaces\n",
    "    column_mapper[column] = column.strip()\n",
    "    \n",
    "earthquakes = earthquakes.rename(columns=column_mapper)\n",
    "\n",
    "# Calculate the median!\n",
    "print(earthquakes[\"magnitude\"].median())"
   ]
  },
  {
   "cell_type": "markdown",
   "metadata": {},
   "source": [
    "... or the maximum depth:"
   ]
  },
  {
   "cell_type": "code",
   "execution_count": null,
   "metadata": {
    "tags": []
   },
   "outputs": [],
   "source": [
    "print(earthquakes['depth'].max())"
   ]
  },
  {
   "cell_type": "markdown",
   "metadata": {},
   "source": [
    "There are lots of other useful ways you can extract descriptive statistics from your dataframe, which are documented [here](https://pandas.pydata.org/pandas-docs/stable/reference/series.html#computations-descriptive-stats).\n",
    "\n",
    "### Exercise:\n",
    "\n",
    "What is the mean, maximum and minimum magnitude in our dataframe?"
   ]
  },
  {
   "cell_type": "code",
   "execution_count": null,
   "metadata": {
    "tags": []
   },
   "outputs": [],
   "source": [
    "# Your answer here"
   ]
  },
  {
   "cell_type": "markdown",
   "metadata": {},
   "source": [
    "## Sorting the dateframe\n",
    "\n",
    "Something we often need to do is to sort a dataset based on the value of one parameter)."
   ]
  },
  {
   "cell_type": "code",
   "execution_count": null,
   "metadata": {
    "tags": []
   },
   "outputs": [],
   "source": [
    "import pandas as pd\n",
    "\n",
    "earthquakes = pd.read_csv(\n",
    "    \"data/earthquakes.csv\",\n",
    "    parse_dates=[\"origintime\", \"modificationtime\"],\n",
    "    dtype={\"publicid\": str})\n",
    "column_mapper = dict()\n",
    "for column in earthquakes.columns:\n",
    "    # Use the strip method to remove spaces\n",
    "    column_mapper[column] = column.strip()\n",
    "    \n",
    "earthquakes = earthquakes.rename(columns=column_mapper)\n",
    "\n",
    "earthquakes.sort_values(by=[\"latitude\"], ascending=False)"
   ]
  },
  {
   "cell_type": "markdown",
   "metadata": {},
   "source": [
    "You see how we have sorted the dataframe, but the index remains as it was? We can fix that so that the index is reset by passing the `ignore_index` argument to `.sort_values`:"
   ]
  },
  {
   "cell_type": "code",
   "execution_count": null,
   "metadata": {
    "tags": []
   },
   "outputs": [],
   "source": [
    "earthquakes.sort_values(by=[\"latitude\"], ascending=False, ignore_index=True)"
   ]
  },
  {
   "cell_type": "markdown",
   "metadata": {},
   "source": [
    "### Exercise:\n",
    "\n",
    "Sort the dataframe by depth."
   ]
  },
  {
   "cell_type": "code",
   "execution_count": null,
   "metadata": {
    "tags": []
   },
   "outputs": [],
   "source": [
    "# Your answer here."
   ]
  },
  {
   "cell_type": "markdown",
   "metadata": {},
   "source": [
    "## Slicing dataframes\n",
    "\n",
    "We can also select subsets of our dataframe; this is commonly referred to as \"slicing\".  Say you had downloaded the whole catalogue\n",
    "and realised that you only wanted events shallower than 20 km depth. The [`.loc`](https://pandas.pydata.org/docs/reference/api/pandas.DataFrame.loc.html) command is used to slice the dataframe to only those rows meeting the specific criteria:"
   ]
  },
  {
   "cell_type": "code",
   "execution_count": null,
   "metadata": {
    "tags": []
   },
   "outputs": [],
   "source": [
    "import pandas as pd\n",
    "\n",
    "earthquakes = pd.read_csv(\n",
    "    \"data/earthquakes.csv\",\n",
    "    parse_dates=[\"origintime\", \"modificationtime\"],\n",
    "    dtype={\"publicid\": str})\n",
    "column_mapper = dict()\n",
    "for column in earthquakes.columns:\n",
    "    # Use the strip method to remove spaces\n",
    "    column_mapper[column] = column.strip()\n",
    "    \n",
    "earthquakes = earthquakes.rename(columns=column_mapper)\n",
    "\n",
    "earthquakes.loc[earthquakes[\"depth\"] <= 20.0]"
   ]
  },
  {
   "cell_type": "markdown",
   "metadata": {},
   "source": [
    "We can chain multiple conditions together using the \"&\" operator. Here's what we can do if we only want the earthquakes shallower than 20 km and \n",
    "larger than magnitude 4:"
   ]
  },
  {
   "cell_type": "code",
   "execution_count": null,
   "metadata": {
    "tags": []
   },
   "outputs": [],
   "source": [
    "import pandas as pd\n",
    "\n",
    "earthquakes = pd.read_csv(\n",
    "    \"data/earthquakes.csv\",\n",
    "    parse_dates=[\"origintime\", \"modificationtime\"],\n",
    "    dtype={\"publicid\": str})\n",
    "column_mapper = dict()\n",
    "for column in earthquakes.columns:\n",
    "    # Use the strip method to remove spaces\n",
    "    column_mapper[column] = column.strip()\n",
    "    \n",
    "earthquakes = earthquakes.rename(columns=column_mapper)\n",
    "\n",
    "earthquakes.loc[(earthquakes[\"depth\"] <= 20.0) &\n",
    "                (earthquakes[\"magnitude\"] > 4.0)]"
   ]
  },
  {
   "cell_type": "markdown",
   "metadata": {},
   "source": [
    "### Exercise:\n",
    "\n",
    "Select earthquakes deeper than 80 km depth between -42 degrees latitude and -44 degrees latitude."
   ]
  },
  {
   "cell_type": "code",
   "execution_count": null,
   "metadata": {
    "tags": []
   },
   "outputs": [],
   "source": [
    "# Your answer here"
   ]
  },
  {
   "cell_type": "markdown",
   "metadata": {},
   "source": [
    "## Editing dataframes\n",
    "\n",
    "Sometimes you need to add or remove rows of columns from your dataframe, or you might want to change how the dataframe is indexed. This kind of dataframe editing is relatively straightforward in Pandas, although there are often multiple ways to accomplish the same goal. In this section we will try to demonstrate some of these methods.\n",
    "\n",
    "### Removing columns\n",
    "\n",
    "Say we didn't care about the \"modificationtime\" column - we can use the [`.drop`](https://pandas.pydata.org/docs/reference/api/pandas.DataFrame.drop.html) method to get rid of columns or rows - in this case we can pass `columns=\"modificationtime\"` to remove that column:"
   ]
  },
  {
   "cell_type": "code",
   "execution_count": null,
   "metadata": {
    "tags": []
   },
   "outputs": [],
   "source": [
    "import pandas as pd\n",
    "\n",
    "earthquakes = pd.read_csv(\n",
    "    \"data/earthquakes.csv\",\n",
    "    parse_dates=[\"origintime\", \"modificationtime\"],\n",
    "    dtype={\"publicid\": str})\n",
    "column_mapper = dict()\n",
    "for column in earthquakes.columns:\n",
    "    # Use the strip method to remove spaces\n",
    "    column_mapper[column] = column.strip()\n",
    "    \n",
    "earthquakes = earthquakes.rename(columns=column_mapper)\n",
    "\n",
    "earthquakes = earthquakes.drop(columns=\"modificationtime\")\n",
    "print(earthquakes.columns)"
   ]
  },
  {
   "cell_type": "markdown",
   "metadata": {},
   "source": [
    "If we know that we only want a few columns then a simpler way than dropping lots of columns might be to just read in the columns we care about, and we can do that in `.read_csv`:"
   ]
  },
  {
   "cell_type": "code",
   "execution_count": null,
   "metadata": {
    "tags": []
   },
   "outputs": [],
   "source": [
    "import pandas as pd\n",
    "\n",
    "earthquakes = pd.read_csv(\n",
    "    \"data/earthquakes.csv\",\n",
    "    usecols=[\"origintime\", \"magnitude\", \"latitude\", \"longitude\", \"depth\", \"publicid\"],\n",
    "    parse_dates=[\"origintime\"],\n",
    "    dtype={\"publicid\": str})\n",
    "\n",
    "print(earthquakes)"
   ]
  },
  {
   "cell_type": "markdown",
   "metadata": {},
   "source": [
    "We often find that we want to add more information to our dataframes, for example we might want to add a column that is the distance away from some place we care about, say VUW... We will talk more about applying functions to dataframes in a couple of notebooks time, but for now we will import a function for calculating the distance and loop through our dataframe:"
   ]
  },
  {
   "cell_type": "code",
   "execution_count": null,
   "metadata": {
    "tags": []
   },
   "outputs": [],
   "source": [
    "from helpers.geodetics import globe_distance\n",
    "import pandas as pd\n",
    "\n",
    "earthquakes = pd.read_csv(\n",
    "    \"data/earthquakes.csv\",\n",
    "    usecols=[\"origintime\", \"magnitude\", \"latitude\", \"longitude\", \"depth\", \"publicid\"],\n",
    "    parse_dates=[\"origintime\"],\n",
    "    dtype={\"publicid\": str})\n",
    "\n",
    "vuw_lat, vuw_lon = -41.2901, 174.768\n",
    "\n",
    "distances = []\n",
    "for row in earthquakes.itertuples():\n",
    "    distance = globe_distance(vuw_lat, vuw_lon, row.latitude, row.longitude)\n",
    "    distances.append(distance)\n",
    "    \n",
    "print(distances[0:10])"
   ]
  },
  {
   "cell_type": "markdown",
   "metadata": {},
   "source": [
    "To add that column into our dataframe we can simply assign a new column as if the dataframe was a dictionary using syntax like:\n",
    "\n",
    "`dataframe[\"new_column\"] = distances`\n"
   ]
  },
  {
   "cell_type": "code",
   "execution_count": null,
   "metadata": {
    "tags": []
   },
   "outputs": [],
   "source": [
    "earthquakes[\"distance\"] = distances\n",
    "\n",
    "earthquakes.describe()"
   ]
  },
  {
   "cell_type": "markdown",
   "metadata": {},
   "source": [
    "Using all of the above - what is the largest magnitude earthquake that happened within 100 km of VUW in our data period?"
   ]
  },
  {
   "cell_type": "code",
   "execution_count": null,
   "metadata": {
    "tags": []
   },
   "outputs": [],
   "source": [
    "# Your answer here - hint, use slicing to get events within 100km and find the max of the magnitude column."
   ]
  },
  {
   "cell_type": "markdown",
   "metadata": {},
   "source": [
    "## Reading Excel data\n",
    "\n",
    "So far we have just been reading .csv files, but up to this point in your University career, you have probably been using Excel a lot. There is a time and place for using Excel, but that time and place is rarely when doing data-intensive analyses: remember to keep your data sacred! Don't run the risk of overwriting your hard earned data, don't hide equations behind cells, and don't copy-and-paste (remember DRY).\n",
    "\n",
    "So you are now an enlightened 400-level student who knows better, what do you do now with all those data in Excel speadsheets!? Do not despair! You can read all sorts with Pandas and apply all your new knowledge to your old data (yay!). To read Excel data we need to have installed an extra package (which is included in this environment already) called `openpyxl` - Pandas will call this under the hood to read Excel spreadsheets.\n",
    "\n",
    "Lets grab the tephraNZ dataset from [Hopkins et al. 2021](https://gchron.copernicus.org/articles/3/465/2021/gchron-3-465-2021.html). Jenni and her team archived the data as excel tables in the supplement to this paper, as well as putting the data in proper databases like [PetLab](https://pet.gns.cri.nz/#/) and their submission to [EarthChem](https://ecl.earthchem.org/view.php?id=1724), although neither seems to offer a programmatic interface (correct me if I'm wrong). We will just use the supplementary data as a showcase of reading Excel data, and playing with formating.\n",
    "\n",
    "We need to do some playing around to get the supplement to the paper which is downloaded as a zip-archive. The cell below downloads the zipfile and extracts the contents. Note that if you want to download and extract zipfiles from the web, the function provided might be useful to you! It checks that the actions taken are safe as well, to avoid extracting files to other locations on your computer by accident... or through someone elses malicious intent."
   ]
  },
  {
   "cell_type": "code",
   "execution_count": null,
   "metadata": {
    "tags": []
   },
   "outputs": [],
   "source": [
    "from helpers.get_data import download_and_extract\n",
    "\n",
    "url = \"https://gchron.copernicus.org/articles/3/465/2021/gchron-3-465-2021-supplement.zip\"\n",
    "\n",
    "download_and_extract(url, \"data/TephraNZ\")"
   ]
  },
  {
   "cell_type": "markdown",
   "metadata": {},
   "source": [
    "This should have made a TephraNZ directory in your data directory. The file we want to look at is the `TephraNZ_Tables_FINAL4.xlsx`. Lets open that and have a look using Pandas!"
   ]
  },
  {
   "cell_type": "code",
   "execution_count": null,
   "metadata": {
    "tags": []
   },
   "outputs": [],
   "source": [
    "tephranz = pd.read_excel(\"data/TephraNZ/TephraNZ_Tables_FINAL4.xlsx\")\n",
    "\n",
    "tephranz"
   ]
  },
  {
   "cell_type": "markdown",
   "metadata": {},
   "source": [
    "This looks ... odd. We haven't got useful column headers, and there is some caption in the header... we need to do some admin to make this useful to us.\n",
    "\n",
    "One more thing: there are multiple sheets in the Excel workbook - by default Pandas will load just the zeroth sheet. If you want to load a different sheet you can pass the sheet number or name:"
   ]
  },
  {
   "cell_type": "code",
   "execution_count": null,
   "metadata": {
    "tags": []
   },
   "outputs": [],
   "source": [
    "tephranz_2 = pd.read_excel(\"data/TephraNZ/TephraNZ_Tables_FINAL4.xlsx\", sheet_name=1)\n",
    "\n",
    "tephranz_2"
   ]
  },
  {
   "cell_type": "markdown",
   "metadata": {},
   "source": [
    "Lets get back to reading in that first sheet in a more useful way. First we need to drop the header and the footer. There are two rows of un-needed header info (the caption and a blank line), and seven rows of references at the end (which are vital, but not what we need for analysis):"
   ]
  },
  {
   "cell_type": "code",
   "execution_count": null,
   "metadata": {
    "tags": []
   },
   "outputs": [],
   "source": [
    "tephranz = pd.read_excel(\"data/TephraNZ/TephraNZ_Tables_FINAL4.xlsx\", header=2, skipfooter=7)\n",
    "\n",
    "tephranz"
   ]
  },
  {
   "cell_type": "markdown",
   "metadata": {},
   "source": [
    "Much better, but there are lots of NaNs in there (Not a Number) where there is missing information for that cell. Some of these are because there actually isn't data, but some are there because there are merged cells in the spreadsheet. The default way Pandas handles this is to only assign the merged cell value to the first row of a multi-row merged cell. We really want that filled into both cells. To do with we can use the [`.ffill`](https://pandas.pydata.org/docs/reference/api/pandas.DataFrame.ffill.html) method on the columns that we know have merged values. This is pretty messy, but this is often something that needs to be done to actually read in real data!"
   ]
  },
  {
   "cell_type": "code",
   "execution_count": null,
   "metadata": {
    "tags": []
   },
   "outputs": [],
   "source": [
    "\n",
    "tephranz = pd.read_excel(\"data/TephraNZ/TephraNZ_Tables_FINAL4.xlsx\", header=2, skipfooter=7)\n",
    "\n",
    "# Columns that need to be filled\n",
    "columns_to_merge = [\"Tephra name\", \"Caldera source\", \"Smithsonian GVP number\", \n",
    "                    \"Age (cal. yr BP, 2sd) (unless otherwise shown)\", \"Dating method*\", \n",
    "                    \"Age reference\", \"Proximal/ distal\"]\n",
    "for col in columns_to_merge:\n",
    "    tephranz[col] = tephranz[col].ffill()\n",
    "\n",
    "tephranz"
   ]
  },
  {
   "cell_type": "markdown",
   "metadata": {},
   "source": [
    "In your assignment you might find that you have to work with data like this - remember to come back and look at this notebook! You may find that the [`.ffill`](https://pandas.pydata.org/docs/reference/api/pandas.DataFrame.ffill.html) method is useful for your dataset, but you might also just want to get rid of nan values using [`dropna`](https://pandas.pydata.org/pandas-docs/stable/reference/api/pandas.DataFrame.dropna.html), which is similar, but instead of filling the nan values with something, it just removes that row or column..."
   ]
  }
 ],
 "metadata": {
  "kernelspec": {
   "display_name": "Python 3 (ipykernel)",
   "language": "python",
   "name": "python3"
  },
  "language_info": {
   "codemirror_mode": {
    "name": "ipython",
    "version": 3
   },
   "file_extension": ".py",
   "mimetype": "text/x-python",
   "name": "python",
   "nbconvert_exporter": "python",
   "pygments_lexer": "ipython3",
   "version": "3.11.11"
  },
  "widgets": {
   "application/vnd.jupyter.widget-state+json": {
    "state": {
     "06038007e6864167a8be197e39e82e77": {
      "model_module": "@jupyter-widgets/base",
      "model_module_version": "2.0.0",
      "model_name": "LayoutModel",
      "state": {
       "_model_module": "@jupyter-widgets/base",
       "_model_module_version": "2.0.0",
       "_model_name": "LayoutModel",
       "_view_count": null,
       "_view_module": "@jupyter-widgets/base",
       "_view_module_version": "2.0.0",
       "_view_name": "LayoutView",
       "align_content": null,
       "align_items": null,
       "align_self": null,
       "border_bottom": null,
       "border_left": null,
       "border_right": null,
       "border_top": null,
       "bottom": null,
       "display": null,
       "flex": null,
       "flex_flow": null,
       "grid_area": null,
       "grid_auto_columns": null,
       "grid_auto_flow": null,
       "grid_auto_rows": null,
       "grid_column": null,
       "grid_gap": null,
       "grid_row": null,
       "grid_template_areas": null,
       "grid_template_columns": null,
       "grid_template_rows": null,
       "height": null,
       "justify_content": null,
       "justify_items": null,
       "left": null,
       "margin": null,
       "max_height": null,
       "max_width": null,
       "min_height": null,
       "min_width": null,
       "object_fit": null,
       "object_position": null,
       "order": null,
       "overflow": null,
       "padding": null,
       "right": null,
       "top": null,
       "visibility": null,
       "width": null
      }
     },
     "0c5dcc7d8cce457b91ac121cdccca11e": {
      "model_module": "jupyter-matplotlib",
      "model_module_version": "^0.11",
      "model_name": "MPLCanvasModel",
      "state": {
       "_cursor": "pointer",
       "_data_url": "data:image/png;base64,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",
       "_dom_classes": [],
       "_figure_label": "Figure",
       "_image_mode": "full",
       "_message": "",
       "_model_module": "jupyter-matplotlib",
       "_model_module_version": "^0.11",
       "_model_name": "MPLCanvasModel",
       "_rubberband_height": 0,
       "_rubberband_width": 0,
       "_rubberband_x": 0,
       "_rubberband_y": 0,
       "_size": [
        640,
        480
       ],
       "_view_count": null,
       "_view_module": "jupyter-matplotlib",
       "_view_module_version": "^0.11",
       "_view_name": "MPLCanvasView",
       "capture_scroll": false,
       "footer_visible": true,
       "header_visible": true,
       "layout": "IPY_MODEL_c77bf49eae6e482e89ba2727ec7b2be7",
       "pan_zoom_throttle": 33,
       "resizable": true,
       "tabbable": null,
       "toolbar": "IPY_MODEL_f8ee16f70ef8481289512884d50f8222",
       "toolbar_position": "left",
       "toolbar_visible": "fade-in-fade-out",
       "tooltip": null
      }
     },
     "0d5f82665ca641b584a788f0a7a98499": {
      "model_module": "@jupyter-widgets/base",
      "model_module_version": "2.0.0",
      "model_name": "LayoutModel",
      "state": {
       "_model_module": "@jupyter-widgets/base",
       "_model_module_version": "2.0.0",
       "_model_name": "LayoutModel",
       "_view_count": null,
       "_view_module": "@jupyter-widgets/base",
       "_view_module_version": "2.0.0",
       "_view_name": "LayoutView",
       "align_content": null,
       "align_items": null,
       "align_self": null,
       "border_bottom": null,
       "border_left": null,
       "border_right": null,
       "border_top": null,
       "bottom": null,
       "display": null,
       "flex": null,
       "flex_flow": null,
       "grid_area": null,
       "grid_auto_columns": null,
       "grid_auto_flow": null,
       "grid_auto_rows": null,
       "grid_column": null,
       "grid_gap": null,
       "grid_row": null,
       "grid_template_areas": null,
       "grid_template_columns": null,
       "grid_template_rows": null,
       "height": null,
       "justify_content": null,
       "justify_items": null,
       "left": null,
       "margin": null,
       "max_height": null,
       "max_width": null,
       "min_height": null,
       "min_width": null,
       "object_fit": null,
       "object_position": null,
       "order": null,
       "overflow": null,
       "padding": null,
       "right": null,
       "top": null,
       "visibility": null,
       "width": null
      }
     },
     "20b8caabef8d438e82195553b18e37d3": {
      "model_module": "jupyter-matplotlib",
      "model_module_version": "^0.11",
      "model_name": "MPLCanvasModel",
      "state": {
       "_cursor": "pointer",
       "_data_url": "data:image/png;base64,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",
       "_dom_classes": [],
       "_figure_label": "Figure",
       "_image_mode": "full",
       "_message": "",
       "_model_module": "jupyter-matplotlib",
       "_model_module_version": "^0.11",
       "_model_name": "MPLCanvasModel",
       "_rubberband_height": 0,
       "_rubberband_width": 0,
       "_rubberband_x": 0,
       "_rubberband_y": 0,
       "_size": [
        640,
        480
       ],
       "_view_count": null,
       "_view_module": "jupyter-matplotlib",
       "_view_module_version": "^0.11",
       "_view_name": "MPLCanvasView",
       "capture_scroll": false,
       "footer_visible": true,
       "header_visible": true,
       "layout": "IPY_MODEL_de556246cc764fc8b1ab04bd151d268f",
       "pan_zoom_throttle": 33,
       "resizable": true,
       "tabbable": null,
       "toolbar": "IPY_MODEL_2b877fc116744b77b6038d35e09c8e69",
       "toolbar_position": "left",
       "toolbar_visible": "fade-in-fade-out",
       "tooltip": null
      }
     },
     "2575078ed7b3473f88a99a26656e0af6": {
      "model_module": "jupyter-matplotlib",
      "model_module_version": "^0.11",
      "model_name": "ToolbarModel",
      "state": {
       "_current_action": "",
       "_dom_classes": [],
       "_model_module": "jupyter-matplotlib",
       "_model_module_version": "^0.11",
       "_model_name": "ToolbarModel",
       "_view_count": null,
       "_view_module": "jupyter-matplotlib",
       "_view_module_version": "^0.11",
       "_view_name": "ToolbarView",
       "button_style": "",
       "collapsed": true,
       "layout": "IPY_MODEL_d81116e5740248a9989bcc2133e57f6e",
       "orientation": "vertical",
       "tabbable": null,
       "toolitems": [
        [
         "Home",
         "Reset original view",
         "home",
         "home"
        ],
        [
         "Back",
         "Back to previous view",
         "arrow-left",
         "back"
        ],
        [
         "Forward",
         "Forward to next view",
         "arrow-right",
         "forward"
        ],
        [
         "Pan",
         "Left button pans, Right button zooms\nx/y fixes axis, CTRL fixes aspect",
         "arrows",
         "pan"
        ],
        [
         "Zoom",
         "Zoom to rectangle\nx/y fixes axis",
         "square-o",
         "zoom"
        ],
        [
         "Download",
         "Download plot",
         "floppy-o",
         "save_figure"
        ]
       ],
       "tooltip": null
      }
     },
     "2b877fc116744b77b6038d35e09c8e69": {
      "model_module": "jupyter-matplotlib",
      "model_module_version": "^0.11",
      "model_name": "ToolbarModel",
      "state": {
       "_current_action": "",
       "_dom_classes": [],
       "_model_module": "jupyter-matplotlib",
       "_model_module_version": "^0.11",
       "_model_name": "ToolbarModel",
       "_view_count": null,
       "_view_module": "jupyter-matplotlib",
       "_view_module_version": "^0.11",
       "_view_name": "ToolbarView",
       "button_style": "",
       "collapsed": true,
       "layout": "IPY_MODEL_c5bd29e1a5dd493a8bdc56cff3821a0b",
       "orientation": "vertical",
       "tabbable": null,
       "toolitems": [
        [
         "Home",
         "Reset original view",
         "home",
         "home"
        ],
        [
         "Back",
         "Back to previous view",
         "arrow-left",
         "back"
        ],
        [
         "Forward",
         "Forward to next view",
         "arrow-right",
         "forward"
        ],
        [
         "Pan",
         "Left button pans, Right button zooms\nx/y fixes axis, CTRL fixes aspect",
         "arrows",
         "pan"
        ],
        [
         "Zoom",
         "Zoom to rectangle\nx/y fixes axis",
         "square-o",
         "zoom"
        ],
        [
         "Download",
         "Download plot",
         "floppy-o",
         "save_figure"
        ]
       ],
       "tooltip": null
      }
     },
     "c5bd29e1a5dd493a8bdc56cff3821a0b": {
      "model_module": "@jupyter-widgets/base",
      "model_module_version": "2.0.0",
      "model_name": "LayoutModel",
      "state": {
       "_model_module": "@jupyter-widgets/base",
       "_model_module_version": "2.0.0",
       "_model_name": "LayoutModel",
       "_view_count": null,
       "_view_module": "@jupyter-widgets/base",
       "_view_module_version": "2.0.0",
       "_view_name": "LayoutView",
       "align_content": null,
       "align_items": null,
       "align_self": null,
       "border_bottom": null,
       "border_left": null,
       "border_right": null,
       "border_top": null,
       "bottom": null,
       "display": null,
       "flex": null,
       "flex_flow": null,
       "grid_area": null,
       "grid_auto_columns": null,
       "grid_auto_flow": null,
       "grid_auto_rows": null,
       "grid_column": null,
       "grid_gap": null,
       "grid_row": null,
       "grid_template_areas": null,
       "grid_template_columns": null,
       "grid_template_rows": null,
       "height": null,
       "justify_content": null,
       "justify_items": null,
       "left": null,
       "margin": null,
       "max_height": null,
       "max_width": null,
       "min_height": null,
       "min_width": null,
       "object_fit": null,
       "object_position": null,
       "order": null,
       "overflow": null,
       "padding": null,
       "right": null,
       "top": null,
       "visibility": null,
       "width": null
      }
     },
     "c77bf49eae6e482e89ba2727ec7b2be7": {
      "model_module": "@jupyter-widgets/base",
      "model_module_version": "2.0.0",
      "model_name": "LayoutModel",
      "state": {
       "_model_module": "@jupyter-widgets/base",
       "_model_module_version": "2.0.0",
       "_model_name": "LayoutModel",
       "_view_count": null,
       "_view_module": "@jupyter-widgets/base",
       "_view_module_version": "2.0.0",
       "_view_name": "LayoutView",
       "align_content": null,
       "align_items": null,
       "align_self": null,
       "border_bottom": null,
       "border_left": null,
       "border_right": null,
       "border_top": null,
       "bottom": null,
       "display": null,
       "flex": null,
       "flex_flow": null,
       "grid_area": null,
       "grid_auto_columns": null,
       "grid_auto_flow": null,
       "grid_auto_rows": null,
       "grid_column": null,
       "grid_gap": null,
       "grid_row": null,
       "grid_template_areas": null,
       "grid_template_columns": null,
       "grid_template_rows": null,
       "height": null,
       "justify_content": null,
       "justify_items": null,
       "left": null,
       "margin": null,
       "max_height": null,
       "max_width": null,
       "min_height": null,
       "min_width": null,
       "object_fit": null,
       "object_position": null,
       "order": null,
       "overflow": null,
       "padding": null,
       "right": null,
       "top": null,
       "visibility": null,
       "width": null
      }
     },
     "c8284c57f189432eb98ca9b60dce54ba": {
      "model_module": "jupyter-matplotlib",
      "model_module_version": "^0.11",
      "model_name": "MPLCanvasModel",
      "state": {
       "_cursor": "pointer",
       "_data_url": "data:image/png;base64,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",
       "_dom_classes": [],
       "_figure_label": "Figure",
       "_image_mode": "full",
       "_message": "",
       "_model_module": "jupyter-matplotlib",
       "_model_module_version": "^0.11",
       "_model_name": "MPLCanvasModel",
       "_rubberband_height": 0,
       "_rubberband_width": 0,
       "_rubberband_x": 0,
       "_rubberband_y": 0,
       "_size": [
        640,
        480
       ],
       "_view_count": null,
       "_view_module": "jupyter-matplotlib",
       "_view_module_version": "^0.11",
       "_view_name": "MPLCanvasView",
       "capture_scroll": false,
       "footer_visible": true,
       "header_visible": true,
       "layout": "IPY_MODEL_06038007e6864167a8be197e39e82e77",
       "pan_zoom_throttle": 33,
       "resizable": true,
       "tabbable": null,
       "toolbar": "IPY_MODEL_2575078ed7b3473f88a99a26656e0af6",
       "toolbar_position": "left",
       "toolbar_visible": "fade-in-fade-out",
       "tooltip": null
      }
     },
     "d81116e5740248a9989bcc2133e57f6e": {
      "model_module": "@jupyter-widgets/base",
      "model_module_version": "2.0.0",
      "model_name": "LayoutModel",
      "state": {
       "_model_module": "@jupyter-widgets/base",
       "_model_module_version": "2.0.0",
       "_model_name": "LayoutModel",
       "_view_count": null,
       "_view_module": "@jupyter-widgets/base",
       "_view_module_version": "2.0.0",
       "_view_name": "LayoutView",
       "align_content": null,
       "align_items": null,
       "align_self": null,
       "border_bottom": null,
       "border_left": null,
       "border_right": null,
       "border_top": null,
       "bottom": null,
       "display": null,
       "flex": null,
       "flex_flow": null,
       "grid_area": null,
       "grid_auto_columns": null,
       "grid_auto_flow": null,
       "grid_auto_rows": null,
       "grid_column": null,
       "grid_gap": null,
       "grid_row": null,
       "grid_template_areas": null,
       "grid_template_columns": null,
       "grid_template_rows": null,
       "height": null,
       "justify_content": null,
       "justify_items": null,
       "left": null,
       "margin": null,
       "max_height": null,
       "max_width": null,
       "min_height": null,
       "min_width": null,
       "object_fit": null,
       "object_position": null,
       "order": null,
       "overflow": null,
       "padding": null,
       "right": null,
       "top": null,
       "visibility": null,
       "width": null
      }
     },
     "de556246cc764fc8b1ab04bd151d268f": {
      "model_module": "@jupyter-widgets/base",
      "model_module_version": "2.0.0",
      "model_name": "LayoutModel",
      "state": {
       "_model_module": "@jupyter-widgets/base",
       "_model_module_version": "2.0.0",
       "_model_name": "LayoutModel",
       "_view_count": null,
       "_view_module": "@jupyter-widgets/base",
       "_view_module_version": "2.0.0",
       "_view_name": "LayoutView",
       "align_content": null,
       "align_items": null,
       "align_self": null,
       "border_bottom": null,
       "border_left": null,
       "border_right": null,
       "border_top": null,
       "bottom": null,
       "display": null,
       "flex": null,
       "flex_flow": null,
       "grid_area": null,
       "grid_auto_columns": null,
       "grid_auto_flow": null,
       "grid_auto_rows": null,
       "grid_column": null,
       "grid_gap": null,
       "grid_row": null,
       "grid_template_areas": null,
       "grid_template_columns": null,
       "grid_template_rows": null,
       "height": null,
       "justify_content": null,
       "justify_items": null,
       "left": null,
       "margin": null,
       "max_height": null,
       "max_width": null,
       "min_height": null,
       "min_width": null,
       "object_fit": null,
       "object_position": null,
       "order": null,
       "overflow": null,
       "padding": null,
       "right": null,
       "top": null,
       "visibility": null,
       "width": null
      }
     },
     "f8ee16f70ef8481289512884d50f8222": {
      "model_module": "jupyter-matplotlib",
      "model_module_version": "^0.11",
      "model_name": "ToolbarModel",
      "state": {
       "_current_action": "",
       "_dom_classes": [],
       "_model_module": "jupyter-matplotlib",
       "_model_module_version": "^0.11",
       "_model_name": "ToolbarModel",
       "_view_count": null,
       "_view_module": "jupyter-matplotlib",
       "_view_module_version": "^0.11",
       "_view_name": "ToolbarView",
       "button_style": "",
       "collapsed": true,
       "layout": "IPY_MODEL_0d5f82665ca641b584a788f0a7a98499",
       "orientation": "vertical",
       "tabbable": null,
       "toolitems": [
        [
         "Home",
         "Reset original view",
         "home",
         "home"
        ],
        [
         "Back",
         "Back to previous view",
         "arrow-left",
         "back"
        ],
        [
         "Forward",
         "Forward to next view",
         "arrow-right",
         "forward"
        ],
        [
         "Pan",
         "Left button pans, Right button zooms\nx/y fixes axis, CTRL fixes aspect",
         "arrows",
         "pan"
        ],
        [
         "Zoom",
         "Zoom to rectangle\nx/y fixes axis",
         "square-o",
         "zoom"
        ],
        [
         "Download",
         "Download plot",
         "floppy-o",
         "save_figure"
        ]
       ],
       "tooltip": null
      }
     }
    },
    "version_major": 2,
    "version_minor": 0
   }
  }
 },
 "nbformat": 4,
 "nbformat_minor": 4
}
